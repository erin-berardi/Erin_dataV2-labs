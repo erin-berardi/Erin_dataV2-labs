{
 "cells": [
  {
   "cell_type": "code",
   "execution_count": 1,
   "metadata": {},
   "outputs": [
    {
     "name": "stdout",
     "output_type": "stream",
     "text": [
      "{'John': '321-555-6789', 'Paul': '321-555-1234', 'George': '321-555-9999', 'Ringo': '321-555-6213'}\n"
     ]
    }
   ],
   "source": [
    "contacts = {'John': '321-555-6789',\n",
    "           'Paul': '321-555-1234',\n",
    "           'George':'321-555-9999',\n",
    "           'Ringo': '321-555-6213'}\n",
    "\n",
    "print(contacts)"
   ]
  },
  {
   "cell_type": "code",
   "execution_count": 2,
   "metadata": {},
   "outputs": [
    {
     "name": "stdout",
     "output_type": "stream",
     "text": [
      "321-555-1234\n"
     ]
    }
   ],
   "source": [
    "#find just one number\n",
    "print(contacts['Paul'])"
   ]
  },
  {
   "cell_type": "code",
   "execution_count": 3,
   "metadata": {},
   "outputs": [
    {
     "data": {
      "text/plain": [
       "dict_keys(['John', 'Paul', 'George', 'Ringo'])"
      ]
     },
     "execution_count": 3,
     "metadata": {},
     "output_type": "execute_result"
    }
   ],
   "source": [
    "#find all keys\n",
    "contacts.keys()"
   ]
  },
  {
   "cell_type": "code",
   "execution_count": 4,
   "metadata": {},
   "outputs": [
    {
     "data": {
      "text/plain": [
       "dict_values(['321-555-6789', '321-555-1234', '321-555-9999', '321-555-6213'])"
      ]
     },
     "execution_count": 4,
     "metadata": {},
     "output_type": "execute_result"
    }
   ],
   "source": [
    "#find all values\n",
    "contacts.values()"
   ]
  },
  {
   "cell_type": "code",
   "execution_count": 7,
   "metadata": {},
   "outputs": [
    {
     "name": "stdout",
     "output_type": "stream",
     "text": [
      "[('John', '321-555-6789'), ('Paul', '321-555-1234'), ('George', '321-555-9999'), ('Ringo', '321-555-6213')]\n"
     ]
    }
   ],
   "source": [
    "#find all \n",
    "print (list(contacts.items()))"
   ]
  },
  {
   "cell_type": "code",
   "execution_count": 8,
   "metadata": {},
   "outputs": [],
   "source": [
    "#add to a dictionary\n",
    "contacts['Pete'] = '555-555-5555'"
   ]
  },
  {
   "cell_type": "code",
   "execution_count": 9,
   "metadata": {},
   "outputs": [
    {
     "data": {
      "text/plain": [
       "{'John': '321-555-6789',\n",
       " 'Paul': '321-555-1234',\n",
       " 'George': '321-555-9999',\n",
       " 'Ringo': '321-555-6213',\n",
       " 'Pete': '555-555-5555'}"
      ]
     },
     "execution_count": 9,
     "metadata": {},
     "output_type": "execute_result"
    }
   ],
   "source": [
    "contacts"
   ]
  },
  {
   "cell_type": "code",
   "execution_count": 10,
   "metadata": {},
   "outputs": [
    {
     "name": "stdout",
     "output_type": "stream",
     "text": [
      "John\n",
      "Paul\n",
      "George\n",
      "Ringo\n",
      "Pete\n"
     ]
    }
   ],
   "source": [
    "for i in contacts.keys():\n",
    "    print (i)"
   ]
  },
  {
   "cell_type": "code",
   "execution_count": 11,
   "metadata": {},
   "outputs": [
    {
     "name": "stdout",
     "output_type": "stream",
     "text": [
      "321-555-6789\n",
      "321-555-1234\n",
      "321-555-9999\n",
      "321-555-6213\n",
      "555-555-5555\n"
     ]
    }
   ],
   "source": [
    "for i in contacts.values():\n",
    "    print (i)"
   ]
  },
  {
   "cell_type": "code",
   "execution_count": 16,
   "metadata": {},
   "outputs": [
    {
     "name": "stdout",
     "output_type": "stream",
     "text": [
      "John 321-555-6789\n",
      "Paul 321-555-1234\n",
      "George 321-555-9999\n",
      "Ringo 321-555-6213\n"
     ]
    }
   ],
   "source": [
    "for k,v in contacts.items():\n",
    "    print (k,v)"
   ]
  },
  {
   "cell_type": "code",
   "execution_count": 13,
   "metadata": {},
   "outputs": [],
   "source": [
    "del contacts['Pete']"
   ]
  },
  {
   "cell_type": "code",
   "execution_count": 17,
   "metadata": {},
   "outputs": [
    {
     "data": {
      "text/plain": [
       "{'John': '321-555-6789',\n",
       " 'Paul': '321-555-1234',\n",
       " 'George': '321-555-9999',\n",
       " 'Ringo': '321-555-6213'}"
      ]
     },
     "execution_count": 17,
     "metadata": {},
     "output_type": "execute_result"
    }
   ],
   "source": [
    "contacts"
   ]
  },
  {
   "cell_type": "code",
   "execution_count": null,
   "metadata": {},
   "outputs": [],
   "source": []
  }
 ],
 "metadata": {
  "kernelspec": {
   "display_name": "Python 3",
   "language": "python",
   "name": "python3"
  },
  "language_info": {
   "codemirror_mode": {
    "name": "ipython",
    "version": 3
   },
   "file_extension": ".py",
   "mimetype": "text/x-python",
   "name": "python",
   "nbconvert_exporter": "python",
   "pygments_lexer": "ipython3",
   "version": "3.8.3"
  }
 },
 "nbformat": 4,
 "nbformat_minor": 4
}

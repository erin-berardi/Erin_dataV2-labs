{
 "cells": [
  {
   "cell_type": "markdown",
   "metadata": {},
   "source": [
    "In the cell below, create a Python function that creates a Bag of Words.\n",
    "\n",
    "Requirements:\n",
    "\n",
    "1. Your function should accept the following parameters:\n",
    "    * `corpus` [REQUIRED] - list of strings.\n",
    "    * `stop_words` [OPTIONAL] - array of stop words. The default value is an empty array.\n",
    "\n",
    "1. Your function should return a Python object that contains the following:\n",
    "    * `bag_of_words` - array of strings of normalized unique words in the corpus.\n",
    "    * `term_freq` - array of the term-frequency vectors."
   ]
  },
  {
   "cell_type": "code",
   "execution_count": 10,
   "metadata": {},
   "outputs": [],
   "source": [
    "# Import required libraries\n",
    "import re\n",
    "# Define function\n",
    "def get_bow_from_docs(corpus,stop_words=[]):\n",
    "    \n",
    "    # In the function, first define the variables you will use such as `corpus`, `bag_of_words`, and `term_freq`.\n",
    "    \n",
    "    corpus2 = []\n",
    "    bag_of_words = []\n",
    "    term_freq = []\n",
    "    \n",
    "#     \"\"\"\n",
    "#     Convert corpus to lowercases and remove punctuation.\n",
    "#     \"\"\"\n",
    "    for w in corpus:\n",
    "        w = re.sub('\\W',' ',w)\n",
    "        w = w.lower().split()\n",
    "        \n",
    "        corpus2.append(w)\n",
    "        \n",
    "    #return print (corpus2)\n",
    "#     \"\"\"\n",
    "#     Loop `corpus`. Append the individual words in each doc into the `bag_of_words` array. The terms in `bag_of_words` \n",
    "#     should be unique which means before adding each term you need to check if it's already added to the array.\n",
    "#     In addition, check if each term is in the `stop_words` array. Only append the term to `bag_of_words`\n",
    "#     if it is not a stop word.\n",
    "#     \"\"\"\n",
    "    for uniql in corpus2:\n",
    "        for word in uniql:\n",
    "            if word not in bag_of_words and :\n",
    "                bag_of_words.append(word)\n",
    "            \n",
    "#     \"\"\"\n",
    "#     Loop `corpus` again. For each doc string, count the number of occurrences of each term in `bag_of_words`. \n",
    "#     Create an array for each doc's term frequency and append it to `term_freq`.\n",
    "#     \"\"\"\n",
    "    for doc in corpus2:\n",
    "        doc_list = []\n",
    "        for subdoc in bag_of_words:\n",
    "            if subdoc in doc:\n",
    "                doc_list.append(1)\n",
    "            else:\n",
    "                doc_list.append(0)\n",
    "        term_freq.append(doc_list)\n",
    "        \n",
    "    # Now return your output as an object\n",
    "    return {\n",
    "        \"bag_of_words\": bag_of_words,\n",
    "        \"term_freq\": term_freq\n",
    "    }\n",
    "    "
   ]
  },
  {
   "cell_type": "markdown",
   "metadata": {},
   "source": [
    "Test your function without stop words. You should see the output like below:\n",
    "\n",
    "```{'bag_of_words': ['ironhack', 'is', 'cool', 'i', 'love', 'am', 'a', 'student', 'at'], 'term_freq': [[1, 1, 1, 0, 0, 0, 0, 0, 0], [1, 0, 0, 1, 1, 0, 0, 0, 0], [1, 0, 0, 1, 0, 1, 1, 1, 1]]}```"
   ]
  },
  {
   "cell_type": "code",
   "execution_count": 11,
   "metadata": {},
   "outputs": [
    {
     "name": "stdout",
     "output_type": "stream",
     "text": [
      "{'bag_of_words': ['ironhack', 'is', 'cool', 'i', 'love', 'am', 'a', 'student', 'at'], 'term_freq': [[1, 1, 1, 0, 0, 0, 0, 0, 0], [1, 0, 0, 1, 1, 0, 0, 0, 0], [1, 0, 0, 1, 0, 1, 1, 1, 1]]}\n"
     ]
    }
   ],
   "source": [
    "# Define the corpus list\n",
    "a_corpus = ['Ironhack is Cool!', 'I love Ironhack', 'I am a student at Ironhack.']\n",
    "\n",
    " #Obtain BoW from your function\n",
    "bow = get_bow_from_docs(a_corpus)\n",
    "\n",
    "#Print BoW\n",
    "print(bow)\n"
   ]
  },
  {
   "cell_type": "markdown",
   "metadata": {},
   "source": [
    "If your attempt above is successful, nice work done!\n",
    "\n",
    "Now test your function again with the stop words. In the previous lab we defined the stop words in a large array. In this lab, we'll import the stop words from Scikit-Learn."
   ]
  },
  {
   "cell_type": "code",
   "execution_count": 7,
   "metadata": {},
   "outputs": [
    {
     "name": "stdout",
     "output_type": "stream",
     "text": [
      "frozenset({'became', 'were', 'many', 'nor', 'thereafter', 'get', 'give', 'more', 'am', 'further', 'to', 'whereupon', 'latterly', 'found', 'whither', 'serious', 'or', 'most', 'hence', 'full', 'bottom', 'however', 'thru', 'without', 'noone', 'been', 'sixty', 'also', 'at', 'moreover', 'nothing', 'fill', 'those', 'same', 'this', 'hasnt', 'between', 'as', 'has', 'next', 'anything', 'your', 'sometimes', 'keep', 'such', 'see', 'some', 'take', 'sometime', 'we', 'anyhow', 'here', 'nobody', 'a', 'call', 'must', 'i', 'until', 'have', 'be', 'their', 'because', 'everyone', 'no', 'through', 'than', 'few', 'show', 'thin', 'ten', 'how', 'namely', 'anyone', 'onto', 'several', 'never', 'in', 'nowhere', 'would', 'and', 'five', 'twelve', 'it', 'besides', 'are', 'was', 'during', 'neither', 'them', 'our', 'alone', 'themselves', 'over', 'into', 'seems', 'hundred', 'put', 'up', 'seem', 'fifty', 'along', 'etc', 'not', 'out', 'whatever', 'move', 'therefore', 'will', 'she', 'behind', 'thereupon', 'whether', 'beside', 'nine', 'whereas', 'enough', 'since', 'me', 'go', 'back', 'ie', 'even', 'my', 'couldnt', 'latter', 'often', 'upon', 'below', 'per', 'much', 'inc', 'former', 'perhaps', 'other', 'towards', 'thus', 'thereby', 'already', 'less', 'others', 'forty', 'very', 'whole', 'had', 'via', 'yourself', 'amount', 'on', 'somewhere', 'amoungst', 'find', 'all', 'three', 'becomes', 'so', 'least', 'except', 'where', 'ours', 'hereby', 'why', 'too', 'afterwards', 'its', 'beforehand', 'whereafter', 'third', 'top', 'nevertheless', 'everything', 'the', 'again', 'whenever', 'whereby', 'co', 'off', 'toward', 'first', 'bill', 'last', 'formerly', 'someone', 'every', 're', 'still', 'hereupon', 'from', 'somehow', 'else', 'part', 'himself', 'two', 'although', 'him', 'eleven', 'describe', 'when', 'mine', 'ever', 'who', 'can', 'otherwise', 'myself', 'mostly', 'after', 'eg', 'detail', 'herein', 'whom', 'done', 'might', 'by', 'thick', 'ourselves', 'sincere', 'something', 'may', 'fire', 'if', 'while', 'con', 'whence', 'meanwhile', 'within', 'whoever', 'together', 'you', 'do', 'there', 'of', 'against', 'hers', 'seemed', 'name', 'seeming', 'among', 'mill', 'could', 'though', 'almost', 'yours', 'only', 'everywhere', 'therein', 'now', 'wherever', 'system', 'made', 'de', 'under', 'each', 'anywhere', 'cannot', 'an', 'interest', 'ltd', 'these', 'front', 'rather', 'but', 'yourselves', 'un', 'six', 'due', 'yet', 'whose', 'eight', 'is', 'before', 'down', 'across', 'herself', 'that', 'well', 'should', 'elsewhere', 'for', 'his', 'thence', 'cry', 'empty', 'own', 'being', 'please', 'which', 'twenty', 'any', 'throughout', 'amongst', 'either', 'both', 'about', 'fifteen', 'wherein', 'cant', 'her', 'around', 'us', 'he', 'none', 'always', 'four', 'what', 'above', 'beyond', 'itself', 'with', 'one', 'indeed', 'becoming', 'then', 'anyway', 'hereafter', 'they', 'another', 'become', 'side', 'once'})\n"
     ]
    },
    {
     "name": "stderr",
     "output_type": "stream",
     "text": [
      "/Users/erinberardi/opt/anaconda3/lib/python3.8/site-packages/sklearn/utils/deprecation.py:143: FutureWarning: The sklearn.feature_extraction.stop_words module is  deprecated in version 0.22 and will be removed in version 0.24. The corresponding classes / functions should instead be imported from sklearn.feature_extraction.text. Anything that cannot be imported from sklearn.feature_extraction.text is now part of the private API.\n",
      "  warnings.warn(message, FutureWarning)\n"
     ]
    }
   ],
   "source": [
    "from sklearn.feature_extraction import stop_words\n",
    "print(stop_words.ENGLISH_STOP_WORDS)"
   ]
  },
  {
   "cell_type": "markdown",
   "metadata": {},
   "source": [
    "You should have seen a large list of words that looks like:\n",
    "\n",
    "```frozenset({'across', 'mine', 'cannot', ...})```\n",
    "\n",
    "`frozenset` is a type of Python object that is immutable. In this lab you can use it just like an array (list) without conversion."
   ]
  },
  {
   "cell_type": "markdown",
   "metadata": {},
   "source": [
    "Next, test your function with supplying `stop_words.ENGLISH_STOP_WORDS` as the second parameter."
   ]
  },
  {
   "cell_type": "code",
   "execution_count": 15,
   "metadata": {},
   "outputs": [
    {
     "name": "stdout",
     "output_type": "stream",
     "text": [
      "{'bag_of_words': ['ironhack', 'is', 'cool', 'i', 'love', 'am', 'a', 'student', 'at'], 'term_freq': [[1, 1, 1, 0, 0, 0, 0, 0, 0], [1, 0, 0, 1, 1, 0, 0, 0, 0], [1, 0, 0, 1, 0, 1, 1, 1, 1]]}\n"
     ]
    }
   ],
   "source": [
    "bow = get_bow_from_docs(a_corpus, stop_words.ENGLISH_STOP_WORDS)\n",
    "\n",
    "print(bow)"
   ]
  },
  {
   "cell_type": "markdown",
   "metadata": {},
   "source": [
    "You should have seen:\n",
    "\n",
    "```{'bag_of_words': ['ironhack', 'cool', 'love', 'student'], 'term_freq': [[1, 1, 0, 0], [1, 0, 1, 0], [1, 0, 0, 1]]}```"
   ]
  },
  {
   "cell_type": "code",
   "execution_count": null,
   "metadata": {},
   "outputs": [],
   "source": []
  }
 ],
 "metadata": {
  "kernelspec": {
   "display_name": "Python 3",
   "language": "python",
   "name": "python3"
  },
  "language_info": {
   "codemirror_mode": {
    "name": "ipython",
    "version": 3
   },
   "file_extension": ".py",
   "mimetype": "text/x-python",
   "name": "python",
   "nbconvert_exporter": "python",
   "pygments_lexer": "ipython3",
   "version": "3.8.3"
  }
 },
 "nbformat": 4,
 "nbformat_minor": 2
}

{
 "cells": [
  {
   "cell_type": "markdown",
   "metadata": {
    "id": "kOBk3PQHeJef"
   },
   "source": [
    "# Lesson 6.5 - API Wrappers"
   ]
  },
  {
   "cell_type": "markdown",
   "metadata": {
    "id": "VV6-BdPzeJen"
   },
   "source": [
    "## Lesson 1 key concepts"
   ]
  },
  {
   "cell_type": "markdown",
   "metadata": {
    "id": "Q0FDQa03eJeo"
   },
   "source": [
    "## Spotipy API\n",
    "\n",
    "Create an Spotify account and follow these steps to register an app: \n",
    "https://developer.spotify.com/documentation/general/guides/authorization/app-settings/\n",
    "\n",
    "After the app is created, you can see it on your dashboard\n",
    "https://developer.spotify.com/dashboard/applications\n",
    "\n",
    "Click on it and you'll find the client id and client secret."
   ]
  },
  {
   "cell_type": "code",
   "execution_count": null,
   "metadata": {
    "colab": {
     "base_uri": "https://localhost:8080/"
    },
    "executionInfo": {
     "elapsed": 5181,
     "status": "ok",
     "timestamp": 1619595340145,
     "user": {
      "displayName": "David Henriques",
      "photoUrl": "",
      "userId": "14332050621134291491"
     },
     "user_tz": -60
    },
    "id": "0h1RmZ5joIoV",
    "outputId": "007f1960-84d0-4bb8-854f-1c9d2e8d6dc9"
   },
   "outputs": [],
   "source": [
    "#!pip install spotipy"
   ]
  },
  {
   "cell_type": "markdown",
   "metadata": {
    "id": "OhLA0o_5eJep"
   },
   "source": [
    "#### Authentification"
   ]
  },
  {
   "cell_type": "code",
   "execution_count": null,
   "metadata": {
    "id": "JuPP1QvSaGdp"
   },
   "outputs": [],
   "source": [
    "import spotipy\n",
    "from spotipy.oauth2 import SpotifyClientCredentials\n",
    "\n",
    "#Initialize SpotiPy with user credentials\n",
    "#sp = spotipy.Spotify(auth_manager=SpotifyClientCredentials(client_id='<your client id here>',\n",
    "#                                                           client_secret='<your client secret here>'))"
   ]
  },
  {
   "cell_type": "markdown",
   "metadata": {
    "id": "4iW0BQKonLZq"
   },
   "source": [
    "##### storing secrets"
   ]
  },
  {
   "cell_type": "code",
   "execution_count": null,
   "metadata": {
    "id": "P6Z1QB7eeJeq"
   },
   "outputs": [],
   "source": [
    "secrets_file = open(\"SpotifySecret.txt\",\"r\")"
   ]
  },
  {
   "cell_type": "code",
   "execution_count": null,
   "metadata": {
    "id": "zdU3d3_0hNYz"
   },
   "outputs": [],
   "source": []
  },
  {
   "cell_type": "code",
   "execution_count": null,
   "metadata": {
    "id": "O_zvc84bnbh2"
   },
   "outputs": [],
   "source": [
    "string = secrets_file.read()"
   ]
  },
  {
   "cell_type": "code",
   "execution_count": null,
   "metadata": {},
   "outputs": [],
   "source": [
    "string"
   ]
  },
  {
   "cell_type": "code",
   "execution_count": null,
   "metadata": {
    "id": "kXwHdEdLndJZ"
   },
   "outputs": [],
   "source": [
    "string.split('\\n')"
   ]
  },
  {
   "cell_type": "code",
   "execution_count": null,
   "metadata": {
    "id": "gZmYnRSNngr7"
   },
   "outputs": [],
   "source": [
    "secrets_dict={}\n",
    "for line in string.split('\\n'):\n",
    "    if len(line) > 0:\n",
    "        secrets_dict[line.split(':')[0]]=line.split(':')[1]"
   ]
  },
  {
   "cell_type": "code",
   "execution_count": null,
   "metadata": {
    "id": "5iV66R_RnhXR"
   },
   "outputs": [],
   "source": [
    "secrets_dict"
   ]
  },
  {
   "cell_type": "markdown",
   "metadata": {
    "id": "oAQak0FunTy8"
   },
   "source": [
    "#### authentication with secrets"
   ]
  },
  {
   "cell_type": "code",
   "execution_count": null,
   "metadata": {
    "id": "HkTY3iTCnYdC"
   },
   "outputs": [],
   "source": [
    "import spotipy\n",
    "from spotipy.oauth2 import SpotifyClientCredentials\n",
    "\n",
    "#Initialize SpotiPy with user credentials\n",
    "sp = spotipy.Spotify(auth_manager=SpotifyClientCredentials(client_id=secrets_dict['cid'],\n",
    "                                                           client_secret=secrets_dict['cs']))"
   ]
  },
  {
   "cell_type": "markdown",
   "metadata": {
    "id": "rQRQUV1ZeJeq"
   },
   "source": [
    "#### Searching songs with 'queries' with `sp.search`"
   ]
  },
  {
   "cell_type": "code",
   "execution_count": null,
   "metadata": {
    "colab": {
     "base_uri": "https://localhost:8080/"
    },
    "executionInfo": {
     "elapsed": 1443,
     "status": "ok",
     "timestamp": 1619595463378,
     "user": {
      "displayName": "David Henriques",
      "photoUrl": "",
      "userId": "14332050621134291491"
     },
     "user_tz": -60
    },
    "id": "Awr0ket6eJer",
    "outputId": "b3476f1f-51e7-47ff-eb76-bb16ced1af90"
   },
   "outputs": [],
   "source": [
    "results = sp.search(q='Lady Gaga', limit=50)\n",
    "results"
   ]
  },
  {
   "cell_type": "markdown",
   "metadata": {
    "id": "w9AVjbrneJer"
   },
   "source": [
    "## Lesson 2 key concepts"
   ]
  },
  {
   "cell_type": "markdown",
   "metadata": {
    "id": "3vkGVRRteJes"
   },
   "source": [
    "### Understand Previous Output:"
   ]
  },
  {
   "cell_type": "code",
   "execution_count": null,
   "metadata": {
    "colab": {
     "base_uri": "https://localhost:8080/"
    },
    "executionInfo": {
     "elapsed": 1058,
     "status": "ok",
     "timestamp": 1619595474365,
     "user": {
      "displayName": "David Henriques",
      "photoUrl": "",
      "userId": "14332050621134291491"
     },
     "user_tz": -60
    },
    "id": "1eXMvmgteJes",
    "outputId": "01089bd0-b46f-4d0d-ea9a-a0acc87f8e6a"
   },
   "outputs": [],
   "source": [
    "results.keys() # We can see that we only have a list (dictionary) of tracks"
   ]
  },
  {
   "cell_type": "code",
   "execution_count": null,
   "metadata": {
    "colab": {
     "base_uri": "https://localhost:8080/"
    },
    "executionInfo": {
     "elapsed": 888,
     "status": "ok",
     "timestamp": 1619595478895,
     "user": {
      "displayName": "David Henriques",
      "photoUrl": "",
      "userId": "14332050621134291491"
     },
     "user_tz": -60
    },
    "id": "aZnQb-tveJes",
    "outputId": "0561df38-f176-41e2-fbe5-d47c89ab70ad"
   },
   "outputs": [],
   "source": [
    "results[\"tracks\"].keys() # Let's check the values"
   ]
  },
  {
   "cell_type": "code",
   "execution_count": null,
   "metadata": {
    "colab": {
     "base_uri": "https://localhost:8080/",
     "height": 52
    },
    "executionInfo": {
     "elapsed": 1447,
     "status": "ok",
     "timestamp": 1619595486630,
     "user": {
      "displayName": "David Henriques",
      "photoUrl": "",
      "userId": "14332050621134291491"
     },
     "user_tz": -60
    },
    "id": "rFjFo-8weJet",
    "outputId": "01a8e023-073d-4e7a-8988-f0d4a59990a4"
   },
   "outputs": [],
   "source": [
    "results[\"tracks\"][\"href\"] # Query we have searched "
   ]
  },
  {
   "cell_type": "code",
   "execution_count": null,
   "metadata": {
    "colab": {
     "base_uri": "https://localhost:8080/"
    },
    "executionInfo": {
     "elapsed": 1178,
     "status": "ok",
     "timestamp": 1619595491404,
     "user": {
      "displayName": "David Henriques",
      "photoUrl": "",
      "userId": "14332050621134291491"
     },
     "user_tz": -60
    },
    "id": "uCdFV55SeJet",
    "outputId": "93f3f3da-f00a-43b8-ed06-8df31d5d673a",
    "scrolled": true
   },
   "outputs": [],
   "source": [
    "results[\"tracks\"][\"items\"] #items (actual tracks)"
   ]
  },
  {
   "cell_type": "code",
   "execution_count": null,
   "metadata": {
    "colab": {
     "base_uri": "https://localhost:8080/"
    },
    "executionInfo": {
     "elapsed": 874,
     "status": "ok",
     "timestamp": 1619595499949,
     "user": {
      "displayName": "David Henriques",
      "photoUrl": "",
      "userId": "14332050621134291491"
     },
     "user_tz": -60
    },
    "id": "KPvR7-lTHSMH",
    "outputId": "9754f877-b421-407c-c4d9-4ecca2e83dab"
   },
   "outputs": [],
   "source": [
    "len(results[\"tracks\"][\"items\"])"
   ]
  },
  {
   "cell_type": "code",
   "execution_count": null,
   "metadata": {
    "colab": {
     "base_uri": "https://localhost:8080/"
    },
    "executionInfo": {
     "elapsed": 871,
     "status": "ok",
     "timestamp": 1619595501315,
     "user": {
      "displayName": "David Henriques",
      "photoUrl": "",
      "userId": "14332050621134291491"
     },
     "user_tz": -60
    },
    "id": "FuZ7YtceeJet",
    "outputId": "de2610b1-fa27-4356-cebf-23086b3bd386"
   },
   "outputs": [],
   "source": [
    "results[\"tracks\"][\"limit\"]#Limit we have chosen"
   ]
  },
  {
   "cell_type": "code",
   "execution_count": null,
   "metadata": {
    "colab": {
     "base_uri": "https://localhost:8080/",
     "height": 52
    },
    "executionInfo": {
     "elapsed": 1123,
     "status": "ok",
     "timestamp": 1619595503477,
     "user": {
      "displayName": "David Henriques",
      "photoUrl": "",
      "userId": "14332050621134291491"
     },
     "user_tz": -60
    },
    "id": "LdqgA15zeJet",
    "outputId": "69de8fb0-39f1-45a5-faa5-bab88a8a6a2a"
   },
   "outputs": [],
   "source": [
    "results[\"tracks\"][\"next\"] #link to the next 'page' (next 50 tracks)"
   ]
  },
  {
   "cell_type": "code",
   "execution_count": null,
   "metadata": {
    "colab": {
     "base_uri": "https://localhost:8080/"
    },
    "executionInfo": {
     "elapsed": 1089,
     "status": "ok",
     "timestamp": 1619595506737,
     "user": {
      "displayName": "David Henriques",
      "photoUrl": "",
      "userId": "14332050621134291491"
     },
     "user_tz": -60
    },
    "id": "COnekLajeJeu",
    "outputId": "8de5e347-519b-4eb3-f06e-9898fb1f5db0"
   },
   "outputs": [],
   "source": [
    "results[\"tracks\"][\"offset\"] # Actual offset (starting point)"
   ]
  },
  {
   "cell_type": "code",
   "execution_count": null,
   "metadata": {
    "id": "PmFG6lfaeJeu"
   },
   "outputs": [],
   "source": [
    "results[\"tracks\"][\"previous\"] #Previous search"
   ]
  },
  {
   "cell_type": "code",
   "execution_count": null,
   "metadata": {},
   "outputs": [],
   "source": [
    "results[\"tracks\"][\"total\"]"
   ]
  },
  {
   "cell_type": "markdown",
   "metadata": {
    "id": "ZwMA_S5neJeu"
   },
   "source": [
    "### Exploring the tracks:"
   ]
  },
  {
   "cell_type": "code",
   "execution_count": null,
   "metadata": {
    "colab": {
     "base_uri": "https://localhost:8080/"
    },
    "executionInfo": {
     "elapsed": 857,
     "status": "ok",
     "timestamp": 1619595666809,
     "user": {
      "displayName": "David Henriques",
      "photoUrl": "",
      "userId": "14332050621134291491"
     },
     "user_tz": -60
    },
    "id": "ln7K4EXJeJeu",
    "outputId": "0c06824c-983d-4ad0-ee93-8aa7507a4add"
   },
   "outputs": [],
   "source": [
    "len(results[\"tracks\"][\"items\"]) # 50 Tracks (as limited, it is the maximum)"
   ]
  },
  {
   "cell_type": "code",
   "execution_count": null,
   "metadata": {
    "colab": {
     "base_uri": "https://localhost:8080/"
    },
    "executionInfo": {
     "elapsed": 1325,
     "status": "ok",
     "timestamp": 1619595689864,
     "user": {
      "displayName": "David Henriques",
      "photoUrl": "",
      "userId": "14332050621134291491"
     },
     "user_tz": -60
    },
    "id": "TwgDwosXeJev",
    "outputId": "79ceb215-480b-4e64-f9af-b0aafaec7145"
   },
   "outputs": [],
   "source": [
    "results[\"tracks\"][\"items\"][0]# Explore the first song"
   ]
  },
  {
   "cell_type": "code",
   "execution_count": null,
   "metadata": {
    "colab": {
     "base_uri": "https://localhost:8080/"
    },
    "executionInfo": {
     "elapsed": 928,
     "status": "ok",
     "timestamp": 1619595703854,
     "user": {
      "displayName": "David Henriques",
      "photoUrl": "",
      "userId": "14332050621134291491"
     },
     "user_tz": -60
    },
    "id": "Cn5VKCnEeJev",
    "outputId": "d53dfee9-bf7e-4297-9c33-0dd6bc7197e6"
   },
   "outputs": [],
   "source": [
    "results[\"tracks\"][\"items\"][0].keys() # We will focus on album, artists, id, name, popularity, type and uri"
   ]
  },
  {
   "cell_type": "markdown",
   "metadata": {
    "id": "btSALGeAeJev"
   },
   "source": [
    "### Check Albums:"
   ]
  },
  {
   "cell_type": "code",
   "execution_count": null,
   "metadata": {
    "colab": {
     "base_uri": "https://localhost:8080/"
    },
    "executionInfo": {
     "elapsed": 1115,
     "status": "ok",
     "timestamp": 1619595718163,
     "user": {
      "displayName": "David Henriques",
      "photoUrl": "",
      "userId": "14332050621134291491"
     },
     "user_tz": -60
    },
    "id": "a1TchyhmeJev",
    "outputId": "f4424d6d-e7f6-43a7-ed84-0d13daf39c3c"
   },
   "outputs": [],
   "source": [
    "# we have more info about the album\n",
    "results[\"tracks\"][\"items\"][0][\"album\"] "
   ]
  },
  {
   "cell_type": "code",
   "execution_count": null,
   "metadata": {
    "colab": {
     "base_uri": "https://localhost:8080/"
    },
    "executionInfo": {
     "elapsed": 846,
     "status": "ok",
     "timestamp": 1619595728303,
     "user": {
      "displayName": "David Henriques",
      "photoUrl": "",
      "userId": "14332050621134291491"
     },
     "user_tz": -60
    },
    "id": "i7KYtUhdeJew",
    "outputId": "f9b90657-d0fa-4ffd-b588-b35246b93e0d"
   },
   "outputs": [],
   "source": [
    "# Will check artists, id, name, release date, total tracks\n",
    "results[\"tracks\"][\"items\"][0][\"album\"].keys() "
   ]
  },
  {
   "cell_type": "code",
   "execution_count": null,
   "metadata": {
    "colab": {
     "base_uri": "https://localhost:8080/",
     "height": 35
    },
    "executionInfo": {
     "elapsed": 845,
     "status": "ok",
     "timestamp": 1619595734664,
     "user": {
      "displayName": "David Henriques",
      "photoUrl": "",
      "userId": "14332050621134291491"
     },
     "user_tz": -60
    },
    "id": "GS52IIhyrQKz",
    "outputId": "f379733f-8cfa-417a-da81-696e065a3249"
   },
   "outputs": [],
   "source": [
    "# check name of album\n",
    "results[\"tracks\"][\"items\"][0][\"album\"][\"name\"] "
   ]
  },
  {
   "cell_type": "code",
   "execution_count": null,
   "metadata": {
    "colab": {
     "base_uri": "https://localhost:8080/"
    },
    "executionInfo": {
     "elapsed": 816,
     "status": "ok",
     "timestamp": 1619595737743,
     "user": {
      "displayName": "David Henriques",
      "photoUrl": "",
      "userId": "14332050621134291491"
     },
     "user_tz": -60
    },
    "id": "qhhHDjXfeJew",
    "outputId": "c1920d29-1e2c-494a-c773-7beb3e896b2f"
   },
   "outputs": [],
   "source": [
    "# List with artists and information\n",
    "results[\"tracks\"][\"items\"][0][\"album\"][\"artists\"][0][\"name\"] "
   ]
  },
  {
   "cell_type": "markdown",
   "metadata": {
    "id": "F-JO1-d9jOeL"
   },
   "source": [
    "Spotify objects are identified by either a \"url\", a \"uri\" or an \"id\". \n",
    "\n",
    "- The `id` is an alphanumeric code, and it's the nuclear part of the identifier.\n",
    "\n",
    "- The `uri` contains \"spotify:track\" before the id. An uri is useful because it can be searched manually in the Spotify app.\n",
    "\n",
    "- The `url` is a link to the song on the Spotify web player."
   ]
  },
  {
   "cell_type": "code",
   "execution_count": null,
   "metadata": {
    "colab": {
     "base_uri": "https://localhost:8080/",
     "height": 35
    },
    "executionInfo": {
     "elapsed": 820,
     "status": "ok",
     "timestamp": 1619595746327,
     "user": {
      "displayName": "David Henriques",
      "photoUrl": "",
      "userId": "14332050621134291491"
     },
     "user_tz": -60
    },
    "id": "11vupz8-Sws8",
    "outputId": "c1c9df94-8cde-42b3-a9b5-41b8bcab805e"
   },
   "outputs": [],
   "source": [
    "# Album ref\n",
    "results[\"tracks\"][\"items\"][0][\"album\"][\"href\"] "
   ]
  },
  {
   "cell_type": "code",
   "execution_count": null,
   "metadata": {
    "colab": {
     "base_uri": "https://localhost:8080/",
     "height": 35
    },
    "executionInfo": {
     "elapsed": 815,
     "status": "ok",
     "timestamp": 1619540259797,
     "user": {
      "displayName": "David Henriques",
      "photoUrl": "",
      "userId": "14332050621134291491"
     },
     "user_tz": -60
    },
    "id": "UFUO6b-heJew",
    "outputId": "48347968-477b-439d-e3de-d15044ff73e2"
   },
   "outputs": [],
   "source": [
    "# Album ID\n",
    "results[\"tracks\"][\"items\"][0][\"album\"][\"id\"] "
   ]
  },
  {
   "cell_type": "code",
   "execution_count": null,
   "metadata": {
    "colab": {
     "base_uri": "https://localhost:8080/",
     "height": 35
    },
    "executionInfo": {
     "elapsed": 882,
     "status": "ok",
     "timestamp": 1619595768276,
     "user": {
      "displayName": "David Henriques",
      "photoUrl": "",
      "userId": "14332050621134291491"
     },
     "user_tz": -60
    },
    "id": "rrMgpRTObfVV",
    "outputId": "a0e571a7-2c15-47fd-e3f9-76f0160e91f2"
   },
   "outputs": [],
   "source": [
    "# Album uri\n",
    "results[\"tracks\"][\"items\"][0][\"album\"][\"uri\"] "
   ]
  },
  {
   "cell_type": "code",
   "execution_count": null,
   "metadata": {
    "colab": {
     "base_uri": "https://localhost:8080/"
    },
    "executionInfo": {
     "elapsed": 886,
     "status": "ok",
     "timestamp": 1619516044900,
     "user": {
      "displayName": "David Henriques",
      "photoUrl": "",
      "userId": "14332050621134291491"
     },
     "user_tz": -60
    },
    "id": "AEyGJz1veJex",
    "outputId": "c8b84a18-3d63-4994-abd1-c0e47b009639"
   },
   "outputs": [],
   "source": [
    "#songs in the album\n",
    "results[\"tracks\"][\"items\"][0][\"album\"][\"total_tracks\"] "
   ]
  },
  {
   "cell_type": "markdown",
   "metadata": {
    "id": "mLm0EtxLeJex"
   },
   "source": [
    "### About the song itself:"
   ]
  },
  {
   "cell_type": "code",
   "execution_count": null,
   "metadata": {
    "colab": {
     "base_uri": "https://localhost:8080/",
     "height": 35
    },
    "executionInfo": {
     "elapsed": 614,
     "status": "ok",
     "timestamp": 1619543153726,
     "user": {
      "displayName": "David Henriques",
      "photoUrl": "",
      "userId": "14332050621134291491"
     },
     "user_tz": -60
    },
    "id": "D5iYZ6GCr6L6",
    "outputId": "36c4590f-7c7f-494a-a7fe-86ca3334223f"
   },
   "outputs": [],
   "source": [
    "# Track name\n",
    "results[\"tracks\"][\"items\"][0][\"name\"] "
   ]
  },
  {
   "cell_type": "code",
   "execution_count": null,
   "metadata": {
    "colab": {
     "base_uri": "https://localhost:8080/"
    },
    "executionInfo": {
     "elapsed": 624,
     "status": "ok",
     "timestamp": 1619543165307,
     "user": {
      "displayName": "David Henriques",
      "photoUrl": "",
      "userId": "14332050621134291491"
     },
     "user_tz": -60
    },
    "id": "oKjo-KwOeJex",
    "outputId": "5b41a148-0ac5-47a1-dae7-84acfdfd574c"
   },
   "outputs": [],
   "source": [
    "# Track artists\n",
    "results[\"tracks\"][\"items\"][0][\"artists\"][0]['name']"
   ]
  },
  {
   "cell_type": "code",
   "execution_count": null,
   "metadata": {
    "colab": {
     "base_uri": "https://localhost:8080/",
     "height": 35
    },
    "executionInfo": {
     "elapsed": 623,
     "status": "ok",
     "timestamp": 1619543181578,
     "user": {
      "displayName": "David Henriques",
      "photoUrl": "",
      "userId": "14332050621134291491"
     },
     "user_tz": -60
    },
    "id": "sDGrIy6zeJey",
    "outputId": "724cf4e7-938f-41ca-e2eb-5776d20c0bf9"
   },
   "outputs": [],
   "source": [
    "# Track ID\n",
    "results[\"tracks\"][\"items\"][0][\"id\"] "
   ]
  },
  {
   "cell_type": "code",
   "execution_count": null,
   "metadata": {
    "colab": {
     "base_uri": "https://localhost:8080/"
    },
    "executionInfo": {
     "elapsed": 601,
     "status": "ok",
     "timestamp": 1619543185946,
     "user": {
      "displayName": "David Henriques",
      "photoUrl": "",
      "userId": "14332050621134291491"
     },
     "user_tz": -60
    },
    "id": "J7uqVt0AeJey",
    "outputId": "6f05ebb2-ef77-42e1-9479-9cae274a3dc0"
   },
   "outputs": [],
   "source": [
    "# Popularity index\n",
    "results[\"tracks\"][\"items\"][0][\"popularity\"] "
   ]
  },
  {
   "cell_type": "markdown",
   "metadata": {
    "id": "z-Rmlx8deJez"
   },
   "source": [
    "### Activity 1 - Searching multiple artists "
   ]
  },
  {
   "cell_type": "code",
   "execution_count": null,
   "metadata": {
    "id": "pBSLyZwseJez"
   },
   "outputs": [],
   "source": [
    "artists = [\"Paul Heaton\", \"afgoendkl\", \"The Cure\"]"
   ]
  },
  {
   "cell_type": "code",
   "execution_count": null,
   "metadata": {
    "id": "5xHEQTuxeJez"
   },
   "outputs": [],
   "source": [
    "my_20_artists = [sp.search(q=artist, limit=10) for artist in artists]"
   ]
  },
  {
   "cell_type": "code",
   "execution_count": null,
   "metadata": {
    "colab": {
     "base_uri": "https://localhost:8080/"
    },
    "executionInfo": {
     "elapsed": 1174,
     "status": "ok",
     "timestamp": 1619597829243,
     "user": {
      "displayName": "David Henriques",
      "photoUrl": "",
      "userId": "14332050621134291491"
     },
     "user_tz": -60
    },
    "id": "MWO6gbhGumTq",
    "outputId": "891d258e-b96f-4841-dc59-ea900946ad2a"
   },
   "outputs": [],
   "source": [
    "my_20_artists\n",
    "my_20_artists[0]"
   ]
  },
  {
   "cell_type": "code",
   "execution_count": null,
   "metadata": {
    "colab": {
     "base_uri": "https://localhost:8080/"
    },
    "executionInfo": {
     "elapsed": 2428,
     "status": "ok",
     "timestamp": 1619597837268,
     "user": {
      "displayName": "David Henriques",
      "photoUrl": "",
      "userId": "14332050621134291491"
     },
     "user_tz": -60
    },
    "id": "SnEINgE_TcQb",
    "outputId": "5ba8d555-9754-4bab-8bae-b79dc5798608"
   },
   "outputs": [],
   "source": [
    "my_20_artists[0][\"tracks\"].keys()"
   ]
  },
  {
   "cell_type": "code",
   "execution_count": null,
   "metadata": {
    "colab": {
     "base_uri": "https://localhost:8080/",
     "height": 35
    },
    "executionInfo": {
     "elapsed": 804,
     "status": "ok",
     "timestamp": 1619597838699,
     "user": {
      "displayName": "David Henriques",
      "photoUrl": "",
      "userId": "14332050621134291491"
     },
     "user_tz": -60
    },
    "id": "R_WabmzKTSuo",
    "outputId": "2e4c8837-07d0-49e4-c055-92e28ca20916"
   },
   "outputs": [],
   "source": [
    "my_20_artists[0][\"tracks\"][\"items\"][0][\"name\"]"
   ]
  },
  {
   "cell_type": "code",
   "execution_count": null,
   "metadata": {
    "colab": {
     "base_uri": "https://localhost:8080/",
     "height": 163
    },
    "executionInfo": {
     "elapsed": 1187,
     "status": "error",
     "timestamp": 1619597840538,
     "user": {
      "displayName": "David Henriques",
      "photoUrl": "",
      "userId": "14332050621134291491"
     },
     "user_tz": -60
    },
    "id": "kIB-QRGWTS1y",
    "outputId": "146f792f-6fca-40e2-f995-e37f2f5c5a16"
   },
   "outputs": [],
   "source": [
    "my_20_artists[2][\"tracks\"][\"items\"]"
   ]
  },
  {
   "cell_type": "code",
   "execution_count": null,
   "metadata": {},
   "outputs": [],
   "source": [
    "my_20_artists[2][\"tracks\"][\"items\"][0]['name']"
   ]
  },
  {
   "cell_type": "code",
   "execution_count": null,
   "metadata": {
    "colab": {
     "base_uri": "https://localhost:8080/",
     "height": 35
    },
    "executionInfo": {
     "elapsed": 1694,
     "status": "ok",
     "timestamp": 1619597842748,
     "user": {
      "displayName": "David Henriques",
      "photoUrl": "",
      "userId": "14332050621134291491"
     },
     "user_tz": -60
    },
    "id": "_zMy-xYDeJez",
    "outputId": "c555d17a-8c7d-4f69-8cc6-876d12506ec5",
    "scrolled": true
   },
   "outputs": [],
   "source": [
    "my_20_artists[2][\"tracks\"][\"items\"][1][\"name\"]"
   ]
  },
  {
   "cell_type": "markdown",
   "metadata": {
    "id": "JutWmuSdeJez"
   },
   "source": [
    "### Activity 2 - Exploring the tracks"
   ]
  },
  {
   "cell_type": "code",
   "execution_count": null,
   "metadata": {
    "colab": {
     "base_uri": "https://localhost:8080/"
    },
    "executionInfo": {
     "elapsed": 963,
     "status": "ok",
     "timestamp": 1619543390437,
     "user": {
      "displayName": "David Henriques",
      "photoUrl": "",
      "userId": "14332050621134291491"
     },
     "user_tz": -60
    },
    "id": "pbfsUuTZeJe0",
    "outputId": "f819ebec-0943-41f4-e63e-6eb4be62e629"
   },
   "outputs": [],
   "source": [
    "my_20_artists[0][\"tracks\"][\"items\"][0].keys() #features for each track"
   ]
  },
  {
   "cell_type": "code",
   "execution_count": null,
   "metadata": {
    "colab": {
     "base_uri": "https://localhost:8080/",
     "height": 35
    },
    "executionInfo": {
     "elapsed": 733,
     "status": "ok",
     "timestamp": 1619543413057,
     "user": {
      "displayName": "David Henriques",
      "photoUrl": "",
      "userId": "14332050621134291491"
     },
     "user_tz": -60
    },
    "id": "_1R8mb6ATzoa",
    "outputId": "fd153bf9-d8ed-4c93-8cfd-0e35c20ba3f2"
   },
   "outputs": [],
   "source": [
    "my_20_artists[0][\"tracks\"][\"items\"][0]['name']"
   ]
  },
  {
   "cell_type": "code",
   "execution_count": null,
   "metadata": {},
   "outputs": [],
   "source": [
    "my_20_artists[0][\"tracks\"][\"items\"][0]['popularity']"
   ]
  },
  {
   "cell_type": "markdown",
   "metadata": {
    "id": "OJQZG6V7eJe0"
   },
   "source": [
    "## Function to get the name of the song + artists involved in track:"
   ]
  },
  {
   "cell_type": "markdown",
   "metadata": {},
   "source": [
    "# THIS FUNCTION WILL BE USED AGAIN!"
   ]
  },
  {
   "cell_type": "code",
   "execution_count": null,
   "metadata": {
    "id": "-Zs95drYeJe0"
   },
   "outputs": [],
   "source": [
    "def get_name_artists_from_track(track):\n",
    "    return [(track[\"name\"],artist[\"name\"]) for artist in track[\"artists\"]]"
   ]
  },
  {
   "cell_type": "code",
   "execution_count": null,
   "metadata": {
    "id": "QwrldrLGeJe0"
   },
   "outputs": [],
   "source": [
    "my_track = results[\"tracks\"][\"items\"][0]\n",
    "my_track"
   ]
  },
  {
   "cell_type": "code",
   "execution_count": null,
   "metadata": {
    "colab": {
     "base_uri": "https://localhost:8080/"
    },
    "executionInfo": {
     "elapsed": 1149,
     "status": "ok",
     "timestamp": 1619598138948,
     "user": {
      "displayName": "David Henriques",
      "photoUrl": "",
      "userId": "14332050621134291491"
     },
     "user_tz": -60
    },
    "id": "grK9Q_3ueJe1",
    "outputId": "d60008c7-a264-4c9b-efbf-06ae301107fa"
   },
   "outputs": [],
   "source": [
    "get_name_artists_from_track(my_track)"
   ]
  },
  {
   "cell_type": "code",
   "execution_count": null,
   "metadata": {},
   "outputs": [],
   "source": [
    "[get_name_artists_from_track(list_el) for list_el in results[\"tracks\"][\"items\"][0:5]]"
   ]
  },
  {
   "cell_type": "code",
   "execution_count": null,
   "metadata": {
    "colab": {
     "base_uri": "https://localhost:8080/"
    },
    "executionInfo": {
     "elapsed": 829,
     "status": "ok",
     "timestamp": 1619598551184,
     "user": {
      "displayName": "David Henriques",
      "photoUrl": "",
      "userId": "14332050621134291491"
     },
     "user_tz": -60
    },
    "id": "Hquh3Tzfkn07",
    "outputId": "4228fb13-c173-471b-d12a-b210470f03d6"
   },
   "outputs": [],
   "source": [
    "all_songs_artists = list(map(get_name_artists_from_track,results['tracks']['items']))\n",
    "all_songs_artists"
   ]
  },
  {
   "cell_type": "code",
   "execution_count": null,
   "metadata": {
    "id": "2KoPP3J2lyZO"
   },
   "outputs": [],
   "source": [
    "#flattening is not in the standard library but used a lot. you'll thank me later\n",
    "def flatten(input_list):\n",
    "    return [item for sublist in input_list for item in sublist]\n",
    "\n",
    "# outlist=[]\n",
    "# for sublist in input_list:\n",
    "#     for item in sublist:\n",
    "#         outlist.append(item)\n",
    "# return outlist"
   ]
  },
  {
   "cell_type": "code",
   "execution_count": null,
   "metadata": {
    "colab": {
     "base_uri": "https://localhost:8080/"
    },
    "executionInfo": {
     "elapsed": 1789,
     "status": "ok",
     "timestamp": 1619598563244,
     "user": {
      "displayName": "David Henriques",
      "photoUrl": "",
      "userId": "14332050621134291491"
     },
     "user_tz": -60
    },
    "id": "vNPWT-Z8mDTr",
    "outputId": "114edbea-2983-4e75-d3fa-718ebd42f4e4"
   },
   "outputs": [],
   "source": [
    "flatten(all_songs_artists)"
   ]
  },
  {
   "cell_type": "code",
   "execution_count": null,
   "metadata": {
    "id": "ktfNCIFinlaY"
   },
   "outputs": [],
   "source": [
    "def get_name_artists_from_list(tracks):\n",
    "    return flatten(list(map(get_name_artists_from_track,tracks['items'])))"
   ]
  },
  {
   "cell_type": "code",
   "execution_count": null,
   "metadata": {
    "colab": {
     "base_uri": "https://localhost:8080/"
    },
    "executionInfo": {
     "elapsed": 1717,
     "status": "ok",
     "timestamp": 1619599088292,
     "user": {
      "displayName": "David Henriques",
      "photoUrl": "",
      "userId": "14332050621134291491"
     },
     "user_tz": -60
    },
    "id": "23FZKJ4Yn37Z",
    "outputId": "552e4d99-e3b9-4e0d-f100-8d895d19b53c"
   },
   "outputs": [],
   "source": [
    "get_name_artists_from_list(results['tracks'])"
   ]
  },
  {
   "cell_type": "markdown",
   "metadata": {
    "id": "tuHwMYm7eJe2"
   },
   "source": [
    "### Playlists\n",
    "\n",
    "We will need to collect a \"database\" of songs. Playlists are a good way to access relatively large amounts of songs."
   ]
  },
  {
   "cell_type": "code",
   "execution_count": null,
   "metadata": {
    "id": "ELgJ1L0OeJe2"
   },
   "outputs": [],
   "source": [
    "# we will use a previous cohort's 'first paid music' playlist as an example:\n",
    "playlist = sp.user_playlist_tracks(\"spotify\", \"1UV8OzKszYVhBHoyUAuSvV\")"
   ]
  },
  {
   "cell_type": "code",
   "execution_count": null,
   "metadata": {
    "colab": {
     "base_uri": "https://localhost:8080/"
    },
    "executionInfo": {
     "elapsed": 2173,
     "status": "ok",
     "timestamp": 1619598772847,
     "user": {
      "displayName": "David Henriques",
      "photoUrl": "",
      "userId": "14332050621134291491"
     },
     "user_tz": -60
    },
    "id": "SU68F3j3VFRA",
    "outputId": "e89549b3-9c80-439e-f96e-5b8cb9911fe8"
   },
   "outputs": [],
   "source": [
    "playlist"
   ]
  },
  {
   "cell_type": "code",
   "execution_count": null,
   "metadata": {
    "colab": {
     "base_uri": "https://localhost:8080/"
    },
    "executionInfo": {
     "elapsed": 856,
     "status": "ok",
     "timestamp": 1619598779950,
     "user": {
      "displayName": "David Henriques",
      "photoUrl": "",
      "userId": "14332050621134291491"
     },
     "user_tz": -60
    },
    "id": "Bt0gRt3yeJe3",
    "outputId": "2990767f-4391-43a9-96f3-977ba49021c4"
   },
   "outputs": [],
   "source": [
    "# Let's look at items and total:\n",
    "playlist.keys() "
   ]
  },
  {
   "cell_type": "code",
   "execution_count": null,
   "metadata": {
    "colab": {
     "base_uri": "https://localhost:8080/"
    },
    "executionInfo": {
     "elapsed": 1280,
     "status": "ok",
     "timestamp": 1619598865150,
     "user": {
      "displayName": "David Henriques",
      "photoUrl": "",
      "userId": "14332050621134291491"
     },
     "user_tz": -60
    },
    "id": "9G1L45gdnVJ8",
    "outputId": "7b818e8f-af14-46f3-92ed-f3beafde5e29"
   },
   "outputs": [],
   "source": [
    "playlist[\"items\"][0].keys()"
   ]
  },
  {
   "cell_type": "code",
   "execution_count": null,
   "metadata": {
    "colab": {
     "base_uri": "https://localhost:8080/"
    },
    "executionInfo": {
     "elapsed": 966,
     "status": "ok",
     "timestamp": 1619598872274,
     "user": {
      "displayName": "David Henriques",
      "photoUrl": "",
      "userId": "14332050621134291491"
     },
     "user_tz": -60
    },
    "id": "Ncj6Q_LjZtcA",
    "outputId": "f4c03f79-82a6-49b7-ef88-4df62dd7cde9"
   },
   "outputs": [],
   "source": [
    "playlist[\"items\"][0][\"track\"]"
   ]
  },
  {
   "cell_type": "code",
   "execution_count": null,
   "metadata": {
    "colab": {
     "base_uri": "https://localhost:8080/",
     "height": 35
    },
    "executionInfo": {
     "elapsed": 1060,
     "status": "ok",
     "timestamp": 1619598888211,
     "user": {
      "displayName": "David Henriques",
      "photoUrl": "",
      "userId": "14332050621134291491"
     },
     "user_tz": -60
    },
    "id": "Txj3-v5vna4h",
    "outputId": "dfa5ee33-3a31-4f2b-ac98-f468815a1714"
   },
   "outputs": [],
   "source": [
    "playlist[\"items\"][0][\"track\"][\"name\"]"
   ]
  },
  {
   "cell_type": "code",
   "execution_count": null,
   "metadata": {
    "colab": {
     "base_uri": "https://localhost:8080/"
    },
    "executionInfo": {
     "elapsed": 824,
     "status": "ok",
     "timestamp": 1619549928180,
     "user": {
      "displayName": "David Henriques",
      "photoUrl": "",
      "userId": "14332050621134291491"
     },
     "user_tz": -60
    },
    "id": "l0yBFx3deJe3",
    "outputId": "209b54f2-f6f9-44ba-c3d2-2c160847b416"
   },
   "outputs": [],
   "source": [
    "# 15 songs!! Let's check items:\n",
    "playlist[\"total\"] "
   ]
  },
  {
   "cell_type": "code",
   "execution_count": null,
   "metadata": {
    "colab": {
     "base_uri": "https://localhost:8080/"
    },
    "executionInfo": {
     "elapsed": 860,
     "status": "ok",
     "timestamp": 1619549960356,
     "user": {
      "displayName": "David Henriques",
      "photoUrl": "",
      "userId": "14332050621134291491"
     },
     "user_tz": -60
    },
    "id": "z2Z07kvQeJe3",
    "outputId": "cfcf3b8c-9804-4248-8a10-e5d59f683330"
   },
   "outputs": [],
   "source": [
    " # It is limited to 100 tracks, we will have to fix it:\n",
    "len(playlist[\"items\"])"
   ]
  },
  {
   "cell_type": "markdown",
   "metadata": {
    "id": "c6yIMLBrpdf6"
   },
   "source": [
    "Activity: build a function that gets the names and artists of all songs in a playlist"
   ]
  },
  {
   "cell_type": "code",
   "execution_count": null,
   "metadata": {
    "id": "sNxXDmcipjxs"
   },
   "outputs": [],
   "source": [
    "#first we need to get a list of individual tracks from the playlist\n",
    "def get_name_artist_from_playlist_item(playlist_item):\n",
    "    return get_name_artists_from_track(playlist_item['track'])"
   ]
  },
  {
   "cell_type": "code",
   "execution_count": null,
   "metadata": {
    "colab": {
     "base_uri": "https://localhost:8080/"
    },
    "executionInfo": {
     "elapsed": 861,
     "status": "ok",
     "timestamp": 1619600262549,
     "user": {
      "displayName": "David Henriques",
      "photoUrl": "",
      "userId": "14332050621134291491"
     },
     "user_tz": -60
    },
    "id": "m3Mf8TdIsnLB",
    "outputId": "9ff59821-ece4-4cec-b181-95797c6c055a"
   },
   "outputs": [],
   "source": [
    "get_name_artist_from_playlist_item(playlist[\"items\"][0])"
   ]
  },
  {
   "cell_type": "code",
   "execution_count": null,
   "metadata": {
    "id": "mb6kY1VooW4l"
   },
   "outputs": [],
   "source": [
    "def get_name_artists_from_playlist(input_playlist):\n",
    "    return list(map(get_name_artist_from_playlist_item,input_playlist[\"items\"]))"
   ]
  },
  {
   "cell_type": "code",
   "execution_count": null,
   "metadata": {
    "colab": {
     "base_uri": "https://localhost:8080/"
    },
    "executionInfo": {
     "elapsed": 738,
     "status": "ok",
     "timestamp": 1619600307360,
     "user": {
      "displayName": "David Henriques",
      "photoUrl": "",
      "userId": "14332050621134291491"
     },
     "user_tz": -60
    },
    "id": "tKp03Dokp8rW",
    "outputId": "e0a945fa-8021-4e10-ac0d-8802e4d41a8c"
   },
   "outputs": [],
   "source": [
    "get_name_artists_from_playlist(playlist)"
   ]
  },
  {
   "cell_type": "code",
   "execution_count": null,
   "metadata": {
    "id": "hzbJDFSXqnGc"
   },
   "outputs": [],
   "source": [
    "def get_name_artists_from_playlist(input_playlist):\n",
    "    return flatten(list(map(get_name_artist_from_playlist_item,input_playlist[\"items\"])))"
   ]
  },
  {
   "cell_type": "code",
   "execution_count": null,
   "metadata": {
    "colab": {
     "base_uri": "https://localhost:8080/"
    },
    "executionInfo": {
     "elapsed": 1098,
     "status": "ok",
     "timestamp": 1619600337891,
     "user": {
      "displayName": "David Henriques",
      "photoUrl": "",
      "userId": "14332050621134291491"
     },
     "user_tz": -60
    },
    "id": "ZpNGVmWwqsOy",
    "outputId": "5a1f1a87-69ab-49cc-9dd9-2cf16a48852d"
   },
   "outputs": [],
   "source": [
    "get_name_artists_from_playlist(playlist)"
   ]
  },
  {
   "cell_type": "markdown",
   "metadata": {
    "id": "yo1WSKzltvso"
   },
   "source": [
    "# Handling large playlists"
   ]
  },
  {
   "cell_type": "code",
   "execution_count": null,
   "metadata": {
    "id": "mbK1y25Ds0U5"
   },
   "outputs": [],
   "source": [
    "# we will need more songs for our clustering\n",
    "#this is the playlist of previous cohorts\n",
    "playlist = sp.user_playlist_tracks(\"spotify\", \"4rnleEAOdmFAbRcNCgZMpY\")"
   ]
  },
  {
   "cell_type": "code",
   "execution_count": null,
   "metadata": {
    "colab": {
     "base_uri": "https://localhost:8080/"
    },
    "executionInfo": {
     "elapsed": 724,
     "status": "ok",
     "timestamp": 1619600561407,
     "user": {
      "displayName": "David Henriques",
      "photoUrl": "",
      "userId": "14332050621134291491"
     },
     "user_tz": -60
    },
    "id": "mGHkfglOs_lj",
    "outputId": "23cf666a-c40e-4848-b906-905ed84a91eb"
   },
   "outputs": [],
   "source": [
    "playlist[\"total\"] "
   ]
  },
  {
   "cell_type": "code",
   "execution_count": null,
   "metadata": {
    "colab": {
     "base_uri": "https://localhost:8080/"
    },
    "executionInfo": {
     "elapsed": 1155,
     "status": "ok",
     "timestamp": 1619600563086,
     "user": {
      "displayName": "David Henriques",
      "photoUrl": "",
      "userId": "14332050621134291491"
     },
     "user_tz": -60
    },
    "id": "NpyPMu3ctX-t",
    "outputId": "91703f9d-c154-44b4-9149-439dd97851c8"
   },
   "outputs": [],
   "source": [
    "# It is limited to 100 tracks, we will have to fix it:\n",
    "len(playlist[\"items\"])"
   ]
  },
  {
   "cell_type": "markdown",
   "metadata": {
    "id": "gZhf22PreJe4"
   },
   "source": [
    "Function to extract all songs from a playlist"
   ]
  },
  {
   "cell_type": "code",
   "execution_count": null,
   "metadata": {
    "colab": {
     "base_uri": "https://localhost:8080/",
     "height": 35
    },
    "executionInfo": {
     "elapsed": 1050,
     "status": "ok",
     "timestamp": 1619600569659,
     "user": {
      "displayName": "David Henriques",
      "photoUrl": "",
      "userId": "14332050621134291491"
     },
     "user_tz": -60
    },
    "id": "T60HHKUvs-fx",
    "outputId": "b315748b-4ad0-4d9a-e437-e72ae0b5807d"
   },
   "outputs": [],
   "source": [
    "playlist['next']"
   ]
  },
  {
   "cell_type": "code",
   "execution_count": null,
   "metadata": {
    "colab": {
     "base_uri": "https://localhost:8080/"
    },
    "executionInfo": {
     "elapsed": 1687,
     "status": "ok",
     "timestamp": 1619600571995,
     "user": {
      "displayName": "David Henriques",
      "photoUrl": "",
      "userId": "14332050621134291491"
     },
     "user_tz": -60
    },
    "id": "3kRTZHvptl7A",
    "outputId": "0b4e20b2-4d4e-4b2c-f555-9e3b376eeef8"
   },
   "outputs": [],
   "source": [
    "sp.next(playlist)"
   ]
  },
  {
   "cell_type": "code",
   "execution_count": null,
   "metadata": {
    "id": "fmY2SJRVeJe4"
   },
   "outputs": [],
   "source": [
    "from random import randint\n",
    "from time import sleep\n",
    "\n",
    "def get_playlist_tracks(playlist_id):\n",
    "    results = sp.user_playlist_tracks(\"spotify\",playlist_id)\n",
    "    tracks = results['items']\n",
    "    while results['next']!=None:\n",
    "        results = sp.next(results)\n",
    "        tracks = tracks + results['items']\n",
    "        sleep(randint(1,3))\n",
    "    return tracks"
   ]
  },
  {
   "cell_type": "code",
   "execution_count": null,
   "metadata": {
    "colab": {
     "base_uri": "https://localhost:8080/"
    },
    "executionInfo": {
     "elapsed": 7838,
     "status": "ok",
     "timestamp": 1619600607247,
     "user": {
      "displayName": "David Henriques",
      "photoUrl": "",
      "userId": "14332050621134291491"
     },
     "user_tz": -60
    },
    "id": "Egt1qLpWeJe4",
    "outputId": "a13a55a5-b11f-413c-f5af-e07c9141918e"
   },
   "outputs": [],
   "source": [
    "# this will take at least around num_songs_in_playlist * (avg_sleep_time + processing_time) = 53 * (2+0.1) = 110 seconds\n",
    "\n",
    "all_tracks = get_playlist_tracks(\"4rnleEAOdmFAbRcNCgZMpY\")\n",
    "len(all_tracks)"
   ]
  },
  {
   "cell_type": "markdown",
   "metadata": {
    "id": "kPSm9s45eJe-"
   },
   "source": [
    "### Audio features\n",
    "\n",
    "You can check here an explanation of the audio features: https://developer.spotify.com/documentation/web-api/reference/tracks/get-audio-features/"
   ]
  },
  {
   "cell_type": "code",
   "execution_count": null,
   "metadata": {
    "id": "OPUhz5RZeJe-"
   },
   "outputs": [],
   "source": [
    "# here we look only at the first page\n",
    "playlist = sp.user_playlist_tracks(\"spotify\", \"4rnleEAOdmFAbRcNCgZMpY\")"
   ]
  },
  {
   "cell_type": "code",
   "execution_count": null,
   "metadata": {
    "colab": {
     "base_uri": "https://localhost:8080/",
     "height": 35
    },
    "executionInfo": {
     "elapsed": 847,
     "status": "ok",
     "timestamp": 1619601091666,
     "user": {
      "displayName": "David Henriques",
      "photoUrl": "",
      "userId": "14332050621134291491"
     },
     "user_tz": -60
    },
    "id": "2ajplrB7uTUZ",
    "outputId": "17009f40-86a8-4d6e-f015-b6251df15201"
   },
   "outputs": [],
   "source": [
    "playlist[\"items\"][33][\"track\"][\"name\"]"
   ]
  },
  {
   "cell_type": "code",
   "execution_count": null,
   "metadata": {
    "colab": {
     "base_uri": "https://localhost:8080/",
     "height": 35
    },
    "executionInfo": {
     "elapsed": 921,
     "status": "ok",
     "timestamp": 1619601232391,
     "user": {
      "displayName": "David Henriques",
      "photoUrl": "",
      "userId": "14332050621134291491"
     },
     "user_tz": -60
    },
    "id": "v4PQabNBv3J8",
    "outputId": "99a2325e-3b88-4454-91f4-063769e74b72"
   },
   "outputs": [],
   "source": [
    "playlist[\"items\"][46][\"track\"][\"name\"]"
   ]
  },
  {
   "cell_type": "code",
   "execution_count": null,
   "metadata": {
    "id": "ZKswOz8ueJe_"
   },
   "outputs": [],
   "source": [
    "# get the uri of a single song:\n",
    "song_uri = playlist[\"items\"][33][\"track\"][\"uri\"]\n",
    "song_uri"
   ]
  },
  {
   "cell_type": "code",
   "execution_count": null,
   "metadata": {
    "colab": {
     "base_uri": "https://localhost:8080/"
    },
    "executionInfo": {
     "elapsed": 1479,
     "status": "ok",
     "timestamp": 1619601243777,
     "user": {
      "displayName": "David Henriques",
      "photoUrl": "",
      "userId": "14332050621134291491"
     },
     "user_tz": -60
    },
    "id": "Kk2k5TSIeJe_",
    "outputId": "41edc64d-142a-422a-9b28-ccad711ec510"
   },
   "outputs": [],
   "source": [
    "# get the audio features for that song\n",
    "sp.audio_features(song_uri)"
   ]
  },
  {
   "cell_type": "code",
   "execution_count": null,
   "metadata": {
    "id": "z5MrvnpuuQS6"
   },
   "outputs": [],
   "source": [
    "# get the uri of a single song:\n",
    "song_uri = playlist[\"items\"][46][\"track\"][\"uri\"]"
   ]
  },
  {
   "cell_type": "code",
   "execution_count": null,
   "metadata": {
    "colab": {
     "base_uri": "https://localhost:8080/"
    },
    "executionInfo": {
     "elapsed": 1100,
     "status": "ok",
     "timestamp": 1619601264659,
     "user": {
      "displayName": "David Henriques",
      "photoUrl": "",
      "userId": "14332050621134291491"
     },
     "user_tz": -60
    },
    "id": "iv7bT6YXwee7",
    "outputId": "235090fa-21cd-40d9-ae95-64de7d2cbba5"
   },
   "outputs": [],
   "source": [
    "# get the audio features for that song\n",
    "sp.audio_features(song_uri)"
   ]
  },
  {
   "cell_type": "code",
   "execution_count": null,
   "metadata": {
    "id": "xYJL1ogSwguQ"
   },
   "outputs": [],
   "source": []
  }
 ],
 "metadata": {
  "colab": {
   "collapsed_sections": [],
   "name": "L. 6.05.ipynb",
   "provenance": []
  },
  "kernelspec": {
   "display_name": "Python 3",
   "language": "python",
   "name": "python3"
  },
  "language_info": {
   "codemirror_mode": {
    "name": "ipython",
    "version": 3
   },
   "file_extension": ".py",
   "mimetype": "text/x-python",
   "name": "python",
   "nbconvert_exporter": "python",
   "pygments_lexer": "ipython3",
   "version": "3.8.3"
  }
 },
 "nbformat": 4,
 "nbformat_minor": 1
}

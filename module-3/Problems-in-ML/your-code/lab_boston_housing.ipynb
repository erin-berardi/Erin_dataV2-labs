{
 "cells": [
  {
   "cell_type": "markdown",
   "metadata": {},
   "source": [
    "# Understanding Over & Underfitting\n",
    "## Predicting Boston Housing Prices"
   ]
  },
  {
   "cell_type": "markdown",
   "metadata": {},
   "source": [
    "## Getting Started\n",
    "In this project, you will use the Boston Housing Prices dataset to build several models to predict the prices of homes with particular qualities from the suburbs of Boston, MA.\n",
    "We will build models with several different parameters, which will change the goodness of fit for each. "
   ]
  },
  {
   "cell_type": "markdown",
   "metadata": {},
   "source": [
    "---\n",
    "## Data Exploration\n",
    "Since we want to predict the value of houses, the **target variable**, `'MEDV'`, will be the variable we seek to predict."
   ]
  },
  {
   "cell_type": "markdown",
   "metadata": {},
   "source": [
    "### Import and explore the data. Clean the data for outliers and missing values. "
   ]
  },
  {
   "cell_type": "code",
   "execution_count": 27,
   "metadata": {},
   "outputs": [],
   "source": [
    "# Your code here\n",
    "import pandas as pd\n",
    "import numpy as np\n",
    "import matplotlib.pyplot as plt\n",
    "import plotly.express as px\n",
    "from scipy import stats\n",
    "from sklearn.linear_model import LinearRegression\n",
    "import seaborn as sns\n",
    "import sklearn\n"
   ]
  },
  {
   "cell_type": "code",
   "execution_count": 2,
   "metadata": {},
   "outputs": [],
   "source": [
    "bst_home = pd.read_csv('/Users/erinberardi/Desktop/GitHub/dataV2-labs/module-3/Problems-in-ML/data/boston_data.csv')"
   ]
  },
  {
   "cell_type": "code",
   "execution_count": 4,
   "metadata": {},
   "outputs": [
    {
     "data": {
      "text/plain": [
       "(404, 14)"
      ]
     },
     "execution_count": 4,
     "metadata": {},
     "output_type": "execute_result"
    }
   ],
   "source": [
    "bst_home.head()\n",
    "bst_home.shape"
   ]
  },
  {
   "cell_type": "code",
   "execution_count": 6,
   "metadata": {},
   "outputs": [
    {
     "data": {
      "text/html": [
       "<div>\n",
       "<style scoped>\n",
       "    .dataframe tbody tr th:only-of-type {\n",
       "        vertical-align: middle;\n",
       "    }\n",
       "\n",
       "    .dataframe tbody tr th {\n",
       "        vertical-align: top;\n",
       "    }\n",
       "\n",
       "    .dataframe thead th {\n",
       "        text-align: right;\n",
       "    }\n",
       "</style>\n",
       "<table border=\"1\" class=\"dataframe\">\n",
       "  <thead>\n",
       "    <tr style=\"text-align: right;\">\n",
       "      <th></th>\n",
       "      <th>crim</th>\n",
       "      <th>zn</th>\n",
       "      <th>indus</th>\n",
       "      <th>chas</th>\n",
       "      <th>nox</th>\n",
       "      <th>rm</th>\n",
       "      <th>age</th>\n",
       "      <th>dis</th>\n",
       "      <th>rad</th>\n",
       "      <th>tax</th>\n",
       "      <th>ptratio</th>\n",
       "      <th>black</th>\n",
       "      <th>lstat</th>\n",
       "      <th>medv</th>\n",
       "    </tr>\n",
       "  </thead>\n",
       "  <tbody>\n",
       "    <tr>\n",
       "      <th>count</th>\n",
       "      <td>404.000000</td>\n",
       "      <td>404.000000</td>\n",
       "      <td>404.000000</td>\n",
       "      <td>404.000000</td>\n",
       "      <td>404.000000</td>\n",
       "      <td>404.00000</td>\n",
       "      <td>404.000000</td>\n",
       "      <td>404.000000</td>\n",
       "      <td>404.000000</td>\n",
       "      <td>404.000000</td>\n",
       "      <td>404.000000</td>\n",
       "      <td>404.000000</td>\n",
       "      <td>404.000000</td>\n",
       "      <td>404.000000</td>\n",
       "    </tr>\n",
       "    <tr>\n",
       "      <th>mean</th>\n",
       "      <td>3.730912</td>\n",
       "      <td>10.509901</td>\n",
       "      <td>11.189901</td>\n",
       "      <td>0.069307</td>\n",
       "      <td>0.556710</td>\n",
       "      <td>6.30145</td>\n",
       "      <td>68.601733</td>\n",
       "      <td>3.799666</td>\n",
       "      <td>9.836634</td>\n",
       "      <td>411.688119</td>\n",
       "      <td>18.444554</td>\n",
       "      <td>355.068243</td>\n",
       "      <td>12.598936</td>\n",
       "      <td>22.312376</td>\n",
       "    </tr>\n",
       "    <tr>\n",
       "      <th>std</th>\n",
       "      <td>8.943922</td>\n",
       "      <td>22.053733</td>\n",
       "      <td>6.814909</td>\n",
       "      <td>0.254290</td>\n",
       "      <td>0.117321</td>\n",
       "      <td>0.67583</td>\n",
       "      <td>28.066143</td>\n",
       "      <td>2.109916</td>\n",
       "      <td>8.834741</td>\n",
       "      <td>171.073553</td>\n",
       "      <td>2.150295</td>\n",
       "      <td>94.489572</td>\n",
       "      <td>6.925173</td>\n",
       "      <td>8.837019</td>\n",
       "    </tr>\n",
       "    <tr>\n",
       "      <th>min</th>\n",
       "      <td>0.006320</td>\n",
       "      <td>0.000000</td>\n",
       "      <td>0.460000</td>\n",
       "      <td>0.000000</td>\n",
       "      <td>0.392000</td>\n",
       "      <td>3.56100</td>\n",
       "      <td>2.900000</td>\n",
       "      <td>1.169100</td>\n",
       "      <td>1.000000</td>\n",
       "      <td>187.000000</td>\n",
       "      <td>12.600000</td>\n",
       "      <td>0.320000</td>\n",
       "      <td>1.730000</td>\n",
       "      <td>5.000000</td>\n",
       "    </tr>\n",
       "    <tr>\n",
       "      <th>25%</th>\n",
       "      <td>0.082382</td>\n",
       "      <td>0.000000</td>\n",
       "      <td>5.190000</td>\n",
       "      <td>0.000000</td>\n",
       "      <td>0.453000</td>\n",
       "      <td>5.90275</td>\n",
       "      <td>45.800000</td>\n",
       "      <td>2.087875</td>\n",
       "      <td>4.000000</td>\n",
       "      <td>281.000000</td>\n",
       "      <td>17.375000</td>\n",
       "      <td>374.710000</td>\n",
       "      <td>7.135000</td>\n",
       "      <td>17.100000</td>\n",
       "    </tr>\n",
       "    <tr>\n",
       "      <th>50%</th>\n",
       "      <td>0.253715</td>\n",
       "      <td>0.000000</td>\n",
       "      <td>9.795000</td>\n",
       "      <td>0.000000</td>\n",
       "      <td>0.538000</td>\n",
       "      <td>6.23050</td>\n",
       "      <td>76.600000</td>\n",
       "      <td>3.207450</td>\n",
       "      <td>5.000000</td>\n",
       "      <td>330.000000</td>\n",
       "      <td>19.000000</td>\n",
       "      <td>391.065000</td>\n",
       "      <td>11.265000</td>\n",
       "      <td>21.400000</td>\n",
       "    </tr>\n",
       "    <tr>\n",
       "      <th>75%</th>\n",
       "      <td>4.053158</td>\n",
       "      <td>12.500000</td>\n",
       "      <td>18.100000</td>\n",
       "      <td>0.000000</td>\n",
       "      <td>0.631000</td>\n",
       "      <td>6.62925</td>\n",
       "      <td>94.150000</td>\n",
       "      <td>5.222125</td>\n",
       "      <td>24.000000</td>\n",
       "      <td>666.000000</td>\n",
       "      <td>20.200000</td>\n",
       "      <td>396.007500</td>\n",
       "      <td>16.910000</td>\n",
       "      <td>25.000000</td>\n",
       "    </tr>\n",
       "    <tr>\n",
       "      <th>max</th>\n",
       "      <td>88.976200</td>\n",
       "      <td>95.000000</td>\n",
       "      <td>27.740000</td>\n",
       "      <td>1.000000</td>\n",
       "      <td>0.871000</td>\n",
       "      <td>8.78000</td>\n",
       "      <td>100.000000</td>\n",
       "      <td>12.126500</td>\n",
       "      <td>24.000000</td>\n",
       "      <td>711.000000</td>\n",
       "      <td>22.000000</td>\n",
       "      <td>396.900000</td>\n",
       "      <td>34.370000</td>\n",
       "      <td>50.000000</td>\n",
       "    </tr>\n",
       "  </tbody>\n",
       "</table>\n",
       "</div>"
      ],
      "text/plain": [
       "             crim          zn       indus        chas         nox         rm  \\\n",
       "count  404.000000  404.000000  404.000000  404.000000  404.000000  404.00000   \n",
       "mean     3.730912   10.509901   11.189901    0.069307    0.556710    6.30145   \n",
       "std      8.943922   22.053733    6.814909    0.254290    0.117321    0.67583   \n",
       "min      0.006320    0.000000    0.460000    0.000000    0.392000    3.56100   \n",
       "25%      0.082382    0.000000    5.190000    0.000000    0.453000    5.90275   \n",
       "50%      0.253715    0.000000    9.795000    0.000000    0.538000    6.23050   \n",
       "75%      4.053158   12.500000   18.100000    0.000000    0.631000    6.62925   \n",
       "max     88.976200   95.000000   27.740000    1.000000    0.871000    8.78000   \n",
       "\n",
       "              age         dis         rad         tax     ptratio       black  \\\n",
       "count  404.000000  404.000000  404.000000  404.000000  404.000000  404.000000   \n",
       "mean    68.601733    3.799666    9.836634  411.688119   18.444554  355.068243   \n",
       "std     28.066143    2.109916    8.834741  171.073553    2.150295   94.489572   \n",
       "min      2.900000    1.169100    1.000000  187.000000   12.600000    0.320000   \n",
       "25%     45.800000    2.087875    4.000000  281.000000   17.375000  374.710000   \n",
       "50%     76.600000    3.207450    5.000000  330.000000   19.000000  391.065000   \n",
       "75%     94.150000    5.222125   24.000000  666.000000   20.200000  396.007500   \n",
       "max    100.000000   12.126500   24.000000  711.000000   22.000000  396.900000   \n",
       "\n",
       "            lstat        medv  \n",
       "count  404.000000  404.000000  \n",
       "mean    12.598936   22.312376  \n",
       "std      6.925173    8.837019  \n",
       "min      1.730000    5.000000  \n",
       "25%      7.135000   17.100000  \n",
       "50%     11.265000   21.400000  \n",
       "75%     16.910000   25.000000  \n",
       "max     34.370000   50.000000  "
      ]
     },
     "execution_count": 6,
     "metadata": {},
     "output_type": "execute_result"
    }
   ],
   "source": [
    "bst_home.describe()"
   ]
  },
  {
   "cell_type": "code",
   "execution_count": null,
   "metadata": {},
   "outputs": [],
   "source": [
    "'''\n",
    "ZN: proportion of residential land zoned for lots over 25,000 sq.ft.\n",
    "INDUS: proportion of non-retail business acres per town\n",
    "CHAS: Charles River dummy variable (= 1 if tract bounds river; 0 otherwise)\n",
    "NOX: nitric oxides concentration (parts per 10 million)\n",
    "RM: average number of rooms per dwelling\n",
    "AGE: proportion of owner-occupied units built prior to 1940\n",
    "DIS: weighted distances to ﬁve Boston employment centers\n",
    "RAD: index of accessibility to radial highways\n",
    "TAX: full-value property-tax rate per $10,000\n",
    "PTRATIO: pupil-teacher ratio by town \n",
    "BLACK is the proportion of blacks by town \n",
    "LSTAT: % lower status of the population\n",
    "MEDV: Median value of owner-occupied homes in $1000s\n",
    "We can see that the input attributes have a mixture of units.'''"
   ]
  },
  {
   "cell_type": "code",
   "execution_count": 7,
   "metadata": {},
   "outputs": [
    {
     "data": {
      "text/plain": [
       "crim       0\n",
       "zn         0\n",
       "indus      0\n",
       "chas       0\n",
       "nox        0\n",
       "rm         0\n",
       "age        0\n",
       "dis        0\n",
       "rad        0\n",
       "tax        0\n",
       "ptratio    0\n",
       "black      0\n",
       "lstat      0\n",
       "medv       0\n",
       "dtype: int64"
      ]
     },
     "execution_count": 7,
     "metadata": {},
     "output_type": "execute_result"
    }
   ],
   "source": [
    "bst_home.isnull().sum()"
   ]
  },
  {
   "cell_type": "code",
   "execution_count": 12,
   "metadata": {},
   "outputs": [
    {
     "data": {
      "text/plain": [
       "{'whiskers': [<matplotlib.lines.Line2D at 0x7f8b20b3bed0>,\n",
       "  <matplotlib.lines.Line2D at 0x7f8b20b44410>],\n",
       " 'caps': [<matplotlib.lines.Line2D at 0x7f8b20b44910>,\n",
       "  <matplotlib.lines.Line2D at 0x7f8b20b44e10>],\n",
       " 'boxes': [<matplotlib.lines.Line2D at 0x7f8b20699ad0>],\n",
       " 'medians': [<matplotlib.lines.Line2D at 0x7f8b21345390>],\n",
       " 'fliers': [<matplotlib.lines.Line2D at 0x7f8b21345890>],\n",
       " 'means': []}"
      ]
     },
     "execution_count": 12,
     "metadata": {},
     "output_type": "execute_result"
    },
    {
     "data": {
      "image/png": "[encoded data removed]",
      "text/plain": [
       "<Figure size 864x432 with 15 Axes>"
      ]
     },
     "metadata": {
      "needs_background": "light"
     },
     "output_type": "display_data"
    }
   ],
   "source": [
    "\n",
    "fig, ax = plt.subplots(nrows=5,ncols=3,figsize=(12,6))\n",
    "ax[0,0].boxplot(bst_home['crim'])\n",
    "ax[0,1].boxplot(bst_home['zn'])\n",
    "ax[0,2].boxplot(bst_home['indus'])\n",
    "\n",
    "ax[1,0].boxplot(bst_home['chas'])\n",
    "ax[1,1].boxplot(bst_home['nox'])\n",
    "ax[1,2].boxplot(bst_home['rm'])\n",
    "\n",
    "ax[2,0].boxplot(bst_home['age'])\n",
    "ax[2,1].boxplot(bst_home['dis'])\n",
    "ax[2,2].boxplot(bst_home['rad'])\n",
    "\n",
    "ax[3,0].boxplot(bst_home['tax'])\n",
    "ax[3,1].boxplot(bst_home['ptratio'])\n",
    "ax[3,2].boxplot(bst_home['black'])\n",
    "\n",
    "ax[4,0].boxplot(bst_home['lstat'])\n",
    "ax[4,1].boxplot(bst_home['medv'])\n"
   ]
  },
  {
   "cell_type": "code",
   "execution_count": 21,
   "metadata": {},
   "outputs": [
    {
     "data": {
      "text/html": [
       "<div>\n",
       "<style scoped>\n",
       "    .dataframe tbody tr th:only-of-type {\n",
       "        vertical-align: middle;\n",
       "    }\n",
       "\n",
       "    .dataframe tbody tr th {\n",
       "        vertical-align: top;\n",
       "    }\n",
       "\n",
       "    .dataframe thead th {\n",
       "        text-align: right;\n",
       "    }\n",
       "</style>\n",
       "<table border=\"1\" class=\"dataframe\">\n",
       "  <thead>\n",
       "    <tr style=\"text-align: right;\">\n",
       "      <th></th>\n",
       "      <th>crim</th>\n",
       "      <th>zn</th>\n",
       "      <th>indus</th>\n",
       "      <th>chas</th>\n",
       "      <th>nox</th>\n",
       "      <th>rm</th>\n",
       "      <th>age</th>\n",
       "      <th>dis</th>\n",
       "      <th>rad</th>\n",
       "      <th>tax</th>\n",
       "      <th>ptratio</th>\n",
       "      <th>black</th>\n",
       "      <th>lstat</th>\n",
       "      <th>medv</th>\n",
       "    </tr>\n",
       "  </thead>\n",
       "  <tbody>\n",
       "    <tr>\n",
       "      <th>crim</th>\n",
       "      <td>1.000000</td>\n",
       "      <td>-0.194770</td>\n",
       "      <td>0.404249</td>\n",
       "      <td>-0.060688</td>\n",
       "      <td>0.405290</td>\n",
       "      <td>-0.172226</td>\n",
       "      <td>0.349288</td>\n",
       "      <td>-0.376493</td>\n",
       "      <td>0.603044</td>\n",
       "      <td>0.565047</td>\n",
       "      <td>0.292092</td>\n",
       "      <td>-0.377436</td>\n",
       "      <td>0.428940</td>\n",
       "      <td>-0.400956</td>\n",
       "    </tr>\n",
       "    <tr>\n",
       "      <th>zn</th>\n",
       "      <td>-0.194770</td>\n",
       "      <td>1.000000</td>\n",
       "      <td>-0.532268</td>\n",
       "      <td>-0.037290</td>\n",
       "      <td>-0.497114</td>\n",
       "      <td>0.302404</td>\n",
       "      <td>-0.546587</td>\n",
       "      <td>0.659018</td>\n",
       "      <td>-0.311313</td>\n",
       "      <td>-0.289332</td>\n",
       "      <td>-0.371315</td>\n",
       "      <td>0.176350</td>\n",
       "      <td>-0.412075</td>\n",
       "      <td>0.355608</td>\n",
       "    </tr>\n",
       "    <tr>\n",
       "      <th>indus</th>\n",
       "      <td>0.404249</td>\n",
       "      <td>-0.532268</td>\n",
       "      <td>1.000000</td>\n",
       "      <td>0.059928</td>\n",
       "      <td>0.760913</td>\n",
       "      <td>-0.353589</td>\n",
       "      <td>0.630048</td>\n",
       "      <td>-0.702583</td>\n",
       "      <td>0.616375</td>\n",
       "      <td>0.722828</td>\n",
       "      <td>0.356549</td>\n",
       "      <td>-0.378189</td>\n",
       "      <td>0.608309</td>\n",
       "      <td>-0.501698</td>\n",
       "    </tr>\n",
       "    <tr>\n",
       "      <th>chas</th>\n",
       "      <td>-0.060688</td>\n",
       "      <td>-0.037290</td>\n",
       "      <td>0.059928</td>\n",
       "      <td>1.000000</td>\n",
       "      <td>0.100650</td>\n",
       "      <td>0.090146</td>\n",
       "      <td>0.084852</td>\n",
       "      <td>-0.103124</td>\n",
       "      <td>-0.022561</td>\n",
       "      <td>-0.043708</td>\n",
       "      <td>-0.121835</td>\n",
       "      <td>0.042580</td>\n",
       "      <td>-0.041061</td>\n",
       "      <td>0.141400</td>\n",
       "    </tr>\n",
       "    <tr>\n",
       "      <th>nox</th>\n",
       "      <td>0.405290</td>\n",
       "      <td>-0.497114</td>\n",
       "      <td>0.760913</td>\n",
       "      <td>0.100650</td>\n",
       "      <td>1.000000</td>\n",
       "      <td>-0.266114</td>\n",
       "      <td>0.728882</td>\n",
       "      <td>-0.762469</td>\n",
       "      <td>0.612115</td>\n",
       "      <td>0.660607</td>\n",
       "      <td>0.166715</td>\n",
       "      <td>-0.393876</td>\n",
       "      <td>0.587573</td>\n",
       "      <td>-0.439225</td>\n",
       "    </tr>\n",
       "    <tr>\n",
       "      <th>rm</th>\n",
       "      <td>-0.172226</td>\n",
       "      <td>0.302404</td>\n",
       "      <td>-0.353589</td>\n",
       "      <td>0.090146</td>\n",
       "      <td>-0.266114</td>\n",
       "      <td>1.000000</td>\n",
       "      <td>-0.210589</td>\n",
       "      <td>0.178700</td>\n",
       "      <td>-0.173222</td>\n",
       "      <td>-0.241733</td>\n",
       "      <td>-0.323330</td>\n",
       "      <td>0.128410</td>\n",
       "      <td>-0.578025</td>\n",
       "      <td>0.683541</td>\n",
       "    </tr>\n",
       "    <tr>\n",
       "      <th>age</th>\n",
       "      <td>0.349288</td>\n",
       "      <td>-0.546587</td>\n",
       "      <td>0.630048</td>\n",
       "      <td>0.084852</td>\n",
       "      <td>0.728882</td>\n",
       "      <td>-0.210589</td>\n",
       "      <td>1.000000</td>\n",
       "      <td>-0.734915</td>\n",
       "      <td>0.467341</td>\n",
       "      <td>0.503830</td>\n",
       "      <td>0.231820</td>\n",
       "      <td>-0.276469</td>\n",
       "      <td>0.602001</td>\n",
       "      <td>-0.390863</td>\n",
       "    </tr>\n",
       "    <tr>\n",
       "      <th>dis</th>\n",
       "      <td>-0.376493</td>\n",
       "      <td>0.659018</td>\n",
       "      <td>-0.702583</td>\n",
       "      <td>-0.103124</td>\n",
       "      <td>-0.762469</td>\n",
       "      <td>0.178700</td>\n",
       "      <td>-0.734915</td>\n",
       "      <td>1.000000</td>\n",
       "      <td>-0.503471</td>\n",
       "      <td>-0.526938</td>\n",
       "      <td>-0.206016</td>\n",
       "      <td>0.306445</td>\n",
       "      <td>-0.500912</td>\n",
       "      <td>0.264876</td>\n",
       "    </tr>\n",
       "    <tr>\n",
       "      <th>rad</th>\n",
       "      <td>0.603044</td>\n",
       "      <td>-0.311313</td>\n",
       "      <td>0.616375</td>\n",
       "      <td>-0.022561</td>\n",
       "      <td>0.612115</td>\n",
       "      <td>-0.173222</td>\n",
       "      <td>0.467341</td>\n",
       "      <td>-0.503471</td>\n",
       "      <td>1.000000</td>\n",
       "      <td>0.917344</td>\n",
       "      <td>0.487733</td>\n",
       "      <td>-0.468700</td>\n",
       "      <td>0.499279</td>\n",
       "      <td>-0.423508</td>\n",
       "    </tr>\n",
       "    <tr>\n",
       "      <th>tax</th>\n",
       "      <td>0.565047</td>\n",
       "      <td>-0.289332</td>\n",
       "      <td>0.722828</td>\n",
       "      <td>-0.043708</td>\n",
       "      <td>0.660607</td>\n",
       "      <td>-0.241733</td>\n",
       "      <td>0.503830</td>\n",
       "      <td>-0.526938</td>\n",
       "      <td>0.917344</td>\n",
       "      <td>1.000000</td>\n",
       "      <td>0.465997</td>\n",
       "      <td>-0.462250</td>\n",
       "      <td>0.542732</td>\n",
       "      <td>-0.495792</td>\n",
       "    </tr>\n",
       "    <tr>\n",
       "      <th>ptratio</th>\n",
       "      <td>0.292092</td>\n",
       "      <td>-0.371315</td>\n",
       "      <td>0.356549</td>\n",
       "      <td>-0.121835</td>\n",
       "      <td>0.166715</td>\n",
       "      <td>-0.323330</td>\n",
       "      <td>0.231820</td>\n",
       "      <td>-0.206016</td>\n",
       "      <td>0.487733</td>\n",
       "      <td>0.465997</td>\n",
       "      <td>1.000000</td>\n",
       "      <td>-0.194891</td>\n",
       "      <td>0.351408</td>\n",
       "      <td>-0.506313</td>\n",
       "    </tr>\n",
       "    <tr>\n",
       "      <th>black</th>\n",
       "      <td>-0.377436</td>\n",
       "      <td>0.176350</td>\n",
       "      <td>-0.378189</td>\n",
       "      <td>0.042580</td>\n",
       "      <td>-0.393876</td>\n",
       "      <td>0.128410</td>\n",
       "      <td>-0.276469</td>\n",
       "      <td>0.306445</td>\n",
       "      <td>-0.468700</td>\n",
       "      <td>-0.462250</td>\n",
       "      <td>-0.194891</td>\n",
       "      <td>1.000000</td>\n",
       "      <td>-0.388913</td>\n",
       "      <td>0.360071</td>\n",
       "    </tr>\n",
       "    <tr>\n",
       "      <th>lstat</th>\n",
       "      <td>0.428940</td>\n",
       "      <td>-0.412075</td>\n",
       "      <td>0.608309</td>\n",
       "      <td>-0.041061</td>\n",
       "      <td>0.587573</td>\n",
       "      <td>-0.578025</td>\n",
       "      <td>0.602001</td>\n",
       "      <td>-0.500912</td>\n",
       "      <td>0.499279</td>\n",
       "      <td>0.542732</td>\n",
       "      <td>0.351408</td>\n",
       "      <td>-0.388913</td>\n",
       "      <td>1.000000</td>\n",
       "      <td>-0.742695</td>\n",
       "    </tr>\n",
       "    <tr>\n",
       "      <th>medv</th>\n",
       "      <td>-0.400956</td>\n",
       "      <td>0.355608</td>\n",
       "      <td>-0.501698</td>\n",
       "      <td>0.141400</td>\n",
       "      <td>-0.439225</td>\n",
       "      <td>0.683541</td>\n",
       "      <td>-0.390863</td>\n",
       "      <td>0.264876</td>\n",
       "      <td>-0.423508</td>\n",
       "      <td>-0.495792</td>\n",
       "      <td>-0.506313</td>\n",
       "      <td>0.360071</td>\n",
       "      <td>-0.742695</td>\n",
       "      <td>1.000000</td>\n",
       "    </tr>\n",
       "  </tbody>\n",
       "</table>\n",
       "</div>"
      ],
      "text/plain": [
       "             crim        zn     indus      chas       nox        rm       age  \\\n",
       "crim     1.000000 -0.194770  0.404249 -0.060688  0.405290 -0.172226  0.349288   \n",
       "zn      -0.194770  1.000000 -0.532268 -0.037290 -0.497114  0.302404 -0.546587   \n",
       "indus    0.404249 -0.532268  1.000000  0.059928  0.760913 -0.353589  0.630048   \n",
       "chas    -0.060688 -0.037290  0.059928  1.000000  0.100650  0.090146  0.084852   \n",
       "nox      0.405290 -0.497114  0.760913  0.100650  1.000000 -0.266114  0.728882   \n",
       "rm      -0.172226  0.302404 -0.353589  0.090146 -0.266114  1.000000 -0.210589   \n",
       "age      0.349288 -0.546587  0.630048  0.084852  0.728882 -0.210589  1.000000   \n",
       "dis     -0.376493  0.659018 -0.702583 -0.103124 -0.762469  0.178700 -0.734915   \n",
       "rad      0.603044 -0.311313  0.616375 -0.022561  0.612115 -0.173222  0.467341   \n",
       "tax      0.565047 -0.289332  0.722828 -0.043708  0.660607 -0.241733  0.503830   \n",
       "ptratio  0.292092 -0.371315  0.356549 -0.121835  0.166715 -0.323330  0.231820   \n",
       "black   -0.377436  0.176350 -0.378189  0.042580 -0.393876  0.128410 -0.276469   \n",
       "lstat    0.428940 -0.412075  0.608309 -0.041061  0.587573 -0.578025  0.602001   \n",
       "medv    -0.400956  0.355608 -0.501698  0.141400 -0.439225  0.683541 -0.390863   \n",
       "\n",
       "              dis       rad       tax   ptratio     black     lstat      medv  \n",
       "crim    -0.376493  0.603044  0.565047  0.292092 -0.377436  0.428940 -0.400956  \n",
       "zn       0.659018 -0.311313 -0.289332 -0.371315  0.176350 -0.412075  0.355608  \n",
       "indus   -0.702583  0.616375  0.722828  0.356549 -0.378189  0.608309 -0.501698  \n",
       "chas    -0.103124 -0.022561 -0.043708 -0.121835  0.042580 -0.041061  0.141400  \n",
       "nox     -0.762469  0.612115  0.660607  0.166715 -0.393876  0.587573 -0.439225  \n",
       "rm       0.178700 -0.173222 -0.241733 -0.323330  0.128410 -0.578025  0.683541  \n",
       "age     -0.734915  0.467341  0.503830  0.231820 -0.276469  0.602001 -0.390863  \n",
       "dis      1.000000 -0.503471 -0.526938 -0.206016  0.306445 -0.500912  0.264876  \n",
       "rad     -0.503471  1.000000  0.917344  0.487733 -0.468700  0.499279 -0.423508  \n",
       "tax     -0.526938  0.917344  1.000000  0.465997 -0.462250  0.542732 -0.495792  \n",
       "ptratio -0.206016  0.487733  0.465997  1.000000 -0.194891  0.351408 -0.506313  \n",
       "black    0.306445 -0.468700 -0.462250 -0.194891  1.000000 -0.388913  0.360071  \n",
       "lstat   -0.500912  0.499279  0.542732  0.351408 -0.388913  1.000000 -0.742695  \n",
       "medv     0.264876 -0.423508 -0.495792 -0.506313  0.360071 -0.742695  1.000000  "
      ]
     },
     "execution_count": 21,
     "metadata": {},
     "output_type": "execute_result"
    }
   ],
   "source": [
    "bst_corr = bst_home.corr()\n",
    "bst_corr"
   ]
  },
  {
   "cell_type": "markdown",
   "metadata": {},
   "source": [
    "### Next, we want to explore the data. Pick several varibables you think will be ost correlated with the prices of homes in Boston, and create plots that show the data dispersion as well as the regression line of best fit."
   ]
  },
  {
   "cell_type": "code",
   "execution_count": 15,
   "metadata": {},
   "outputs": [
    {
     "data": {
      "text/plain": [
       "<matplotlib.axes._subplots.AxesSubplot at 0x7f8b2142fa50>"
      ]
     },
     "execution_count": 15,
     "metadata": {},
     "output_type": "execute_result"
    },
    {
     "data": {
      "image/png": "[encoded data removed]",
      "text/plain": [
       "<Figure size 432x288 with 1 Axes>"
      ]
     },
     "metadata": {
      "needs_background": "light"
     },
     "output_type": "display_data"
    }
   ],
   "source": [
    "# Your plots here\n",
    "'''rm, lstat, black, tax'''\n",
    "sns.regplot(x='rm',y = 'medv', data = bst_home)"
   ]
  },
  {
   "cell_type": "code",
   "execution_count": 16,
   "metadata": {},
   "outputs": [
    {
     "data": {
      "text/plain": [
       "<matplotlib.axes._subplots.AxesSubplot at 0x7f8b2172ac90>"
      ]
     },
     "execution_count": 16,
     "metadata": {},
     "output_type": "execute_result"
    },
    {
     "data": {
      "image/png": "[encoded data removed]",
      "text/plain": [
       "<Figure size 432x288 with 1 Axes>"
      ]
     },
     "metadata": {
      "needs_background": "light"
     },
     "output_type": "display_data"
    }
   ],
   "source": [
    "sns.regplot(x='lstat',y = 'medv', data = bst_home)"
   ]
  },
  {
   "cell_type": "code",
   "execution_count": 19,
   "metadata": {},
   "outputs": [
    {
     "data": {
      "text/plain": [
       "<matplotlib.axes._subplots.AxesSubplot at 0x7f8b22a35690>"
      ]
     },
     "execution_count": 19,
     "metadata": {},
     "output_type": "execute_result"
    },
    {
     "data": {
      "image/png": "[encoded data removed]",
      "text/plain": [
       "<Figure size 432x288 with 1 Axes>"
      ]
     },
     "metadata": {
      "needs_background": "light"
     },
     "output_type": "display_data"
    }
   ],
   "source": [
    "sns.regplot(x='tax',y = 'medv', data = bst_home)"
   ]
  },
  {
   "cell_type": "code",
   "execution_count": 18,
   "metadata": {},
   "outputs": [
    {
     "data": {
      "text/plain": [
       "<matplotlib.axes._subplots.AxesSubplot at 0x7f8b2296e890>"
      ]
     },
     "execution_count": 18,
     "metadata": {},
     "output_type": "execute_result"
    },
    {
     "data": {
      "image/png": "[encoded data removed]",
      "text/plain": [
       "<Figure size 432x288 with 1 Axes>"
      ]
     },
     "metadata": {
      "needs_background": "light"
     },
     "output_type": "display_data"
    }
   ],
   "source": [
    "sns.regplot(x='indus',y = 'medv', data = bst_home)"
   ]
  },
  {
   "cell_type": "markdown",
   "metadata": {},
   "source": [
    "### What do these plots tell you about the relationships between these variables and the prices of homes in Boston? Are these the relationships you expected to see in these variables?"
   ]
  },
  {
   "cell_type": "code",
   "execution_count": null,
   "metadata": {},
   "outputs": [],
   "source": [
    "# Your response here\n",
    "'''It is much easier to see the relationship between # of rooms and house price and also\n",
    "the lower the status the lower the house price.  The more indultry in your area, the lower the\n",
    "house price also.\n",
    "It seems odd the the more tax you pay the lower the value of your house, though.'''"
   ]
  },
  {
   "cell_type": "markdown",
   "metadata": {},
   "source": [
    "### Make a heatmap of the remaining variables. Are there any variables that you did not consider that have very high correlations? What are they?"
   ]
  },
  {
   "cell_type": "code",
   "execution_count": 22,
   "metadata": {},
   "outputs": [
    {
     "data": {
      "text/plain": [
       "<matplotlib.axes._subplots.AxesSubplot at 0x7f8b22ce7650>"
      ]
     },
     "execution_count": 22,
     "metadata": {},
     "output_type": "execute_result"
    },
    {
     "data": {
      "image/png": "[encoded data removed]",
      "text/plain": [
       "<Figure size 432x288 with 2 Axes>"
      ]
     },
     "metadata": {
      "needs_background": "light"
     },
     "output_type": "display_data"
    }
   ],
   "source": [
    "# Your response here\n",
    "sns.heatmap(bst_corr)\n",
    "'''crime, nox, and ptratio seem to have strong negative correlations'''"
   ]
  },
  {
   "cell_type": "markdown",
   "metadata": {},
   "source": [
    "### Calculate Statistics\n",
    "Calculate descriptive statistics for housing price. Include the minimum, maximum, mean, median, and standard deviation. "
   ]
  },
  {
   "cell_type": "code",
   "execution_count": 23,
   "metadata": {},
   "outputs": [
    {
     "data": {
      "text/plain": [
       "count    404.000000\n",
       "mean      22.312376\n",
       "std        8.837019\n",
       "min        5.000000\n",
       "25%       17.100000\n",
       "50%       21.400000\n",
       "75%       25.000000\n",
       "max       50.000000\n",
       "Name: medv, dtype: float64"
      ]
     },
     "execution_count": 23,
     "metadata": {},
     "output_type": "execute_result"
    }
   ],
   "source": [
    "# Your code here\n",
    "bst_home['medv'].describe()"
   ]
  },
  {
   "cell_type": "markdown",
   "metadata": {},
   "source": [
    "----\n",
    "\n",
    "## Developing a Model"
   ]
  },
  {
   "cell_type": "markdown",
   "metadata": {},
   "source": [
    "### Implementation: Define a Performance Metric\n",
    "What is the performance meteric with which you will determine the performance of your model? Create a function that calculates this performance metric, and then returns the score. "
   ]
  },
  {
   "cell_type": "code",
   "execution_count": 30,
   "metadata": {},
   "outputs": [],
   "source": [
    "from sklearn.metrics import r2_score\n",
    "\n",
    "def performance_metric(y_true, y_predict):\n",
    "    \"\"\" Calculates and returns the performance score between \n",
    "        true and predicted values based on the metric chosen. \"\"\"\n",
    "    # Your code here:\n",
    "   \n",
    "    return sklearn.metrics.r2_score(y_true,y_predict)\n",
    "    "
   ]
  },
  {
   "cell_type": "markdown",
   "metadata": {},
   "source": [
    "### Implementation: Shuffle and Split Data\n",
    "Split the data into the testing and training datasets. Shuffle the data as well to remove any bias in selecting the traing and test. "
   ]
  },
  {
   "cell_type": "code",
   "execution_count": 32,
   "metadata": {},
   "outputs": [
    {
     "data": {
      "text/plain": [
       "0.6844720754517652"
      ]
     },
     "execution_count": 32,
     "metadata": {},
     "output_type": "execute_result"
    }
   ],
   "source": [
    "# Your code here\n",
    "from sklearn.model_selection import train_test_split\n",
    "\n",
    "bst_home_train_X = bst_home[['crim','zn','indus','chas','nox','rm','age','dis','rad','tax','ptratio','black']]\n",
    "bst_home_train_y = bst_home['medv']\n",
    "X_train,X_test,y_train,y_test = train_test_split(bst_home_train_X,bst_home_train_y,test_size = .20)\n",
    "\n",
    "\n",
    "\n",
    "bst_home_model=sklearn.linear_model.LinearRegression()\n",
    "bst_home_model.fit(X_train,y_train) \n",
    "\n",
    "y_pred = bst_home_model.predict(X_train)\n",
    "performance_metric(y_train,y_pred)"
   ]
  },
  {
   "cell_type": "code",
   "execution_count": null,
   "metadata": {},
   "outputs": [],
   "source": [
    "# crim       0\n",
    "# zn         0\n",
    "# indus      0\n",
    "# chas       0\n",
    "# nox        0\n",
    "# rm         0\n",
    "# age        0\n",
    "# dis        0\n",
    "# rad        0\n",
    "# tax        0\n",
    "# ptratio    0\n",
    "# black      0\n",
    "# lstat "
   ]
  },
  {
   "cell_type": "markdown",
   "metadata": {},
   "source": [
    "----\n",
    "\n",
    "## Analyzing Model Performance\n",
    "Next, we are going to build a Random Forest Regressor, and test its performance with several different parameter settings."
   ]
  },
  {
   "cell_type": "markdown",
   "metadata": {},
   "source": [
    "### Learning Curves\n",
    "Lets build the different models. Set the max_depth parameter to 2, 4, 6, 8, and 10 respectively. "
   ]
  },
  {
   "cell_type": "code",
   "execution_count": 44,
   "metadata": {},
   "outputs": [],
   "source": [
    "# Five separate RFR here with the given max depths\n",
    "from sklearn.ensemble import RandomForestRegressor as RFR\n",
    "max_depth = [2,4,6,8,10]\n",
    "scores_train = []\n",
    "scores_test = []\n",
    "for i in max_depth:\n",
    "    RFR_model= RFR(max_depth = i)\n",
    "    RFR_model.fit(X_train,y_train)\n",
    "    y_pred_train = RFR_model.predict(X_train)\n",
    "    y_pred_test = RFR_model.predict(X_test)\n",
    "    \n",
    "    score_train = performance_metric(y_train,y_pred_train)\n",
    "    scores_train.append(score_train)\n",
    "    \n",
    "    score_test = performance_metric(y_test,y_pred_test)\n",
    "    scores_test.append(score_test)\n",
    "    \n",
    "    \n",
    "    "
   ]
  },
  {
   "cell_type": "code",
   "execution_count": null,
   "metadata": {},
   "outputs": [],
   "source": []
  },
  {
   "cell_type": "markdown",
   "metadata": {},
   "source": [
    "Now, plot the score for each tree on the training set and on the testing set."
   ]
  },
  {
   "cell_type": "code",
   "execution_count": 63,
   "metadata": {
    "scrolled": false
   },
   "outputs": [
    {
     "data": {
      "text/plain": [
       "<matplotlib.collections.PathCollection at 0x7f8b255c44d0>"
      ]
     },
     "execution_count": 63,
     "metadata": {},
     "output_type": "execute_result"
    },
    {
     "data": {
      "image/png": "[encoded data removed]",
      "text/plain": [
       "<Figure size 864x432 with 2 Axes>"
      ]
     },
     "metadata": {
      "needs_background": "light"
     },
     "output_type": "display_data"
    }
   ],
   "source": [
    "# Produce a plot with the score for the testing and training for the different max depths\n",
    "fig, ax = plt.subplots(ncols=2,figsize=(12,6))\n",
    "plt.ylim(0.6,1.0)\n",
    "ax[0].scatter(max_depth,scores_train)\n",
    "ax[1].scatter(max_depth,scores_test)\n",
    "\n"
   ]
  },
  {
   "cell_type": "markdown",
   "metadata": {},
   "source": [
    "What do these results tell you about the effect of the depth of the trees on the performance of the model?"
   ]
  },
  {
   "cell_type": "code",
   "execution_count": null,
   "metadata": {},
   "outputs": [],
   "source": [
    "# Your response here\n",
    "'''There looks to be a sweet spot for depth of trees.  But for the most part the deeper it\n",
    "goes the better the results.  Also my training data is performing better than my testing.'''"
   ]
  },
  {
   "cell_type": "markdown",
   "metadata": {},
   "source": [
    "### Bias-Variance Tradeoff\n",
    "When the model is trained with a maximum depth of 1, does the model suffer from high bias or from high variance? How about when the model is trained with a maximum depth of 10?"
   ]
  },
  {
   "cell_type": "code",
   "execution_count": null,
   "metadata": {},
   "outputs": [],
   "source": [
    "# Your response here\n",
    "'''a max depth of 1 would suffer from high bias and when modeled with 10 is\n",
    "has a higher variance.'''"
   ]
  },
  {
   "cell_type": "markdown",
   "metadata": {},
   "source": [
    "### Best-Guess Optimal Model\n",
    "What is the max_depth parameter that you think would optimize the model? Run your model and explain its performance."
   ]
  },
  {
   "cell_type": "code",
   "execution_count": 80,
   "metadata": {},
   "outputs": [],
   "source": [
    "# Your response here\n",
    "max_depth =[1, 5, 10, 15, 20, 50,100]\n",
    "scores_train = []\n",
    "scores_test = []\n",
    "for i in max_depth:\n",
    "    RFR_model= RFR(max_depth = i)\n",
    "    RFR_model.fit(X_train,y_train)\n",
    "    y_pred_train = RFR_model.predict(X_train)\n",
    "    y_pred_test = RFR_model.predict(X_test)\n",
    "    \n",
    "    score_train = performance_metric(y_train,y_pred_train)\n",
    "    scores_train.append(score_train)\n",
    "    \n",
    "    score_test = performance_metric(y_test,y_pred_test)\n",
    "    scores_test.append(score_test)"
   ]
  },
  {
   "cell_type": "code",
   "execution_count": null,
   "metadata": {},
   "outputs": [],
   "source": []
  },
  {
   "cell_type": "code",
   "execution_count": 81,
   "metadata": {},
   "outputs": [
    {
     "data": {
      "text/plain": [
       "<matplotlib.collections.PathCollection at 0x7f8b07352390>"
      ]
     },
     "execution_count": 81,
     "metadata": {},
     "output_type": "execute_result"
    },
    {
     "data": {
      "image/png": "[encoded data removed]",
      "text/plain": [
       "<Figure size 864x432 with 2 Axes>"
      ]
     },
     "metadata": {
      "needs_background": "light"
     },
     "output_type": "display_data"
    }
   ],
   "source": [
    "fig, ax = plt.subplots(ncols=2,figsize=(12,6))\n",
    "plt.ylim(0.5,1.0)\n",
    "ax[0].scatter(max_depth,scores_train)\n",
    "ax[1].scatter(max_depth,scores_test)"
   ]
  },
  {
   "cell_type": "code",
   "execution_count": null,
   "metadata": {},
   "outputs": [],
   "source": [
    "'''Using different depths there is a point where you reach optimal results and creating\n",
    "further depths do not add anything to the outcome.  For this dataset it looks like a \n",
    "depth of 10 would be the sweet spot.'''"
   ]
  },
  {
   "cell_type": "markdown",
   "metadata": {},
   "source": [
    "### Applicability\n",
    "*In a few sentences, discuss whether the constructed model should or should not be used in a real-world setting.*  \n",
    "**Hint:** Some questions to answering:\n",
    "- *How relevant today is data that was collected from 1978?*\n",
    "- *Are the features present in the data sufficient to describe a home?*\n",
    "- *Is the model robust enough to make consistent predictions?*\n",
    "- *Would data collected in an urban city like Boston be applicable in a rural city?*"
   ]
  },
  {
   "cell_type": "code",
   "execution_count": null,
   "metadata": {},
   "outputs": [],
   "source": [
    "# Your response here\n",
    "'''I would like to think the data collected in 1978 would be different than today.  However, I think it just may\n",
    "be worded differently.  I think there needs to be more data about the home itself.  Number of bathrooms, number of\n",
    "rooms, garage, size of lot, etc. can all be contributing factors.  I do not believe that urban data can be fit to \n",
    "reflect rural homes.'''"
   ]
  }
 ],
 "metadata": {
  "anaconda-cloud": {},
  "kernelspec": {
   "display_name": "Python 3",
   "language": "python",
   "name": "python3"
  },
  "language_info": {
   "codemirror_mode": {
    "name": "ipython",
    "version": 3
   },
   "file_extension": ".py",
   "mimetype": "text/x-python",
   "name": "python",
   "nbconvert_exporter": "python",
   "pygments_lexer": "ipython3",
   "version": "3.7.6"
  }
 },
 "nbformat": 4,
 "nbformat_minor": 1
}

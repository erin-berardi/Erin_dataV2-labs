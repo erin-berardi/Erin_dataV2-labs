{
 "cells": [
  {
   "cell_type": "markdown",
   "metadata": {},
   "source": [
    "# Challenge 2: Sentiment Analysis\n",
    "\n",
    "In this challenge we will learn sentiment analysis and practice performing sentiment analysis on Twitter tweets. \n",
    "\n",
    "## Introduction\n",
    "\n",
    "Sentiment analysis is to *systematically identify, extract, quantify, and study affective states and subjective information* based on texts ([reference](https://en.wikipedia.org/wiki/Sentiment_analysis)). In simple words, it's to understand whether a person is happy or unhappy in producing the piece of text. Why we (or rather, companies) care about sentiment in texts? It's because by understanding the sentiments in texts, we will be able to know if our customers are happy or unhappy about our products and services. If they are unhappy, the subsequent action is to figure out what have caused the unhappiness and make improvements.\n",
    "\n",
    "Basic sentiment analysis only understands the *positive* or *negative* (sometimes *neutral* too) polarities of the sentiment. More advanced sentiment analysis will also consider dimensions such as agreement, subjectivity, confidence, irony, and so on. In this challenge we will conduct the basic positive vs negative sentiment analysis based on real Twitter tweets.\n",
    "\n",
    "NLTK comes with a [sentiment analysis package](https://www.nltk.org/api/nltk.sentiment.html). This package is great for dummies to perform sentiment analysis because it requires only the textual data to make predictions. For example:\n",
    "\n",
    "```python\n",
    ">>> from nltk.sentiment.vader import SentimentIntensityAnalyzer\n",
    ">>> txt = \"Ironhack is a Global Tech School ranked num 2 worldwide.  ",
    " ",
    "Our mission is to help people transform their careers and join a thriving community of tech professionals that love what they do.\"\n",
    ">>> analyzer = SentimentIntensityAnalyzer()\n",
    ">>> analyzer.polarity_scores(txt)\n",
    "{'neg': 0.0, 'neu': 0.741, 'pos': 0.259, 'compound': 0.8442}\n",
    "```\n",
    "\n",
    "In this challenge, however, you will not use NLTK's sentiment analysis package because in your Machine Learning training in the past 2 weeks you have learned how to make predictions more accurate than that. The [tweets data](https://www.kaggle.com/kazanova/sentiment140) we will be using today are already coded for the positive/negative sentiment. You will be able to use the Naïve Bayes classifier you learned in the lesson to predict the sentiment of tweets based on the labels."
   ]
  },
  {
   "cell_type": "markdown",
   "metadata": {},
   "source": [
    "## Conducting Sentiment Analysis\n",
    "\n",
    "### Loading and Exploring Data\n",
    "\n",
    "The dataset we'll be using today is located in the lab directory named `Sentiment140.csv.zip`. You need to unzip it into a `.csv` file. Then in the cell below, load and explore the data.\n",
    "\n",
    "*Notes:* \n",
    "\n",
    "* The dataset was downloaded from [Kaggle](https://www.kaggle.com/kazanova/sentiment140). We made a slight change on the original data so that each column has a label.\n",
    "\n",
    "* The dataset is huuuuge (1.6m tweets). When you develop your data analysis codes, you can sample a subset of the data (e.g. 20k records) so that you will save a lot of time when you test your codes."
   ]
  },
  {
   "cell_type": "code",
   "execution_count": 1,
   "metadata": {},
   "outputs": [
    {
     "name": "stderr",
     "output_type": "stream",
     "text": [
      "[nltk_data] Downloading package punkt to\n",
      "[nltk_data]     /Users/erinberardi/nltk_data...\n",
      "[nltk_data]   Package punkt is already up-to-date!\n",
      "[nltk_data] Downloading package wordnet to\n",
      "[nltk_data]     /Users/erinberardi/nltk_data...\n",
      "[nltk_data]   Package wordnet is already up-to-date!\n",
      "[nltk_data] Downloading package stopwords to\n",
      "[nltk_data]     /Users/erinberardi/nltk_data...\n",
      "[nltk_data]   Package stopwords is already up-to-date!\n"
     ]
    },
    {
     "data": {
      "text/plain": [
       "True"
      ]
     },
     "execution_count": 1,
     "metadata": {},
     "output_type": "execute_result"
    }
   ],
   "source": [
    "import pandas as pd\n",
    "import numpy as np\n",
    "import re\n",
    "import nltk\n",
    "from nltk.tokenize import word_tokenize\n",
    "nltk.download('punkt')\n",
    "nltk.download('wordnet')\n",
    "from nltk.stem import WordNetLemmatizer\n",
    "from nltk.stem import PorterStemmer \n",
    "from nltk.corpus import stopwords\n",
    "nltk.download('stopwords')"
   ]
  },
  {
   "cell_type": "code",
   "execution_count": 2,
   "metadata": {},
   "outputs": [
    {
     "data": {
      "text/plain": [
       "(10000, 6)"
      ]
     },
     "execution_count": 2,
     "metadata": {},
     "output_type": "execute_result"
    }
   ],
   "source": [
    "# your code here\n",
    "sent = pd.read_csv('/Users/erinberardi/Downloads/Sentiment140.csv')\n",
    "sample=sent.sample(n=10000, axis=0)\n",
    "sample.shape"
   ]
  },
  {
   "cell_type": "code",
   "execution_count": 3,
   "metadata": {},
   "outputs": [],
   "source": [
    "def clean_up(s):\n",
    "    s = re.sub(r'(?i)\\b((?:https?://|www\\d{0,3}[.]|[a-z0-9.\\-]+[.][a-z]{2,4}/)(?:[^\\s()<>]+|\\(([^\\s()<>]+|(\\([^\\s()<>]+\\)))*\\))+(?:\\(([^\\s()<>]+|(\\([^\\s()<>]+\\)))*\\)|[^\\s`!()\\[\\]{};:\\'\".,<>?«»“”‘’]))', ' ', s)\n",
    "    s = s.translate ({ord(c): \" \" for c in \"\"\"!@#$%^&*()[]{}'\";:,./<>?\\|`-~=_+\"\"\"})\n",
    "    s = re.sub('\\d+',' ',s)\n",
    "    s = s.lower()\n",
    "\n",
    "    return s"
   ]
  },
  {
   "cell_type": "code",
   "execution_count": 4,
   "metadata": {},
   "outputs": [],
   "source": [
    "def tokenize(s):\n",
    "    tokens = word_tokenize(s)\n",
    "    return tokens"
   ]
  },
  {
   "cell_type": "code",
   "execution_count": 5,
   "metadata": {},
   "outputs": [],
   "source": [
    "def stem_and_lemmatize(l):\n",
    "    l_stem_lem = []\n",
    "    ps = PorterStemmer() \n",
    "    lm = WordNetLemmatizer()\n",
    "    for w in l: \n",
    "        w=ps.stem(w)\n",
    "        w=lm.lemmatize(w)\n",
    "        l_stem_lem.append(w)\n",
    "    return l_stem_lem"
   ]
  },
  {
   "cell_type": "code",
   "execution_count": 6,
   "metadata": {},
   "outputs": [],
   "source": [
    "def remove_stopwords(l):\n",
    "    stop_words = set(stopwords.words('english')) \n",
    "    return [word for word in l if word not in stop_words]\n",
    "  "
   ]
  },
  {
   "cell_type": "code",
   "execution_count": 7,
   "metadata": {},
   "outputs": [
    {
     "data": {
      "text/html": [
       "<div>\n",
       "<style scoped>\n",
       "    .dataframe tbody tr th:only-of-type {\n",
       "        vertical-align: middle;\n",
       "    }\n",
       "\n",
       "    .dataframe tbody tr th {\n",
       "        vertical-align: top;\n",
       "    }\n",
       "\n",
       "    .dataframe thead th {\n",
       "        text-align: right;\n",
       "    }\n",
       "</style>\n",
       "<table border=\"1\" class=\"dataframe\">\n",
       "  <thead>\n",
       "    <tr style=\"text-align: right;\">\n",
       "      <th></th>\n",
       "      <th>target</th>\n",
       "      <th>ids</th>\n",
       "      <th>date</th>\n",
       "      <th>flag</th>\n",
       "      <th>user</th>\n",
       "      <th>text</th>\n",
       "    </tr>\n",
       "  </thead>\n",
       "  <tbody>\n",
       "    <tr>\n",
       "      <th>1000964</th>\n",
       "      <td>4</td>\n",
       "      <td>1880049828</td>\n",
       "      <td>Thu May 21 23:56:42 PDT 2009</td>\n",
       "      <td>NO_QUERY</td>\n",
       "      <td>aphrodaisy</td>\n",
       "      <td>@savagestar up to no good as usual.</td>\n",
       "    </tr>\n",
       "    <tr>\n",
       "      <th>361575</th>\n",
       "      <td>0</td>\n",
       "      <td>2046967644</td>\n",
       "      <td>Fri Jun 05 12:57:28 PDT 2009</td>\n",
       "      <td>NO_QUERY</td>\n",
       "      <td>Arqueete</td>\n",
       "      <td>Woke up late and have laryngitis or something....</td>\n",
       "    </tr>\n",
       "    <tr>\n",
       "      <th>882855</th>\n",
       "      <td>4</td>\n",
       "      <td>1686041107</td>\n",
       "      <td>Sun May 03 03:26:44 PDT 2009</td>\n",
       "      <td>NO_QUERY</td>\n",
       "      <td>Robi27</td>\n",
       "      <td>Good afternoon everyone  Had an awesome AWESOM...</td>\n",
       "    </tr>\n",
       "    <tr>\n",
       "      <th>1568292</th>\n",
       "      <td>4</td>\n",
       "      <td>2188172398</td>\n",
       "      <td>Mon Jun 15 21:25:31 PDT 2009</td>\n",
       "      <td>NO_QUERY</td>\n",
       "      <td>conslugarocko</td>\n",
       "      <td>@thetingting what merited the DNW?</td>\n",
       "    </tr>\n",
       "    <tr>\n",
       "      <th>505096</th>\n",
       "      <td>0</td>\n",
       "      <td>2188304032</td>\n",
       "      <td>Mon Jun 15 21:39:19 PDT 2009</td>\n",
       "      <td>NO_QUERY</td>\n",
       "      <td>valstyleee</td>\n",
       "      <td>Yikes!! I have to look plain tmrw  sad story</td>\n",
       "    </tr>\n",
       "  </tbody>\n",
       "</table>\n",
       "</div>"
      ],
      "text/plain": [
       "         target         ids                          date      flag  \\\n",
       "1000964       4  1880049828  Thu May 21 23:56:42 PDT 2009  NO_QUERY   \n",
       "361575        0  2046967644  Fri Jun 05 12:57:28 PDT 2009  NO_QUERY   \n",
       "882855        4  1686041107  Sun May 03 03:26:44 PDT 2009  NO_QUERY   \n",
       "1568292       4  2188172398  Mon Jun 15 21:25:31 PDT 2009  NO_QUERY   \n",
       "505096        0  2188304032  Mon Jun 15 21:39:19 PDT 2009  NO_QUERY   \n",
       "\n",
       "                  user                                               text  \n",
       "1000964     aphrodaisy               @savagestar up to no good as usual.   \n",
       "361575        Arqueete  Woke up late and have laryngitis or something....  \n",
       "882855          Robi27  Good afternoon everyone  Had an awesome AWESOM...  \n",
       "1568292  conslugarocko                @thetingting what merited the DNW?   \n",
       "505096      valstyleee       Yikes!! I have to look plain tmrw  sad story  "
      ]
     },
     "execution_count": 7,
     "metadata": {},
     "output_type": "execute_result"
    }
   ],
   "source": [
    "sample.head()"
   ]
  },
  {
   "cell_type": "markdown",
   "metadata": {},
   "source": [
    "### Prepare Textual Data for Sentiment Analysis\n",
    "\n",
    "Now, apply the functions you have written in Challenge 1 to your whole data set. These functions include:\n",
    "\n",
    "* `clean_up()`\n",
    "\n",
    "* `tokenize()`\n",
    "\n",
    "* `stem_and_lemmatize()`\n",
    "\n",
    "* `remove_stopwords()`\n",
    "\n",
    "Create a new column called `text_processed` in the dataframe to contain the processed data. At the end, your `text_processed` column should contain lists of word tokens that are cleaned up. Your data should look like below:\n",
    "\n",
    "![Processed Data](data-cleaning-results.png)"
   ]
  },
  {
   "cell_type": "code",
   "execution_count": 8,
   "metadata": {},
   "outputs": [
    {
     "data": {
      "text/html": [
       "<div>\n",
       "<style scoped>\n",
       "    .dataframe tbody tr th:only-of-type {\n",
       "        vertical-align: middle;\n",
       "    }\n",
       "\n",
       "    .dataframe tbody tr th {\n",
       "        vertical-align: top;\n",
       "    }\n",
       "\n",
       "    .dataframe thead th {\n",
       "        text-align: right;\n",
       "    }\n",
       "</style>\n",
       "<table border=\"1\" class=\"dataframe\">\n",
       "  <thead>\n",
       "    <tr style=\"text-align: right;\">\n",
       "      <th></th>\n",
       "      <th>target</th>\n",
       "      <th>ids</th>\n",
       "      <th>date</th>\n",
       "      <th>flag</th>\n",
       "      <th>user</th>\n",
       "      <th>text</th>\n",
       "    </tr>\n",
       "  </thead>\n",
       "  <tbody>\n",
       "    <tr>\n",
       "      <th>780082</th>\n",
       "      <td>0</td>\n",
       "      <td>2323086005</td>\n",
       "      <td>Wed Jun 24 23:52:55 PDT 2009</td>\n",
       "      <td>NO_QUERY</td>\n",
       "      <td>CindySandiata</td>\n",
       "      <td>@anysinta : anya,hmm~i think that hyukkie is t...</td>\n",
       "    </tr>\n",
       "    <tr>\n",
       "      <th>219813</th>\n",
       "      <td>0</td>\n",
       "      <td>1976482315</td>\n",
       "      <td>Sat May 30 17:26:38 PDT 2009</td>\n",
       "      <td>NO_QUERY</td>\n",
       "      <td>denisesoul</td>\n",
       "      <td>My flat screen broken</td>\n",
       "    </tr>\n",
       "    <tr>\n",
       "      <th>940259</th>\n",
       "      <td>4</td>\n",
       "      <td>1793904291</td>\n",
       "      <td>Thu May 14 04:22:06 PDT 2009</td>\n",
       "      <td>NO_QUERY</td>\n",
       "      <td>temposhark</td>\n",
       "      <td>@ianshepherd Thanks for spreading the word abo...</td>\n",
       "    </tr>\n",
       "    <tr>\n",
       "      <th>1128274</th>\n",
       "      <td>4</td>\n",
       "      <td>1975328194</td>\n",
       "      <td>Sat May 30 14:55:42 PDT 2009</td>\n",
       "      <td>NO_QUERY</td>\n",
       "      <td>jellypigs</td>\n",
       "      <td>Loved laying in the sun, under a willow tree  ...</td>\n",
       "    </tr>\n",
       "    <tr>\n",
       "      <th>1438435</th>\n",
       "      <td>4</td>\n",
       "      <td>2061333390</td>\n",
       "      <td>Sat Jun 06 20:39:05 PDT 2009</td>\n",
       "      <td>NO_QUERY</td>\n",
       "      <td>melainaricks</td>\n",
       "      <td>@beckyrichard A!</td>\n",
       "    </tr>\n",
       "  </tbody>\n",
       "</table>\n",
       "</div>"
      ],
      "text/plain": [
       "         target         ids                          date      flag  \\\n",
       "780082        0  2323086005  Wed Jun 24 23:52:55 PDT 2009  NO_QUERY   \n",
       "219813        0  1976482315  Sat May 30 17:26:38 PDT 2009  NO_QUERY   \n",
       "940259        4  1793904291  Thu May 14 04:22:06 PDT 2009  NO_QUERY   \n",
       "1128274       4  1975328194  Sat May 30 14:55:42 PDT 2009  NO_QUERY   \n",
       "1438435       4  2061333390  Sat Jun 06 20:39:05 PDT 2009  NO_QUERY   \n",
       "\n",
       "                  user                                               text  \n",
       "780082   CindySandiata  @anysinta : anya,hmm~i think that hyukkie is t...  \n",
       "219813      denisesoul                             My flat screen broken   \n",
       "940259      temposhark  @ianshepherd Thanks for spreading the word abo...  \n",
       "1128274      jellypigs  Loved laying in the sun, under a willow tree  ...  \n",
       "1438435   melainaricks                                  @beckyrichard A!   "
      ]
     },
     "execution_count": 8,
     "metadata": {},
     "output_type": "execute_result"
    }
   ],
   "source": [
    "sample5=sent.sample(n=5, axis=0)\n",
    "sample5"
   ]
  },
  {
   "cell_type": "code",
   "execution_count": 9,
   "metadata": {},
   "outputs": [
    {
     "name": "stdout",
     "output_type": "stream",
     "text": [
      "1 done\n",
      "2 done\n",
      "3 done\n"
     ]
    },
    {
     "data": {
      "text/html": [
       "<div>\n",
       "<style scoped>\n",
       "    .dataframe tbody tr th:only-of-type {\n",
       "        vertical-align: middle;\n",
       "    }\n",
       "\n",
       "    .dataframe tbody tr th {\n",
       "        vertical-align: top;\n",
       "    }\n",
       "\n",
       "    .dataframe thead th {\n",
       "        text-align: right;\n",
       "    }\n",
       "</style>\n",
       "<table border=\"1\" class=\"dataframe\">\n",
       "  <thead>\n",
       "    <tr style=\"text-align: right;\">\n",
       "      <th></th>\n",
       "      <th>target</th>\n",
       "      <th>ids</th>\n",
       "      <th>date</th>\n",
       "      <th>flag</th>\n",
       "      <th>user</th>\n",
       "      <th>text</th>\n",
       "      <th>text_processed</th>\n",
       "    </tr>\n",
       "  </thead>\n",
       "  <tbody>\n",
       "    <tr>\n",
       "      <th>1000964</th>\n",
       "      <td>4</td>\n",
       "      <td>1880049828</td>\n",
       "      <td>Thu May 21 23:56:42 PDT 2009</td>\n",
       "      <td>NO_QUERY</td>\n",
       "      <td>aphrodaisy</td>\n",
       "      <td>@savagestar up to no good as usual.</td>\n",
       "      <td>[savagestar, good, usual]</td>\n",
       "    </tr>\n",
       "    <tr>\n",
       "      <th>361575</th>\n",
       "      <td>0</td>\n",
       "      <td>2046967644</td>\n",
       "      <td>Fri Jun 05 12:57:28 PDT 2009</td>\n",
       "      <td>NO_QUERY</td>\n",
       "      <td>Arqueete</td>\n",
       "      <td>Woke up late and have laryngitis or something....</td>\n",
       "      <td>[woke, late, laryng, someth, bodi, punish, lit...</td>\n",
       "    </tr>\n",
       "    <tr>\n",
       "      <th>882855</th>\n",
       "      <td>4</td>\n",
       "      <td>1686041107</td>\n",
       "      <td>Sun May 03 03:26:44 PDT 2009</td>\n",
       "      <td>NO_QUERY</td>\n",
       "      <td>Robi27</td>\n",
       "      <td>Good afternoon everyone  Had an awesome AWESOM...</td>\n",
       "      <td>[good, afternoon, everyon, awesom, awesom, mee...</td>\n",
       "    </tr>\n",
       "    <tr>\n",
       "      <th>1568292</th>\n",
       "      <td>4</td>\n",
       "      <td>2188172398</td>\n",
       "      <td>Mon Jun 15 21:25:31 PDT 2009</td>\n",
       "      <td>NO_QUERY</td>\n",
       "      <td>conslugarocko</td>\n",
       "      <td>@thetingting what merited the DNW?</td>\n",
       "      <td>[thetingt, merit, dnw]</td>\n",
       "    </tr>\n",
       "    <tr>\n",
       "      <th>505096</th>\n",
       "      <td>0</td>\n",
       "      <td>2188304032</td>\n",
       "      <td>Mon Jun 15 21:39:19 PDT 2009</td>\n",
       "      <td>NO_QUERY</td>\n",
       "      <td>valstyleee</td>\n",
       "      <td>Yikes!! I have to look plain tmrw  sad story</td>\n",
       "      <td>[yike, look, plain, tmrw, sad, stori]</td>\n",
       "    </tr>\n",
       "  </tbody>\n",
       "</table>\n",
       "</div>"
      ],
      "text/plain": [
       "         target         ids                          date      flag  \\\n",
       "1000964       4  1880049828  Thu May 21 23:56:42 PDT 2009  NO_QUERY   \n",
       "361575        0  2046967644  Fri Jun 05 12:57:28 PDT 2009  NO_QUERY   \n",
       "882855        4  1686041107  Sun May 03 03:26:44 PDT 2009  NO_QUERY   \n",
       "1568292       4  2188172398  Mon Jun 15 21:25:31 PDT 2009  NO_QUERY   \n",
       "505096        0  2188304032  Mon Jun 15 21:39:19 PDT 2009  NO_QUERY   \n",
       "\n",
       "                  user                                               text  \\\n",
       "1000964     aphrodaisy               @savagestar up to no good as usual.    \n",
       "361575        Arqueete  Woke up late and have laryngitis or something....   \n",
       "882855          Robi27  Good afternoon everyone  Had an awesome AWESOM...   \n",
       "1568292  conslugarocko                @thetingting what merited the DNW?    \n",
       "505096      valstyleee       Yikes!! I have to look plain tmrw  sad story   \n",
       "\n",
       "                                            text_processed  \n",
       "1000964                          [savagestar, good, usual]  \n",
       "361575   [woke, late, laryng, someth, bodi, punish, lit...  \n",
       "882855   [good, afternoon, everyon, awesom, awesom, mee...  \n",
       "1568292                             [thetingt, merit, dnw]  \n",
       "505096               [yike, look, plain, tmrw, sad, stori]  "
      ]
     },
     "execution_count": 9,
     "metadata": {},
     "output_type": "execute_result"
    }
   ],
   "source": [
    "# your code here\n",
    "# apply(clean_up)\n",
    "# apply(tokenize)\n",
    "# apply(stem_and_lemmatize)\n",
    "# apply(remove_stopwords)\n",
    "#creating new column with cleaned,tokenized, stemmed and lemmed, no stopwords\n",
    "\n",
    "sample[\"text_processed\"]=sample[\"text\"].apply(clean_up)\n",
    "print('1 done')\n",
    "sample[\"text_processed\"]=sample[\"text_processed\"].apply(tokenize)\n",
    "print('2 done')\n",
    "sample[\"text_processed\"]=sample[\"text_processed\"].apply(stem_and_lemmatize)\n",
    "print('3 done')\n",
    "sample[\"text_processed\"]=sample[\"text_processed\"].apply(remove_stopwords)\n",
    "\n",
    "sample.head()"
   ]
  },
  {
   "cell_type": "code",
   "execution_count": null,
   "metadata": {},
   "outputs": [],
   "source": []
  },
  {
   "cell_type": "markdown",
   "metadata": {},
   "source": [
    "### Creating Bag of Words\n",
    "\n",
    "The purpose of this step is to create a [bag of words](https://en.wikipedia.org/wiki/Bag-of-words_model) from the processed data. The bag of words contains all the unique words in your whole text body (a.k.a. *corpus*) with the number of occurrence of each word. It will allow you to understand which words are the most important features across the whole corpus.\n",
    "\n",
    "Also, you can imagine you will have a massive set of words. The less important words (i.e. those of very low number of occurrence) do not contribute much to the sentiment. Therefore, you only need to use the most important words to build your feature set in the next step. In our case, we will use the top 5,000 words with the highest frequency to build the features.\n",
    "\n",
    "In the cell below, combine all the words in `text_processed` and calculate the frequency distribution of all words. A convenient library to calculate the term frequency distribution is NLTK's `FreqDist` class ([documentation](https://www.nltk.org/api/nltk.html#module-nltk.probability)). Then select the top 5,000 words from the frequency distribution."
   ]
  },
  {
   "cell_type": "code",
   "execution_count": 10,
   "metadata": {},
   "outputs": [],
   "source": [
    "from nltk.probability import FreqDist\n"
   ]
  },
  {
   "cell_type": "code",
   "execution_count": 11,
   "metadata": {},
   "outputs": [],
   "source": [
    "# your code here\n",
    "\n",
    "# List of list of all words\n",
    "list_of_words = sample[\"text_processed\"].tolist()\n",
    "list_of_words\n",
    "\n",
    "# Create one list of all words\n",
    "bow = []\n",
    "for lists in list_of_words:\n",
    "    for word in lists:\n",
    "        bow.append(word)\n",
    "bow\n",
    "\n",
    "# Create frequency with words\n",
    "freq_dist = FreqDist(bow)\n",
    "top_5000 = freq_dist.most_common(5000)"
   ]
  },
  {
   "cell_type": "code",
   "execution_count": 65,
   "metadata": {},
   "outputs": [],
   "source": [
    "#top_5000"
   ]
  },
  {
   "cell_type": "code",
   "execution_count": 12,
   "metadata": {},
   "outputs": [
    {
     "name": "stdout",
     "output_type": "stream",
     "text": [
      "['go', 'day', 'get', 'wa', 'good', 'thi', 'work', 'like', 'u', 'love', 'got', 'today', 'thank', 'time', 'quot', 'miss', 'lol', 'one', 'want', 'feel', 'know', 'back', 'see', 'think', 'realli', 'amp', 'still', 'night', 'im', 'hope', 'well', 'need', 'make', 'na', 'home', 'ha', 'watch', 'come', 'morn', 'twitter', 'oh', 'new', 'look', 'last', 'much', 'tomorrow', 'great', 'sleep', 'week', 'wait', 'would', 'wish', 'happi', 'bad', 'haha', 'whi', 'tonight', 'sad', 'tri', 'way', 'follow', 'fun', 'sorri', 'hi', 'right', 'friend', 'take', 'veri', 'onli', 'say', 'thing', 'better', 'though', 'bed', 'nice', 'awesom', 'start', 'hate', 'gon', 'guy', 'tweet', 'even', 'ye', 'weekend', 'long', 'let', 'yeah', 'hour', 'could', 'peopl', 'tire', 'life', 'show', 'movi', 'play', 'final', 'call', 'wan', 'dont', 'hey', 'littl', 'school', 'use', 'first', 'everyon', 'lt', 'sick', 'never', 'ok', 'best', 'next', 'cool', 'girl', 'cant', 'done', 'sure', 'readi', 'head', 'soon', 'becaus', 'lot', 'year', 'help', 'plea', 'suck', 'old', 'excit', 'man', 'sound', 'yay', 'alreadi', 'keep', 'read', 'x', 'rain', 'ever', 'bore', 'befor', 'talk', 'hurt', 'enjoy', 'babi', 'give', 'amaz', 'anoth', 'hous', 'went', 'made', 'find', 'ani', 'late', 'leav', 'away', 'guess', 'live', 'summer', 'b', 'check', 'pretti', 'alway', 'ur', 'bit', 'n', 'tell', 'ta', 'glad', 'eat', 'thought', 'hear', 'w', 'mean', 'game', 'actual', 'god', 'two', 'phone', 'also', 'ya', 'omg', 'someon', 'earli', 'someth', 'song', 'mayb', 'big', 'exam', 'parti', 'stuff', 'poor', 'p', 'saw', 'later', 'yet', 'beauti', 'listen', 'found', 'end', 'book', 'boy', 'doe', 'left', 'damn', 'finish', 'th', 'luck', 'plan', 'monday', 'die', 'weather', 'wonder', 'lost', 'pictur', 'world', 'put', 'updat', 'sunday', 'music', 'might', 'aww', 'run', 'r', 'friday', 'mani', 'job', 'birthday', 'sun', 'meet', 'sinc', 'hard', 'seem', 'pic', 'wow', 'lunch', 'studi', 'dinner', 'drive', 'busi', 'cri', 'car', 'may', 'anyth', 'till', 'happen', 'mom', 'must', 'noth', 'woke', 'hot', 'stop', 'total', 'fuck', 'win', 'post', 'yesterday', 'ugh', 'shit', 'stay', 'turn', 'okay', 'said', 'without', 'buy', 'break', 'hair', 'forward', 'almost', 'shop', 'everyth', 'month', 'drink', 'onc', 'caus', 'video', 'idea', 'mine', 'around', 'write', 'move', 'food', 'believ', 'hit', 'crazi', 'dad', 'cute', 'la', 'cold', 'walk', 'dream', 'el', 'funni', 'repli', 'tho', 'famili', 'g', 'blog', 'far', 'kid', 'took', 'clean', 'comput', 'enough', 'welcom', 'sooo', 'train', 'person', 'iphon', 'full', 'worri', 'hang', 'class', 'place', 'room', 'chang', 'stupid', 'gone', 'wake', 'rock', 'pack', 'hug', 'name', 'least', 'xx', 'rememb', 'fan', 'ticket', 'free', 'rest', 'beach', 'gt', 'ah', 'concert', 'heart', 'anyon', 'ill', 'face', 'half', 'fix', 'awww', 'minut', 'aw', 'c', 'sweet', 'cours', 'wrong', 'mind', 'coffe', 'ago', 'anymor', 'ride', 'outsid', 'learn', 'open', 'trip', 'jealou', 'breakfast', 'goodnight', 'ask', 'interest', 'add', 'headach', 'facebook', 'hand', 'cat', 'internet', 'news', 'whole', 'sit', 'hell', 'june', 'btw', 'seen', 'part', 'everi', 'kinda', 'pm', 'danc', 'tv', 'true', 'close', 'problem', 'afternoon', 'fall', 'bought', 'super', 'dear', 'k', 'mother', 'kill', 'eye', 'pick', 'suppos', 'v', 'money', 'probabl', 'e', 'kind', 'anyway', 'test', 'sometim', 'care', 'email', 'drop', 'sister', 'hahaha', 'stuck', 'came', 'awak', 'brother', 'link', 'sign', 'xd', 'text', 'side', 'f', 'asleep', 'photo', 'either', 'answer', 'catch', 'shower', 'hello', 'dog', 'smile', 'co', 'hehe', 'mr', 'st', 'forgot', 'soo', 'page', 'join', 'boo', 'com', 'foot', 'cuz', 'fail', 'saturday', 'tea', 'abl', 'send', 'spend', 'favorit', 'soooo', 'real', 'messag', 'date', 'pain', 'bring', 'le', 'stori', 'sleepi', 'mum', 'reason', 'pay', 'decid', 'broke', 'ppl', 'l', 'min', 'alon', 'wear', 'bout', 'season', 'yea', 'serious', 'relax', 'tour', 'dress', 'dude', 'understand', 'instead', 'graduat', 'site', 'quit', 'offic', 'moment', 'paper', 'visit', 'goin', 'church', 'congrat', 'band', 'award', 'red', 'wed', 'goe', 'past', 'nite', 'second', 'english', 'dead', 'bodi', 'sore', 'cook', 'realiz', 'heard', 'onlin', 'parent', 'didnt', 'mess', 'holiday', 'ad', 'chocol', 'park', 'air', 'revis', 'storm', 'wont', 'high', 'mac', 'citi', 'chanc', 'chat', 'tommcfli', 'coupl', 'j', 'hungri', 'point', 'lame', 'lmao', 'told', 'pool', 'ipod', 'lil', 'perfect', 'set', 'card', 'dm', 'line', 'water', 'taken', 'fast', 'bum', 'yep', 'white', 'support', 'differ', 'hmm', 'leg', 'myspac', 'earlier', 'comment', 'crap', 'town', 'order', 'list', 'download', 'laptop', 'ice', 'agre', 'cut', 'special', 'yr', 'figur', 'togeth', 'offici', 'vote', 'bye', 'xxx', 'flight', 'london', 'question', 'ladi', 'nap', 'cancel', 'ive', 'beat', 'si', 'wors', 'twilight', 'definit', 'mood', 'mileycyru', 'hr', 'til', 'pas', 'lucki', 'tuesday', 'fine', 'voic', 'account', 'store', 'near', 'sunni', 'scare', 'vega', 'due', 'bitch', 'throat', 'celebr', 'worth', 'slow', 'record', 'beer', 'fli', 'da', 'fb', 'mail', 'fell', 'word', 'ddlovato', 'cloth', 'luv', 'save', 'moon', 'ate', 'green', 'bday', 'stress', 'math', 'doesnt', 'sat', 'men', 'proud', 'cream', 'h', 'mtv', 'yummi', 'sunshin', 'film', 'app', 'fml', 'homework', 'whatev', 'idk', 'appl', 'horribl', 'rip', 'wtf', 'lose', 'lay', 'small', 'complet', 'doctor', 'absolut', 'lazi', 'forget', 'sigh', 'speak', 'cousin', 'mad', 'fair', 'upset', 'cake', 'race', 'star', 'thursday', 'rather', 'current', 'nope', 'jonasbroth', 'insid', 'cd', 'possibl', 'hospit', 'age', 'prob', 'depress', 'kick', 'airport', 'bug', 'raini', 'yo', 'present', 'shot', 'club', 'worst', 'ear', 'eh', 'meant', 'huge', 'note', 'gym', 'warm', 'sent', 'broken', 'fact', 'top', 'easi', 'sing', 'juli', 'hotel', 'paint', 'short', 'via', 'addict', 'power', 'weird', 'slept', 'sort', 'window', 'thx', 'upload', 'screen', 'freak', 'number', 'alright', 'peac', 'bbq', 'nd', 'camp', 'share', 'son', 'behind', 'bet', 'uk', 'sim', 'troubl', 'youtub', 'bu', 'father', 'interview', 'ohh', 'taylor', 'joe', 'pop', 'fight', 'websit', 'scari', 'manag', 'vacat', 'spring', 'knew', 'project', 'laugh', 'swim', 'hahah', 'kiss', 'oop', 'except', '�', 'em', 'gosh', 'appar', 'hun', 'light', 'brain', 'impress', 'seb', 'although', 'woo', 'becom', 'hilari', 'piss', 'bag', 'wednesday', 'block', 'chill', 'pink', 'board', 'daughter', 'chicken', 'child', 'fantast', 'load', 'roll', 'jona', 'met', 'babe', 'mention', 'safe', 'tummi', 'blue', 'ahhh', 'design', 'exhaust', 'annoy', 'especi', 'spent', 'jump', 'black', 'notic', 'fire', 'fam', 'angel', 'fit', 'normal', 'bless', 'tast', 'fever', 'somewher', 'doubt', 'shirt', 'stand', 'longer', 'mmm', 'floor', 'dvd', 'felt', 'ooh', 'deserv', 'hangov', '♥', 'joke', 'sweeti', 'gig', 'memori', 'hubbi', 'radio', 'xoxo', 'cross', 'connect', 'remind', 'blast', 'charact', 'ahh', 'disappoint', 'nah', 'case', 'event', 'entir', 'yall', 'david', 'hmmm', 'compani', 'profil', 'heat', 'shoot', 'ahead', 'shout', 'surpris', 'pizza', 'stage', 'bird', 'dr', 'expens', 'deal', 'appreci', 'crash', 'shame', 'pray', 'expect', 'album', 'vid', 'woman', 'singl', 'colleg', 'street', 'four', 'kate', 'empti', 'custom', 'wash', 'hide', 'pc', 'mate', 'nearli', 'wit', 'low', 'topic', 'hannah', 'tear', 'googl', 'front', 'bike', 'team', 'act', 'delay', 'neck', 'fat', 'mile', 'throw', 'sell', 'mommi', 'nail', 'log', 'tweetdeck', 'experi', 'caught', 'awwww', 'glass', 'miley', 'web', 'afraid', 'build', 'donniewahlberg', 'chip', 'paid', 'perform', 'wat', 'usual', 'pre', 'yup', 'matt', 'group', 'travel', 'cheer', 'smell', 'choic', 'ff', 'king', 'ju', 'count', 'sold', 'jonathanrknight', 'fav', 'tom', 'machin', 'sum', 'havent', 'jk', 'nobodi', 'isnt', 'blood', 'finger', 'talent', 'plu', 'festiv', 'xo', 'issu', 'sadli', 'invit', 'footbal', 'etc', 'arriv', 'terribl', 'allow', 'degre', 'exactli', 'servic', 'mini', 'none', 'grow', 'along', 'road', 'futur', 'unfortun', 'apart', 'charg', 'gut', 'garden', 'ach', 'promis', 'alot', 'mobil', 'hahahaha', 'matter', 'followfriday', 'tree', 'convers', 'secret', 'bowl', 'attent', 'releas', 'carri', 'info', 'box', 'taco', 'tattoo', 'york', 'ex', 'begin', 'tune', 'fill', 'session', 'draw', 'mall', 'al', 'wife', 'tweeti', 'sushi', 'grandma', 'danni', 'teeth', 'vip', 'five', 'quiet', 'disney', 'pet', 'couch', 'extrem', 'random', 'slightli', 'episod', 'plane', 'market', 'bb', 'loud', 'congratul', 'energi', 'blame', 'silli', 'cough', 'report', 'goodby', 'wine', 'australia', 'trailer', 'greet', 'spam', 'boyfriend', 'starbuck', 'ball', 'bake', 'shall', 'jay', 'univers', 'seat', 'shoe', 'meal', 'size', 'guitar', 'wast', 'ima', 'thru', 'rd', 'pleasur', 'receiv', 'import', 'rob', 'return', 'click', 'track', 'spain', 'toe', 'hill', 'door', 'extra', 'everyday', 'buddi', 'texa', 'instal', 'inspir', 'nyc', 'bell', 'organ', 'uh', 'id', 'three', 'code', 'forev', 'practic', 'chillin', 'besti', 'imag', 'row', 'edit', 'fish', 'bloodi', 'freez', 'gener', 'delet', 'msn', 'ring', 'bill', 'mari', 'research', 'price', 'ga', 'medium', 'feelin', 'favourit', 'brilliant', 'confus', 'dnt', 'hold', 'anybodi', 'stick', 'jack', 'stomach', 'quickli', 'epic', 'twit', 'imma', 'franc', 'golf', 'girli', 'background', 'middl', 'somebodi', 'arm', 'shock', 'shine', 'french', 'ny', 'camera', '��', 'ground', 'simpl', 'step', 'chees', 'hella', 'doubl', 'tip', 'cup', 'knee', 'jordanknight', 'access', 'gah', 'winter', 'lmfao', 'soccer', 'lie', 'august', 'recommend', 'gift', 'babysit', 'blackberri', 'idiot', 'fresh', 'third', 'cafe', 'often', 'restaur', 'spell', 'confer', 'tha', 'score', 'husband', 'monster', 'burn', 'drama', 'fave', 'color', 'student', 'respons', 'suddenli', 'spot', 'delici', 'bro', 'shut', 'nick', 'clear', 'cooki', 'hoo', 'thanx', 'dentist', 'fri', 'jb', 'sport', 'offer', 'excel', 'sky', 'bath', 'avail', 'prepar', 'robert', 'remov', 'brazil', 'mcfli', 'review', 'clock', 'watchin', 'crappi', 'gorgeou', 'flower', 'bunni', 'player', 'john', 'san', 'limit', 'respond', 'goodmorn', 'breath', 'cloud', 'fault', 'kitchen', 'histori', 'austin', 'appoint', 'trust', 'nothin', 'wii', 'darn', 'traffic', 'badli', 'honey', 'mama', 'sam', 'touch', 'credit', 'coz', 'aussi', 'pix', 'round', 'burnt', 'howev', 'ankl', 'princess', 'boom', 'cover', 'gettin', 'harri', 'search', 'podcast', 'dunno', 'holli', 'strang', 'lone', 'bf', 'swear', 'peep', 'transform', 'sexi', 'hungov', 'loss', 'lord', 'dannymcfli', 'mouth', 'tough', 'nightmar', 'print', 'bar', 'ran', 'pant', 'queen', 'direct', 'young', 'twice', 'match', 'bummer', 'ador', 'copi', 'trend', 'uber', 'realiti', 'pour', 'grey', 'cram', 'law', 'shake', 'tim', 'straight', 'german', 'healthi', 'xox', 'collect', 'woot', 'sf', 'peterfacinelli', 'loo', 'wisdom', 'deadlin', 'continu', 'ahhhh', 'insomnia', 'aint', 'bright', 'rub', 'boat', 'plant', 'eaten', 'form', 'contact', 'fab', 'infect', 'human', 'trek', 'legal', 'cupcak', 'sunburn', 'tan', 'cheap', 'posit', 'liter', 'dark', 'mornin', 'rule', 'workout', 'product', 'ep', 'itali', 'ftw', 'cloudi', 'frustrat', 'flash', 'melbourn', 'client', 'cuddl', 'lake', 'cell', 'everybodi', 'hah', 'jame', 'slowli', 'brown', 'pull', 'settl', 'situat', 'michael', 'oper', 'nooo', 'donut', 'desktop', 'coast', 'ouch', 'drag', 'social', 'toast', 'south', 'marri', 'hunt', 'sux', 'alcohol', 'advic', 'reach', 'dang', 'trent', 'freakin', 'sooooo', 'wet', 'skip', 'gave', 'fabul', 'effect', 'climb', 'bread', 'europ', 'kitti', 'england', 'natur', 'comp', 'grass', 'sa', 'mexico', 'germani', 'seri', 'dave', 'ten', 'bust', 'butterfli', 'view', 'origin', 'yum', 'workin', 'killer', 'butt', 'laker', '♫', 'bff', 'drunk', 'gain', 'pound', 'stream', 'milk', 'ohhh', 'includ', 'lb', 'rate', 'state', 'diver', 'american', 'anytim', 'sen', 'suggest', 'ton', 'kno', 'contest', 'blah', 'grab', 'nervou', 'daddi', 'lack', 'recess', 'countri', 'theme', 'crew', 'style', 'ryan', 'art', 'lesson', 'east', 'center', 'basic', 'yes', 'titl', 'hurri', 'requir', 'beta', 'wrote', 'pair', 'improv', 'kati', 'switch', 'cruis', 'grand', 'bunch', 'rough', 'huh', 'hors', 'seriou', 'tht', 'prefer', 'mike', 'distract', 'bigger', 'older', 'push', 'west', 'besid', 'nut', 'scene', 'bud', 'choos', 'tonit', 'med', 'enter', 'yard', 'area', 'model', 'avoid', 'inde', 'skill', 'weight', 'blow', 'girlfriend', 'geez', 'flu', 'iron', 'bare', 'cali', 'gunna', 'tommorow', 'sea', 'network', 'hd', 'firefox', 'fyi', 'midnight', 'itun', 'marathon', 'bean', 'massag', 'fruit', 'skin', 'hero', 'alarm', 'realis', 'ugli', 'bear', 'error', 'heck', 'dumb', 'success', 'kelli', 'bother', 'peanut', 'dat', 'heyi', 'halo', 'key', 'sex', 'brand', 'hayfev', 'itchi', 'awhil', 'scratch', 'tight', 'treat', 'spoil', 'excus', 'self', 'soul', 'lead', 'prom', 'fellow', 'amber', 'cost', 'exact', 'bang', 'creat', 'chine', 'crowd', 'tabl', 'china', 'schedul', 'balloon', 'member', 'de', 'honestli', 'jon', 'bedtim', 'handl', 'unless', 'magic', 'quick', 'heavi', 'senior', 'clue', 'button', 'tmrw', 'bc', 'grill', 'indoor', 'grr', 'relat', 'wasnt', 'ben', 'whoa', 'florida', 'cinema', 'artist', 'chi', 'puppi', 'version', 'nake', 'upgrad', 'war', 'blip', 'thur', 'i´m', 'biggest', 'given', 'sunglass', 'migrain', 'perfectli', 'space', 'aha', 'wind', 'field', 'garag', 'lyric', 'dalla', 'photoshop', 'massiv', 'fuckin', 'starv', 'public', 'protect', 'monitor', 'yuk', 'rent', 'batteri', 'detail', 'jet', 'accord', 'creativ', 'six', 'comfort', 'channel', 'surgeri', 'tasti', 'strong', 'flip', 'honest', 'thingi', 'justin', 'haircut', 'ship', 'cap', 'twist', 'tech', 'chick', 'bagel', 'chase', 'heheh', 'million', 'piec', 'everywher', 'exchang', 'kobe', 'egg', 'cancer', 'advertis', 'server', 'dot', 'split', 'forum', 'toy', 'grade', 'jordan', 'wave', 'ish', 'ignor', 'amus', 'crave', 'america', 'yahoo', 'seven', 'locat', 'pump', 'diet', 'daniel', 'loser', 'angri', 'headphon', 'warn', 'allergi', 'teach', 'fake', 'comin', 'jam', 'mix', 'poop', 'selenagomez', 'soooooo', 'spanish', 'bay', 'ca', 'kept', 'tini', 'terri', 'accept', 'somehow', 'ali', 'vet', 'bank', 'tweepl', 'steal', 'theyr', 'fridg', 'commerci', 'activ', 'soup', 'retweet', 'au', 'noooooo', 'ell', 'dc', 'teen', 'teddi', 'kevin', 'entertain', 'brought', 'control', 'canada', 'cast', 'ridicul', 'suffer', 'xbox', 'system', 'easier', 'butter', 'atl', 'camper', 'bite', 'rang', 'request', 'curiou', 'nose', 'north', 'woah', 'pie', 'alex', 'johnni', 'noodl', 'passion', 'gfalcon', 'yu', 'promot', 'museum', 'coulda', 'mo', 'snow', 'tweep', 'shitti', 'steve', 'heh', 'electr', 'nation', 'procrastin', 'easter', 'melt', 'chicago', 'gb', 'death', 'sydney', 'fulli', 'teacher', 'ireland', 'dj', 'banksyart', 'pretend', 'hv', 'comedi', 'corner', 'insan', 'main', 'wee', 'nooooo', 'sunbath', 'ruin', 'upon', 'ami', 'est', 'sittin', 'chemistri', 'beyond', 'charli', 'kim', 'lock', 'imagin', 'compar', 'gr', 'joy', 'davidarchi', 'holi', 'happybdaykrisallen', 'punish', 'etern', 'fanci', 'attract', 'karaok', 'vancouv', 'onto', 'couldnt', 'nerd', 'mummi', 'proper', 'sale', 'wall', 'hahahah', 'doc', 'keyboard', 'explain', 'anim', 'jr', 'bun', 'swift', 'india', 'pierc', 'gate', 'boston', 'plenti', 'born', 'western', 'across', 'mon', 'mmmm', 'ash', 'christian', 'mark', 'planet', 'quiz', 'slip', 'everytim', 'xxxx', 'spici', 'yah', 'bo', 'land', 'fashion', 'mario', 'msg', 'compliment', 'contain', 'classic', 'ol', 'orlando', 'hav', 'strawberri', 'defin', 'charger', 'stair', 'lawn', 'grind', 'laundri', 'dollar', 'japan', 'engin', 'skool', 'homi', 'makeup', 'non', 'spammer', 'britney', 'drank', 'pure', 'speed', 'jail', 'belli', 'outta', 'rare', 'geniu', 'attack', 'toward', 'urgh', 'twin', 'doll', 'gmail', 'resist', 'bathroom', 'bos', 'degrassi', 'explod', 'bubbl', 'deliveri', 'snake', 'juic', 'guest', 'wireless', 'languag', 'net', 'known', 'raw', 'purchas', 'gossip', 'refus', 'odd', 'focu', 'txt', 'woken', 'island', 'slap', 'elbow', 'macbook', 'ab', 'stephenfri', 'hyper', 'paul', 'megan', 'wrist', 'pl', 'soft', 'tongu', 'oooh', 'appear', 'jimmi', 'gf', 'di', 'fortun', 'complain', 'correct', 'result', 'dougiemcfli', 'neighbour', 'ranger', 'goal', 'intern', 'snack', 'tooth', 'doin', 'ing', 'aim', 'pin', 'browni', 'ban', 'flat', 'refresh', 'terrifi', 'srri', 'bar�a', 'alic', 'william', 'niec', 'ie', 'rise', 'preview', 'boil', 'chuck', 'kitten', 'daili', 'becam', 'usa', 'regret', 'larg', 'librari', 'mitchel', 'nt', 'secur', 'someday', 'dublin', 'toilet', 'font', 'notif', 'era', 'shoulder', 'jog', 'goodluck', 'momma', 'envi', 'local', 'rainbow', 'vodka', 'station', 'eu', 'wick', 'palm', 'aplusk', 'plug', 'panda', 'awkward', 'plz', 'rush', 'commun', 'repeat', 'conan', 'lookin', 'miser', 'drain', 'potato', 'strike', 'talkin', 'file', 'wise', 'inform', 'ac', 'popcorn', 'eatin', 'dirti', 'attempt', 'ak', 'castl', 'written', 'billi', 'asot', 'candi', 'stone', 'def', 'smart', 'aunt', 'privat', 'tryin', 'sarah', 'boot', 'hung', 'greas', 'cur', 'honor', 'wooooo', 'thumb', 'mia', 'ob', 'wild', 'crack', 'asham', 'hole', 'potter', 'earth', 'rose', 'pari', 'nicol', 'amanda', 'umm', 'health', 'deep', 'desk', 'pow', 'tracecyru', 'daisi', 'basebal', 'assum', 'truck', 'featur', 'hooray', 'bon', 'cherri', 'recov', 'poo', 'depend', 'jake', 'smh', 'uni', 'difficult', 'bom', 'dia', 'ala', 'adventur', 'evri', 'phil', 'demon', 'replac', 'surviv', 'er', 'drum', 'yey', 'yell', 'bone', 'chri', 'bk', 'certainli', 'noooo', 'studio', 'bush', 'freedom', 'shed', 'bottl', 'ughh', 'program', 'dan', 'aka', 'motiv', 'hall', 'ti', 'packag', 'recent', 'regist', 'warp', 'pub', 'friendli', 'gloomi', 'tie', 'actress', 'dizzi', 'cowork', 'nephew', 'upcom', 'biolog', 'motion', 'afterward', 'garbag', 'icecream', 'reject', 'xxxxx', 'kay', 'cutest', 'yaaaay', 'anniversari', 'option', 'blind', 'cam', 'exist', 'ian', 'denver', 'nugget', 'smoke', 'meeee', 'heel', 'carpet', 'action', 'dri', 'nz', 'spark', 'offlin', 'coat', 'woohoo', 'discus', 'physic', 'chem', 'ed', 'dork', 'photograph', 'ty', 'gee', 'scream', 'chew', 'gona', 'serial', 'rich', 'becuz', 'monthli', 'prize', 'snore', 'addit', 'jacket', 'mow', 'thinkin', 'nurs', 'base', 'drove', 'bruno', 'noon', 'shortli', 'type', 'rite', 'forgotten', 'noe', 'jason', 'hockey', 'obvious', 'thu', 'reaction', 'curl', 'singer', 'dammit', 'philip', 'idol', 'morrow', 'clearli', 'platform', 'zoo', 'jazz', 'plurk', 'flood', 'youuu', 'major', 'latest', 'nowher', 'pr', 'appetit', 'wordpress', 'consid', 'sock', 'whenev', 'layin', 'basketbal', 'temp', 'blond', 'statu', 'shatter', 'demi', 'novemb', 'heal', 'tampa', 'speaker', 'ann', 'hat', 'april', 'nsw', 'societi', 'sudden', 'pastor', 'yellow', 'sunburnt', 'jare', 'prayer', 'rid', 'knight', 'accident', 'marley', 'ahaha', 'shape', 'carolina', 'mode', 'drug', 'expir', 'abt', 'grown', 'ski', 'weed', 'atmospher', 'regardless', 'river', 'curli', 'neither', 'reduc', 'truli', 'thankyou', 'lover', 'rhyme', 'level', 'screw', 'dread', 'tix', 'titan', 'happier', 'alyssa', 'milano', 'nkotb', 'competit', 'autumn', 'kan', 'kk', 'grandmoth', 'duti', 'bee', 'devil', 'ham', 'jenn', 'content', 'otherwis', 'poster', 'tee', 'farrah', 'avatar', 'hve', 'borrow', 'atleast', 'gw', 'lo', 'laid', 'concentr', 'escap', 'patient', 'extern', 'assign', 'mm', 'meani', 'leno', 'steph', 'songzyuuup', 'hee', 'campbel', 'fox', 'silenc', 'chilli', 'rachel', 'psh', 'speech', 'incred', 'eww', 'materi', 'havin', 'sob', 'ughhh', 'solv', 'pocket', 'anywher', 'vanilla', 'stock', 'spoke', 'brace', 'ciara', 'nooooooo', 'mitchelmusso', 'gotten', 'trim', 'denis', 'richard', 'naman', 'hunni', 'soooooooo', 'ct', 'polish', 'ass', 'yayyy', 'taylorswift', 'parker', 'user', 'throb', 'naw', 'mag', 'tshirt', 'theater', 'op', 'likey', 'yeh', 'prolli', 'spray', 'swing', 'inbox', 'grace', 'nasti', 'prison', 'stat', 'cod', 'christin', 'grad', 'polic', 'court', 'overnight', 'um', 'cramp', 'heather', 'practis', 'mental', 'wut', 'fold', 'irrit', 'dissapoint', 'q', 'gud', 'tn', 'nc', 'fed', 'task', 'nevermind', 'item', 'mmmmm', 'built', 'failur', 'gun', 'mighti', 'stare', 'streak', 'apolog', 'ashley', 'spencer', 'souljaboytellem', 'struggl', 'grandpar', 'folk', 'fear', 'theori', 'recogn', 'tick', 'noah', 'skinni', 'pill', 'threw', 'balanc', 'express', 'pee', 'pittsburgh', 'jodi', 'remot', 'hook', 'clip', '£', 'bass', 'guilti', 'rainin', 'domain', 'audio', 'bri', 'montana', 'andi', 'reznor', 'sway', 'junk', 'flickr', 'britain', 'piti', 'chart', 'wood', 'weak', 'enemi', 'smith', 'andrew', 'gross', 'tomorow', 'afford', 'signatur', 'mi', 'stephani', 'thunder', 'offens', 'hollywood', 'harder', 'android', 'target', 'phoenix', 'ng', 'shud', 'golden', 'chore', 'skirt', 'debbi', 'mp', 'je', 'burger', 'sheet', 'toni', 'dure', 'waaaay', 'hon', 'hw', 'safari', 'essay', 'wreck', 'lisa', 'prais', 'hay', 'stink', 'venu', 'suit', 'termin', 'buck', 'papa', 'wherev', 'muscl', 'leavin', 'feed', 'presid', 'metro', 'roam', 'backyard', 'ow', 'costco', 'opportun', 'mikey', 'crackberri', 'hack', 'bound', 'shift', 'metal', 'ubuntu', 'kat', 'nighti', 'en', 'jennif', 'parad', 'nxt', 'anticip', 'youth', 'te', 'lightn', 'stitch', 'oo', 'allerg', 'pancak', 'admit', 'toooo', 'cure', 'dirt', 'transfer', 'conflict', 'nom', 'que', 'der', 'imac', 'disappear', 'smoker', 'common', 'chain', 'ditch', 'halfway', 'desper', 'cash', 'hp', 'cheat', 'batman', 'upsid', 'anna', 'it´', 'mission', 'hardli', 'ghost', 'curv', 'newspap', 'indian', 'hood', 'industri', 'champion', 'amsterdam', 'minor', 'tempt', 'mass', 'emili', 'ace', 'purpl', 'janet', 'arrow', 'soak', 'twitpic', 'peel', 'closer', 'rail', 'bt', 'tag', 'ambul', 'andyclemmensen', 'trick', 'suspect', 'yike', 'plain', 'khloekardashian', 'christ', 'ted', 'matthew', 'convent', 'aunti', 'trivia', 'tater', 'vacuum', 'dispos', 'nacho', 'tenni', 'cart', 'digit', 'po', 'appli', 'wth', 'thnk', 'coverag', 'jone', 'bing', 'gear', 'missin', 'tube', 'tutori', 'southern', 'squarespac', 'yg', 'aug', 'statement', 'refer', 'expo', 'meh', 'sorta', 'stoke', 'alien', 'housew', 'vista', 'format', 'destroy', 'shade', 'darker', 'dig', 'hoop', 'alik', 'pen', 'medit', 'piano', 'exercis', 'cricket', 'postpon', 'ebay', 'rice', 'comic', 'grandpa', 'frozen', 'sumthin', 'lvatt', 'wifey', 'sandra', 'happend', 'justad', 'knock', 'goo', 'heaven', 'missxmarisa', 'bat', 'wifi', 'van', 'accent', 'bob', 'gadget', 'multi', 'cop', 'windi', 'srsli', 'tuck', 'needl', 'shoutout', 'drinkin', 'slide', 'sneez', 'makin', 'mc', 'ughhhh', 'va', 'rubbish', 'erin', 'perhap', 'vitamin', 'bueno', 'robot', 'lovey', 'evil', 'insur', 'wana', 'nin', 'wrk', 'mic', 'shave', 'unfollow', 'skype', 'wrap', 'baker', 'varieti', 'hast', 'luckili', 'gluten', 'shaundiviney', 'ar', 'combin', 'tuition', 'sneak', 'premier', 'comparison', 'picnic', 'twitt', 'sugar', 'abil', 'walmart', 'unlik', 'dian', 'wound', 'fr', 'michel', 'regard', 'detect', 'relationship', 'subscrib', 'remain', 'на', 'и', 'reunion', 'gabi', 'retrorewind', 'cone', 'moro', 'zack', 'tomoz', 'amount', 'desert', 'carniv', 'twittervers', 'cheeseburg', 'grrr', 'messeng', 'storag', 'tb', 'chiva', 'reec', 'clone', 'script', 'bitten', 'dani', 'humid', 'amazon', 'paula', 'california', 'bg', 'hike', 'kirsti', 'ryanseacrest', 'meat', 'md', 'layout', 'orang', 'nj', 'iamdiddi', 'awwwww', 'casey', 'aliv', 'mosquito', 'roof', 'playlist', 'longest', 'accid', 'whisper', 'tj', 'driver', 'ili', 'pepper', 'ministri', 'convo', 'doggi', 'aid', 'karen', 'tanner', 'dong', 'homemad', 'edmond', 'flake', 'wendi', 'waitin', 'pressi', 'mock', 'toss', 'flow', 'scienc', 'suppli', 'listenin', 'samantha', 'z', 'burrito', 'thn', 'laura', 'friggin', 'unfair', 'oxford', 'valu', 'sauc', 'protein', 'abov', 'campaign', 'iran', 'fart', 'chile', 'downtown', 'lolz', 'specif', 'bruis', 'asshol', 'musso', 'shaktij', 'medicin', 'lower', 'danger', 'slice', 'wkd', 'tool', 'cruel', 'upper', 'ne', 'district', 'jonaskevin', 'aswel', 'scan', 'thanki', 'frame', 'drummer', 'goodi', 'roadtrip', 'eek', 'separ', 'icon', 'damnit', 'rome', 'lem', 'pride', 'dayi', 'cleaner', 'partner', 'seattl', 'border', 'missgiggli', 'unabl', 'spread', 'wallpap', 'crutch', 'jose', 'frog', 'specialist', 'eve', 'aaah', 'arizona', 'sammi', 'employ', 'washington', 'skate', 'detroit', 'chose', 'weekli', 'submit', 'applic', 'approv', 'inner', 'sew', 'manila', 'poi', 'menu', 'crush', 'integr', 'within', 'lax', 'overcast', 'fl', 'provid', 'loung', 'lovin', 'chair', 'nik', 'dee', 'starter', 'blink', 'magazin', 'hurrah', 'youngq', 'kean', 'singapor', 'frm', 'folder', 'buckhollywood', 'latt', 'urg', 'harley', 'drill', 'celtic', 'faith', 'coke', 'atm', 'rocki', 'flavor', 'uncl', 'volunt', 'mainli', 'maker', 'obama', 'oakland', 'solo', 'banana', 'younger', 'liverpool', 'lip', 'whether', 'battl', 'hid', 'tue', 'voicemail', 'bottom', 'keri', 'tooo', 'paperwork', 'portabl', 'canon', 'groov', 'ch', 'microsoft', 'discount', 'vers', 'ii', 'opposit', 'theatr', 'cud', 'electron', 'devic', 'ordinari', 'involv', 'hmmmm', 'rad', 'postag', 'retard', 'favor', 'angela', 'den', 'christi', 'atlanta', 'tot', 'cub', 'quarantin', 'awh', 'brian', 'doughnut', 'shini', 'truth', 'bradi', 'purpos', 'emo', 'ingredi', 'asap', 'bnp', 'sophi', 'mistak', 'neighbor', 'invinc', 'shampoo', 'jami', 'highli', 'bin', 'repair', 'susan', 'boyl', 'michaela', 'despit', 'subway', 'swine', 'heya', 'nag', 'cosmo', 'stole', 'toywatch', 'madddd', 'prop', 'arsen', 'canal', 'serena', 'admin', 'perri', 'newcastl', 'funer', 'monkey', 'dam', 'strip', 'disabl', 'martini', 'breast', 'sweat', 'thoma', 'seminar', 'yummm', 'dick', 'orient', 'shrimp', 'recip', 'diego', 'worker', 'forecast', 'jess', 'recit', 'soni', 'vine', 'lj', 'poppin', 'surprisingli', 'spider', 'cabl', 'beard', 'musicmonday', 'horror', 'trophi', 'vomit', 'jesu', 'disk', 'antibiot', 'period', 'reward', 'asian', 'opinion', 'comfi', 'convert', 'pad', 'opera', 'se', 'noo', 'slot', 'goooood', 'complic', 'mee', 'simpli', 'mah', 'japanes', 'autograph', 'lush', 'holla', 'urgent', 'sprain', 'howz', 'poem', 'yer', 'heater', 'filter', 'sperm', 'tax', 'funn', 'dope', 'unbear', 'intens', 'stereo', 'defo', 'alley', 'mrskutcher', 'semi', 'medic', 'rude', 'edward', 'zone', 'ou', 'eachoth', 'rib', 'progress', 'predict', 'nois', 'abbi', 'whoever', 'jerk', 'blew', 'wing', 'okayi', 'lane', 'dannywood', 'softwar', 'graham', 'erm', 'gloriou', 'max', 'rene', 'eventu', 'desi', 'jubile', 'rli', 'bugger', 'darlin', 'wide', 'gang', 'steer', 'callin', 'gnight', 'adult', 'publish', 'function', 'santa', 'vampir', 'drown', 'lotsa', 'march', 'sprinkl', 'yei', 'amongst', 'paulmason', 'winner', 'audienc', 'pleasant', 'intro', 'tank', 'playin', 'manda', 'defeat', 'ooo', 'peak', 'condit', 'propos', 'paypal', 'pot', 'thesi', 'izzi', 'sunris', 'fm', 'rosa', 'hater', 'aye', 'confirm', 'muffin', 'rehears', 'bump', 'routin', 'squar', 'grant', 'awsom', 'oral', 'webcam', 'doug', 'browser', 'lauren', 'spongebob', 'icki', 'affili', 'pumpkin', 'blister', 'decent', 'manchest', 'dislik', 'survivor', 'lee', 'evan', 'attend', 'tutor', 'neg', 'paradis', 'famou', 'symbol', 'horrif', 'thrill', 'omfg', 'umbrella', 'blown', 'fwd', 'nicknam', 'jersey', 'coralin', 'crop', 'grrrr', 'gigi', 'sg', 'queue', 'offf', 'cereal', 'almond', 'scale', 'advanc', 'describ', 'spymast', 'tweetin', 'harsh', 'prime', 'zenjar', 'ale', 'worship', 'romant', 'chad', 'henc', 'lea', 'burst', 'tab', 'calendar', 'brit', 'cigarett', 'mostli', 'lift', 'zune', 'len', 'disgust', 'trap', 'waffl', 'spec', 'distant', 'legend', 'portugues', 'sami', 'cav', 'statist', 'sailor', 'jellybean', 'disturb', 'process', 'therapi', 'drip', 'hugh', 'stood', 'esp', 'violat', 'term', 'concern', 'bia', 'sustain', 'todayyy', 'hk', 'birdsong', 'commut', 'effort', 'bgt', 'mexican', 'archi', 'leader', 'highest', 'sour', 'blogger', 'dougi', 'booti', 'betta', 'tile', 'panic', 'holland', '’', 'brush', 'proof', 'vol', 'guantanamo', 'symptom', 'tx', 'diner', 'jenni', 'wouldnt', 'berri', 'roommat', 'canadian', 'trump', 'mmwant', 'letter', 'thnx', 'hurray', 'georgia', 'estim', 'ariel', 'tail', 'tipsi', 'dish', 'feliz', 'closet', 'johncmay', 'netflix', 'tap', 'needa', 'bitter', 'iowa', 'kb', 'gay', 'savagestar', 'aubreyoday', 'reflect', 'tape', 'fiasco', 'liquor', 'jean', 'und', 'sunt', 'kailey', 'maroon', 'instrument', 'ashleytisdal', 'li', 'laughter', 'lilyroseallen', 'ehh', 'mannn', 'rascal', 'norm', 'brew', 'haul', 'graphic', 'dust', 'cuit', 'yank', 'riot', 'middlesbrough', 'algorithm', 'bold', 'pleasee', 'translat', 'preg', 'higher', 'karma', 'pork', 'duncan', 'italian', 'carcass', 'slower', 'breakdown', 'chili', 'tru', 'nba', 'inch', 'staci', 'blush', 'tryingg', 'psycho', 'ohmygod', 'wooh', 'ralli', 'caffein', 'java', 'dunk', 'cara', 'ahhhhhhh', 'woop', 'oz', 'atebit', 'ashleyltmsyf', 'vibe', 'susah', 'soniajaxson', 'sayin', 'pong', 'puerto', 'stickam', 'thick', 'dmb', 'leon', 'ck', 'leaf', 'sinu', 'glastonburi', 'goosebump', 'acoust', 'buse', 'linux', 'ruth', 'grub', 'shrink', 'rt', 'jackalltimelow', 'alexalltimelow', 'sci', 'nishajl', 'modern', 'nod', 'urself', 'sw', 'leshansom', 'popular', 'borderlin', 'ocd', 'doze', 'yest', 'quest', 'polar', 'magda', 'ewww', 'ther', 'tryna', 'yogurt', 'combo', 'salli', 'tomoro', 'ttyl', 'column', 'sword', 'pa', 'produc', 'vj', 'victori', 'outfit', 'cmt', 'majd', 'twitterworld', 'hypervisor', 'virtual', 'labor', 'frend', 'sunlight', 'hammock', 'grate', 'ugggh', 'yippe', 'jackson', 'tyler', 'wid', 'projector', 'rustyrocket', 'brandystripp', 'fulfil', 'eight', 'manhattan', 'reciev', 'geo', 'punk', 'nip', 'cult', 'gordon', 'spi', 'neighborhood', 'overload', 'hayley', 'grammar', 'portland', 'shark', 'bcuz', 'fastest', 'tasha', 'ladyw', 'fool', 'takin', 'jacob', 'gobbl', 'pocki', 'giant', 'encourag', 'cozz', 'zach', 'rawr', 'jessmcflyxxx', 'xoxox', 'giro', 'savag', 'robluket', 'niley', 'duet', 'trib', 'regent', 'mtg', 'rollin', 'melo', 'cleveland', 'charm', 'whee', 'teal', 'eurovis', 'pixel', 'con', 'towel', 'salvag', 'blad', 'renew', 'crystal', 'bahama', 'cheval', 'kchenoweth', 'kc', 'sleeep', 'taiwan', 'abandon', 'attitud', 'smaller', 'ea', 'financ', 'somethin', 'hormon', 'beacus', 'unstabl', 'dec', 'km', 'schon', 'cha', 'mmhmm', 'surround', 'ihop', 'jamba', 'lindsay', 'clever', 'sox', 'instructor', 'surf', 'mysoju', 'belov', 'adopt', 'runner', 'tweenkl', 'habit', 'eff', 'toronto', 'jim', 'newbi', 'cultur', 'lebron', 'raccoon', 'hamster', 'georgiaprincez', 'prix', 'northern', 'birdi', 'jo', 'relay', 'nomadicmatt', 'weeeeeee', 'mapletear', 'snap', 'playground', 'corpor', 'blogspot', 'html', 'lia', 'chan', 'thecomputernerd', 'jensen', 'е', 'нах', 'про�', 'то', 'ми', 'не', 'woooo', 'bull', 'squee', 'graci', 'enuf', 'hop', 'tall', 'aileen', 'joan', 'snarki', 'workkkk', 'iamjonathancook', 'memoris', 'owwww', 'hamilton', 'deck', 'itouch', 'sight', 'brandon', 'joyc', 'hometown', 'comm', 'rell', 'dvr', 'furiou', 'ja', 'du', 'softthistl', 'reallli', 'redw', 'cindi', 'arf', 'bacon', 'digg', 'redo', 'musician', 'profit', 'wheatysgirl', 'stalk', 'confisc', 'brave', 'brute', 'tester', 'php', 'nikki', 'ay', 'dane', 'sentiment', 'nyt', 'default', 'disorient', 'gp', 'mamstaylor', 'sc', 'flaw', 'giveaway', 'wimbledon', 'julia', 'happiest', 'romeo', 'maddi', 'sniffl', 'gibson', 'wate', 'gillianmckeith', 'ashleigh', 'mileycsupport', 'ahhhhh', 'tthe', 'wilson', 'pitch', 'cooper', 'wel', 'alrighti', 'cheryl', 'cole', 'kikirowr', 'sebastian', 'cosmet', 'wolfram', 'poison', 'giggl', 'expertis', 'pcd', 'torilovesbradi', 'ughhhhhh', 'stockholm', 'rescu', 'happpi', 'dodger', 'allll', 'sevi', 'mat', 'easili', 'buggin', 'measur', 'chap', 'casual', 'respect', 'restraint', 'pacif', 'turtl', 'sm', 'illeg', 'xma', 'qe', 'luu', 'erik', 'achi', 'princ', 'nightli', 'cage', 'setup', 'bcz', 'reunit', 'palac', 'wobbl', 'endeavour', 'virginia', 'dhughesi', 'chemic', 'ross', 'goodsex', 'hummingbird', 'oooo', 'ewwwww', 'bra', 'drew', 'liber', 'nih', 'stylez', 'fc', 'barcelona', 'madrid', 'specul', 'gravi', 'stp', 'eminem', 'demo', 'factor', 'ayr', 'deer', 'roast', 'barf', 'adida', 'diggiti', 'tti', 'rpattz', 'saynow', 'recoveri', 'taller', 'pasta', 'steak', 'knw', 'tm', 'sausag', 'swallow', 'beverag', 'oooooo', 'bookmark', 'pillow', 'coursework', 'buffet', 'crook', 'marco', 'frank', 'cape', 'yeahh', 'crow', 'vend', 'miri', 'apt', 'dsbabygirl', 'peter', 'stoneheng', 'grove', 'fawaz', 'thar', 'crispi', 'sir', 'cred', 'ummm', 'gurl', 'solid', 'luishandshak', 'manual', 'jst', 'british', 'mossyr', 'tighten', 'jennamadison', 'ict', 'eeee', 'aah', 'hummu', 'shellykram', 'linkedin', 'youuuu', 'lmaooo', 'beatl', 'badg', 'tripl', 'yanke', 'funki', 'extens', 'whilst', 'becuas', 'hiya', 'shabu', 'tylenol', 'whine', 'dubarrymcfli', 'upstair', 'kart', 'asia', 'pw', 'geek', 'greek', 'salad', 'galleri', 'mourn', 'moth', 'citru', 'lindork', 'pacman', 'michigan', 'philadelphia', 'javaon', 'gavar', 'leftov', 'portal', 'celeb', 'polit', 'widow', 'contempl', 'crank', 'az', 'quilt', 'donat', 'artomat', 'logo', 'vinc', 'flipflop', 'toung', 'joshtast', 'visual', 'stranger', 'asda', 'tint', 'flour', 'courag', 'certain', 'edinburgh', 'ahah', 'extinct', 'oil', 'johnlloydtaylor', 'unhappi', 'cv', 'amberlycollin', 'tommorrow', 'adelaid', 'outtt', 'hai', 'blurri', 'babygirlpari', 'lesley', 'hint', 'backward', 'toooooo', 'wi', 'daaaay', 'whale', 'horn', 'ele', 'merec', 'stamp', 'marin', 'resort', 'slam', 'familiar', 'pt', 'freeway', 'yosid', 'polka', 'lifetim', 'sonni', 'ang', 'mtb', 'command', 'howard', 'dev', 'dessert', 'remix', 'plot', 'daridaridari', 'bisant', 'unlucki', 'optimist', 'mattdavelewi', 'lcaller', 'insomniac', 'insist', 'dare', 'dinosaur', 'yoga', 'tierd', 'directli', 'furnitur', 'queezi', 'reserv', 'hail', 'waterproof', 'ridin', 'bac', 'hen', 'whistl', 'bibl', 'pole', 'kee', 'hoppusday', 'hasnt', 'berlin', 'poopi', 'necessarili', 'jazzi', 'patienc', 'oakbrook', 'argument', 'unbeliev', 'extent', 'kami', 'costa', 'rica', 'eau', 'sweater', 'booz', 'poet', 'boob', 'conf', 'retreat', 'mocha', 'tiredd', 'bulli', 'lit', 'lectur', 'semest', 'wrath', 'elli', 'wknd', 'conscious', 'marnieb', 'ramen', 'tiger', 'bitti', 'jewelri', 'latin', 'nelli', 'cya', 'catherin', 'nareejo', 'alan', 'sleepov', 'kyleleonard', 'roger', 'stolen', 'dean', 'tomato', 'stall', 'cuzz', 'fone', 'sleeeep', 'oar', 'bridg', 'appt', 'effin', 'africa', 'gilmor', 'mj', 'mami', 'loui', 'tran', 'matur', 'prep', 'mend', 'snooz', 'goddess', 'jc', 'janakri', 'therealjordin', 'kenni', 'restor', 'clap', 'yur', 'hilson', 'jeez', 'plate', 'madd', 'meeeee', 'marker', 'rubi', 'squirrel', 'pixar', 'ponder', 'hbu', 'sean', 'forgiv', 'buzz', 'avi', 'admir', 'donna', 'announc', 'emma', 'tsarnick', 'there´', 'steadi', 'billyraycyru', 'shadow', 'vietnames', 'cb', 'markhoppu', 'tesco', 'billion', 'emmacl', 'campu', 'gran', 'cocktail', 'intellig', 'patrol', 'colorado', 'hawaii', 'bleh', 'ukrainian', 'dulc', 'shakespear', 'interfac', 'katyperri', 'decemb', 'mapl', 'ee', 'juri', 'sweeton', 'hale', 'paw', 'partial', 'kip', 'wk', 'fuckciti', 'aa', 'twoop', 'franci', 'zac', 'kirstyrawrr', 'wooow', 'ideal', 'programm', 'jobless', 'internship', 'dinafragola', 'nanni', 'bleach', 'droplet', 'royal', 'tumblar', 'mai', 'independ', 'hollywil', 'receptionist', 'handi', 'emoticon', 'duck', 'sprite', 'bestfriend', 'toll', 'glasgow', 'driven', 'veget', 'stevebuttri', 'bbi', 'octob', 'standard', 'commiss', 'mcdonald', 'oliv', 'serv', 'mirandabuzz', 'od', 'gag', 'pencil', 'bethani', 'pier', 'kyle', 'gush', 'hotdog', 'mandyyjirouxx', 'youu', 'hurti', 'slit', 'zomg', 'male', 'owt', 'diamond', 'johnathan', 'chuf', 'uhm', 'plagu', 'martin', 'per', 'victor', 'cranki', 'septemb', 'wore', 'danish', 'lancast', 'webgirltweet', 'glori', 'leak', 'mysteri', 'regular', 'jun', 'pile', 'meee', 'cue', 'nine', 'sourc', 'elizabeth', 'darci', 'motorbik', 'sooner', 'trainer', 'leo', 'tissu', 'nathanaelaqua', 'diagnos', 'straighten', 'develop', 'bak', 'url', 'haveyouev', 'gladli', 'navi', 'lagi', 'wink', 'equal', 'dint', 'gg', 'greg', 'lemon', 'inter', 'flew', 'meu', 'guykawasaki', 'tara', 'dancer', 'stomachach', 'hilton', 'wuz', 'henri', 'unpack', 'useless', 'modem', 'rafa', 'kylepetti', 'comeback', 'chef', 'kathryn', 'waa', 'portfolio', 'naff', 'narrow', 'toon', 'dragon', 'interrupt', 'engag', 'frost', 'tumor', 'oasi', 'shaolintig', 'shep', 'gamer', 'cp', 'mortal', 'intent', 'whatsoev', 'accomplish', 'readin', 'getn', 'ray', 'gahh', 'hahaa', 'bsb', 'sb', 'ft', 'addthi', 'unit', 'hotpant', 'zombi', 'woow', 'sonic', 'metric', 'jmatuk', 'churchpunkmom', 'christina', 'intend', 'european', 'chrome', 'unexpect', 'stinki', 'assur', 'shhh', 'sang', 'bein', 'usernam', 'fred', 'donnastacey', 'slack', 'administr', 'khan', 'sue', 'atcha', 'nikster', 'yaay', 'pig', 'posh', 'shinjuku', 'wwdc', 'imjstsayin', 'ewwww', 'beleiv', 'excruci', 'liberti', 'pickup', 'aimeemcn', 'creeper', 'selena', 'alli', 'mb', 'horoscop', 'jaw', 'maria', 'bor', 'anong', 'trish', 'pea', 'waw', 'triathlon', 'disast', 'noic', 'bandera', 'martha', 'lovato', 'eleph', 'jammi', 'candl', 'pattinson', 'czech', 'length', 'onion', 'sh', 'chrishasboob', 'wizard', 'thirsti', 'sleepless', 'shoppin', 'fucken', 'rye', 'miami', 'bakar', 'smoothi', 'zzz', 'porch', 'rear', 'rant', 'geneva', 'betti', 'junior', 'ame', 'feylya', 'armi', 'enjoyin', 'diari', 'reveal', 'obviou', 'sowwi', 'nw', 'eyebal', 'methink', 'brooklyn', 'pressur', 'stumbl', 'unlimit', 'behav', 'method', 'kimmi', 'virus', 'convinc', 'lesli', 'tic', 'syarif', 'lenni', 'br', 'pit', 'choc', 'philippin', 'devast', 'unus', 'cubbi', 'wheel', 'offend', 'philosoph', 'author', 'particular', 'implement', 'ik', 'mainten', 'lab', 'blank', 'firewir', 'motor', 'fade', 'cindyleigh', 'thier', 'divorc', 'marriag', 'bearabl', 'loooov', 'mx', 'sp', 'flop', 'dissert', 'biscuit', 'benni', 'hotter', 'swineflu', 'section', 'imjan', 'fragil', 'uncomfort', 'passeng', 'suv', 'une', 'lovelin', 'gentleman', 'cheez', 'disc', 'halloween', 'pom', 'sibl', 'typic', 'inconveni', 'groan', 'emmak', 'bex', 'shopahol', 'dy', 'hollymadison', 'lovee', 'waaay', 'harold', 'classroom', 'urban', 'crc', 'manni', 'tayo', 'thunderstorm', 'keith', 'polo', 'comcast', 'highlight', 'debacl', 'reservoir', 'sd', 'onebreath', 'reschedul', 'moral', 'nu', 'career', 'rep', 'rosi', 'josh', 'primari', 'postsecret', 'bj', 'juan', 'poland', 'femal', 'blahh', 'cl', 'licens', 'stud', 'levi', 'blaze', 'killin', 'afro', 'bald', 'profess', 'paki', 'venic', 'gil', 'workkk', 'rumor', 'organis', 'gown', 'swalkingtre', 'ph', 'kite', 'hosp', 'leh', 'deadli', 'switzerland', 'insight', 'passport', 'rel', 'showcas', 'greatest', 'creepi', 'sudoku', 'looooooong', 'huni', 'deaf', 'contract', 'invest', 'danielfield', 'press', 'yearbook', 'drench', 'hawt', 'diff', 'sole', 'bliss', 'nbc', 'promo', 'pose', 'awwwwwwwww', 'uw', 'blockbust', 'irish', 'basket', '€', 'wil', 'essenti', 'naow', 'tmorello', 'bruce', 'bejewel', 'properli', 'instruct', 'georg', 'ahhhhhh', 'thomasfiss', 'pac', 'sunflow', 'seed', 'staff', 'campsit', 'poker', 'raffl', 'uninstal', 'princeton', 'biblic', 'leah', 'ortho', 'lean', 'subject', 'indulg', 'launch', 'anxiou', 'calm', 'ventur', 'rash', 'chest', 'owner', 'belief', 'yeep', 'fallow', 'pav', 'ovum', 'encod', 'manipul', 'longgg', 'benefit', 'basil', 'mod', 'anz', 'ada', 'beli', 'archuleta', 'satisfi', 'rambl', 'sub', 'tweeter', 'balconi', 'vast', 'fluid', 'geocach', 'mcr', 'mid', 'mt', 'strength', 'stewartkri', 'kri', 'hanna', 'finland', 'disconnect', 'bucket', 'deliv', 'chai', 'garner', 'recept', 'noisi', 'sed', 'lang', 'sleeeeeep', 'threat', 'occur', 'outstand', 'focus', 'confid', 'knack', 'trickiliz', 'adam', 'larri', 'hayl', 'cyru', 'landscap', 'hailston', 'liar', 'login', 'donni', 'crown', 'sweetheart', 'regain', 'schofe', 'fur', 'unemploy', 'auto', 'tsk', 'float', 'att', 'jeezi', 'articl', 'discoveri', 'nat', 'curri', 'debbiefletch', 'debat', 'construct', 'willi', 'tomfelton', 'twitterberri', 'shanghai', 'intak', 'argh', 'rio', 'truegab', 'faster', 'crab', 'collaps', 'shhhh', 'bristol', 'crunch', 'eclips', 'paddl', 'nippl', 'becca', 'cori', 'fantasi', 'withdrawl', 'omgitsafox', 'mel', 'iz', 'glu', 'pinkberri', 'gim', 'rais', 'feeder', 'ap', 'brittani', 'threadless', 'merlin', 'colin', 'hamburg', 'alll', 'checkin', 'attach', 'brunch', 'jordin', 'dsl', 'yaa', 'hype', 'brat', 'dawn', 'cab', 'damag', 'spagetti', 'nearbi', 'wire', 'diaper', 'discov', 'chapter', 'kimobrand', 'kimo', 'domino', 'earphon', 'thang', 'collin', 'wolfboy', 'awk', 'ь', 'nintendo', 'twiiter', 'jpg', 'volleybal', 'mcflyharri', 'unfortunatli', 'coool', 'groggi', 'neeed', 'hei', 'nae', 'lauri', 'factori', 'tr', 'guillermo', 'advantag', 'dachesterfrench', 'nic', 'workshop', 'accur', 'ooooh', 'glinner', 'captur', 'hollyoak', 'din', 'currenc', 'overflow', 'tgif', 'donkey', 'kong', 'colour', 'formula', 'espn', 'jessemccartney', 'address', 'joeymcintyr', 'velvet', 'owe', 'mous', 'kamuli', 'wbu', 'duke', 'bladder', 'loop', 'nada', 'softbal', 'slut', 'varsiti', 'gabe', 'experienc', 'prawn', 'madra', 'darl', 'wouldv', 'walter', 'whoo', 'brill', 'profession', 'master', 'diploma', 'stephen', 'sever', 'aaahhh', 'patch', 'tfg', 'havnt', 'consum', 'mug', 'chirp', 'photographi', 'feedback', 'thesupergirl', 'ratti', 'biatch', 'bastard', 'yasexi', 'parkway', 'cygwin', 'taker', 'vicki', 'soda', 'complaint', 'pff', 'grew', 'wale', 'fawcett', 'ithaca', 'waaaaay', 'hq', 'cobra', 'slipper', 'gospel', 'oct', 'silverston', 'belt', 'tower', 'resum', 'litter', 'zachari', 'duo', 'mg', 'lingo', 'absenc', 'soap', 'naww', 'roar', 'liz', 'alert', 'sho', 'earn', 'mechan', 'rabbit', 'lash', 'goob', 'guyz', 'enigma', 'fairi', 'kendal', 'plese', 'hbo', 'robster', 'alllll', 'joolzgirl', 'ubertwitt', 'munch', 'buat', 'stuffi', 'string', 'jeg', '☆', 'tournament', 'wallet', 'mesh', 'tlk', 'oj', 'yayyyi', 'chao', 'automat', 'anatomi', 'verwon', 'pattinsonrobt', 'cellphon', 'display', 'weigh', 'hardcor', 'satellit', 'guitarist', 'crisi', 'fianc', 'tessmorri', 'princesssuperc', 'puke', 'lori', 'sl', 'lovi', 'summeri', 'unrel', 'jelli', 'voter', 'smash', 'om', 'sidney', 'wakey', 'veronica', 'earthquak', 'larissa', 'audit', 'rape', 'springlamb', 'twinkiechan', 'yuck', 'rum', 'lah', 'russel', 'cpw', 'sprout', 'cesar', 'lotto', 'variou', 'lemonad', 'rat', 'path', 'calcul', 'bleurgh', 'vb', 'cu', 'understood', 'silk', 'comedyqueen', 'ram', 'tiz', 'twittin', 'deepli', 'tiamowri', 'anonym', 'consequ', 'lambert', 'impos', 'cycl', 'mindset', 'charlottesvil', 'smtp', 'yawn', 'gather', 'apach', 'theellenshow', 'jackman', 'pathet', 'kelsey', 'tweak', 'hardwar', 'donnelli', 'central', 'leagu', 'acount', 'yang', 'lobster', 'beg', 'wen', 'boredom', 'leather', 'miranda', 'writer', 'sista', 'techniqu', 'petersburg', 'blanket', 'stump', 'intrigu', 'circl', 'argu', 'coldplay', 'dime', 'kiddo', 'lohasforum', 'chweek', 'sidekick', 'viru', 'jade', 'impala', 'wheat', 'owl', 'walkin', 'wheati', 'imposit', 'twitterfon', 'jj', 'ghostbust', 'technic', 'dk', 'yayi', 'ryantaylor', 'treasur', 'delhi', 'muggi', 'lancearmstrong', 'lastpass', 'coo', 'ijustin', 'chainsaw', 'bst', 'aaroncart', 'torchwood', 'compos', 'affect', 'bento', 'emerg', 'swatter', 'congest', 'remors', 'unwel', 'logic', 'hotmail', 'davi', 'fizzlew', 'gal', 'aerosmith', 'overcom', 'omnifocu', 'donald', 'tackl', 'childhood', 'lunchtim', 'swap', 'neverrrr', 'tivo', 'airlin', 'wardrob', 'wonka', 'chelsea', 'crisp', 'tarot', 'cow', 'excelent', 'tailgat', 'coin', 'muse', 'desir', 'amiemccarron', 'dabk', 'relief', 'await', 'מהשינה', 'ל�', 'jacki', 'bounc', 'pyramid', 'ginger', 'chin', 'dina', 'core', 'ni', 'pledg', 'swell', 'laryng', 'godrock', 'thetingt', 'merit', 'dnw', 'talib', 'kweli', 'tek', 'lupe', 'grea', 'fyrret', 'utnil', 'sfarsit', 'zi', 'abia', 'timp', 'intreb', 'emt', 'wendveronica', 'hanaispoca', 'alllllllllll', 'alec', 'baf', 'joichua', 'lisnin', 'buuuuurn', 'charleston', 'debruyndesign', 'realtor', 'mommabat', 'lonja', 'cjpoll', 'gpa', 'byu', 'denissahadi', 'hahahahahha', 'hehehehh', 'prank', 'cane', 'raleigh', 'youngsinick', 'msconfid', 'buis', 'sasamair', 'marcmazauska', 'sorryy', 'februari', 'danabrunetti', 'millenium', 'falcon', 'botcon', 'pasedena', 'blonder', 'minceyfresh', 'adklfja', 'stilll', 'domin', 'trix', 'delight', 'mariosoultruth', 'banga', 'ballad', 'hott', 'sarahlovesmctom', 'playgroup', 'wd', 'jakk', 'jentin', 'dennismon', 'bleep', 'rolflolmao', 'pohkeyx', 'vivadixi', 'yuba', 'alena', 'mysticfeari', 'nkotbbarbi', 'themark', 'thta', 'gld', 'woahitssarah', 'assassin', 'creed', 'priddycr', 'superhero', 'nobodylkl', 'hopeinhel', 'kngen', 'kmu', 'nie', 'kdtwtr', 'aaawww', 'halpal', 'haaal', 'wanst', 'cum', 'tenderheart', 'breezi', 'incrediblestev', 'mattstevensloop', 'elia', 'coca', 'cola', 'shizz', 'takinakab', 'jasminebarton', 'xt', 'sarahslean', 'btn', 'siriuslyheath', 'omf', 'splint', 'cope', 'vdodgi', 'cheesivor', 'caseycakessxoxo', 'eggfac', 'rygledhil', 'hahahha', 'katherin', 'teammat', 'randomnumb', 'gng', 'mitp', 'deannelima', 'christma', 'groovecandi', 'omgitismanda', 'datelin', 'caritherag', 'ynnie', 'peek', 'leightonmarissa', 'gigandet', 'topsyuk', 'foe', 'yeahhh', 'drt', 'adamgay', 'rosaria', 'hostess', 'harki', 'beret', 'carradin', 'sovereignradio', 'mantegurl', 'keremk', 'centuri', 'renaedeliz', 'miscarriag', 'cookoff', 'bington', 'aliceaguera', 'yun', 'shortt', 'sryy', 'tdi', 'senci', 'tapi', 'gak', 'lama', 'masi', 'sakit', 'kakinya', 'cium', 'duluuu', 'playoff', 'bol', 'amshowen', 'harttwohart', 'daid', 'piperspickstv', 'lui', 'miguel', 'inkedveggi', 'fken', 'fkkk', 'lc', 'manti', 'reemerband', 'daveeeeeeeeeeeeeeeeeeeeeey', 'uuuu', 'attabeira', 'addleri', 'jfavreau', 'kicker', 'tofu', 'flightattdntjen', 'ooth', 'biggbybob', 'capitol', 'dwighthoward', 'nina', 'perci', 'jacson', 'olympian', 'twilightcast', 'twilightfan', 'eclecticbeautyy', 'dominiquek', 'downhom', 'alabama', 'cookin', 'adelemcalear', 'pjama', 'weetabix', 'ultim', 'suncream', 'faint', 'echa', 'lemot', 'abi', 'kebanyakan', 'vent', 'cambria', 'everyh', 'centainli', 'ping', 'beth', 'rico', 'mizricci', 'mutual', 'ging', 'mothbal', 'facebookfail', 'jesusacevedo', 'dibsdaili', 'kiewjfnfm', 'huladol', 'gota', 'cernest', 'huuuuug', 'clover', 'porridg', 'huhuuhuhu', 'knebworth', 'relentless', 'allreadi', 'ialejandro', 'msixpackab', 'bsmouti', 'abbaaayi', 'rachaeldunlop', 'danielreardon', 'occassion', 'lycra', 'headband', 'trader', 'vegitaybl', 'miszmari', 'rootkit', 'rattlesnak', 'larisabelliveau', 'mcvalu', 'mcdelux', 'mmmmmm', 'theatt', 'stretch', 'rendal', 'restrnt', 'folllow', 'mathiel', 'fajota', 'jhsti', 'phonecal', 'crysi', 'beara', 'ammr', 'kaasims', 'gotcha', 'lexyyi', 'gcrush', 'zackalltimelow', 'riandawson', 'carmensandeago', 'goocta', 'fi', 'sausilito', 'wannab', 'phd', 'jhybe', 'nuggetisland', 'hussam', 'harvest', 'rajskub', 'petewentz', 'pete', 'askseesm', 'jaqston', 'karmasherb', 'helpbusi', 'nyproperti', 'witch', 'nikkiwood', 'pace', 'quesadilla', 'justinhartman', 'indefinit', 'blazin', 'bistrothequ', 'tishtashtoy', 'metabol', 'danradcliff', 'elys', 'msalonen', 'gooooooooooood', 'crosstown', 'flaxxxen', 'centiped', 'pfff', 'causeperfect', 'antvern', 'vo', 'babyjsmom', 'charlottespeech', 'stremeski', 'aussiebobi', 'krediblealert', 'tomtpc', 'enjoyinq', 'medellin', 'chrisla', 'brighthous', 'lifescript']\n",
      "[850, 730, 693, 643, 620, 586, 576, 510, 498, 494, 452, 425, 418, 405, 394, 378, 376, 367, 352, 347, 333, 331, 326, 318, 316, 313, 312, 301, 300, 294, 269, 267, 266, 256, 256, 254, 254, 250, 249, 244, 244, 242, 235, 232, 226, 223, 209, 202, 200, 188, 187, 186, 185, 180, 178, 176, 175, 174, 170, 170, 170, 167, 167, 165, 164, 164, 161, 160, 160, 158, 155, 153, 152, 150, 150, 148, 142, 141, 135, 135, 134, 132, 132, 131, 131, 128, 127, 126, 123, 123, 121, 121, 120, 120, 119, 117, 116, 115, 113, 112, 111, 111, 111, 109, 108, 108, 108, 108, 108, 105, 104, 103, 101, 101, 101, 100, 98, 98, 98, 98, 97, 96, 96, 96, 95, 94, 94, 91, 91, 89, 89, 89, 89, 88, 88, 87, 86, 86, 86, 84, 84, 83, 83, 83, 83, 82, 82, 82, 82, 81, 80, 80, 80, 80, 79, 79, 78, 78, 78, 77, 77, 77, 75, 75, 75, 75, 75, 75, 74, 74, 74, 73, 73, 72, 72, 72, 72, 71, 71, 71, 71, 70, 70, 70, 70, 70, 70, 70, 69, 68, 68, 67, 67, 67, 66, 66, 66, 65, 65, 65, 65, 65, 64, 64, 63, 63, 63, 62, 62, 62, 61, 61, 61, 61, 61, 60, 60, 60, 60, 60, 60, 60, 59, 59, 59, 59, 58, 58, 58, 58, 58, 57, 57, 57, 55, 55, 55, 54, 54, 54, 54, 53, 53, 53, 53, 53, 52, 52, 52, 52, 52, 52, 52, 51, 51, 51, 50, 50, 50, 50, 50, 50, 49, 49, 49, 49, 49, 49, 49, 49, 49, 49, 49, 48, 48, 48, 48, 48, 47, 47, 47, 47, 47, 46, 46, 46, 46, 46, 46, 45, 45, 45, 45, 45, 44, 44, 44, 44, 44, 44, 43, 43, 43, 43, 43, 43, 42, 42, 42, 42, 42, 42, 42, 42, 42, 41, 41, 41, 41, 41, 40, 40, 40, 40, 40, 40, 40, 40, 39, 39, 39, 39, 39, 39, 39, 39, 38, 38, 38, 38, 38, 38, 37, 37, 37, 37, 37, 37, 37, 36, 36, 36, 36, 36, 36, 36, 36, 35, 35, 35, 35, 35, 35, 35, 35, 35, 35, 35, 35, 34, 34, 34, 34, 34, 34, 34, 34, 34, 34, 34, 33, 33, 33, 33, 33, 33, 33, 33, 33, 33, 33, 33, 33, 33, 33, 33, 33, 33, 33, 32, 32, 32, 32, 32, 32, 32, 32, 32, 32, 32, 32, 32, 31, 31, 31, 31, 31, 31, 31, 31, 31, 31, 31, 31, 30, 30, 30, 30, 30, 30, 30, 30, 30, 30, 30, 30, 30, 29, 29, 29, 29, 29, 29, 29, 29, 29, 29, 29, 29, 28, 28, 28, 28, 28, 28, 28, 27, 27, 27, 27, 27, 27, 27, 27, 27, 27, 27, 27, 27, 27, 27, 27, 27, 27, 27, 27, 27, 27, 26, 26, 26, 26, 26, 26, 26, 26, 26, 26, 26, 26, 26, 25, 25, 25, 25, 25, 25, 25, 25, 25, 25, 25, 25, 25, 25, 25, 24, 24, 24, 24, 24, 24, 24, 24, 24, 24, 24, 24, 24, 24, 24, 24, 24, 24, 24, 24, 24, 23, 23, 23, 23, 23, 23, 23, 23, 23, 23, 23, 23, 23, 23, 23, 23, 22, 22, 22, 22, 22, 22, 22, 22, 22, 22, 22, 22, 22, 22, 22, 22, 22, 22, 22, 22, 22, 22, 22, 22, 22, 22, 22, 22, 22, 22, 21, 21, 21, 21, 21, 21, 21, 21, 21, 21, 21, 21, 21, 21, 21, 20, 20, 20, 20, 20, 20, 20, 20, 20, 20, 20, 20, 20, 20, 20, 20, 20, 20, 20, 20, 20, 20, 19, 19, 19, 19, 19, 19, 19, 19, 19, 19, 19, 19, 19, 19, 19, 19, 19, 19, 19, 19, 19, 19, 19, 19, 19, 19, 19, 19, 18, 18, 18, 18, 18, 18, 18, 18, 18, 18, 18, 18, 18, 18, 18, 18, 18, 18, 18, 18, 18, 18, 18, 18, 18, 18, 18, 18, 18, 18, 18, 18, 18, 18, 18, 18, 18, 18, 17, 17, 17, 17, 17, 17, 17, 17, 17, 17, 17, 17, 17, 17, 17, 17, 17, 17, 17, 17, 17, 17, 17, 17, 17, 17, 17, 17, 17, 17, 17, 17, 17, 17, 16, 16, 16, 16, 16, 16, 16, 16, 16, 16, 16, 16, 16, 16, 16, 16, 16, 16, 16, 16, 16, 16, 16, 16, 16, 16, 16, 16, 16, 16, 16, 16, 16, 16, 15, 15, 15, 15, 15, 15, 15, 15, 15, 15, 15, 15, 15, 15, 15, 15, 15, 15, 15, 15, 15, 15, 15, 15, 15, 15, 15, 15, 15, 15, 15, 15, 15, 15, 15, 15, 15, 15, 15, 15, 15, 15, 15, 15, 15, 14, 14, 14, 14, 14, 14, 14, 14, 14, 14, 14, 14, 14, 14, 14, 14, 14, 14, 14, 14, 14, 14, 14, 14, 14, 14, 14, 14, 14, 14, 14, 14, 14, 14, 14, 14, 14, 14, 14, 14, 14, 14, 14, 13, 13, 13, 13, 13, 13, 13, 13, 13, 13, 13, 13, 13, 13, 13, 13, 13, 13, 13, 13, 13, 13, 13, 13, 13, 13, 13, 13, 13, 13, 13, 13, 13, 13, 13, 13, 13, 13, 13, 13, 13, 13, 13, 13, 13, 13, 13, 13, 12, 12, 12, 12, 12, 12, 12, 12, 12, 12, 12, 12, 12, 12, 12, 12, 12, 12, 12, 12, 12, 12, 12, 12, 12, 12, 12, 12, 12, 12, 12, 12, 12, 12, 12, 12, 12, 12, 12, 12, 12, 12, 12, 12, 12, 12, 12, 12, 12, 12, 12, 12, 12, 12, 12, 12, 12, 12, 12, 12, 12, 12, 12, 11, 11, 11, 11, 11, 11, 11, 11, 11, 11, 11, 11, 11, 11, 11, 11, 11, 11, 11, 11, 11, 11, 11, 11, 11, 11, 11, 11, 11, 11, 11, 11, 11, 11, 11, 11, 11, 11, 11, 11, 11, 11, 11, 11, 11, 11, 11, 11, 11, 11, 11, 11, 11, 11, 11, 11, 11, 11, 11, 11, 11, 11, 11, 11, 11, 11, 11, 11, 11, 10, 10, 10, 10, 10, 10, 10, 10, 10, 10, 10, 10, 10, 10, 10, 10, 10, 10, 10, 10, 10, 10, 10, 10, 10, 10, 10, 10, 10, 10, 10, 10, 10, 10, 10, 10, 10, 10, 10, 10, 10, 10, 10, 10, 10, 10, 10, 10, 10, 10, 10, 10, 10, 10, 10, 10, 10, 10, 10, 10, 10, 10, 10, 10, 10, 10, 10, 10, 10, 10, 10, 10, 10, 10, 10, 9, 9, 9, 9, 9, 9, 9, 9, 9, 9, 9, 9, 9, 9, 9, 9, 9, 9, 9, 9, 9, 9, 9, 9, 9, 9, 9, 9, 9, 9, 9, 9, 9, 9, 9, 9, 9, 9, 9, 9, 9, 9, 9, 9, 9, 9, 9, 9, 9, 9, 9, 9, 9, 9, 9, 9, 9, 9, 9, 9, 9, 9, 9, 9, 9, 9, 9, 9, 9, 9, 9, 9, 9, 9, 9, 9, 9, 9, 9, 9, 9, 9, 9, 9, 9, 9, 9, 9, 9, 9, 9, 9, 9, 9, 9, 9, 9, 9, 9, 9, 9, 9, 8, 8, 8, 8, 8, 8, 8, 8, 8, 8, 8, 8, 8, 8, 8, 8, 8, 8, 8, 8, 8, 8, 8, 8, 8, 8, 8, 8, 8, 8, 8, 8, 8, 8, 8, 8, 8, 8, 8, 8, 8, 8, 8, 8, 8, 8, 8, 8, 8, 8, 8, 8, 8, 8, 8, 8, 8, 8, 8, 8, 8, 8, 8, 8, 8, 8, 8, 8, 8, 8, 8, 8, 8, 8, 8, 8, 8, 8, 8, 8, 8, 8, 8, 8, 8, 8, 8, 8, 8, 8, 8, 8, 8, 8, 8, 8, 8, 8, 8, 8, 8, 8, 8, 8, 8, 8, 8, 8, 8, 8, 8, 8, 8, 8, 8, 8, 8, 8, 8, 8, 8, 8, 8, 8, 7, 7, 7, 7, 7, 7, 7, 7, 7, 7, 7, 7, 7, 7, 7, 7, 7, 7, 7, 7, 7, 7, 7, 7, 7, 7, 7, 7, 7, 7, 7, 7, 7, 7, 7, 7, 7, 7, 7, 7, 7, 7, 7, 7, 7, 7, 7, 7, 7, 7, 7, 7, 7, 7, 7, 7, 7, 7, 7, 7, 7, 7, 7, 7, 7, 7, 7, 7, 7, 7, 7, 7, 7, 7, 7, 7, 7, 7, 7, 7, 7, 7, 7, 7, 7, 7, 7, 7, 7, 7, 7, 7, 7, 7, 7, 7, 7, 7, 7, 7, 7, 7, 7, 7, 7, 7, 7, 7, 7, 7, 7, 7, 7, 7, 7, 7, 7, 7, 7, 7, 7, 7, 7, 7, 7, 7, 7, 7, 7, 7, 7, 7, 7, 7, 7, 7, 7, 7, 7, 7, 7, 7, 7, 7, 7, 7, 7, 7, 7, 7, 7, 7, 7, 7, 7, 7, 7, 7, 7, 7, 7, 7, 7, 7, 7, 7, 7, 6, 6, 6, 6, 6, 6, 6, 6, 6, 6, 6, 6, 6, 6, 6, 6, 6, 6, 6, 6, 6, 6, 6, 6, 6, 6, 6, 6, 6, 6, 6, 6, 6, 6, 6, 6, 6, 6, 6, 6, 6, 6, 6, 6, 6, 6, 6, 6, 6, 6, 6, 6, 6, 6, 6, 6, 6, 6, 6, 6, 6, 6, 6, 6, 6, 6, 6, 6, 6, 6, 6, 6, 6, 6, 6, 6, 6, 6, 6, 6, 6, 6, 6, 6, 6, 6, 6, 6, 6, 6, 6, 6, 6, 6, 6, 6, 6, 6, 6, 6, 6, 6, 6, 6, 6, 6, 6, 6, 6, 6, 6, 6, 6, 6, 6, 6, 6, 6, 6, 6, 6, 6, 6, 6, 6, 6, 6, 6, 6, 6, 6, 6, 6, 6, 6, 6, 6, 6, 6, 6, 6, 6, 6, 6, 6, 6, 6, 6, 6, 6, 6, 6, 6, 6, 6, 6, 6, 6, 6, 6, 6, 6, 6, 6, 6, 6, 6, 6, 6, 6, 6, 6, 6, 6, 6, 6, 6, 6, 6, 6, 6, 6, 6, 6, 6, 6, 6, 6, 6, 6, 6, 6, 6, 6, 6, 6, 6, 6, 6, 6, 6, 6, 6, 6, 6, 6, 6, 6, 5, 5, 5, 5, 5, 5, 5, 5, 5, 5, 5, 5, 5, 5, 5, 5, 5, 5, 5, 5, 5, 5, 5, 5, 5, 5, 5, 5, 5, 5, 5, 5, 5, 5, 5, 5, 5, 5, 5, 5, 5, 5, 5, 5, 5, 5, 5, 5, 5, 5, 5, 5, 5, 5, 5, 5, 5, 5, 5, 5, 5, 5, 5, 5, 5, 5, 5, 5, 5, 5, 5, 5, 5, 5, 5, 5, 5, 5, 5, 5, 5, 5, 5, 5, 5, 5, 5, 5, 5, 5, 5, 5, 5, 5, 5, 5, 5, 5, 5, 5, 5, 5, 5, 5, 5, 5, 5, 5, 5, 5, 5, 5, 5, 5, 5, 5, 5, 5, 5, 5, 5, 5, 5, 5, 5, 5, 5, 5, 5, 5, 5, 5, 5, 5, 5, 5, 5, 5, 5, 5, 5, 5, 5, 5, 5, 5, 5, 5, 5, 5, 5, 5, 5, 5, 5, 5, 5, 5, 5, 5, 5, 5, 5, 5, 5, 5, 5, 5, 5, 5, 5, 5, 5, 5, 5, 5, 5, 5, 5, 5, 5, 5, 5, 5, 5, 5, 5, 5, 5, 5, 5, 5, 5, 5, 5, 5, 5, 5, 5, 5, 5, 5, 5, 5, 5, 5, 5, 5, 5, 5, 5, 5, 5, 5, 5, 5, 5, 5, 5, 5, 5, 5, 5, 5, 5, 5, 5, 5, 5, 5, 5, 5, 5, 5, 5, 5, 5, 5, 5, 5, 5, 5, 5, 5, 5, 5, 5, 5, 5, 5, 5, 5, 5, 5, 5, 5, 5, 5, 5, 5, 5, 5, 5, 5, 5, 5, 5, 5, 5, 5, 5, 5, 5, 5, 5, 5, 5, 5, 5, 5, 5, 5, 5, 5, 5, 5, 5, 4, 4, 4, 4, 4, 4, 4, 4, 4, 4, 4, 4, 4, 4, 4, 4, 4, 4, 4, 4, 4, 4, 4, 4, 4, 4, 4, 4, 4, 4, 4, 4, 4, 4, 4, 4, 4, 4, 4, 4, 4, 4, 4, 4, 4, 4, 4, 4, 4, 4, 4, 4, 4, 4, 4, 4, 4, 4, 4, 4, 4, 4, 4, 4, 4, 4, 4, 4, 4, 4, 4, 4, 4, 4, 4, 4, 4, 4, 4, 4, 4, 4, 4, 4, 4, 4, 4, 4, 4, 4, 4, 4, 4, 4, 4, 4, 4, 4, 4, 4, 4, 4, 4, 4, 4, 4, 4, 4, 4, 4, 4, 4, 4, 4, 4, 4, 4, 4, 4, 4, 4, 4, 4, 4, 4, 4, 4, 4, 4, 4, 4, 4, 4, 4, 4, 4, 4, 4, 4, 4, 4, 4, 4, 4, 4, 4, 4, 4, 4, 4, 4, 4, 4, 4, 4, 4, 4, 4, 4, 4, 4, 4, 4, 4, 4, 4, 4, 4, 4, 4, 4, 4, 4, 4, 4, 4, 4, 4, 4, 4, 4, 4, 4, 4, 4, 4, 4, 4, 4, 4, 4, 4, 4, 4, 4, 4, 4, 4, 4, 4, 4, 4, 4, 4, 4, 4, 4, 4, 4, 4, 4, 4, 4, 4, 4, 4, 4, 4, 4, 4, 4, 4, 4, 4, 4, 4, 4, 4, 4, 4, 4, 4, 4, 4, 4, 4, 4, 4, 4, 4, 4, 4, 4, 4, 4, 4, 4, 4, 4, 4, 4, 4, 4, 4, 4, 4, 4, 4, 4, 4, 4, 4, 4, 4, 4, 4, 4, 4, 4, 4, 4, 4, 4, 4, 4, 4, 4, 4, 4, 4, 4, 4, 4, 4, 4, 4, 4, 4, 4, 4, 4, 4, 4, 4, 4, 4, 4, 4, 4, 4, 4, 4, 4, 4, 4, 4, 4, 4, 4, 4, 4, 4, 4, 4, 4, 4, 4, 4, 4, 4, 4, 4, 4, 4, 4, 4, 4, 4, 4, 4, 4, 4, 4, 4, 4, 4, 4, 4, 4, 4, 4, 4, 4, 4, 4, 4, 4, 4, 4, 4, 4, 4, 4, 4, 4, 4, 4, 4, 4, 4, 4, 4, 4, 4, 4, 4, 4, 4, 4, 4, 4, 4, 4, 4, 4, 4, 4, 4, 4, 4, 4, 4, 4, 4, 4, 4, 4, 4, 4, 4, 4, 4, 4, 4, 4, 4, 4, 4, 4, 4, 4, 4, 4, 4, 4, 4, 4, 4, 4, 4, 4, 4, 4, 4, 4, 4, 4, 4, 4, 4, 4, 4, 4, 4, 4, 4, 4, 4, 4, 4, 4, 4, 4, 4, 4, 4, 4, 4, 3, 3, 3, 3, 3, 3, 3, 3, 3, 3, 3, 3, 3, 3, 3, 3, 3, 3, 3, 3, 3, 3, 3, 3, 3, 3, 3, 3, 3, 3, 3, 3, 3, 3, 3, 3, 3, 3, 3, 3, 3, 3, 3, 3, 3, 3, 3, 3, 3, 3, 3, 3, 3, 3, 3, 3, 3, 3, 3, 3, 3, 3, 3, 3, 3, 3, 3, 3, 3, 3, 3, 3, 3, 3, 3, 3, 3, 3, 3, 3, 3, 3, 3, 3, 3, 3, 3, 3, 3, 3, 3, 3, 3, 3, 3, 3, 3, 3, 3, 3, 3, 3, 3, 3, 3, 3, 3, 3, 3, 3, 3, 3, 3, 3, 3, 3, 3, 3, 3, 3, 3, 3, 3, 3, 3, 3, 3, 3, 3, 3, 3, 3, 3, 3, 3, 3, 3, 3, 3, 3, 3, 3, 3, 3, 3, 3, 3, 3, 3, 3, 3, 3, 3, 3, 3, 3, 3, 3, 3, 3, 3, 3, 3, 3, 3, 3, 3, 3, 3, 3, 3, 3, 3, 3, 3, 3, 3, 3, 3, 3, 3, 3, 3, 3, 3, 3, 3, 3, 3, 3, 3, 3, 3, 3, 3, 3, 3, 3, 3, 3, 3, 3, 3, 3, 3, 3, 3, 3, 3, 3, 3, 3, 3, 3, 3, 3, 3, 3, 3, 3, 3, 3, 3, 3, 3, 3, 3, 3, 3, 3, 3, 3, 3, 3, 3, 3, 3, 3, 3, 3, 3, 3, 3, 3, 3, 3, 3, 3, 3, 3, 3, 3, 3, 3, 3, 3, 3, 3, 3, 3, 3, 3, 3, 3, 3, 3, 3, 3, 3, 3, 3, 3, 3, 3, 3, 3, 3, 3, 3, 3, 3, 3, 3, 3, 3, 3, 3, 3, 3, 3, 3, 3, 3, 3, 3, 3, 3, 3, 3, 3, 3, 3, 3, 3, 3, 3, 3, 3, 3, 3, 3, 3, 3, 3, 3, 3, 3, 3, 3, 3, 3, 3, 3, 3, 3, 3, 3, 3, 3, 3, 3, 3, 3, 3, 3, 3, 3, 3, 3, 3, 3, 3, 3, 3, 3, 3, 3, 3, 3, 3, 3, 3, 3, 3, 3, 3, 3, 3, 3, 3, 3, 3, 3, 3, 3, 3, 3, 3, 3, 3, 3, 3, 3, 3, 3, 3, 3, 3, 3, 3, 3, 3, 3, 3, 3, 3, 3, 3, 3, 3, 3, 3, 3, 3, 3, 3, 3, 3, 3, 3, 3, 3, 3, 3, 3, 3, 3, 3, 3, 3, 3, 3, 3, 3, 3, 3, 3, 3, 3, 3, 3, 3, 3, 3, 3, 3, 3, 3, 3, 3, 3, 3, 3, 3, 3, 3, 3, 3, 3, 3, 3, 3, 3, 3, 3, 3, 3, 3, 3, 3, 3, 3, 3, 3, 3, 3, 3, 3, 3, 3, 3, 3, 3, 3, 3, 3, 3, 3, 3, 3, 3, 3, 3, 3, 3, 3, 3, 3, 3, 3, 3, 3, 3, 3, 3, 3, 3, 3, 3, 3, 3, 3, 3, 3, 3, 3, 3, 3, 3, 3, 3, 3, 3, 3, 3, 3, 3, 3, 3, 3, 3, 3, 3, 3, 3, 3, 3, 3, 3, 3, 3, 3, 3, 3, 3, 3, 3, 3, 3, 3, 3, 3, 3, 3, 3, 3, 3, 3, 3, 3, 3, 3, 3, 3, 3, 3, 3, 3, 3, 3, 3, 3, 3, 3, 3, 3, 3, 3, 3, 3, 3, 3, 3, 3, 3, 3, 3, 3, 3, 3, 3, 3, 3, 3, 3, 3, 3, 3, 3, 3, 3, 3, 3, 3, 3, 3, 3, 3, 3, 3, 3, 3, 3, 3, 3, 3, 3, 3, 3, 3, 3, 3, 3, 3, 3, 3, 3, 3, 3, 3, 3, 3, 3, 3, 3, 3, 3, 3, 3, 3, 3, 3, 3, 3, 3, 3, 3, 3, 3, 3, 3, 3, 3, 3, 3, 3, 3, 3, 3, 3, 3, 3, 3, 3, 3, 3, 3, 3, 3, 3, 3, 3, 3, 3, 3, 3, 3, 3, 3, 3, 3, 3, 3, 3, 3, 3, 3, 3, 3, 3, 3, 3, 3, 3, 3, 3, 3, 3, 3, 3, 3, 3, 3, 3, 3, 3, 3, 2, 2, 2, 2, 2, 2, 2, 2, 2, 2, 2, 2, 2, 2, 2, 2, 2, 2, 2, 2, 2, 2, 2, 2, 2, 2, 2, 2, 2, 2, 2, 2, 2, 2, 2, 2, 2, 2, 2, 2, 2, 2, 2, 2, 2, 2, 2, 2, 2, 2, 2, 2, 2, 2, 2, 2, 2, 2, 2, 2, 2, 2, 2, 2, 2, 2, 2, 2, 2, 2, 2, 2, 2, 2, 2, 2, 2, 2, 2, 2, 2, 2, 2, 2, 2, 2, 2, 2, 2, 2, 2, 2, 2, 2, 2, 2, 2, 2, 2, 2, 2, 2, 2, 2, 2, 2, 2, 2, 2, 2, 2, 2, 2, 2, 2, 2, 2, 2, 2, 2, 2, 2, 2, 2, 2, 2, 2, 2, 2, 2, 2, 2, 2, 2, 2, 2, 2, 2, 2, 2, 2, 2, 2, 2, 2, 2, 2, 2, 2, 2, 2, 2, 2, 2, 2, 2, 2, 2, 2, 2, 2, 2, 2, 2, 2, 2, 2, 2, 2, 2, 2, 2, 2, 2, 2, 2, 2, 2, 2, 2, 2, 2, 2, 2, 2, 2, 2, 2, 2, 2, 2, 2, 2, 2, 2, 2, 2, 2, 2, 2, 2, 2, 2, 2, 2, 2, 2, 2, 2, 2, 2, 2, 2, 2, 2, 2, 2, 2, 2, 2, 2, 2, 2, 2, 2, 2, 2, 2, 2, 2, 2, 2, 2, 2, 2, 2, 2, 2, 2, 2, 2, 2, 2, 2, 2, 2, 2, 2, 2, 2, 2, 2, 2, 2, 2, 2, 2, 2, 2, 2, 2, 2, 2, 2, 2, 2, 2, 2, 2, 2, 2, 2, 2, 2, 2, 2, 2, 2, 2, 2, 2, 2, 2, 2, 2, 2, 2, 2, 2, 2, 2, 2, 2, 2, 2, 2, 2, 2, 2, 2, 2, 2, 2, 2, 2, 2, 2, 2, 2, 2, 2, 2, 2, 2, 2, 2, 2, 2, 2, 2, 2, 2, 2, 2, 2, 2, 2, 2, 2, 2, 2, 2, 2, 2, 2, 2, 2, 2, 2, 2, 2, 2, 2, 2, 2, 2, 2, 2, 2, 2, 2, 2, 2, 2, 2, 2, 2, 2, 2, 2, 2, 2, 2, 2, 2, 2, 2, 2, 2, 2, 2, 2, 2, 2, 2, 2, 2, 2, 2, 2, 2, 2, 2, 2, 2, 2, 2, 2, 2, 2, 2, 2, 2, 2, 2, 2, 2, 2, 2, 2, 2, 2, 2, 2, 2, 2, 2, 2, 2, 2, 2, 2, 2, 2, 2, 2, 2, 2, 2, 2, 2, 2, 2, 2, 2, 2, 2, 2, 2, 2, 2, 2, 2, 2, 2, 2, 2, 2, 2, 2, 2, 2, 2, 2, 2, 2, 2, 2, 2, 2, 2, 2, 2, 2, 2, 2, 2, 2, 2, 2, 2, 2, 2, 2, 2, 2, 2, 2, 2, 2, 2, 2, 2, 2, 2, 2, 2, 2, 2, 2, 2, 2, 2, 2, 2, 2, 2, 2, 2, 2, 2, 2, 2, 2, 2, 2, 2, 2, 2, 2, 2, 2, 2, 2, 2, 2, 2, 2, 2, 2, 2, 2, 2, 2, 2, 2, 2, 2, 2, 2, 2, 2, 2, 2, 2, 2, 2, 2, 2, 2, 2, 2, 2, 2, 2, 2, 2, 2, 2, 2, 2, 2, 2, 2, 2, 2, 2, 2, 2, 2, 2, 2, 2, 2, 2, 2, 2, 2, 2, 2, 2, 2, 2, 2, 2, 2, 2, 2, 2, 2, 2, 2, 2, 2, 2, 2, 2, 2, 2, 2, 2, 2, 2, 2, 2, 2, 2, 2, 2, 2, 2, 2, 2, 2, 2, 2, 2, 2, 2, 2, 2, 2, 2, 2, 2, 2, 2, 2, 2, 2, 2, 2, 2, 2, 2, 2, 2, 2, 2, 2, 2, 2, 2, 2, 2, 2, 2, 2, 2, 2, 2, 2, 2, 2, 2, 2, 2, 2, 2, 2, 2, 2, 2, 2, 2, 2, 2, 2, 2, 2, 2, 2, 2, 2, 2, 2, 2, 2, 2, 2, 2, 2, 2, 2, 2, 2, 2, 2, 2, 2, 2, 2, 2, 2, 2, 2, 2, 2, 2, 2, 2, 2, 2, 2, 2, 2, 2, 2, 2, 2, 2, 2, 2, 2, 2, 2, 2, 2, 2, 2, 2, 2, 2, 2, 2, 2, 2, 2, 2, 2, 2, 2, 2, 2, 2, 2, 2, 2, 2, 2, 2, 2, 2, 2, 2, 2, 2, 2, 2, 2, 2, 2, 2, 2, 2, 2, 2, 2, 2, 2, 2, 2, 2, 2, 2, 2, 2, 2, 2, 2, 2, 2, 2, 2, 2, 2, 2, 2, 2, 2, 2, 2, 2, 2, 2, 2, 2, 2, 2, 2, 2, 2, 2, 2, 2, 2, 2, 2, 2, 2, 2, 2, 2, 2, 2, 2, 2, 2, 2, 2, 2, 2, 2, 2, 2, 2, 2, 2, 2, 2, 2, 2, 2, 2, 2, 2, 2, 2, 2, 2, 2, 2, 2, 2, 2, 2, 2, 2, 2, 2, 2, 2, 2, 2, 2, 2, 2, 2, 2, 2, 2, 2, 2, 2, 2, 2, 2, 2, 2, 2, 2, 2, 2, 2, 2, 2, 2, 2, 2, 2, 2, 2, 2, 2, 2, 2, 2, 2, 2, 2, 2, 2, 2, 2, 2, 2, 2, 2, 2, 2, 2, 2, 2, 2, 2, 2, 2, 2, 2, 2, 2, 2, 2, 2, 2, 2, 2, 2, 2, 2, 2, 2, 2, 2, 2, 2, 2, 2, 2, 2, 2, 2, 2, 2, 2, 2, 2, 2, 2, 2, 2, 2, 2, 2, 2, 2, 2, 2, 2, 2, 2, 2, 2, 2, 2, 2, 2, 2, 2, 2, 2, 2, 2, 2, 2, 2, 2, 2, 2, 2, 2, 2, 2, 2, 2, 2, 2, 2, 2, 2, 2, 2, 2, 2, 2, 2, 2, 2, 2, 2, 2, 2, 2, 2, 2, 2, 2, 2, 2, 2, 2, 2, 2, 2, 2, 2, 2, 2, 2, 2, 2, 2, 2, 2, 2, 2, 2, 2, 2, 2, 2, 2, 2, 2, 2, 2, 2, 2, 2, 2, 2, 2, 2, 2, 2, 2, 2, 2, 2, 2, 2, 2, 2, 2, 2, 2, 2, 2, 2, 2, 2, 2, 2, 2, 2, 2, 2, 2, 2, 2, 2, 2, 2, 2, 2, 2, 2, 2, 2, 2, 2, 2, 2, 2, 2, 2, 2, 2, 2, 2, 2, 2, 2, 2, 2, 2, 2, 2, 2, 2, 2, 2, 2, 2, 2, 2, 2, 2, 2, 2, 2, 2, 2, 2, 2, 2, 2, 2, 2, 2, 2, 2, 2, 2, 2, 2, 2, 2, 2, 2, 2, 2, 2, 2, 2, 2, 2, 2, 2, 2, 2, 2, 2, 2, 2, 2, 2, 2, 2, 2, 2, 2, 2, 2, 2, 2, 2, 2, 2, 2, 2, 2, 2, 2, 2, 2, 2, 2, 2, 2, 2, 2, 2, 2, 2, 2, 2, 2, 2, 2, 2, 2, 2, 2, 2, 2, 2, 2, 2, 2, 2, 2, 2, 2, 2, 2, 2, 2, 2, 2, 2, 2, 2, 2, 2, 2, 2, 2, 2, 2, 2, 2, 2, 2, 2, 2, 2, 2, 2, 2, 2, 2, 2, 2, 2, 2, 2, 2, 2, 2, 2, 2, 2, 2, 2, 2, 2, 2, 2, 2, 2, 2, 2, 2, 2, 2, 2, 2, 2, 2, 2, 2, 2, 2, 2, 2, 2, 2, 2, 2, 2, 2, 2, 2, 2, 2, 2, 2, 2, 2, 2, 2, 2, 2, 2, 2, 2, 2, 2, 2, 2, 2, 2, 2, 2, 2, 2, 2, 2, 2, 2, 2, 2, 2, 2, 2, 2, 2, 2, 2, 2, 2, 2, 2, 2, 2, 2, 2, 2, 2, 2, 2, 2, 2, 2, 2, 2, 2, 2, 2, 2, 2, 2, 2, 2, 2, 2, 2, 2, 2, 2, 2, 2, 2, 2, 2, 2, 2, 2, 2, 2, 2, 2, 2, 2, 2, 2, 2, 2, 2, 2, 2, 2, 2, 2, 2, 2, 2, 2, 2, 2, 2, 2, 2, 2, 2, 2, 2, 2, 2, 2, 2, 2, 2, 2, 2, 2, 2, 2, 2, 2, 2, 2, 2, 2, 2, 2, 2, 2, 2, 2, 2, 2, 2, 2, 2, 2, 2, 2, 2, 2, 2, 2, 2, 2, 2, 2, 2, 2, 2, 2, 2, 2, 2, 2, 2, 2, 2, 2, 2, 2, 2, 2, 2, 2, 2, 2, 2, 2, 2, 2, 2, 2, 2, 2, 2, 2, 2, 2, 2, 2, 2, 2, 2, 2, 2, 2, 2, 2, 2, 2, 2, 2, 2, 2, 2, 2, 2, 2, 2, 2, 2, 2, 2, 2, 2, 2, 2, 2, 2, 2, 2, 2, 2, 2, 2, 2, 2, 2, 2, 2, 2, 2, 2, 2, 2, 2, 2, 2, 2, 2, 2, 2, 2, 2, 2, 2, 2, 2, 2, 2, 2, 2, 2, 2, 2, 2, 2, 2, 2, 2, 2, 2, 2, 2, 2, 2, 2, 2, 2, 2, 2, 2, 2, 2, 2, 2, 2, 2, 2, 2, 2, 2, 2, 2, 2, 2, 2, 2, 2, 2, 2, 2, 2, 2, 2, 2, 2, 2, 2, 2, 2, 2, 2, 2, 2, 2, 2, 2, 2, 2, 2, 2, 2, 2, 2, 2, 2, 2, 2, 2, 2, 2, 2, 2, 2, 2, 2, 2, 2, 2, 2, 2, 2, 2, 2, 2, 2, 2, 2, 2, 2, 2, 2, 2, 2, 2, 2, 2, 2, 2, 2, 2, 2, 2, 2, 2, 2, 2, 2, 2, 2, 2, 2, 2, 2, 1, 1, 1, 1, 1, 1, 1, 1, 1, 1, 1, 1, 1, 1, 1, 1, 1, 1, 1, 1, 1, 1, 1, 1, 1, 1, 1, 1, 1, 1, 1, 1, 1, 1, 1, 1, 1, 1, 1, 1, 1, 1, 1, 1, 1, 1, 1, 1, 1, 1, 1, 1, 1, 1, 1, 1, 1, 1, 1, 1, 1, 1, 1, 1, 1, 1, 1, 1, 1, 1, 1, 1, 1, 1, 1, 1, 1, 1, 1, 1, 1, 1, 1, 1, 1, 1, 1, 1, 1, 1, 1, 1, 1, 1, 1, 1, 1, 1, 1, 1, 1, 1, 1, 1, 1, 1, 1, 1, 1, 1, 1, 1, 1, 1, 1, 1, 1, 1, 1, 1, 1, 1, 1, 1, 1, 1, 1, 1, 1, 1, 1, 1, 1, 1, 1, 1, 1, 1, 1, 1, 1, 1, 1, 1, 1, 1, 1, 1, 1, 1, 1, 1, 1, 1, 1, 1, 1, 1, 1, 1, 1, 1, 1, 1, 1, 1, 1, 1, 1, 1, 1, 1, 1, 1, 1, 1, 1, 1, 1, 1, 1, 1, 1, 1, 1, 1, 1, 1, 1, 1, 1, 1, 1, 1, 1, 1, 1, 1, 1, 1, 1, 1, 1, 1, 1, 1, 1, 1, 1, 1, 1, 1, 1, 1, 1, 1, 1, 1, 1, 1, 1, 1, 1, 1, 1, 1, 1, 1, 1, 1, 1, 1, 1, 1, 1, 1, 1, 1, 1, 1, 1, 1, 1, 1, 1, 1, 1, 1, 1, 1, 1, 1, 1, 1, 1, 1, 1, 1, 1, 1, 1, 1, 1, 1, 1, 1, 1, 1, 1, 1, 1, 1, 1, 1, 1, 1, 1, 1, 1, 1, 1, 1, 1, 1, 1, 1, 1, 1, 1, 1, 1, 1, 1, 1, 1, 1, 1, 1, 1, 1, 1, 1, 1, 1, 1, 1, 1, 1, 1, 1, 1, 1, 1, 1, 1, 1, 1, 1, 1, 1, 1, 1, 1, 1]\n"
     ]
    }
   ],
   "source": [
    "# separating list of words and frequency\n",
    "word_features, freq = [[x for x,y in top_5000],\n",
    "      [y for x,y in top_5000]]\n",
    "\n",
    "# List of just words\n",
    "print(word_features)\n",
    "print(freq)\n",
    "\n"
   ]
  },
  {
   "cell_type": "markdown",
   "metadata": {},
   "source": [
    "### Building Features\n",
    "\n",
    "Now let's build the features. Using the top 5,000 words, create a 2-dimensional matrix to record whether each of those words is contained in each document (tweet). Then you also have an output column to indicate whether the sentiment in each tweet is positive. For example, assuming your bag of words has 5 items (`['one', 'two', 'three', 'four', 'five']`) out of 4 documents (`['A', 'B', 'C', 'D']`), your feature set is essentially:\n",
    "\n",
    "| Doc | one | two | three | four | five | is_positive |\n",
    "|---|---|---|---|---|---|---|\n",
    "| A | True | False | False | True | False | True |\n",
    "| B | False | False | False | True | True | False |\n",
    "| C | False | True | False | False | False | True |\n",
    "| D | True | False | False | False | True | False|\n",
    "\n",
    "However, because the `nltk.NaiveBayesClassifier.train` class we will use in the next step does not work with Pandas dataframe, the structure of your feature set should be converted to the Python list looking like below:\n",
    "\n",
    "```python\n",
    "[\n",
    "\t({\n",
    "\t\t'one': True,\n",
    "\t\t'two': False,\n",
    "\t\t'three': False,\n",
    "\t\t'four': True,\n",
    "\t\t'five': False\n",
    "\t}, True),\n",
    "\t({\n",
    "\t\t'one': False,\n",
    "\t\t'two': False,\n",
    "\t\t'three': False,\n",
    "\t\t'four': True,\n",
    "\t\t'five': True\n",
    "\t}, False),\n",
    "\t({\n",
    "\t\t'one': False,\n",
    "\t\t'two': True,\n",
    "\t\t'three': False,\n",
    "\t\t'four': False,\n",
    "\t\t'five': False\n",
    "\t}, True),\n",
    "\t({\n",
    "\t\t'one': True,\n",
    "\t\t'two': False,\n",
    "\t\t'three': False,\n",
    "\t\t'four': False,\n",
    "\t\t'five': True\n",
    "\t}, False)\n",
    "]\n",
    "```\n",
    "\n",
    "To help you in this step, watch the [following video](https://www.youtube.com/watch?v=-vVskDsHcVc) to learn how to build the feature set with Python and NLTK. The source code in this video can be found [here](https://pythonprogramming.net/words-as-features-nltk-tutorial/)."
   ]
  },
  {
   "cell_type": "markdown",
   "metadata": {},
   "source": [
    "[![Building Features](building-features.jpg)](https://www.youtube.com/watch?v=-vVskDsHcVc)"
   ]
  },
  {
   "cell_type": "code",
   "execution_count": null,
   "metadata": {},
   "outputs": [],
   "source": [
    "# your code here\n",
    "word_features=list(bow.index)\n",
    "### First running for sample of 10000 rows\n",
    "def find_features(lst, bow):\n",
    "    word_features=list(bow.index)\n",
    "    words = set(lst)\n",
    "    features = {}\n",
    "    for w in word_features:\n",
    "        features[w] = (w in words)\n",
    "    return features\n",
    "word_features\n",
    "features=[]\n",
    "for i,l in enumerate(sample[\"text_processed\"]):\n",
    "    s=[find_features(l,bow),sample[\"sentiment\"].iloc[i]]\n",
    "    z=tuple(s)\n",
    "    features.append(z)\n",
    "features"
   ]
  },
  {
   "cell_type": "code",
   "execution_count": null,
   "metadata": {},
   "outputs": [],
   "source": [
    "def find_features(document):\n",
    "    words = set(document)\n",
    "    features = {}\n",
    "    for w in word_features:\n",
    "        features[w] = (w in words)\n",
    "\n",
    "    return features\n",
    "\n",
    "word_features"
   ]
  },
  {
   "cell_type": "code",
   "execution_count": null,
   "metadata": {},
   "outputs": [],
   "source": [
    "#featuresets = [(find_features(rev), category) for (rev, category) in documents]"
   ]
  },
  {
   "cell_type": "markdown",
   "metadata": {},
   "source": [
    "### Building and Traininng Naive Bayes Model\n",
    "\n",
    "In this step you will split your feature set into a training and a test set. Then you will create a Bayes classifier instance using `nltk.NaiveBayesClassifier.train` ([example](https://www.nltk.org/book/ch06.html)) to train with the training dataset.\n",
    "\n",
    "After training the model, call `classifier.show_most_informative_features()` to inspect the most important features. The output will look like:\n",
    "\n",
    "```\n",
    "Most Informative Features\n",
    "\t    snow = True            False : True   =     34.3 : 1.0\n",
    "\t  easter = True            False : True   =     26.2 : 1.0\n",
    "\t headach = True            False : True   =     20.9 : 1.0\n",
    "\t    argh = True            False : True   =     17.6 : 1.0\n",
    "\tunfortun = True            False : True   =     16.9 : 1.0\n",
    "\t    jona = True             True : False  =     16.2 : 1.0\n",
    "\t     ach = True            False : True   =     14.9 : 1.0\n",
    "\t     sad = True            False : True   =     13.0 : 1.0\n",
    "\t  parent = True            False : True   =     12.9 : 1.0\n",
    "\t  spring = True            False : True   =     12.7 : 1.0\n",
    "```\n",
    "\n",
    "The [following video](https://www.youtube.com/watch?v=rISOsUaTrO4) will help you complete this step. The source code in this video can be found [here](https://pythonprogramming.net/naive-bayes-classifier-nltk-tutorial/)."
   ]
  },
  {
   "cell_type": "markdown",
   "metadata": {},
   "source": [
    "[![Building and Training NB](nb-model-building.jpg)](https://www.youtube.com/watch?v=rISOsUaTrO4)"
   ]
  },
  {
   "cell_type": "code",
   "execution_count": null,
   "metadata": {},
   "outputs": [],
   "source": [
    "# your code here"
   ]
  },
  {
   "cell_type": "markdown",
   "metadata": {},
   "source": [
    "### Testing Naive Bayes Model\n",
    "\n",
    "Now we'll test our classifier with the test dataset. This is done by calling `nltk.classify.accuracy(classifier, test)`.\n",
    "\n",
    "As mentioned in one of the tutorial videos, a Naive Bayes model is considered OK if your accuracy score is over 0.6. If your accuracy score is over 0.7, you've done a great job!"
   ]
  },
  {
   "cell_type": "code",
   "execution_count": null,
   "metadata": {},
   "outputs": [],
   "source": [
    "# your code here"
   ]
  },
  {
   "cell_type": "markdown",
   "metadata": {},
   "source": [
    "## Bonus Question 1: Improve Model Performance\n",
    "\n",
    "If you are still not exhausted so far and want to dig deeper, try to improve your classifier performance. There are many aspects you can dig into, for example:\n",
    "\n",
    "* Improve stemming and lemmatization. Inspect your bag of words and the most important features. Are there any words you should furuther remove from analysis? You can append these words to further remove to the stop words list.\n",
    "\n",
    "* Remember we only used the top 5,000 features to build model? Try using different numbers of top features. The bottom line is to use as few features as you can without compromising your model performance. The fewer features you select into your model, the faster your model is trained. Then you can use a larger sample size to improve your model accuracy score."
   ]
  },
  {
   "cell_type": "code",
   "execution_count": null,
   "metadata": {},
   "outputs": [],
   "source": [
    "# your code here"
   ]
  },
  {
   "cell_type": "markdown",
   "metadata": {},
   "source": [
    "## Bonus Question 2: Machine Learning Pipeline\n",
    "\n",
    "In a new Jupyter Notebook, combine all your codes into a function (or a class). Your new function will execute the complete machine learning pipeline job by receiving the dataset location and output the classifier. This will allow you to use your function to predict the sentiment of any tweet in real time. "
   ]
  },
  {
   "cell_type": "code",
   "execution_count": null,
   "metadata": {},
   "outputs": [],
   "source": [
    "# your code here"
   ]
  },
  {
   "cell_type": "markdown",
   "metadata": {},
   "source": [
    "## Bonus Question 3: Apache Spark\n",
    "\n",
    "If you have completed the Apache Spark advanced topic lab, what you can do is to migrate your pipeline from local to a Databricks Notebook. Share your notebook with your instructor and classmates to show off your achievements!"
   ]
  },
  {
   "cell_type": "code",
   "execution_count": null,
   "metadata": {},
   "outputs": [],
   "source": [
    "# your code here"
   ]
  }
 ],
 "metadata": {
  "kernelspec": {
   "display_name": "Python 3",
   "language": "python",
   "name": "python3"
  },
  "language_info": {
   "codemirror_mode": {
    "name": "ipython",
    "version": 3
   },
   "file_extension": ".py",
   "mimetype": "text/x-python",
   "name": "python",
   "nbconvert_exporter": "python",
   "pygments_lexer": "ipython3",
   "version": "3.8.3"
  }
 },
 "nbformat": 4,
 "nbformat_minor": 2
}

{
 "cells": [
  {
   "cell_type": "markdown",
   "metadata": {},
   "source": [
    "# Challenge 2: Sentiment Analysis\n",
    "\n",
    "In this challenge we will learn sentiment analysis and practice performing sentiment analysis on Twitter tweets. \n",
    "\n",
    "## Introduction\n",
    "\n",
    "Sentiment analysis is to *systematically identify, extract, quantify, and study affective states and subjective information* based on texts ([reference](https://en.wikipedia.org/wiki/Sentiment_analysis)). In simple words, it's to understand whether a person is happy or unhappy in producing the piece of text. Why we (or rather, companies) care about sentiment in texts? It's because by understanding the sentiments in texts, we will be able to know if our customers are happy or unhappy about our products and services. If they are unhappy, the subsequent action is to figure out what have caused the unhappiness and make improvements.\n",
    "\n",
    "Basic sentiment analysis only understands the *positive* or *negative* (sometimes *neutral* too) polarities of the sentiment. More advanced sentiment analysis will also consider dimensions such as agreement, subjectivity, confidence, irony, and so on. In this challenge we will conduct the basic positive vs negative sentiment analysis based on real Twitter tweets.\n",
    "\n",
    "NLTK comes with a [sentiment analysis package](https://www.nltk.org/api/nltk.sentiment.html). This package is great for dummies to perform sentiment analysis because it requires only the textual data to make predictions. For example:\n",
    "\n",
    "```python\n",
    ">>> from nltk.sentiment.vader import SentimentIntensityAnalyzer\n",
    ">>> txt = \"Ironhack is a Global Tech School ranked num 2 worldwide.  ",
    " ",
    "Our mission is to help people transform their careers and join a thriving community of tech professionals that love what they do.\"\n",
    ">>> analyzer = SentimentIntensityAnalyzer()\n",
    ">>> analyzer.polarity_scores(txt)\n",
    "{'neg': 0.0, 'neu': 0.741, 'pos': 0.259, 'compound': 0.8442}\n",
    "```\n",
    "\n",
    "In this challenge, however, you will not use NLTK's sentiment analysis package because in your Machine Learning training in the past 2 weeks you have learned how to make predictions more accurate than that. The [tweets data](https://www.kaggle.com/kazanova/sentiment140) we will be using today are already coded for the positive/negative sentiment. You will be able to use the Naïve Bayes classifier you learned in the lesson to predict the sentiment of tweets based on the labels."
   ]
  },
  {
   "cell_type": "markdown",
   "metadata": {},
   "source": [
    "## Conducting Sentiment Analysis\n",
    "\n",
    "### Loading and Exploring Data\n",
    "\n",
    "The dataset we'll be using today is located in the lab directory named `Sentiment140.csv.zip`. You need to unzip it into a `.csv` file. Then in the cell below, load and explore the data.\n",
    "\n",
    "*Notes:* \n",
    "\n",
    "* The dataset was downloaded from [Kaggle](https://www.kaggle.com/kazanova/sentiment140). We made a slight change on the original data so that each column has a label.\n",
    "\n",
    "* The dataset is huuuuge (1.6m tweets). When you develop your data analysis codes, you can sample a subset of the data (e.g. 20k records) so that you will save a lot of time when you test your codes."
   ]
  },
  {
   "cell_type": "code",
   "execution_count": 1,
   "metadata": {},
   "outputs": [
    {
     "name": "stderr",
     "output_type": "stream",
     "text": [
      "[nltk_data] Downloading package punkt to\n",
      "[nltk_data]     /Users/erinberardi/nltk_data...\n",
      "[nltk_data]   Package punkt is already up-to-date!\n",
      "[nltk_data] Downloading package wordnet to\n",
      "[nltk_data]     /Users/erinberardi/nltk_data...\n",
      "[nltk_data]   Package wordnet is already up-to-date!\n",
      "[nltk_data] Downloading package stopwords to\n",
      "[nltk_data]     /Users/erinberardi/nltk_data...\n",
      "[nltk_data]   Package stopwords is already up-to-date!\n"
     ]
    },
    {
     "data": {
      "text/plain": [
       "True"
      ]
     },
     "execution_count": 1,
     "metadata": {},
     "output_type": "execute_result"
    }
   ],
   "source": [
    "import pandas as pd\n",
    "import numpy as np\n",
    "import re\n",
    "import nltk\n",
    "from nltk.tokenize import word_tokenize\n",
    "nltk.download('punkt')\n",
    "nltk.download('wordnet')\n",
    "from nltk.stem import WordNetLemmatizer\n",
    "from nltk.stem import PorterStemmer \n",
    "from nltk.corpus import stopwords\n",
    "nltk.download('stopwords')"
   ]
  },
  {
   "cell_type": "code",
   "execution_count": 2,
   "metadata": {},
   "outputs": [
    {
     "data": {
      "text/html": [
       "<div>\n",
       "<style scoped>\n",
       "    .dataframe tbody tr th:only-of-type {\n",
       "        vertical-align: middle;\n",
       "    }\n",
       "\n",
       "    .dataframe tbody tr th {\n",
       "        vertical-align: top;\n",
       "    }\n",
       "\n",
       "    .dataframe thead th {\n",
       "        text-align: right;\n",
       "    }\n",
       "</style>\n",
       "<table border=\"1\" class=\"dataframe\">\n",
       "  <thead>\n",
       "    <tr style=\"text-align: right;\">\n",
       "      <th></th>\n",
       "      <th>0</th>\n",
       "      <th>1467810369</th>\n",
       "      <th>Mon Apr 06 22:19:45 PDT 2009</th>\n",
       "      <th>NO_QUERY</th>\n",
       "      <th>_TheSpecialOne_</th>\n",
       "      <th>@switchfoot http://twitpic.com/2y1zl - Awww, that's a bummer.  You shoulda got David Carr of Third Day to do it. ;D</th>\n",
       "    </tr>\n",
       "  </thead>\n",
       "  <tbody>\n",
       "    <tr>\n",
       "      <th>1098225</th>\n",
       "      <td>4</td>\n",
       "      <td>1970462512</td>\n",
       "      <td>Sat May 30 03:58:07 PDT 2009</td>\n",
       "      <td>NO_QUERY</td>\n",
       "      <td>brandonsalomon</td>\n",
       "      <td>Time for golf.... and time to win  http://mylo...</td>\n",
       "    </tr>\n",
       "    <tr>\n",
       "      <th>1541408</th>\n",
       "      <td>4</td>\n",
       "      <td>2180797158</td>\n",
       "      <td>Mon Jun 15 10:57:31 PDT 2009</td>\n",
       "      <td>NO_QUERY</td>\n",
       "      <td>_Annet</td>\n",
       "      <td>@ashthebeliever nice song! It's my fave song a...</td>\n",
       "    </tr>\n",
       "    <tr>\n",
       "      <th>916131</th>\n",
       "      <td>4</td>\n",
       "      <td>1753253655</td>\n",
       "      <td>Sun May 10 00:46:32 PDT 2009</td>\n",
       "      <td>NO_QUERY</td>\n",
       "      <td>kitz007</td>\n",
       "      <td>@vimoh that was funny n almost right</td>\n",
       "    </tr>\n",
       "    <tr>\n",
       "      <th>602237</th>\n",
       "      <td>0</td>\n",
       "      <td>2221341934</td>\n",
       "      <td>Thu Jun 18 05:11:53 PDT 2009</td>\n",
       "      <td>NO_QUERY</td>\n",
       "      <td>sofiejenkinson</td>\n",
       "      <td>@evacaiden whoops, i'm a dick. oh man, i'm goi...</td>\n",
       "    </tr>\n",
       "    <tr>\n",
       "      <th>1398111</th>\n",
       "      <td>4</td>\n",
       "      <td>2054058391</td>\n",
       "      <td>Sat Jun 06 06:26:59 PDT 2009</td>\n",
       "      <td>NO_QUERY</td>\n",
       "      <td>waynehager</td>\n",
       "      <td>@anthonycoxjr  that's easy! Starbucks ANDDunki...</td>\n",
       "    </tr>\n",
       "  </tbody>\n",
       "</table>\n",
       "</div>"
      ],
      "text/plain": [
       "         0  1467810369  Mon Apr 06 22:19:45 PDT 2009  NO_QUERY  \\\n",
       "1098225  4  1970462512  Sat May 30 03:58:07 PDT 2009  NO_QUERY   \n",
       "1541408  4  2180797158  Mon Jun 15 10:57:31 PDT 2009  NO_QUERY   \n",
       "916131   4  1753253655  Sun May 10 00:46:32 PDT 2009  NO_QUERY   \n",
       "602237   0  2221341934  Thu Jun 18 05:11:53 PDT 2009  NO_QUERY   \n",
       "1398111  4  2054058391  Sat Jun 06 06:26:59 PDT 2009  NO_QUERY   \n",
       "\n",
       "        _TheSpecialOne_  \\\n",
       "1098225  brandonsalomon   \n",
       "1541408          _Annet   \n",
       "916131          kitz007   \n",
       "602237   sofiejenkinson   \n",
       "1398111      waynehager   \n",
       "\n",
       "        @switchfoot http://twitpic.com/2y1zl - Awww, that's a bummer.  You shoulda got David Carr of Third Day to do it. ;D  \n",
       "1098225  Time for golf.... and time to win  http://mylo...                                                                   \n",
       "1541408  @ashthebeliever nice song! It's my fave song a...                                                                   \n",
       "916131               @vimoh that was funny n almost right                                                                    \n",
       "602237   @evacaiden whoops, i'm a dick. oh man, i'm goi...                                                                   \n",
       "1398111  @anthonycoxjr  that's easy! Starbucks ANDDunki...                                                                   "
      ]
     },
     "execution_count": 2,
     "metadata": {},
     "output_type": "execute_result"
    }
   ],
   "source": [
    "# your code here\n",
    "sent = pd.read_csv('/Users/erinberardi/Downloads/Sentiment140.csv',encoding='latin-1')\n",
    "sample=sent.sample(n=10000, axis=0)\n",
    "sample.shape\n",
    "sample.head()"
   ]
  },
  {
   "cell_type": "code",
   "execution_count": 3,
   "metadata": {},
   "outputs": [
    {
     "data": {
      "text/html": [
       "<div>\n",
       "<style scoped>\n",
       "    .dataframe tbody tr th:only-of-type {\n",
       "        vertical-align: middle;\n",
       "    }\n",
       "\n",
       "    .dataframe tbody tr th {\n",
       "        vertical-align: top;\n",
       "    }\n",
       "\n",
       "    .dataframe thead th {\n",
       "        text-align: right;\n",
       "    }\n",
       "</style>\n",
       "<table border=\"1\" class=\"dataframe\">\n",
       "  <thead>\n",
       "    <tr style=\"text-align: right;\">\n",
       "      <th></th>\n",
       "      <th>target</th>\n",
       "      <th>id</th>\n",
       "      <th>date</th>\n",
       "      <th>flag</th>\n",
       "      <th>user</th>\n",
       "      <th>text</th>\n",
       "    </tr>\n",
       "  </thead>\n",
       "  <tbody>\n",
       "    <tr>\n",
       "      <th>1098225</th>\n",
       "      <td>4</td>\n",
       "      <td>1970462512</td>\n",
       "      <td>Sat May 30 03:58:07 PDT 2009</td>\n",
       "      <td>NO_QUERY</td>\n",
       "      <td>brandonsalomon</td>\n",
       "      <td>Time for golf.... and time to win  http://mylo...</td>\n",
       "    </tr>\n",
       "    <tr>\n",
       "      <th>1541408</th>\n",
       "      <td>4</td>\n",
       "      <td>2180797158</td>\n",
       "      <td>Mon Jun 15 10:57:31 PDT 2009</td>\n",
       "      <td>NO_QUERY</td>\n",
       "      <td>_Annet</td>\n",
       "      <td>@ashthebeliever nice song! It's my fave song a...</td>\n",
       "    </tr>\n",
       "    <tr>\n",
       "      <th>916131</th>\n",
       "      <td>4</td>\n",
       "      <td>1753253655</td>\n",
       "      <td>Sun May 10 00:46:32 PDT 2009</td>\n",
       "      <td>NO_QUERY</td>\n",
       "      <td>kitz007</td>\n",
       "      <td>@vimoh that was funny n almost right</td>\n",
       "    </tr>\n",
       "    <tr>\n",
       "      <th>602237</th>\n",
       "      <td>0</td>\n",
       "      <td>2221341934</td>\n",
       "      <td>Thu Jun 18 05:11:53 PDT 2009</td>\n",
       "      <td>NO_QUERY</td>\n",
       "      <td>sofiejenkinson</td>\n",
       "      <td>@evacaiden whoops, i'm a dick. oh man, i'm goi...</td>\n",
       "    </tr>\n",
       "    <tr>\n",
       "      <th>1398111</th>\n",
       "      <td>4</td>\n",
       "      <td>2054058391</td>\n",
       "      <td>Sat Jun 06 06:26:59 PDT 2009</td>\n",
       "      <td>NO_QUERY</td>\n",
       "      <td>waynehager</td>\n",
       "      <td>@anthonycoxjr  that's easy! Starbucks ANDDunki...</td>\n",
       "    </tr>\n",
       "  </tbody>\n",
       "</table>\n",
       "</div>"
      ],
      "text/plain": [
       "         target          id                          date      flag  \\\n",
       "1098225       4  1970462512  Sat May 30 03:58:07 PDT 2009  NO_QUERY   \n",
       "1541408       4  2180797158  Mon Jun 15 10:57:31 PDT 2009  NO_QUERY   \n",
       "916131        4  1753253655  Sun May 10 00:46:32 PDT 2009  NO_QUERY   \n",
       "602237        0  2221341934  Thu Jun 18 05:11:53 PDT 2009  NO_QUERY   \n",
       "1398111       4  2054058391  Sat Jun 06 06:26:59 PDT 2009  NO_QUERY   \n",
       "\n",
       "                   user                                               text  \n",
       "1098225  brandonsalomon  Time for golf.... and time to win  http://mylo...  \n",
       "1541408          _Annet  @ashthebeliever nice song! It's my fave song a...  \n",
       "916131          kitz007              @vimoh that was funny n almost right   \n",
       "602237   sofiejenkinson  @evacaiden whoops, i'm a dick. oh man, i'm goi...  \n",
       "1398111      waynehager  @anthonycoxjr  that's easy! Starbucks ANDDunki...  "
      ]
     },
     "execution_count": 3,
     "metadata": {},
     "output_type": "execute_result"
    }
   ],
   "source": [
    "sample.columns =['target','id','date','flag','user','text']\n",
    "sample.head()"
   ]
  },
  {
   "cell_type": "code",
   "execution_count": 4,
   "metadata": {},
   "outputs": [],
   "source": [
    "def clean_up(s):\n",
    "    s = re.sub(r'(?i)\\b((?:https?://|www\\d{0,3}[.]|[a-z0-9.\\-]+[.][a-z]{2,4}/)(?:[^\\s()<>]+|\\(([^\\s()<>]+|(\\([^\\s()<>]+\\)))*\\))+(?:\\(([^\\s()<>]+|(\\([^\\s()<>]+\\)))*\\)|[^\\s`!()\\[\\]{};:\\'\".,<>?«»“”‘’]))', ' ', s)\n",
    "    s = s.translate ({ord(c): \" \" for c in \"\"\"!@#$%^&*()[]{}'\";:,./<>?\\|`-~=_+\"\"\"})\n",
    "    s = re.sub('\\d+',' ',s)\n",
    "    s = s.lower()\n",
    "\n",
    "    return s"
   ]
  },
  {
   "cell_type": "code",
   "execution_count": 5,
   "metadata": {},
   "outputs": [],
   "source": [
    "def tokenize(s):\n",
    "    tokens = word_tokenize(s)\n",
    "    return tokens"
   ]
  },
  {
   "cell_type": "code",
   "execution_count": 6,
   "metadata": {},
   "outputs": [],
   "source": [
    "def stem_and_lemmatize(l):\n",
    "    l_stem_lem = []\n",
    "    ps = PorterStemmer() \n",
    "    lm = WordNetLemmatizer()\n",
    "    for w in l: \n",
    "        w=ps.stem(w)\n",
    "        w=lm.lemmatize(w)\n",
    "        l_stem_lem.append(w)\n",
    "    return l_stem_lem"
   ]
  },
  {
   "cell_type": "code",
   "execution_count": 7,
   "metadata": {},
   "outputs": [],
   "source": [
    "def remove_stopwords(l):\n",
    "    stop_words = set(stopwords.words('english')) \n",
    "    return [word for word in l if word not in stop_words]\n",
    "  "
   ]
  },
  {
   "cell_type": "code",
   "execution_count": null,
   "metadata": {},
   "outputs": [],
   "source": [
    "sample.head()\n"
   ]
  },
  {
   "cell_type": "markdown",
   "metadata": {},
   "source": [
    "### Prepare Textual Data for Sentiment Analysis\n",
    "\n",
    "Now, apply the functions you have written in Challenge 1 to your whole data set. These functions include:\n",
    "\n",
    "* `clean_up()`\n",
    "\n",
    "* `tokenize()`\n",
    "\n",
    "* `stem_and_lemmatize()`\n",
    "\n",
    "* `remove_stopwords()`\n",
    "\n",
    "Create a new column called `text_processed` in the dataframe to contain the processed data. At the end, your `text_processed` column should contain lists of word tokens that are cleaned up. Your data should look like below:\n",
    "\n",
    "![Processed Data](data-cleaning-results.png)"
   ]
  },
  {
   "cell_type": "code",
   "execution_count": null,
   "metadata": {},
   "outputs": [],
   "source": [
    "sample5=sent.sample(n=5, axis=0)\n",
    "sample5"
   ]
  },
  {
   "cell_type": "code",
   "execution_count": 8,
   "metadata": {
    "scrolled": true
   },
   "outputs": [
    {
     "name": "stdout",
     "output_type": "stream",
     "text": [
      "1 done\n",
      "2 done\n",
      "3 done\n"
     ]
    },
    {
     "data": {
      "text/html": [
       "<div>\n",
       "<style scoped>\n",
       "    .dataframe tbody tr th:only-of-type {\n",
       "        vertical-align: middle;\n",
       "    }\n",
       "\n",
       "    .dataframe tbody tr th {\n",
       "        vertical-align: top;\n",
       "    }\n",
       "\n",
       "    .dataframe thead th {\n",
       "        text-align: right;\n",
       "    }\n",
       "</style>\n",
       "<table border=\"1\" class=\"dataframe\">\n",
       "  <thead>\n",
       "    <tr style=\"text-align: right;\">\n",
       "      <th></th>\n",
       "      <th>target</th>\n",
       "      <th>id</th>\n",
       "      <th>date</th>\n",
       "      <th>flag</th>\n",
       "      <th>user</th>\n",
       "      <th>text</th>\n",
       "      <th>text_processed</th>\n",
       "    </tr>\n",
       "  </thead>\n",
       "  <tbody>\n",
       "    <tr>\n",
       "      <th>1098225</th>\n",
       "      <td>4</td>\n",
       "      <td>1970462512</td>\n",
       "      <td>Sat May 30 03:58:07 PDT 2009</td>\n",
       "      <td>NO_QUERY</td>\n",
       "      <td>brandonsalomon</td>\n",
       "      <td>Time for golf.... and time to win  http://mylo...</td>\n",
       "      <td>[time, golf, time, win]</td>\n",
       "    </tr>\n",
       "    <tr>\n",
       "      <th>1541408</th>\n",
       "      <td>4</td>\n",
       "      <td>2180797158</td>\n",
       "      <td>Mon Jun 15 10:57:31 PDT 2009</td>\n",
       "      <td>NO_QUERY</td>\n",
       "      <td>_Annet</td>\n",
       "      <td>@ashthebeliever nice song! It's my fave song a...</td>\n",
       "      <td>[ashthebeliev, nice, song, fave, song, kill, n...</td>\n",
       "    </tr>\n",
       "    <tr>\n",
       "      <th>916131</th>\n",
       "      <td>4</td>\n",
       "      <td>1753253655</td>\n",
       "      <td>Sun May 10 00:46:32 PDT 2009</td>\n",
       "      <td>NO_QUERY</td>\n",
       "      <td>kitz007</td>\n",
       "      <td>@vimoh that was funny n almost right</td>\n",
       "      <td>[vimoh, wa, funni, n, almost, right]</td>\n",
       "    </tr>\n",
       "    <tr>\n",
       "      <th>602237</th>\n",
       "      <td>0</td>\n",
       "      <td>2221341934</td>\n",
       "      <td>Thu Jun 18 05:11:53 PDT 2009</td>\n",
       "      <td>NO_QUERY</td>\n",
       "      <td>sofiejenkinson</td>\n",
       "      <td>@evacaiden whoops, i'm a dick. oh man, i'm goi...</td>\n",
       "      <td>[evacaiden, whoop, dick, oh, man, go, shrewsbu...</td>\n",
       "    </tr>\n",
       "    <tr>\n",
       "      <th>1398111</th>\n",
       "      <td>4</td>\n",
       "      <td>2054058391</td>\n",
       "      <td>Sat Jun 06 06:26:59 PDT 2009</td>\n",
       "      <td>NO_QUERY</td>\n",
       "      <td>waynehager</td>\n",
       "      <td>@anthonycoxjr  that's easy! Starbucks ANDDunki...</td>\n",
       "      <td>[anthonycoxjr, easi, starbuck, anddunkin, donut]</td>\n",
       "    </tr>\n",
       "  </tbody>\n",
       "</table>\n",
       "</div>"
      ],
      "text/plain": [
       "         target          id                          date      flag  \\\n",
       "1098225       4  1970462512  Sat May 30 03:58:07 PDT 2009  NO_QUERY   \n",
       "1541408       4  2180797158  Mon Jun 15 10:57:31 PDT 2009  NO_QUERY   \n",
       "916131        4  1753253655  Sun May 10 00:46:32 PDT 2009  NO_QUERY   \n",
       "602237        0  2221341934  Thu Jun 18 05:11:53 PDT 2009  NO_QUERY   \n",
       "1398111       4  2054058391  Sat Jun 06 06:26:59 PDT 2009  NO_QUERY   \n",
       "\n",
       "                   user                                               text  \\\n",
       "1098225  brandonsalomon  Time for golf.... and time to win  http://mylo...   \n",
       "1541408          _Annet  @ashthebeliever nice song! It's my fave song a...   \n",
       "916131          kitz007              @vimoh that was funny n almost right    \n",
       "602237   sofiejenkinson  @evacaiden whoops, i'm a dick. oh man, i'm goi...   \n",
       "1398111      waynehager  @anthonycoxjr  that's easy! Starbucks ANDDunki...   \n",
       "\n",
       "                                            text_processed  \n",
       "1098225                            [time, golf, time, win]  \n",
       "1541408  [ashthebeliev, nice, song, fave, song, kill, n...  \n",
       "916131                [vimoh, wa, funni, n, almost, right]  \n",
       "602237   [evacaiden, whoop, dick, oh, man, go, shrewsbu...  \n",
       "1398111   [anthonycoxjr, easi, starbuck, anddunkin, donut]  "
      ]
     },
     "execution_count": 8,
     "metadata": {},
     "output_type": "execute_result"
    }
   ],
   "source": [
    "# your code here\n",
    "# apply(clean_up)\n",
    "# apply(tokenize)\n",
    "# apply(stem_and_lemmatize)\n",
    "# apply(remove_stopwords)\n",
    "#creating new column with cleaned,tokenized, stemmed and lemmed, no stopwords\n",
    "\n",
    "sample[\"text_processed\"]=sample[\"text\"].apply(clean_up)\n",
    "print('1 done')\n",
    "sample[\"text_processed\"]=sample[\"text_processed\"].apply(tokenize)\n",
    "print('2 done')\n",
    "sample[\"text_processed\"]=sample[\"text_processed\"].apply(stem_and_lemmatize)\n",
    "print('3 done')\n",
    "sample[\"text_processed\"]=sample[\"text_processed\"].apply(remove_stopwords)\n",
    "\n",
    "sample.head()"
   ]
  },
  {
   "cell_type": "code",
   "execution_count": null,
   "metadata": {},
   "outputs": [],
   "source": []
  },
  {
   "cell_type": "markdown",
   "metadata": {},
   "source": [
    "## Looking at Stemming and Lemmatizing"
   ]
  },
  {
   "cell_type": "code",
   "execution_count": null,
   "metadata": {},
   "outputs": [],
   "source": [
    "from nltk.stem import WordNetLemmatizer \n",
    "from nltk.stem import PorterStemmer\n",
    "what = stem_and_lemmatize(['good','better','best'])\n",
    "what"
   ]
  },
  {
   "cell_type": "code",
   "execution_count": null,
   "metadata": {},
   "outputs": [],
   "source": [
    "ps = PorterStemmer() \n",
    "lst = ['caring','better','stemming']\n",
    "stem = []\n",
    "for i in lst:\n",
    "    s = ps.stem(i)\n",
    "    stem.append(s)\n",
    "stem"
   ]
  },
  {
   "cell_type": "code",
   "execution_count": null,
   "metadata": {},
   "outputs": [],
   "source": [
    "lm = WordNetLemmatizer()\n",
    "lemm = []\n",
    "for i in lst:\n",
    "    s = lm.lemmatize(i)\n",
    "    lemm.append(s)\n",
    "lemm"
   ]
  },
  {
   "cell_type": "markdown",
   "metadata": {},
   "source": [
    "### Creating Bag of Words\n",
    "\n",
    "The purpose of this step is to create a [bag of words](https://en.wikipedia.org/wiki/Bag-of-words_model) from the processed data. The bag of words contains all the unique words in your whole text body (a.k.a. *corpus*) with the number of occurrence of each word. It will allow you to understand which words are the most important features across the whole corpus.\n",
    "\n",
    "Also, you can imagine you will have a massive set of words. The less important words (i.e. those of very low number of occurrence) do not contribute much to the sentiment. Therefore, you only need to use the most important words to build your feature set in the next step. In our case, we will use the top 5,000 words with the highest frequency to build the features.\n",
    "\n",
    "In the cell below, combine all the words in `text_processed` and calculate the frequency distribution of all words. A convenient library to calculate the term frequency distribution is NLTK's `FreqDist` class ([documentation](https://www.nltk.org/api/nltk.html#module-nltk.probability)). Then select the top 5,000 words from the frequency distribution."
   ]
  },
  {
   "cell_type": "code",
   "execution_count": 9,
   "metadata": {},
   "outputs": [],
   "source": [
    "from nltk.probability import FreqDist\n"
   ]
  },
  {
   "cell_type": "code",
   "execution_count": 12,
   "metadata": {},
   "outputs": [],
   "source": [
    "# your code here\n",
    "\n",
    "# List of list of all words\n",
    "list_of_words = sample[\"text_processed\"].tolist()\n",
    "list_of_words\n",
    "\n",
    "# Create one list of all words\n",
    "bow = []\n",
    "for lists in list_of_words:\n",
    "    for word in lists:\n",
    "        bow.append(word)\n",
    "#print(bow)\n",
    "\n",
    "# Create frequency with words\n",
    "freq_dist = FreqDist(bow)\n",
    "top_5000 = freq_dist.most_common(5000)"
   ]
  },
  {
   "cell_type": "code",
   "execution_count": null,
   "metadata": {},
   "outputs": [],
   "source": [
    "#top_5000"
   ]
  },
  {
   "cell_type": "code",
   "execution_count": 13,
   "metadata": {},
   "outputs": [],
   "source": [
    "# separating list of words and frequency\n",
    "word_features, freq = [[x for x,y in top_5000],\n",
    "      [y for x,y in top_5000]]\n",
    "\n",
    "# List of just words\n",
    "# print(word_features)\n",
    "# print(freq)\n",
    "\n"
   ]
  },
  {
   "cell_type": "markdown",
   "metadata": {},
   "source": [
    "### Building Features\n",
    "\n",
    "Now let's build the features. Using the top 5,000 words, create a 2-dimensional matrix to record whether each of those words is contained in each document (tweet). Then you also have an output column to indicate whether the sentiment in each tweet is positive. For example, assuming your bag of words has 5 items (`['one', 'two', 'three', 'four', 'five']`) out of 4 documents (`['A', 'B', 'C', 'D']`), your feature set is essentially:\n",
    "\n",
    "| Doc | one | two | three | four | five | is_positive |\n",
    "|---|---|---|---|---|---|---|\n",
    "| A | True | False | False | True | False | True |\n",
    "| B | False | False | False | True | True | False |\n",
    "| C | False | True | False | False | False | True |\n",
    "| D | True | False | False | False | True | False|\n",
    "\n",
    "However, because the `nltk.NaiveBayesClassifier.train` class we will use in the next step does not work with Pandas dataframe, the structure of your feature set should be converted to the Python list looking like below:\n",
    "\n",
    "```python\n",
    "[\n",
    "\t({\n",
    "\t\t'one': True,\n",
    "\t\t'two': False,\n",
    "\t\t'three': False,\n",
    "\t\t'four': True,\n",
    "\t\t'five': False\n",
    "\t}, True),\n",
    "\t({\n",
    "\t\t'one': False,\n",
    "\t\t'two': False,\n",
    "\t\t'three': False,\n",
    "\t\t'four': True,\n",
    "\t\t'five': True\n",
    "\t}, False),\n",
    "\t({\n",
    "\t\t'one': False,\n",
    "\t\t'two': True,\n",
    "\t\t'three': False,\n",
    "\t\t'four': False,\n",
    "\t\t'five': False\n",
    "\t}, True),\n",
    "\t({\n",
    "\t\t'one': True,\n",
    "\t\t'two': False,\n",
    "\t\t'three': False,\n",
    "\t\t'four': False,\n",
    "\t\t'five': True\n",
    "\t}, False)\n",
    "]\n",
    "```\n",
    "\n",
    "To help you in this step, watch the [following video](https://www.youtube.com/watch?v=-vVskDsHcVc) to learn how to build the feature set with Python and NLTK. The source code in this video can be found [here](https://pythonprogramming.net/words-as-features-nltk-tutorial/)."
   ]
  },
  {
   "cell_type": "markdown",
   "metadata": {},
   "source": [
    "[![Building Features](building-features.jpg)](https://www.youtube.com/watch?v=-vVskDsHcVc)"
   ]
  },
  {
   "cell_type": "code",
   "execution_count": 15,
   "metadata": {},
   "outputs": [
    {
     "data": {
      "text/plain": [
       "10000"
      ]
     },
     "execution_count": 15,
     "metadata": {},
     "output_type": "execute_result"
    }
   ],
   "source": [
    "# your code here\n",
    "# word_features=list(bow)\n",
    "# word_features\n",
    "\n",
    "def find_features(lst, bow):\n",
    "    word_features=list(bow)\n",
    "    words = set(lst)\n",
    "    features = {}\n",
    "    for w in word_features:\n",
    "        features[w] = (w in words)\n",
    "    return features\n",
    "\n",
    "word_features\n",
    "features=[]\n",
    "for i,l in enumerate(sample[\"text_processed\"]):\n",
    "    s=[find_features(l,bow),sample[\"target\"].iloc[i]]\n",
    "    z=tuple(s)\n",
    "    features.append(z)\n",
    "len(features)"
   ]
  },
  {
   "cell_type": "code",
   "execution_count": null,
   "metadata": {},
   "outputs": [],
   "source": [
    "#features -- not printing to keep the lab shorter\n"
   ]
  },
  {
   "cell_type": "code",
   "execution_count": null,
   "metadata": {
    "scrolled": true
   },
   "outputs": [],
   "source": [
    "#featuresets = [(find_features(word_features), category) for (rev, category) in features]"
   ]
  },
  {
   "cell_type": "markdown",
   "metadata": {},
   "source": [
    "### Building and Traininng Naive Bayes Model\n",
    "\n",
    "In this step you will split your feature set into a training and a test set. Then you will create a Bayes classifier instance using `nltk.NaiveBayesClassifier.train` ([example](https://www.nltk.org/book/ch06.html)) to train with the training dataset.\n",
    "\n",
    "After training the model, call `classifier.show_most_informative_features()` to inspect the most important features. The output will look like:\n",
    "\n",
    "```\n",
    "Most Informative Features\n",
    "\t    snow = True            False : True   =     34.3 : 1.0\n",
    "\t  easter = True            False : True   =     26.2 : 1.0\n",
    "\t headach = True            False : True   =     20.9 : 1.0\n",
    "\t    argh = True            False : True   =     17.6 : 1.0\n",
    "\tunfortun = True            False : True   =     16.9 : 1.0\n",
    "\t    jona = True             True : False  =     16.2 : 1.0\n",
    "\t     ach = True            False : True   =     14.9 : 1.0\n",
    "\t     sad = True            False : True   =     13.0 : 1.0\n",
    "\t  parent = True            False : True   =     12.9 : 1.0\n",
    "\t  spring = True            False : True   =     12.7 : 1.0\n",
    "```\n",
    "\n",
    "The [following video](https://www.youtube.com/watch?v=rISOsUaTrO4) will help you complete this step. The source code in this video can be found [here](https://pythonprogramming.net/naive-bayes-classifier-nltk-tutorial/)."
   ]
  },
  {
   "cell_type": "markdown",
   "metadata": {},
   "source": [
    "[![Building and Training NB](nb-model-building.jpg)](https://www.youtube.com/watch?v=rISOsUaTrO4)"
   ]
  },
  {
   "cell_type": "code",
   "execution_count": 16,
   "metadata": {},
   "outputs": [],
   "source": [
    "# Split into train and test\n",
    "train_set, test_set = features[5000:], features[:5000]"
   ]
  },
  {
   "cell_type": "code",
   "execution_count": 17,
   "metadata": {},
   "outputs": [],
   "source": [
    "# your code here\n",
    "\n",
    "classifier = nltk.NaiveBayesClassifier.train(train_set)"
   ]
  },
  {
   "cell_type": "code",
   "execution_count": 18,
   "metadata": {},
   "outputs": [
    {
     "name": "stdout",
     "output_type": "stream",
     "text": [
      "Most Informative Features\n",
      "                     sad = True                0 : 4      =     17.1 : 1.0\n",
      "                     ugh = True                0 : 4      =     13.0 : 1.0\n",
      "                     die = True                0 : 4      =     13.0 : 1.0\n",
      "               goodnight = True                4 : 0      =     13.0 : 1.0\n",
      "                    sick = True                0 : 4      =     12.8 : 1.0\n",
      "                       v = True                4 : 0      =     10.3 : 1.0\n",
      "                   broke = True                0 : 4      =      9.7 : 1.0\n",
      "                    hate = True                0 : 4      =      8.6 : 1.0\n",
      "                 horribl = True                0 : 4      =      8.4 : 1.0\n",
      "                    pain = True                0 : 4      =      8.4 : 1.0\n"
     ]
    }
   ],
   "source": [
    "classifier.show_most_informative_features()"
   ]
  },
  {
   "cell_type": "markdown",
   "metadata": {},
   "source": [
    "### Testing Naive Bayes Model\n",
    "\n",
    "Now we'll test our classifier with the test dataset. This is done by calling `nltk.classify.accuracy(classifier, test)`.\n",
    "\n",
    "As mentioned in one of the tutorial videos, a Naive Bayes model is considered OK if your accuracy score is over 0.6. If your accuracy score is over 0.7, you've done a great job!"
   ]
  },
  {
   "cell_type": "code",
   "execution_count": 19,
   "metadata": {},
   "outputs": [
    {
     "data": {
      "text/plain": [
       "0.7048"
      ]
     },
     "execution_count": 19,
     "metadata": {},
     "output_type": "execute_result"
    }
   ],
   "source": [
    "# your code here\n",
    "nltk.classify.accuracy(classifier, test_set)"
   ]
  },
  {
   "cell_type": "markdown",
   "metadata": {},
   "source": [
    "## Bonus Question 1: Improve Model Performance\n",
    "\n",
    "If you are still not exhausted so far and want to dig deeper, try to improve your classifier performance. There are many aspects you can dig into, for example:\n",
    "\n",
    "* Improve stemming and lemmatization. Inspect your bag of words and the most important features. Are there any words you should furuther remove from analysis? You can append these words to further remove to the stop words list.\n",
    "\n",
    "* Remember we only used the top 5,000 features to build model? Try using different numbers of top features. The bottom line is to use as few features as you can without compromising your model performance. The fewer features you select into your model, the faster your model is trained. Then you can use a larger sample size to improve your model accuracy score."
   ]
  },
  {
   "cell_type": "code",
   "execution_count": null,
   "metadata": {},
   "outputs": [],
   "source": [
    "# your code here"
   ]
  },
  {
   "cell_type": "markdown",
   "metadata": {},
   "source": [
    "## Bonus Question 2: Machine Learning Pipeline\n",
    "\n",
    "In a new Jupyter Notebook, combine all your codes into a function (or a class). Your new function will execute the complete machine learning pipeline job by receiving the dataset location and output the classifier. This will allow you to use your function to predict the sentiment of any tweet in real time. "
   ]
  },
  {
   "cell_type": "code",
   "execution_count": null,
   "metadata": {},
   "outputs": [],
   "source": [
    "# your code here"
   ]
  },
  {
   "cell_type": "markdown",
   "metadata": {},
   "source": []
  },
  {
   "cell_type": "code",
   "execution_count": null,
   "metadata": {},
   "outputs": [],
   "source": []
  }
 ],
 "metadata": {
  "kernelspec": {
   "display_name": "Python 3",
   "language": "python",
   "name": "python3"
  },
  "language_info": {
   "codemirror_mode": {
    "name": "ipython",
    "version": 3
   },
   "file_extension": ".py",
   "mimetype": "text/x-python",
   "name": "python",
   "nbconvert_exporter": "python",
   "pygments_lexer": "ipython3",
   "version": "3.8.3"
  }
 },
 "nbformat": 4,
 "nbformat_minor": 2
}

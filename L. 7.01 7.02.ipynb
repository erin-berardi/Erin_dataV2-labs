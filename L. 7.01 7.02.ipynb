{
 "cells": [
  {
   "cell_type": "markdown",
   "metadata": {
    "id": "7BxdS3wjgulL"
   },
   "source": [
    "# 7.01 Lesson 1 key concepts\n",
    "## Reading the data"
   ]
  },
  {
   "cell_type": "code",
   "execution_count": 1,
   "metadata": {
    "id": "uQDtuTpIgulR"
   },
   "outputs": [],
   "source": [
    "import pandas as pd\n",
    "import numpy as np\n",
    "import matplotlib.pyplot as plt\n",
    "import seaborn as sns \n",
    "import warnings\n",
    "warnings.filterwarnings('ignore')"
   ]
  },
  {
   "cell_type": "code",
   "execution_count": 2,
   "metadata": {
    "id": "B9-PcfNB5K4d"
   },
   "outputs": [
    {
     "name": "stdout",
     "output_type": "stream",
     "text": [
      "(95412, 481)\n"
     ]
    },
    {
     "data": {
      "text/html": [
       "<div>\n",
       "<style scoped>\n",
       "    .dataframe tbody tr th:only-of-type {\n",
       "        vertical-align: middle;\n",
       "    }\n",
       "\n",
       "    .dataframe tbody tr th {\n",
       "        vertical-align: top;\n",
       "    }\n",
       "\n",
       "    .dataframe thead th {\n",
       "        text-align: right;\n",
       "    }\n",
       "</style>\n",
       "<table border=\"1\" class=\"dataframe\">\n",
       "  <thead>\n",
       "    <tr style=\"text-align: right;\">\n",
       "      <th></th>\n",
       "      <th>ODATEDW</th>\n",
       "      <th>OSOURCE</th>\n",
       "      <th>TCODE</th>\n",
       "      <th>STATE</th>\n",
       "      <th>ZIP</th>\n",
       "      <th>MAILCODE</th>\n",
       "      <th>PVASTATE</th>\n",
       "      <th>DOB</th>\n",
       "      <th>NOEXCH</th>\n",
       "      <th>RECINHSE</th>\n",
       "      <th>...</th>\n",
       "      <th>TARGET_D</th>\n",
       "      <th>HPHONE_D</th>\n",
       "      <th>RFA_2R</th>\n",
       "      <th>RFA_2F</th>\n",
       "      <th>RFA_2A</th>\n",
       "      <th>MDMAUD_R</th>\n",
       "      <th>MDMAUD_F</th>\n",
       "      <th>MDMAUD_A</th>\n",
       "      <th>CLUSTER2</th>\n",
       "      <th>GEOCODE2</th>\n",
       "    </tr>\n",
       "  </thead>\n",
       "  <tbody>\n",
       "    <tr>\n",
       "      <th>0</th>\n",
       "      <td>8901</td>\n",
       "      <td>GRI</td>\n",
       "      <td>0</td>\n",
       "      <td>IL</td>\n",
       "      <td>61081</td>\n",
       "      <td></td>\n",
       "      <td></td>\n",
       "      <td>3712</td>\n",
       "      <td>0</td>\n",
       "      <td></td>\n",
       "      <td>...</td>\n",
       "      <td>0.0</td>\n",
       "      <td>0</td>\n",
       "      <td>L</td>\n",
       "      <td>4</td>\n",
       "      <td>E</td>\n",
       "      <td>X</td>\n",
       "      <td>X</td>\n",
       "      <td>X</td>\n",
       "      <td>39.0</td>\n",
       "      <td>C</td>\n",
       "    </tr>\n",
       "    <tr>\n",
       "      <th>1</th>\n",
       "      <td>9401</td>\n",
       "      <td>BOA</td>\n",
       "      <td>1</td>\n",
       "      <td>CA</td>\n",
       "      <td>91326</td>\n",
       "      <td></td>\n",
       "      <td></td>\n",
       "      <td>5202</td>\n",
       "      <td>0</td>\n",
       "      <td></td>\n",
       "      <td>...</td>\n",
       "      <td>0.0</td>\n",
       "      <td>0</td>\n",
       "      <td>L</td>\n",
       "      <td>2</td>\n",
       "      <td>G</td>\n",
       "      <td>X</td>\n",
       "      <td>X</td>\n",
       "      <td>X</td>\n",
       "      <td>1.0</td>\n",
       "      <td>A</td>\n",
       "    </tr>\n",
       "    <tr>\n",
       "      <th>2</th>\n",
       "      <td>9001</td>\n",
       "      <td>AMH</td>\n",
       "      <td>1</td>\n",
       "      <td>NC</td>\n",
       "      <td>27017</td>\n",
       "      <td></td>\n",
       "      <td></td>\n",
       "      <td>0</td>\n",
       "      <td>0</td>\n",
       "      <td></td>\n",
       "      <td>...</td>\n",
       "      <td>0.0</td>\n",
       "      <td>1</td>\n",
       "      <td>L</td>\n",
       "      <td>4</td>\n",
       "      <td>E</td>\n",
       "      <td>X</td>\n",
       "      <td>X</td>\n",
       "      <td>X</td>\n",
       "      <td>60.0</td>\n",
       "      <td>C</td>\n",
       "    </tr>\n",
       "    <tr>\n",
       "      <th>3</th>\n",
       "      <td>8701</td>\n",
       "      <td>BRY</td>\n",
       "      <td>0</td>\n",
       "      <td>CA</td>\n",
       "      <td>95953</td>\n",
       "      <td></td>\n",
       "      <td></td>\n",
       "      <td>2801</td>\n",
       "      <td>0</td>\n",
       "      <td></td>\n",
       "      <td>...</td>\n",
       "      <td>0.0</td>\n",
       "      <td>1</td>\n",
       "      <td>L</td>\n",
       "      <td>4</td>\n",
       "      <td>E</td>\n",
       "      <td>X</td>\n",
       "      <td>X</td>\n",
       "      <td>X</td>\n",
       "      <td>41.0</td>\n",
       "      <td>C</td>\n",
       "    </tr>\n",
       "    <tr>\n",
       "      <th>4</th>\n",
       "      <td>8601</td>\n",
       "      <td></td>\n",
       "      <td>0</td>\n",
       "      <td>FL</td>\n",
       "      <td>33176</td>\n",
       "      <td></td>\n",
       "      <td></td>\n",
       "      <td>2001</td>\n",
       "      <td>0</td>\n",
       "      <td>X</td>\n",
       "      <td>...</td>\n",
       "      <td>0.0</td>\n",
       "      <td>1</td>\n",
       "      <td>L</td>\n",
       "      <td>2</td>\n",
       "      <td>F</td>\n",
       "      <td>X</td>\n",
       "      <td>X</td>\n",
       "      <td>X</td>\n",
       "      <td>26.0</td>\n",
       "      <td>A</td>\n",
       "    </tr>\n",
       "  </tbody>\n",
       "</table>\n",
       "<p>5 rows × 481 columns</p>\n",
       "</div>"
      ],
      "text/plain": [
       "   ODATEDW OSOURCE  TCODE STATE    ZIP MAILCODE PVASTATE   DOB NOEXCH  \\\n",
       "0     8901     GRI      0    IL  61081                    3712      0   \n",
       "1     9401     BOA      1    CA  91326                    5202      0   \n",
       "2     9001     AMH      1    NC  27017                       0      0   \n",
       "3     8701     BRY      0    CA  95953                    2801      0   \n",
       "4     8601              0    FL  33176                    2001      0   \n",
       "\n",
       "  RECINHSE  ... TARGET_D HPHONE_D RFA_2R RFA_2F RFA_2A MDMAUD_R  MDMAUD_F  \\\n",
       "0           ...      0.0        0      L      4      E        X         X   \n",
       "1           ...      0.0        0      L      2      G        X         X   \n",
       "2           ...      0.0        1      L      4      E        X         X   \n",
       "3           ...      0.0        1      L      4      E        X         X   \n",
       "4        X  ...      0.0        1      L      2      F        X         X   \n",
       "\n",
       "  MDMAUD_A CLUSTER2 GEOCODE2  \n",
       "0        X     39.0        C  \n",
       "1        X      1.0        A  \n",
       "2        X     60.0        C  \n",
       "3        X     41.0        C  \n",
       "4        X     26.0        A  \n",
       "\n",
       "[5 rows x 481 columns]"
      ]
     },
     "execution_count": 2,
     "metadata": {},
     "output_type": "execute_result"
    }
   ],
   "source": [
    "data = pd.read_csv('learningSet.csv')\n",
    "print(data.shape)\n",
    "data.head()"
   ]
  },
  {
   "cell_type": "code",
   "execution_count": 3,
   "metadata": {
    "id": "j5Umg8I-3DNt"
   },
   "outputs": [],
   "source": [
    "import bz2\n",
    "import pickle\n",
    "import _pickle as cPickle"
   ]
  },
  {
   "cell_type": "code",
   "execution_count": 4,
   "metadata": {},
   "outputs": [],
   "source": [
    "data.to_pickle('learningSet.p')"
   ]
  },
  {
   "cell_type": "raw",
   "metadata": {
    "id": "270aoEbD3CRO"
   },
   "source": [
    "data = bz2.BZ2File('learningSet.p', 'rb')\n",
    "data = cPickle.load(data)"
   ]
  },
  {
   "cell_type": "code",
   "execution_count": 5,
   "metadata": {
    "colab": {
     "base_uri": "https://localhost:8080/",
     "height": 270
    },
    "id": "IhIQGVCo45Gf",
    "outputId": "d144344c-fa77-459f-aa9b-260814431a05"
   },
   "outputs": [
    {
     "name": "stdout",
     "output_type": "stream",
     "text": [
      "(95412, 481)\n"
     ]
    },
    {
     "data": {
      "text/html": [
       "<div>\n",
       "<style scoped>\n",
       "    .dataframe tbody tr th:only-of-type {\n",
       "        vertical-align: middle;\n",
       "    }\n",
       "\n",
       "    .dataframe tbody tr th {\n",
       "        vertical-align: top;\n",
       "    }\n",
       "\n",
       "    .dataframe thead th {\n",
       "        text-align: right;\n",
       "    }\n",
       "</style>\n",
       "<table border=\"1\" class=\"dataframe\">\n",
       "  <thead>\n",
       "    <tr style=\"text-align: right;\">\n",
       "      <th></th>\n",
       "      <th>ODATEDW</th>\n",
       "      <th>OSOURCE</th>\n",
       "      <th>TCODE</th>\n",
       "      <th>STATE</th>\n",
       "      <th>ZIP</th>\n",
       "      <th>MAILCODE</th>\n",
       "      <th>PVASTATE</th>\n",
       "      <th>DOB</th>\n",
       "      <th>NOEXCH</th>\n",
       "      <th>RECINHSE</th>\n",
       "      <th>...</th>\n",
       "      <th>TARGET_D</th>\n",
       "      <th>HPHONE_D</th>\n",
       "      <th>RFA_2R</th>\n",
       "      <th>RFA_2F</th>\n",
       "      <th>RFA_2A</th>\n",
       "      <th>MDMAUD_R</th>\n",
       "      <th>MDMAUD_F</th>\n",
       "      <th>MDMAUD_A</th>\n",
       "      <th>CLUSTER2</th>\n",
       "      <th>GEOCODE2</th>\n",
       "    </tr>\n",
       "  </thead>\n",
       "  <tbody>\n",
       "    <tr>\n",
       "      <th>0</th>\n",
       "      <td>8901</td>\n",
       "      <td>GRI</td>\n",
       "      <td>0</td>\n",
       "      <td>IL</td>\n",
       "      <td>61081</td>\n",
       "      <td></td>\n",
       "      <td></td>\n",
       "      <td>3712</td>\n",
       "      <td>0</td>\n",
       "      <td></td>\n",
       "      <td>...</td>\n",
       "      <td>0.0</td>\n",
       "      <td>0</td>\n",
       "      <td>L</td>\n",
       "      <td>4</td>\n",
       "      <td>E</td>\n",
       "      <td>X</td>\n",
       "      <td>X</td>\n",
       "      <td>X</td>\n",
       "      <td>39.0</td>\n",
       "      <td>C</td>\n",
       "    </tr>\n",
       "    <tr>\n",
       "      <th>1</th>\n",
       "      <td>9401</td>\n",
       "      <td>BOA</td>\n",
       "      <td>1</td>\n",
       "      <td>CA</td>\n",
       "      <td>91326</td>\n",
       "      <td></td>\n",
       "      <td></td>\n",
       "      <td>5202</td>\n",
       "      <td>0</td>\n",
       "      <td></td>\n",
       "      <td>...</td>\n",
       "      <td>0.0</td>\n",
       "      <td>0</td>\n",
       "      <td>L</td>\n",
       "      <td>2</td>\n",
       "      <td>G</td>\n",
       "      <td>X</td>\n",
       "      <td>X</td>\n",
       "      <td>X</td>\n",
       "      <td>1.0</td>\n",
       "      <td>A</td>\n",
       "    </tr>\n",
       "    <tr>\n",
       "      <th>2</th>\n",
       "      <td>9001</td>\n",
       "      <td>AMH</td>\n",
       "      <td>1</td>\n",
       "      <td>NC</td>\n",
       "      <td>27017</td>\n",
       "      <td></td>\n",
       "      <td></td>\n",
       "      <td>0</td>\n",
       "      <td>0</td>\n",
       "      <td></td>\n",
       "      <td>...</td>\n",
       "      <td>0.0</td>\n",
       "      <td>1</td>\n",
       "      <td>L</td>\n",
       "      <td>4</td>\n",
       "      <td>E</td>\n",
       "      <td>X</td>\n",
       "      <td>X</td>\n",
       "      <td>X</td>\n",
       "      <td>60.0</td>\n",
       "      <td>C</td>\n",
       "    </tr>\n",
       "    <tr>\n",
       "      <th>3</th>\n",
       "      <td>8701</td>\n",
       "      <td>BRY</td>\n",
       "      <td>0</td>\n",
       "      <td>CA</td>\n",
       "      <td>95953</td>\n",
       "      <td></td>\n",
       "      <td></td>\n",
       "      <td>2801</td>\n",
       "      <td>0</td>\n",
       "      <td></td>\n",
       "      <td>...</td>\n",
       "      <td>0.0</td>\n",
       "      <td>1</td>\n",
       "      <td>L</td>\n",
       "      <td>4</td>\n",
       "      <td>E</td>\n",
       "      <td>X</td>\n",
       "      <td>X</td>\n",
       "      <td>X</td>\n",
       "      <td>41.0</td>\n",
       "      <td>C</td>\n",
       "    </tr>\n",
       "    <tr>\n",
       "      <th>4</th>\n",
       "      <td>8601</td>\n",
       "      <td></td>\n",
       "      <td>0</td>\n",
       "      <td>FL</td>\n",
       "      <td>33176</td>\n",
       "      <td></td>\n",
       "      <td></td>\n",
       "      <td>2001</td>\n",
       "      <td>0</td>\n",
       "      <td>X</td>\n",
       "      <td>...</td>\n",
       "      <td>0.0</td>\n",
       "      <td>1</td>\n",
       "      <td>L</td>\n",
       "      <td>2</td>\n",
       "      <td>F</td>\n",
       "      <td>X</td>\n",
       "      <td>X</td>\n",
       "      <td>X</td>\n",
       "      <td>26.0</td>\n",
       "      <td>A</td>\n",
       "    </tr>\n",
       "  </tbody>\n",
       "</table>\n",
       "<p>5 rows × 481 columns</p>\n",
       "</div>"
      ],
      "text/plain": [
       "   ODATEDW OSOURCE  TCODE STATE    ZIP MAILCODE PVASTATE   DOB NOEXCH  \\\n",
       "0     8901     GRI      0    IL  61081                    3712      0   \n",
       "1     9401     BOA      1    CA  91326                    5202      0   \n",
       "2     9001     AMH      1    NC  27017                       0      0   \n",
       "3     8701     BRY      0    CA  95953                    2801      0   \n",
       "4     8601              0    FL  33176                    2001      0   \n",
       "\n",
       "  RECINHSE  ... TARGET_D HPHONE_D RFA_2R RFA_2F RFA_2A MDMAUD_R  MDMAUD_F  \\\n",
       "0           ...      0.0        0      L      4      E        X         X   \n",
       "1           ...      0.0        0      L      2      G        X         X   \n",
       "2           ...      0.0        1      L      4      E        X         X   \n",
       "3           ...      0.0        1      L      4      E        X         X   \n",
       "4        X  ...      0.0        1      L      2      F        X         X   \n",
       "\n",
       "  MDMAUD_A CLUSTER2 GEOCODE2  \n",
       "0        X     39.0        C  \n",
       "1        X      1.0        A  \n",
       "2        X     60.0        C  \n",
       "3        X     41.0        C  \n",
       "4        X     26.0        A  \n",
       "\n",
       "[5 rows x 481 columns]"
      ]
     },
     "execution_count": 5,
     "metadata": {},
     "output_type": "execute_result"
    }
   ],
   "source": [
    "print(data.shape)\n",
    "data.head()"
   ]
  },
  {
   "cell_type": "code",
   "execution_count": 6,
   "metadata": {
    "colab": {
     "base_uri": "https://localhost:8080/"
    },
    "id": "ch4kkMnKgulS",
    "outputId": "5b307dfb-e0a4-4086-9199-d3d047809394"
   },
   "outputs": [
    {
     "data": {
      "text/plain": [
       "0    90569\n",
       "1     4843\n",
       "Name: TARGET_B, dtype: int64"
      ]
     },
     "execution_count": 6,
     "metadata": {},
     "output_type": "execute_result"
    }
   ],
   "source": [
    "data['TARGET_B'].value_counts()"
   ]
  },
  {
   "cell_type": "code",
   "execution_count": 7,
   "metadata": {
    "colab": {
     "base_uri": "https://localhost:8080/"
    },
    "id": "Am5x0WrPgulT",
    "outputId": "24140373-7ff0-42b4-e64f-4d234295b435"
   },
   "outputs": [
    {
     "data": {
      "text/plain": [
       "count    95412.000000\n",
       "mean         0.793073\n",
       "std          4.429725\n",
       "min          0.000000\n",
       "25%          0.000000\n",
       "50%          0.000000\n",
       "75%          0.000000\n",
       "max        200.000000\n",
       "Name: TARGET_D, dtype: float64"
      ]
     },
     "execution_count": 7,
     "metadata": {},
     "output_type": "execute_result"
    }
   ],
   "source": [
    "data['TARGET_D'].describe()"
   ]
  },
  {
   "cell_type": "markdown",
   "metadata": {
    "id": "Jb_oNbVf5h70"
   },
   "source": [
    "To solve this problem we will first build a classification model to predict who will more likely respond and then for those respondents, we will build a regression model to predict the donation amount.\n",
    "\n",
    "Then we can use the cost matrix to calculate the total benefit from the donations\n",
    "\n",
    "Some of the challenges with the dataset are as follows:\n",
    "\n",
    "Large number of features: The data set has over 450 features. Hence selecting the right features for the model is very critical and at the same time it is not easy as the same traditional ways of removing features is not effective given the large number of features. Apart from feature selection, feature extraction (creating your own features using the existing features) is also not easy in this case.\n",
    "Sparsity of the dataset: There are a lot of features with a large number of null values.\n",
    "Data imbalance: For developing a classification, there is a huge imbalance in the training dataset with only approximately 5000 values for one category as compared to cover 95,000 instances for the other category."
   ]
  },
  {
   "cell_type": "markdown",
   "metadata": {
    "id": "DS1LknszgulT"
   },
   "source": [
    "# 7.01 Lesson 2 key concepts\n",
    "## Review data cleaning process"
   ]
  },
  {
   "cell_type": "markdown",
   "metadata": {
    "id": "5HUMkzE-7b62"
   },
   "source": [
    "There are a lot of columns that have a very high percentage of null values. It is a highly sparse dataset. \n",
    "We can decide on a threshold and then remove those variables. There is no rule of thumb to decide on this threshold value. \n",
    "Sometimes it can as low as 25%-30%. And sometimes in some data sets you might find that even though there are more than 50% missing values in a column, you might have to include that variable in your analysis. \n",
    "A lot of it depends on the business context as well. In this case we will take this threshold to be 25% and then check the definitions of the columns filtered, to see if there is any column that we might want to keep."
   ]
  },
  {
   "cell_type": "code",
   "execution_count": 8,
   "metadata": {
    "colab": {
     "base_uri": "https://localhost:8080/",
     "height": 419
    },
    "id": "Cd7wYAqXgulU",
    "outputId": "0b3ecdf4-86e7-4e3f-e4e5-82aeb803566a",
    "scrolled": false
   },
   "outputs": [
    {
     "data": {
      "text/html": [
       "<div>\n",
       "<style scoped>\n",
       "    .dataframe tbody tr th:only-of-type {\n",
       "        vertical-align: middle;\n",
       "    }\n",
       "\n",
       "    .dataframe tbody tr th {\n",
       "        vertical-align: top;\n",
       "    }\n",
       "\n",
       "    .dataframe thead th {\n",
       "        text-align: right;\n",
       "    }\n",
       "</style>\n",
       "<table border=\"1\" class=\"dataframe\">\n",
       "  <thead>\n",
       "    <tr style=\"text-align: right;\">\n",
       "      <th></th>\n",
       "      <th>column_name</th>\n",
       "      <th>nulls_percentage</th>\n",
       "    </tr>\n",
       "  </thead>\n",
       "  <tbody>\n",
       "    <tr>\n",
       "      <th>0</th>\n",
       "      <td>ODATEDW</td>\n",
       "      <td>0.000000</td>\n",
       "    </tr>\n",
       "    <tr>\n",
       "      <th>1</th>\n",
       "      <td>OSOURCE</td>\n",
       "      <td>0.000000</td>\n",
       "    </tr>\n",
       "    <tr>\n",
       "      <th>2</th>\n",
       "      <td>TCODE</td>\n",
       "      <td>0.000000</td>\n",
       "    </tr>\n",
       "    <tr>\n",
       "      <th>3</th>\n",
       "      <td>STATE</td>\n",
       "      <td>0.000000</td>\n",
       "    </tr>\n",
       "    <tr>\n",
       "      <th>4</th>\n",
       "      <td>ZIP</td>\n",
       "      <td>0.000000</td>\n",
       "    </tr>\n",
       "    <tr>\n",
       "      <th>...</th>\n",
       "      <td>...</td>\n",
       "      <td>...</td>\n",
       "    </tr>\n",
       "    <tr>\n",
       "      <th>476</th>\n",
       "      <td>MDMAUD_R</td>\n",
       "      <td>0.000000</td>\n",
       "    </tr>\n",
       "    <tr>\n",
       "      <th>477</th>\n",
       "      <td>MDMAUD_F</td>\n",
       "      <td>0.000000</td>\n",
       "    </tr>\n",
       "    <tr>\n",
       "      <th>478</th>\n",
       "      <td>MDMAUD_A</td>\n",
       "      <td>0.000000</td>\n",
       "    </tr>\n",
       "    <tr>\n",
       "      <th>479</th>\n",
       "      <td>CLUSTER2</td>\n",
       "      <td>0.001383</td>\n",
       "    </tr>\n",
       "    <tr>\n",
       "      <th>480</th>\n",
       "      <td>GEOCODE2</td>\n",
       "      <td>0.001383</td>\n",
       "    </tr>\n",
       "  </tbody>\n",
       "</table>\n",
       "<p>481 rows × 2 columns</p>\n",
       "</div>"
      ],
      "text/plain": [
       "    column_name  nulls_percentage\n",
       "0       ODATEDW          0.000000\n",
       "1       OSOURCE          0.000000\n",
       "2         TCODE          0.000000\n",
       "3         STATE          0.000000\n",
       "4           ZIP          0.000000\n",
       "..          ...               ...\n",
       "476    MDMAUD_R          0.000000\n",
       "477    MDMAUD_F          0.000000\n",
       "478    MDMAUD_A          0.000000\n",
       "479    CLUSTER2          0.001383\n",
       "480    GEOCODE2          0.001383\n",
       "\n",
       "[481 rows x 2 columns]"
      ]
     },
     "execution_count": 8,
     "metadata": {},
     "output_type": "execute_result"
    }
   ],
   "source": [
    "nulls_percent_df = pd.DataFrame(data.isna().sum()/len(data)).reset_index()\n",
    "nulls_percent_df.columns = ['column_name', 'nulls_percentage']\n",
    "nulls_percent_df"
   ]
  },
  {
   "cell_type": "code",
   "execution_count": 9,
   "metadata": {
    "colab": {
     "base_uri": "https://localhost:8080/",
     "height": 419
    },
    "id": "9rvjMejT6U41",
    "outputId": "215f14c7-de3f-44b9-a6bc-0df6320ff81d"
   },
   "outputs": [
    {
     "data": {
      "text/html": [
       "<div>\n",
       "<style scoped>\n",
       "    .dataframe tbody tr th:only-of-type {\n",
       "        vertical-align: middle;\n",
       "    }\n",
       "\n",
       "    .dataframe tbody tr th {\n",
       "        vertical-align: top;\n",
       "    }\n",
       "\n",
       "    .dataframe thead th {\n",
       "        text-align: right;\n",
       "    }\n",
       "</style>\n",
       "<table border=\"1\" class=\"dataframe\">\n",
       "  <thead>\n",
       "    <tr style=\"text-align: right;\">\n",
       "      <th></th>\n",
       "      <th>column_name</th>\n",
       "      <th>nulls_percentage</th>\n",
       "    </tr>\n",
       "  </thead>\n",
       "  <tbody>\n",
       "    <tr>\n",
       "      <th>16</th>\n",
       "      <td>AGE</td>\n",
       "      <td>0.248030</td>\n",
       "    </tr>\n",
       "    <tr>\n",
       "      <th>23</th>\n",
       "      <td>NUMCHLD</td>\n",
       "      <td>0.870184</td>\n",
       "    </tr>\n",
       "    <tr>\n",
       "      <th>24</th>\n",
       "      <td>INCOME</td>\n",
       "      <td>0.223096</td>\n",
       "    </tr>\n",
       "    <tr>\n",
       "      <th>26</th>\n",
       "      <td>WEALTH1</td>\n",
       "      <td>0.468830</td>\n",
       "    </tr>\n",
       "    <tr>\n",
       "      <th>28</th>\n",
       "      <td>MBCRAFT</td>\n",
       "      <td>0.553955</td>\n",
       "    </tr>\n",
       "    <tr>\n",
       "      <th>...</th>\n",
       "      <td>...</td>\n",
       "      <td>...</td>\n",
       "    </tr>\n",
       "    <tr>\n",
       "      <th>455</th>\n",
       "      <td>RAMNT_24</td>\n",
       "      <td>0.814090</td>\n",
       "    </tr>\n",
       "    <tr>\n",
       "      <th>466</th>\n",
       "      <td>NEXTDATE</td>\n",
       "      <td>0.104526</td>\n",
       "    </tr>\n",
       "    <tr>\n",
       "      <th>467</th>\n",
       "      <td>TIMELAG</td>\n",
       "      <td>0.104526</td>\n",
       "    </tr>\n",
       "    <tr>\n",
       "      <th>479</th>\n",
       "      <td>CLUSTER2</td>\n",
       "      <td>0.001383</td>\n",
       "    </tr>\n",
       "    <tr>\n",
       "      <th>480</th>\n",
       "      <td>GEOCODE2</td>\n",
       "      <td>0.001383</td>\n",
       "    </tr>\n",
       "  </tbody>\n",
       "</table>\n",
       "<p>92 rows × 2 columns</p>\n",
       "</div>"
      ],
      "text/plain": [
       "    column_name  nulls_percentage\n",
       "16          AGE          0.248030\n",
       "23      NUMCHLD          0.870184\n",
       "24       INCOME          0.223096\n",
       "26      WEALTH1          0.468830\n",
       "28      MBCRAFT          0.553955\n",
       "..          ...               ...\n",
       "455    RAMNT_24          0.814090\n",
       "466    NEXTDATE          0.104526\n",
       "467     TIMELAG          0.104526\n",
       "479    CLUSTER2          0.001383\n",
       "480    GEOCODE2          0.001383\n",
       "\n",
       "[92 rows x 2 columns]"
      ]
     },
     "execution_count": 9,
     "metadata": {},
     "output_type": "execute_result"
    }
   ],
   "source": [
    "nulls_percent_df[nulls_percent_df['nulls_percentage']!=0]"
   ]
  },
  {
   "cell_type": "code",
   "execution_count": 10,
   "metadata": {
    "colab": {
     "base_uri": "https://localhost:8080/"
    },
    "id": "H27JCHqIgulU",
    "outputId": "49b59bd3-84ac-492f-d810-cfa5d0657006"
   },
   "outputs": [
    {
     "data": {
      "text/plain": [
       "23      NUMCHLD\n",
       "26      WEALTH1\n",
       "28      MBCRAFT\n",
       "29     MBGARDEN\n",
       "30      MBBOOKS\n",
       "         ...   \n",
       "451    RAMNT_20\n",
       "452    RAMNT_21\n",
       "453    RAMNT_22\n",
       "454    RAMNT_23\n",
       "455    RAMNT_24\n",
       "Name: column_name, Length: 72, dtype: object"
      ]
     },
     "execution_count": 10,
     "metadata": {},
     "output_type": "execute_result"
    }
   ],
   "source": [
    "columns_above_threshold = nulls_percent_df[nulls_percent_df['nulls_percentage']>0.25]\n",
    "columns_above_threshold['column_name']"
   ]
  },
  {
   "cell_type": "code",
   "execution_count": 11,
   "metadata": {
    "colab": {
     "base_uri": "https://localhost:8080/"
    },
    "id": "BnYtuY7CgulV",
    "outputId": "0e77b1a5-5147-48b1-f703-047413b3ccbd"
   },
   "outputs": [
    {
     "name": "stdout",
     "output_type": "stream",
     "text": [
      "['NUMCHLD', 'WEALTH1', 'MBCRAFT', 'MBGARDEN', 'MBBOOKS', 'MBCOLECT', 'MAGFAML', 'MAGFEM', 'MAGMALE', 'PUBGARDN', 'PUBCULIN', 'PUBHLTH', 'PUBDOITY', 'PUBNEWFN', 'PUBPHOTO', 'PUBOPP', 'WEALTH2', 'ADATE_5', 'ADATE_10', 'ADATE_13', 'ADATE_15', 'ADATE_17', 'ADATE_19', 'ADATE_20', 'ADATE_21', 'ADATE_22', 'ADATE_23', 'ADATE_24', 'RDATE_3', 'RDATE_4', 'RDATE_5', 'RDATE_6', 'RDATE_7', 'RDATE_8', 'RDATE_9', 'RDATE_10', 'RDATE_11', 'RDATE_12', 'RDATE_13', 'RDATE_14', 'RDATE_15', 'RDATE_16', 'RDATE_17', 'RDATE_18', 'RDATE_19', 'RDATE_20', 'RDATE_21', 'RDATE_22', 'RDATE_23', 'RDATE_24', 'RAMNT_3', 'RAMNT_4', 'RAMNT_5', 'RAMNT_6', 'RAMNT_7', 'RAMNT_8', 'RAMNT_9', 'RAMNT_10', 'RAMNT_11', 'RAMNT_12', 'RAMNT_13', 'RAMNT_14', 'RAMNT_15', 'RAMNT_16', 'RAMNT_17', 'RAMNT_18', 'RAMNT_19', 'RAMNT_20', 'RAMNT_21', 'RAMNT_22', 'RAMNT_23', 'RAMNT_24']\n"
     ]
    }
   ],
   "source": [
    "drop_columns_list = list(columns_above_threshold['column_name'])\n",
    "print(drop_columns_list)"
   ]
  },
  {
   "cell_type": "markdown",
   "metadata": {
    "id": "qy3vrGB3gulV"
   },
   "source": [
    "From the list above that includes the columns that have over 25% null values, you discussed with your manager you were told that the following columns are important -> wealth1, wealth2\n",
    "We will remove these variables from the above list \n",
    "RDATE3, RAMNT_3 are important but they have too many null values "
   ]
  },
  {
   "cell_type": "markdown",
   "metadata": {
    "id": "z4SmdgRzgulV"
   },
   "source": [
    "# 7.01 Activity 2\n",
    "## Remove columns with null values greater than a specified threshold"
   ]
  },
  {
   "cell_type": "code",
   "execution_count": 12,
   "metadata": {
    "colab": {
     "base_uri": "https://localhost:8080/"
    },
    "id": "Yv-nx-W8gulW",
    "outputId": "a383ff57-ca7b-40df-8d76-547229864c28"
   },
   "outputs": [
    {
     "name": "stdout",
     "output_type": "stream",
     "text": [
      "['NUMCHLD', 'MBCRAFT', 'MBGARDEN', 'MBBOOKS', 'MBCOLECT', 'MAGFAML', 'MAGFEM', 'MAGMALE', 'PUBGARDN', 'PUBCULIN', 'PUBHLTH', 'PUBDOITY', 'PUBNEWFN', 'PUBPHOTO', 'PUBOPP', 'ADATE_5', 'ADATE_10', 'ADATE_13', 'ADATE_15', 'ADATE_17', 'ADATE_19', 'ADATE_20', 'ADATE_21', 'ADATE_22', 'ADATE_23', 'ADATE_24', 'RDATE_3', 'RDATE_4', 'RDATE_5', 'RDATE_6', 'RDATE_7', 'RDATE_8', 'RDATE_9', 'RDATE_10', 'RDATE_11', 'RDATE_12', 'RDATE_13', 'RDATE_14', 'RDATE_15', 'RDATE_16', 'RDATE_17', 'RDATE_18', 'RDATE_19', 'RDATE_20', 'RDATE_21', 'RDATE_22', 'RDATE_23', 'RDATE_24', 'RAMNT_3', 'RAMNT_4', 'RAMNT_5', 'RAMNT_6', 'RAMNT_7', 'RAMNT_8', 'RAMNT_9', 'RAMNT_10', 'RAMNT_11', 'RAMNT_12', 'RAMNT_13', 'RAMNT_14', 'RAMNT_15', 'RAMNT_16', 'RAMNT_17', 'RAMNT_18', 'RAMNT_19', 'RAMNT_20', 'RAMNT_21', 'RAMNT_22', 'RAMNT_23', 'RAMNT_24']\n"
     ]
    }
   ],
   "source": [
    "cols = ['WEALTH1', 'WEALTH2']\n",
    "for item in cols:\n",
    "    drop_columns_list.remove(item)  \n",
    "print(drop_columns_list)"
   ]
  },
  {
   "cell_type": "code",
   "execution_count": 13,
   "metadata": {
    "colab": {
     "base_uri": "https://localhost:8080/"
    },
    "id": "7CFRhSasgulW",
    "outputId": "7a8a31e5-8ba6-466a-8e3d-08ebb100408f"
   },
   "outputs": [
    {
     "data": {
      "text/plain": [
       "(95412, 411)"
      ]
     },
     "execution_count": 13,
     "metadata": {},
     "output_type": "execute_result"
    }
   ],
   "source": [
    "data = data.drop(columns=drop_columns_list)\n",
    "data.shape"
   ]
  },
  {
   "cell_type": "markdown",
   "metadata": {
    "id": "i8M_c2RcgulW"
   },
   "source": [
    "## More data cleaning"
   ]
  },
  {
   "cell_type": "code",
   "execution_count": 14,
   "metadata": {
    "colab": {
     "base_uri": "https://localhost:8080/",
     "height": 253
    },
    "id": "k8LfcsVQgulW",
    "outputId": "e04bff62-a4df-4e29-d30d-5d9b28d769ab"
   },
   "outputs": [
    {
     "data": {
      "text/html": [
       "<div>\n",
       "<style scoped>\n",
       "    .dataframe tbody tr th:only-of-type {\n",
       "        vertical-align: middle;\n",
       "    }\n",
       "\n",
       "    .dataframe tbody tr th {\n",
       "        vertical-align: top;\n",
       "    }\n",
       "\n",
       "    .dataframe thead th {\n",
       "        text-align: right;\n",
       "    }\n",
       "</style>\n",
       "<table border=\"1\" class=\"dataframe\">\n",
       "  <thead>\n",
       "    <tr style=\"text-align: right;\">\n",
       "      <th></th>\n",
       "      <th>ODATEDW</th>\n",
       "      <th>OSOURCE</th>\n",
       "      <th>TCODE</th>\n",
       "      <th>STATE</th>\n",
       "      <th>ZIP</th>\n",
       "      <th>MAILCODE</th>\n",
       "      <th>PVASTATE</th>\n",
       "      <th>DOB</th>\n",
       "      <th>NOEXCH</th>\n",
       "      <th>RECINHSE</th>\n",
       "      <th>...</th>\n",
       "      <th>TARGET_D</th>\n",
       "      <th>HPHONE_D</th>\n",
       "      <th>RFA_2R</th>\n",
       "      <th>RFA_2F</th>\n",
       "      <th>RFA_2A</th>\n",
       "      <th>MDMAUD_R</th>\n",
       "      <th>MDMAUD_F</th>\n",
       "      <th>MDMAUD_A</th>\n",
       "      <th>CLUSTER2</th>\n",
       "      <th>GEOCODE2</th>\n",
       "    </tr>\n",
       "  </thead>\n",
       "  <tbody>\n",
       "    <tr>\n",
       "      <th>0</th>\n",
       "      <td>8901</td>\n",
       "      <td>GRI</td>\n",
       "      <td>0</td>\n",
       "      <td>IL</td>\n",
       "      <td>61081</td>\n",
       "      <td></td>\n",
       "      <td></td>\n",
       "      <td>3712</td>\n",
       "      <td>0</td>\n",
       "      <td></td>\n",
       "      <td>...</td>\n",
       "      <td>0.0</td>\n",
       "      <td>0</td>\n",
       "      <td>L</td>\n",
       "      <td>4</td>\n",
       "      <td>E</td>\n",
       "      <td>X</td>\n",
       "      <td>X</td>\n",
       "      <td>X</td>\n",
       "      <td>39.0</td>\n",
       "      <td>C</td>\n",
       "    </tr>\n",
       "    <tr>\n",
       "      <th>1</th>\n",
       "      <td>9401</td>\n",
       "      <td>BOA</td>\n",
       "      <td>1</td>\n",
       "      <td>CA</td>\n",
       "      <td>91326</td>\n",
       "      <td></td>\n",
       "      <td></td>\n",
       "      <td>5202</td>\n",
       "      <td>0</td>\n",
       "      <td></td>\n",
       "      <td>...</td>\n",
       "      <td>0.0</td>\n",
       "      <td>0</td>\n",
       "      <td>L</td>\n",
       "      <td>2</td>\n",
       "      <td>G</td>\n",
       "      <td>X</td>\n",
       "      <td>X</td>\n",
       "      <td>X</td>\n",
       "      <td>1.0</td>\n",
       "      <td>A</td>\n",
       "    </tr>\n",
       "    <tr>\n",
       "      <th>2</th>\n",
       "      <td>9001</td>\n",
       "      <td>AMH</td>\n",
       "      <td>1</td>\n",
       "      <td>NC</td>\n",
       "      <td>27017</td>\n",
       "      <td></td>\n",
       "      <td></td>\n",
       "      <td>0</td>\n",
       "      <td>0</td>\n",
       "      <td></td>\n",
       "      <td>...</td>\n",
       "      <td>0.0</td>\n",
       "      <td>1</td>\n",
       "      <td>L</td>\n",
       "      <td>4</td>\n",
       "      <td>E</td>\n",
       "      <td>X</td>\n",
       "      <td>X</td>\n",
       "      <td>X</td>\n",
       "      <td>60.0</td>\n",
       "      <td>C</td>\n",
       "    </tr>\n",
       "    <tr>\n",
       "      <th>3</th>\n",
       "      <td>8701</td>\n",
       "      <td>BRY</td>\n",
       "      <td>0</td>\n",
       "      <td>CA</td>\n",
       "      <td>95953</td>\n",
       "      <td></td>\n",
       "      <td></td>\n",
       "      <td>2801</td>\n",
       "      <td>0</td>\n",
       "      <td></td>\n",
       "      <td>...</td>\n",
       "      <td>0.0</td>\n",
       "      <td>1</td>\n",
       "      <td>L</td>\n",
       "      <td>4</td>\n",
       "      <td>E</td>\n",
       "      <td>X</td>\n",
       "      <td>X</td>\n",
       "      <td>X</td>\n",
       "      <td>41.0</td>\n",
       "      <td>C</td>\n",
       "    </tr>\n",
       "    <tr>\n",
       "      <th>4</th>\n",
       "      <td>8601</td>\n",
       "      <td></td>\n",
       "      <td>0</td>\n",
       "      <td>FL</td>\n",
       "      <td>33176</td>\n",
       "      <td></td>\n",
       "      <td></td>\n",
       "      <td>2001</td>\n",
       "      <td>0</td>\n",
       "      <td>X</td>\n",
       "      <td>...</td>\n",
       "      <td>0.0</td>\n",
       "      <td>1</td>\n",
       "      <td>L</td>\n",
       "      <td>2</td>\n",
       "      <td>F</td>\n",
       "      <td>X</td>\n",
       "      <td>X</td>\n",
       "      <td>X</td>\n",
       "      <td>26.0</td>\n",
       "      <td>A</td>\n",
       "    </tr>\n",
       "  </tbody>\n",
       "</table>\n",
       "<p>5 rows × 411 columns</p>\n",
       "</div>"
      ],
      "text/plain": [
       "   ODATEDW OSOURCE  TCODE STATE    ZIP MAILCODE PVASTATE   DOB NOEXCH  \\\n",
       "0     8901     GRI      0    IL  61081                    3712      0   \n",
       "1     9401     BOA      1    CA  91326                    5202      0   \n",
       "2     9001     AMH      1    NC  27017                       0      0   \n",
       "3     8701     BRY      0    CA  95953                    2801      0   \n",
       "4     8601              0    FL  33176                    2001      0   \n",
       "\n",
       "  RECINHSE  ... TARGET_D HPHONE_D RFA_2R RFA_2F RFA_2A MDMAUD_R  MDMAUD_F  \\\n",
       "0           ...      0.0        0      L      4      E        X         X   \n",
       "1           ...      0.0        0      L      2      G        X         X   \n",
       "2           ...      0.0        1      L      4      E        X         X   \n",
       "3           ...      0.0        1      L      4      E        X         X   \n",
       "4        X  ...      0.0        1      L      2      F        X         X   \n",
       "\n",
       "  MDMAUD_A CLUSTER2 GEOCODE2  \n",
       "0        X     39.0        C  \n",
       "1        X      1.0        A  \n",
       "2        X     60.0        C  \n",
       "3        X     41.0        C  \n",
       "4        X     26.0        A  \n",
       "\n",
       "[5 rows x 411 columns]"
      ]
     },
     "execution_count": 14,
     "metadata": {},
     "output_type": "execute_result"
    }
   ],
   "source": [
    "data.head()"
   ]
  },
  {
   "cell_type": "markdown",
   "metadata": {
    "id": "J16HXxbUgulX"
   },
   "source": [
    "We can see that there are a lot of columns that have blank spaces which represent no value in this case. \n",
    "They were not identified as null values by python as they are empty spaces that are read as character values by \n",
    "python. We will replace those values by NaNs and repeat the analysis \n",
    "\n",
    "Before we do that we will replace the blank values from the column \"MAILCODE\" by \"A\" which would mean the address is okay (pl check the definition of the variable in the description)"
   ]
  },
  {
   "cell_type": "code",
   "execution_count": 15,
   "metadata": {
    "colab": {
     "base_uri": "https://localhost:8080/"
    },
    "id": "2ma4YVP7gulX",
    "outputId": "05a3358b-20c6-4738-d239-bbf3901a266f"
   },
   "outputs": [
    {
     "data": {
      "text/plain": [
       "     94013\n",
       "B     1399\n",
       "Name: MAILCODE, dtype: int64"
      ]
     },
     "execution_count": 15,
     "metadata": {},
     "output_type": "execute_result"
    }
   ],
   "source": [
    "data['MAILCODE'].value_counts()"
   ]
  },
  {
   "cell_type": "code",
   "execution_count": 16,
   "metadata": {
    "id": "Il6fU7EVgulX"
   },
   "outputs": [],
   "source": [
    "data['MAILCODE'] = data['MAILCODE'].apply(lambda x: x.replace(\" \", \"A\"))"
   ]
  },
  {
   "cell_type": "code",
   "execution_count": 17,
   "metadata": {
    "id": "1XrbY5EqgulX"
   },
   "outputs": [],
   "source": [
    "# Now we can replace the rest space characters with np.NaN"
   ]
  },
  {
   "cell_type": "code",
   "execution_count": 18,
   "metadata": {
    "id": "TLGZ_CWBgulY"
   },
   "outputs": [],
   "source": [
    "data = data.apply(lambda x: x.replace(\" \", np.NaN))"
   ]
  },
  {
   "cell_type": "code",
   "execution_count": 19,
   "metadata": {
    "colab": {
     "base_uri": "https://localhost:8080/",
     "height": 253
    },
    "id": "SJL4ENIggulY",
    "outputId": "42d7c4b7-5f40-4c61-e1b1-6c2b76ff982f"
   },
   "outputs": [
    {
     "data": {
      "text/html": [
       "<div>\n",
       "<style scoped>\n",
       "    .dataframe tbody tr th:only-of-type {\n",
       "        vertical-align: middle;\n",
       "    }\n",
       "\n",
       "    .dataframe tbody tr th {\n",
       "        vertical-align: top;\n",
       "    }\n",
       "\n",
       "    .dataframe thead th {\n",
       "        text-align: right;\n",
       "    }\n",
       "</style>\n",
       "<table border=\"1\" class=\"dataframe\">\n",
       "  <thead>\n",
       "    <tr style=\"text-align: right;\">\n",
       "      <th></th>\n",
       "      <th>ODATEDW</th>\n",
       "      <th>OSOURCE</th>\n",
       "      <th>TCODE</th>\n",
       "      <th>STATE</th>\n",
       "      <th>ZIP</th>\n",
       "      <th>MAILCODE</th>\n",
       "      <th>PVASTATE</th>\n",
       "      <th>DOB</th>\n",
       "      <th>NOEXCH</th>\n",
       "      <th>RECINHSE</th>\n",
       "      <th>...</th>\n",
       "      <th>TARGET_D</th>\n",
       "      <th>HPHONE_D</th>\n",
       "      <th>RFA_2R</th>\n",
       "      <th>RFA_2F</th>\n",
       "      <th>RFA_2A</th>\n",
       "      <th>MDMAUD_R</th>\n",
       "      <th>MDMAUD_F</th>\n",
       "      <th>MDMAUD_A</th>\n",
       "      <th>CLUSTER2</th>\n",
       "      <th>GEOCODE2</th>\n",
       "    </tr>\n",
       "  </thead>\n",
       "  <tbody>\n",
       "    <tr>\n",
       "      <th>0</th>\n",
       "      <td>8901</td>\n",
       "      <td>GRI</td>\n",
       "      <td>0</td>\n",
       "      <td>IL</td>\n",
       "      <td>61081</td>\n",
       "      <td>A</td>\n",
       "      <td>NaN</td>\n",
       "      <td>3712</td>\n",
       "      <td>0</td>\n",
       "      <td>NaN</td>\n",
       "      <td>...</td>\n",
       "      <td>0.0</td>\n",
       "      <td>0</td>\n",
       "      <td>L</td>\n",
       "      <td>4</td>\n",
       "      <td>E</td>\n",
       "      <td>X</td>\n",
       "      <td>X</td>\n",
       "      <td>X</td>\n",
       "      <td>39.0</td>\n",
       "      <td>C</td>\n",
       "    </tr>\n",
       "    <tr>\n",
       "      <th>1</th>\n",
       "      <td>9401</td>\n",
       "      <td>BOA</td>\n",
       "      <td>1</td>\n",
       "      <td>CA</td>\n",
       "      <td>91326</td>\n",
       "      <td>A</td>\n",
       "      <td>NaN</td>\n",
       "      <td>5202</td>\n",
       "      <td>0</td>\n",
       "      <td>NaN</td>\n",
       "      <td>...</td>\n",
       "      <td>0.0</td>\n",
       "      <td>0</td>\n",
       "      <td>L</td>\n",
       "      <td>2</td>\n",
       "      <td>G</td>\n",
       "      <td>X</td>\n",
       "      <td>X</td>\n",
       "      <td>X</td>\n",
       "      <td>1.0</td>\n",
       "      <td>A</td>\n",
       "    </tr>\n",
       "    <tr>\n",
       "      <th>2</th>\n",
       "      <td>9001</td>\n",
       "      <td>AMH</td>\n",
       "      <td>1</td>\n",
       "      <td>NC</td>\n",
       "      <td>27017</td>\n",
       "      <td>A</td>\n",
       "      <td>NaN</td>\n",
       "      <td>0</td>\n",
       "      <td>0</td>\n",
       "      <td>NaN</td>\n",
       "      <td>...</td>\n",
       "      <td>0.0</td>\n",
       "      <td>1</td>\n",
       "      <td>L</td>\n",
       "      <td>4</td>\n",
       "      <td>E</td>\n",
       "      <td>X</td>\n",
       "      <td>X</td>\n",
       "      <td>X</td>\n",
       "      <td>60.0</td>\n",
       "      <td>C</td>\n",
       "    </tr>\n",
       "    <tr>\n",
       "      <th>3</th>\n",
       "      <td>8701</td>\n",
       "      <td>BRY</td>\n",
       "      <td>0</td>\n",
       "      <td>CA</td>\n",
       "      <td>95953</td>\n",
       "      <td>A</td>\n",
       "      <td>NaN</td>\n",
       "      <td>2801</td>\n",
       "      <td>0</td>\n",
       "      <td>NaN</td>\n",
       "      <td>...</td>\n",
       "      <td>0.0</td>\n",
       "      <td>1</td>\n",
       "      <td>L</td>\n",
       "      <td>4</td>\n",
       "      <td>E</td>\n",
       "      <td>X</td>\n",
       "      <td>X</td>\n",
       "      <td>X</td>\n",
       "      <td>41.0</td>\n",
       "      <td>C</td>\n",
       "    </tr>\n",
       "    <tr>\n",
       "      <th>4</th>\n",
       "      <td>8601</td>\n",
       "      <td>NaN</td>\n",
       "      <td>0</td>\n",
       "      <td>FL</td>\n",
       "      <td>33176</td>\n",
       "      <td>A</td>\n",
       "      <td>NaN</td>\n",
       "      <td>2001</td>\n",
       "      <td>0</td>\n",
       "      <td>X</td>\n",
       "      <td>...</td>\n",
       "      <td>0.0</td>\n",
       "      <td>1</td>\n",
       "      <td>L</td>\n",
       "      <td>2</td>\n",
       "      <td>F</td>\n",
       "      <td>X</td>\n",
       "      <td>X</td>\n",
       "      <td>X</td>\n",
       "      <td>26.0</td>\n",
       "      <td>A</td>\n",
       "    </tr>\n",
       "  </tbody>\n",
       "</table>\n",
       "<p>5 rows × 411 columns</p>\n",
       "</div>"
      ],
      "text/plain": [
       "   ODATEDW OSOURCE  TCODE STATE    ZIP MAILCODE PVASTATE   DOB NOEXCH  \\\n",
       "0     8901     GRI      0    IL  61081        A      NaN  3712      0   \n",
       "1     9401     BOA      1    CA  91326        A      NaN  5202      0   \n",
       "2     9001     AMH      1    NC  27017        A      NaN     0      0   \n",
       "3     8701     BRY      0    CA  95953        A      NaN  2801      0   \n",
       "4     8601     NaN      0    FL  33176        A      NaN  2001      0   \n",
       "\n",
       "  RECINHSE  ... TARGET_D HPHONE_D RFA_2R RFA_2F RFA_2A MDMAUD_R  MDMAUD_F  \\\n",
       "0      NaN  ...      0.0        0      L      4      E        X         X   \n",
       "1      NaN  ...      0.0        0      L      2      G        X         X   \n",
       "2      NaN  ...      0.0        1      L      4      E        X         X   \n",
       "3      NaN  ...      0.0        1      L      4      E        X         X   \n",
       "4        X  ...      0.0        1      L      2      F        X         X   \n",
       "\n",
       "  MDMAUD_A CLUSTER2 GEOCODE2  \n",
       "0        X     39.0        C  \n",
       "1        X      1.0        A  \n",
       "2        X     60.0        C  \n",
       "3        X     41.0        C  \n",
       "4        X     26.0        A  \n",
       "\n",
       "[5 rows x 411 columns]"
      ]
     },
     "execution_count": 19,
     "metadata": {},
     "output_type": "execute_result"
    }
   ],
   "source": [
    "data.head()"
   ]
  },
  {
   "cell_type": "markdown",
   "metadata": {
    "id": "sNFGy97PgulY"
   },
   "source": [
    "# 7.01 Activity 3\n",
    "## Remove columns with null values greater than a specified threshold"
   ]
  },
  {
   "cell_type": "code",
   "execution_count": 20,
   "metadata": {
    "colab": {
     "base_uri": "https://localhost:8080/",
     "height": 204
    },
    "id": "6mroUsC0gulY",
    "outputId": "afaddec2-3bfc-4cd6-9060-37b1b9044db2"
   },
   "outputs": [
    {
     "data": {
      "text/html": [
       "<div>\n",
       "<style scoped>\n",
       "    .dataframe tbody tr th:only-of-type {\n",
       "        vertical-align: middle;\n",
       "    }\n",
       "\n",
       "    .dataframe tbody tr th {\n",
       "        vertical-align: top;\n",
       "    }\n",
       "\n",
       "    .dataframe thead th {\n",
       "        text-align: right;\n",
       "    }\n",
       "</style>\n",
       "<table border=\"1\" class=\"dataframe\">\n",
       "  <thead>\n",
       "    <tr style=\"text-align: right;\">\n",
       "      <th></th>\n",
       "      <th>column_name</th>\n",
       "      <th>nulls_percentage</th>\n",
       "    </tr>\n",
       "  </thead>\n",
       "  <tbody>\n",
       "    <tr>\n",
       "      <th>0</th>\n",
       "      <td>ODATEDW</td>\n",
       "      <td>0.000000</td>\n",
       "    </tr>\n",
       "    <tr>\n",
       "      <th>1</th>\n",
       "      <td>OSOURCE</td>\n",
       "      <td>0.009726</td>\n",
       "    </tr>\n",
       "    <tr>\n",
       "      <th>2</th>\n",
       "      <td>TCODE</td>\n",
       "      <td>0.000000</td>\n",
       "    </tr>\n",
       "    <tr>\n",
       "      <th>3</th>\n",
       "      <td>STATE</td>\n",
       "      <td>0.000000</td>\n",
       "    </tr>\n",
       "    <tr>\n",
       "      <th>4</th>\n",
       "      <td>ZIP</td>\n",
       "      <td>0.000000</td>\n",
       "    </tr>\n",
       "  </tbody>\n",
       "</table>\n",
       "</div>"
      ],
      "text/plain": [
       "  column_name  nulls_percentage\n",
       "0     ODATEDW          0.000000\n",
       "1     OSOURCE          0.009726\n",
       "2       TCODE          0.000000\n",
       "3       STATE          0.000000\n",
       "4         ZIP          0.000000"
      ]
     },
     "execution_count": 20,
     "metadata": {},
     "output_type": "execute_result"
    }
   ],
   "source": [
    "nulls_percent_df_2 = pd.DataFrame(data.isna().sum()/len(data)).reset_index()\n",
    "nulls_percent_df_2.columns = ['column_name', 'nulls_percentage']\n",
    "nulls_percent_df_2.head()"
   ]
  },
  {
   "cell_type": "code",
   "execution_count": 21,
   "metadata": {
    "colab": {
     "base_uri": "https://localhost:8080/"
    },
    "id": "XIf06Jn4gulZ",
    "outputId": "0a9c2b5f-b1aa-4bc6-b6f9-5cc00dd00e5e"
   },
   "outputs": [
    {
     "name": "stdout",
     "output_type": "stream",
     "text": [
      "47\n"
     ]
    }
   ],
   "source": [
    "columns_above_threshold_2 = nulls_percent_df_2[nulls_percent_df_2['nulls_percentage']>0.25]\n",
    "print(len(columns_above_threshold_2['column_name']))"
   ]
  },
  {
   "cell_type": "code",
   "execution_count": 22,
   "metadata": {
    "colab": {
     "base_uri": "https://localhost:8080/"
    },
    "id": "oq1hxMtpgulZ",
    "outputId": "cf4d7e9c-d677-41e8-d959-6293331b6889"
   },
   "outputs": [
    {
     "name": "stdout",
     "output_type": "stream",
     "text": [
      "['PVASTATE', 'RECINHSE', 'RECP3', 'RECPGVG', 'RECSWEEP', 'AGEFLAG', 'CHILD03', 'CHILD07', 'CHILD12', 'CHILD18', 'WEALTH1', 'SOLP3', 'SOLIH', 'MAJOR', 'WEALTH2', 'GEOCODE', 'COLLECT1', 'VETERANS', 'BIBLE', 'CATLG', 'HOMEE', 'PETS', 'CDPLAY', 'STEREO', 'PCOWNERS', 'PHOTO', 'CRAFTS', 'FISHER', 'GARDENIN', 'BOATS', 'WALKER', 'KIDSTUFF', 'CARDS', 'PLATES', 'LIFESRC', 'PEPSTRFL', 'RFA_5', 'RFA_10', 'RFA_13', 'RFA_15', 'RFA_17', 'RFA_19', 'RFA_20', 'RFA_21', 'RFA_22', 'RFA_23', 'RFA_24']\n"
     ]
    }
   ],
   "source": [
    "drop_columns_list_2 = list(columns_above_threshold_2['column_name'])\n",
    "print(drop_columns_list_2)"
   ]
  },
  {
   "cell_type": "markdown",
   "metadata": {
    "id": "b93Maz-dgulZ"
   },
   "source": [
    "We would again repeat the same exercise as the last time. We will discuss it with the team, manager, and/or other stakeholders to see which columns we need to retain here. \n",
    "\n",
    "Like last time we will keep the following -> wealth1, wealth2 along with these VETERANS, SOLIH"
   ]
  },
  {
   "cell_type": "code",
   "execution_count": 23,
   "metadata": {
    "id": "yxlxEDIOgulZ"
   },
   "outputs": [],
   "source": [
    "cols_2 = ['WEALTH1', 'WEALTH2', 'VETERANS', 'SOLIH']\n",
    "for item in cols_2:\n",
    "    drop_columns_list_2.remove(item) "
   ]
  },
  {
   "cell_type": "code",
   "execution_count": 24,
   "metadata": {
    "colab": {
     "base_uri": "https://localhost:8080/"
    },
    "id": "mgPvtou6gula",
    "outputId": "0bf90409-f3e6-4bc7-bc42-32910cb6f723"
   },
   "outputs": [
    {
     "data": {
      "text/plain": [
       "(95412, 368)"
      ]
     },
     "execution_count": 24,
     "metadata": {},
     "output_type": "execute_result"
    }
   ],
   "source": [
    "data = data.drop(columns=drop_columns_list_2)\n",
    "data.shape"
   ]
  },
  {
   "cell_type": "code",
   "execution_count": 25,
   "metadata": {
    "colab": {
     "base_uri": "https://localhost:8080/",
     "height": 253
    },
    "id": "z-BWZyqXgula",
    "outputId": "4cd22ff5-a059-42e3-a8d9-bef04bd56c3d"
   },
   "outputs": [
    {
     "data": {
      "text/html": [
       "<div>\n",
       "<style scoped>\n",
       "    .dataframe tbody tr th:only-of-type {\n",
       "        vertical-align: middle;\n",
       "    }\n",
       "\n",
       "    .dataframe tbody tr th {\n",
       "        vertical-align: top;\n",
       "    }\n",
       "\n",
       "    .dataframe thead th {\n",
       "        text-align: right;\n",
       "    }\n",
       "</style>\n",
       "<table border=\"1\" class=\"dataframe\">\n",
       "  <thead>\n",
       "    <tr style=\"text-align: right;\">\n",
       "      <th></th>\n",
       "      <th>ODATEDW</th>\n",
       "      <th>OSOURCE</th>\n",
       "      <th>TCODE</th>\n",
       "      <th>STATE</th>\n",
       "      <th>ZIP</th>\n",
       "      <th>MAILCODE</th>\n",
       "      <th>DOB</th>\n",
       "      <th>NOEXCH</th>\n",
       "      <th>MDMAUD</th>\n",
       "      <th>DOMAIN</th>\n",
       "      <th>...</th>\n",
       "      <th>TARGET_D</th>\n",
       "      <th>HPHONE_D</th>\n",
       "      <th>RFA_2R</th>\n",
       "      <th>RFA_2F</th>\n",
       "      <th>RFA_2A</th>\n",
       "      <th>MDMAUD_R</th>\n",
       "      <th>MDMAUD_F</th>\n",
       "      <th>MDMAUD_A</th>\n",
       "      <th>CLUSTER2</th>\n",
       "      <th>GEOCODE2</th>\n",
       "    </tr>\n",
       "  </thead>\n",
       "  <tbody>\n",
       "    <tr>\n",
       "      <th>0</th>\n",
       "      <td>8901</td>\n",
       "      <td>GRI</td>\n",
       "      <td>0</td>\n",
       "      <td>IL</td>\n",
       "      <td>61081</td>\n",
       "      <td>A</td>\n",
       "      <td>3712</td>\n",
       "      <td>0</td>\n",
       "      <td>XXXX</td>\n",
       "      <td>T2</td>\n",
       "      <td>...</td>\n",
       "      <td>0.0</td>\n",
       "      <td>0</td>\n",
       "      <td>L</td>\n",
       "      <td>4</td>\n",
       "      <td>E</td>\n",
       "      <td>X</td>\n",
       "      <td>X</td>\n",
       "      <td>X</td>\n",
       "      <td>39.0</td>\n",
       "      <td>C</td>\n",
       "    </tr>\n",
       "    <tr>\n",
       "      <th>1</th>\n",
       "      <td>9401</td>\n",
       "      <td>BOA</td>\n",
       "      <td>1</td>\n",
       "      <td>CA</td>\n",
       "      <td>91326</td>\n",
       "      <td>A</td>\n",
       "      <td>5202</td>\n",
       "      <td>0</td>\n",
       "      <td>XXXX</td>\n",
       "      <td>S1</td>\n",
       "      <td>...</td>\n",
       "      <td>0.0</td>\n",
       "      <td>0</td>\n",
       "      <td>L</td>\n",
       "      <td>2</td>\n",
       "      <td>G</td>\n",
       "      <td>X</td>\n",
       "      <td>X</td>\n",
       "      <td>X</td>\n",
       "      <td>1.0</td>\n",
       "      <td>A</td>\n",
       "    </tr>\n",
       "    <tr>\n",
       "      <th>2</th>\n",
       "      <td>9001</td>\n",
       "      <td>AMH</td>\n",
       "      <td>1</td>\n",
       "      <td>NC</td>\n",
       "      <td>27017</td>\n",
       "      <td>A</td>\n",
       "      <td>0</td>\n",
       "      <td>0</td>\n",
       "      <td>XXXX</td>\n",
       "      <td>R2</td>\n",
       "      <td>...</td>\n",
       "      <td>0.0</td>\n",
       "      <td>1</td>\n",
       "      <td>L</td>\n",
       "      <td>4</td>\n",
       "      <td>E</td>\n",
       "      <td>X</td>\n",
       "      <td>X</td>\n",
       "      <td>X</td>\n",
       "      <td>60.0</td>\n",
       "      <td>C</td>\n",
       "    </tr>\n",
       "    <tr>\n",
       "      <th>3</th>\n",
       "      <td>8701</td>\n",
       "      <td>BRY</td>\n",
       "      <td>0</td>\n",
       "      <td>CA</td>\n",
       "      <td>95953</td>\n",
       "      <td>A</td>\n",
       "      <td>2801</td>\n",
       "      <td>0</td>\n",
       "      <td>XXXX</td>\n",
       "      <td>R2</td>\n",
       "      <td>...</td>\n",
       "      <td>0.0</td>\n",
       "      <td>1</td>\n",
       "      <td>L</td>\n",
       "      <td>4</td>\n",
       "      <td>E</td>\n",
       "      <td>X</td>\n",
       "      <td>X</td>\n",
       "      <td>X</td>\n",
       "      <td>41.0</td>\n",
       "      <td>C</td>\n",
       "    </tr>\n",
       "    <tr>\n",
       "      <th>4</th>\n",
       "      <td>8601</td>\n",
       "      <td>NaN</td>\n",
       "      <td>0</td>\n",
       "      <td>FL</td>\n",
       "      <td>33176</td>\n",
       "      <td>A</td>\n",
       "      <td>2001</td>\n",
       "      <td>0</td>\n",
       "      <td>XXXX</td>\n",
       "      <td>S2</td>\n",
       "      <td>...</td>\n",
       "      <td>0.0</td>\n",
       "      <td>1</td>\n",
       "      <td>L</td>\n",
       "      <td>2</td>\n",
       "      <td>F</td>\n",
       "      <td>X</td>\n",
       "      <td>X</td>\n",
       "      <td>X</td>\n",
       "      <td>26.0</td>\n",
       "      <td>A</td>\n",
       "    </tr>\n",
       "  </tbody>\n",
       "</table>\n",
       "<p>5 rows × 368 columns</p>\n",
       "</div>"
      ],
      "text/plain": [
       "   ODATEDW OSOURCE  TCODE STATE    ZIP MAILCODE   DOB NOEXCH MDMAUD DOMAIN  \\\n",
       "0     8901     GRI      0    IL  61081        A  3712      0   XXXX     T2   \n",
       "1     9401     BOA      1    CA  91326        A  5202      0   XXXX     S1   \n",
       "2     9001     AMH      1    NC  27017        A     0      0   XXXX     R2   \n",
       "3     8701     BRY      0    CA  95953        A  2801      0   XXXX     R2   \n",
       "4     8601     NaN      0    FL  33176        A  2001      0   XXXX     S2   \n",
       "\n",
       "   ... TARGET_D  HPHONE_D RFA_2R  RFA_2F RFA_2A  MDMAUD_R  MDMAUD_F MDMAUD_A  \\\n",
       "0  ...      0.0         0      L       4      E         X         X        X   \n",
       "1  ...      0.0         0      L       2      G         X         X        X   \n",
       "2  ...      0.0         1      L       4      E         X         X        X   \n",
       "3  ...      0.0         1      L       4      E         X         X        X   \n",
       "4  ...      0.0         1      L       2      F         X         X        X   \n",
       "\n",
       "   CLUSTER2  GEOCODE2  \n",
       "0      39.0         C  \n",
       "1       1.0         A  \n",
       "2      60.0         C  \n",
       "3      41.0         C  \n",
       "4      26.0         A  \n",
       "\n",
       "[5 rows x 368 columns]"
      ]
     },
     "execution_count": 25,
     "metadata": {},
     "output_type": "execute_result"
    }
   ],
   "source": [
    "data.head()"
   ]
  },
  {
   "cell_type": "markdown",
   "metadata": {
    "id": "bgXoo7VHgula"
   },
   "source": [
    "# 7.01 Lesson 4 key concepts\n",
    "## Separating Target, Numerical Features, and Categorical Features"
   ]
  },
  {
   "cell_type": "markdown",
   "metadata": {
    "id": "bHi0yh0V8yY_"
   },
   "source": [
    "Since we have a huge number of features, it would be easier to work independently on numerical features and categorical features.\n",
    "\n",
    "For the target variables, for now we will retain them both together. But later, we will build a classification model first where we would need the column TARGET_B only."
   ]
  },
  {
   "cell_type": "code",
   "execution_count": 26,
   "metadata": {
    "colab": {
     "base_uri": "https://localhost:8080/",
     "height": 204
    },
    "id": "3zRiRPxIgula",
    "outputId": "45c5928e-d637-4113-ef3c-3c3975d4439f"
   },
   "outputs": [
    {
     "data": {
      "text/html": [
       "<div>\n",
       "<style scoped>\n",
       "    .dataframe tbody tr th:only-of-type {\n",
       "        vertical-align: middle;\n",
       "    }\n",
       "\n",
       "    .dataframe tbody tr th {\n",
       "        vertical-align: top;\n",
       "    }\n",
       "\n",
       "    .dataframe thead th {\n",
       "        text-align: right;\n",
       "    }\n",
       "</style>\n",
       "<table border=\"1\" class=\"dataframe\">\n",
       "  <thead>\n",
       "    <tr style=\"text-align: right;\">\n",
       "      <th></th>\n",
       "      <th>TARGET_B</th>\n",
       "      <th>TARGET_D</th>\n",
       "    </tr>\n",
       "  </thead>\n",
       "  <tbody>\n",
       "    <tr>\n",
       "      <th>0</th>\n",
       "      <td>0</td>\n",
       "      <td>0.0</td>\n",
       "    </tr>\n",
       "    <tr>\n",
       "      <th>1</th>\n",
       "      <td>0</td>\n",
       "      <td>0.0</td>\n",
       "    </tr>\n",
       "    <tr>\n",
       "      <th>2</th>\n",
       "      <td>0</td>\n",
       "      <td>0.0</td>\n",
       "    </tr>\n",
       "    <tr>\n",
       "      <th>3</th>\n",
       "      <td>0</td>\n",
       "      <td>0.0</td>\n",
       "    </tr>\n",
       "    <tr>\n",
       "      <th>4</th>\n",
       "      <td>0</td>\n",
       "      <td>0.0</td>\n",
       "    </tr>\n",
       "  </tbody>\n",
       "</table>\n",
       "</div>"
      ],
      "text/plain": [
       "   TARGET_B  TARGET_D\n",
       "0         0       0.0\n",
       "1         0       0.0\n",
       "2         0       0.0\n",
       "3         0       0.0\n",
       "4         0       0.0"
      ]
     },
     "execution_count": 26,
     "metadata": {},
     "output_type": "execute_result"
    }
   ],
   "source": [
    "Y = data[['TARGET_B', 'TARGET_D']]\n",
    "Y.head()"
   ]
  },
  {
   "cell_type": "code",
   "execution_count": 27,
   "metadata": {
    "colab": {
     "base_uri": "https://localhost:8080/",
     "height": 253
    },
    "id": "Jw6Wk3Z-gula",
    "outputId": "1f68c61d-de2e-47ab-9b6d-b5940bd564b2"
   },
   "outputs": [
    {
     "data": {
      "text/html": [
       "<div>\n",
       "<style scoped>\n",
       "    .dataframe tbody tr th:only-of-type {\n",
       "        vertical-align: middle;\n",
       "    }\n",
       "\n",
       "    .dataframe tbody tr th {\n",
       "        vertical-align: top;\n",
       "    }\n",
       "\n",
       "    .dataframe thead th {\n",
       "        text-align: right;\n",
       "    }\n",
       "</style>\n",
       "<table border=\"1\" class=\"dataframe\">\n",
       "  <thead>\n",
       "    <tr style=\"text-align: right;\">\n",
       "      <th></th>\n",
       "      <th>ODATEDW</th>\n",
       "      <th>TCODE</th>\n",
       "      <th>DOB</th>\n",
       "      <th>AGE</th>\n",
       "      <th>INCOME</th>\n",
       "      <th>WEALTH1</th>\n",
       "      <th>HIT</th>\n",
       "      <th>MALEMILI</th>\n",
       "      <th>MALEVET</th>\n",
       "      <th>VIETVETS</th>\n",
       "      <th>...</th>\n",
       "      <th>LASTGIFT</th>\n",
       "      <th>LASTDATE</th>\n",
       "      <th>FISTDATE</th>\n",
       "      <th>NEXTDATE</th>\n",
       "      <th>TIMELAG</th>\n",
       "      <th>AVGGIFT</th>\n",
       "      <th>CONTROLN</th>\n",
       "      <th>HPHONE_D</th>\n",
       "      <th>RFA_2F</th>\n",
       "      <th>CLUSTER2</th>\n",
       "    </tr>\n",
       "  </thead>\n",
       "  <tbody>\n",
       "    <tr>\n",
       "      <th>0</th>\n",
       "      <td>8901</td>\n",
       "      <td>0</td>\n",
       "      <td>3712</td>\n",
       "      <td>60.0</td>\n",
       "      <td>NaN</td>\n",
       "      <td>NaN</td>\n",
       "      <td>0</td>\n",
       "      <td>0</td>\n",
       "      <td>39</td>\n",
       "      <td>34</td>\n",
       "      <td>...</td>\n",
       "      <td>10.0</td>\n",
       "      <td>9512</td>\n",
       "      <td>8911</td>\n",
       "      <td>9003.0</td>\n",
       "      <td>4.0</td>\n",
       "      <td>7.741935</td>\n",
       "      <td>95515</td>\n",
       "      <td>0</td>\n",
       "      <td>4</td>\n",
       "      <td>39.0</td>\n",
       "    </tr>\n",
       "    <tr>\n",
       "      <th>1</th>\n",
       "      <td>9401</td>\n",
       "      <td>1</td>\n",
       "      <td>5202</td>\n",
       "      <td>46.0</td>\n",
       "      <td>6.0</td>\n",
       "      <td>9.0</td>\n",
       "      <td>16</td>\n",
       "      <td>0</td>\n",
       "      <td>15</td>\n",
       "      <td>55</td>\n",
       "      <td>...</td>\n",
       "      <td>25.0</td>\n",
       "      <td>9512</td>\n",
       "      <td>9310</td>\n",
       "      <td>9504.0</td>\n",
       "      <td>18.0</td>\n",
       "      <td>15.666667</td>\n",
       "      <td>148535</td>\n",
       "      <td>0</td>\n",
       "      <td>2</td>\n",
       "      <td>1.0</td>\n",
       "    </tr>\n",
       "    <tr>\n",
       "      <th>2</th>\n",
       "      <td>9001</td>\n",
       "      <td>1</td>\n",
       "      <td>0</td>\n",
       "      <td>NaN</td>\n",
       "      <td>3.0</td>\n",
       "      <td>1.0</td>\n",
       "      <td>2</td>\n",
       "      <td>0</td>\n",
       "      <td>20</td>\n",
       "      <td>29</td>\n",
       "      <td>...</td>\n",
       "      <td>5.0</td>\n",
       "      <td>9512</td>\n",
       "      <td>9001</td>\n",
       "      <td>9101.0</td>\n",
       "      <td>12.0</td>\n",
       "      <td>7.481481</td>\n",
       "      <td>15078</td>\n",
       "      <td>1</td>\n",
       "      <td>4</td>\n",
       "      <td>60.0</td>\n",
       "    </tr>\n",
       "    <tr>\n",
       "      <th>3</th>\n",
       "      <td>8701</td>\n",
       "      <td>0</td>\n",
       "      <td>2801</td>\n",
       "      <td>70.0</td>\n",
       "      <td>1.0</td>\n",
       "      <td>4.0</td>\n",
       "      <td>2</td>\n",
       "      <td>0</td>\n",
       "      <td>23</td>\n",
       "      <td>14</td>\n",
       "      <td>...</td>\n",
       "      <td>10.0</td>\n",
       "      <td>9512</td>\n",
       "      <td>8702</td>\n",
       "      <td>8711.0</td>\n",
       "      <td>9.0</td>\n",
       "      <td>6.812500</td>\n",
       "      <td>172556</td>\n",
       "      <td>1</td>\n",
       "      <td>4</td>\n",
       "      <td>41.0</td>\n",
       "    </tr>\n",
       "    <tr>\n",
       "      <th>4</th>\n",
       "      <td>8601</td>\n",
       "      <td>0</td>\n",
       "      <td>2001</td>\n",
       "      <td>78.0</td>\n",
       "      <td>3.0</td>\n",
       "      <td>2.0</td>\n",
       "      <td>60</td>\n",
       "      <td>1</td>\n",
       "      <td>28</td>\n",
       "      <td>9</td>\n",
       "      <td>...</td>\n",
       "      <td>15.0</td>\n",
       "      <td>9601</td>\n",
       "      <td>7903</td>\n",
       "      <td>8005.0</td>\n",
       "      <td>14.0</td>\n",
       "      <td>6.864865</td>\n",
       "      <td>7112</td>\n",
       "      <td>1</td>\n",
       "      <td>2</td>\n",
       "      <td>26.0</td>\n",
       "    </tr>\n",
       "  </tbody>\n",
       "</table>\n",
       "<p>5 rows × 335 columns</p>\n",
       "</div>"
      ],
      "text/plain": [
       "   ODATEDW  TCODE   DOB   AGE  INCOME  WEALTH1  HIT  MALEMILI  MALEVET  \\\n",
       "0     8901      0  3712  60.0     NaN      NaN    0         0       39   \n",
       "1     9401      1  5202  46.0     6.0      9.0   16         0       15   \n",
       "2     9001      1     0   NaN     3.0      1.0    2         0       20   \n",
       "3     8701      0  2801  70.0     1.0      4.0    2         0       23   \n",
       "4     8601      0  2001  78.0     3.0      2.0   60         1       28   \n",
       "\n",
       "   VIETVETS  ...  LASTGIFT  LASTDATE  FISTDATE  NEXTDATE  TIMELAG    AVGGIFT  \\\n",
       "0        34  ...      10.0      9512      8911    9003.0      4.0   7.741935   \n",
       "1        55  ...      25.0      9512      9310    9504.0     18.0  15.666667   \n",
       "2        29  ...       5.0      9512      9001    9101.0     12.0   7.481481   \n",
       "3        14  ...      10.0      9512      8702    8711.0      9.0   6.812500   \n",
       "4         9  ...      15.0      9601      7903    8005.0     14.0   6.864865   \n",
       "\n",
       "   CONTROLN  HPHONE_D  RFA_2F  CLUSTER2  \n",
       "0     95515         0       4      39.0  \n",
       "1    148535         0       2       1.0  \n",
       "2     15078         1       4      60.0  \n",
       "3    172556         1       4      41.0  \n",
       "4      7112         1       2      26.0  \n",
       "\n",
       "[5 rows x 335 columns]"
      ]
     },
     "execution_count": 27,
     "metadata": {},
     "output_type": "execute_result"
    }
   ],
   "source": [
    "numerical = data.select_dtypes(np.number)\n",
    "numerical = numerical.drop(columns = ['TARGET_B', 'TARGET_D'])\n",
    "numerical.head()"
   ]
  },
  {
   "cell_type": "code",
   "execution_count": 28,
   "metadata": {
    "colab": {
     "base_uri": "https://localhost:8080/",
     "height": 224
    },
    "id": "M3aMTkVEgulb",
    "outputId": "2e479ca6-bbf7-4bc0-cc1f-29a0daaa81fa"
   },
   "outputs": [
    {
     "data": {
      "text/html": [
       "<div>\n",
       "<style scoped>\n",
       "    .dataframe tbody tr th:only-of-type {\n",
       "        vertical-align: middle;\n",
       "    }\n",
       "\n",
       "    .dataframe tbody tr th {\n",
       "        vertical-align: top;\n",
       "    }\n",
       "\n",
       "    .dataframe thead th {\n",
       "        text-align: right;\n",
       "    }\n",
       "</style>\n",
       "<table border=\"1\" class=\"dataframe\">\n",
       "  <thead>\n",
       "    <tr style=\"text-align: right;\">\n",
       "      <th></th>\n",
       "      <th>OSOURCE</th>\n",
       "      <th>STATE</th>\n",
       "      <th>ZIP</th>\n",
       "      <th>MAILCODE</th>\n",
       "      <th>NOEXCH</th>\n",
       "      <th>MDMAUD</th>\n",
       "      <th>DOMAIN</th>\n",
       "      <th>CLUSTER</th>\n",
       "      <th>HOMEOWNR</th>\n",
       "      <th>GENDER</th>\n",
       "      <th>...</th>\n",
       "      <th>RFA_12</th>\n",
       "      <th>RFA_14</th>\n",
       "      <th>RFA_16</th>\n",
       "      <th>RFA_18</th>\n",
       "      <th>RFA_2R</th>\n",
       "      <th>RFA_2A</th>\n",
       "      <th>MDMAUD_R</th>\n",
       "      <th>MDMAUD_F</th>\n",
       "      <th>MDMAUD_A</th>\n",
       "      <th>GEOCODE2</th>\n",
       "    </tr>\n",
       "  </thead>\n",
       "  <tbody>\n",
       "    <tr>\n",
       "      <th>0</th>\n",
       "      <td>GRI</td>\n",
       "      <td>IL</td>\n",
       "      <td>61081</td>\n",
       "      <td>A</td>\n",
       "      <td>0</td>\n",
       "      <td>XXXX</td>\n",
       "      <td>T2</td>\n",
       "      <td>36</td>\n",
       "      <td>NaN</td>\n",
       "      <td>F</td>\n",
       "      <td>...</td>\n",
       "      <td>S4E</td>\n",
       "      <td>S4E</td>\n",
       "      <td>S4E</td>\n",
       "      <td>S4E</td>\n",
       "      <td>L</td>\n",
       "      <td>E</td>\n",
       "      <td>X</td>\n",
       "      <td>X</td>\n",
       "      <td>X</td>\n",
       "      <td>C</td>\n",
       "    </tr>\n",
       "    <tr>\n",
       "      <th>1</th>\n",
       "      <td>BOA</td>\n",
       "      <td>CA</td>\n",
       "      <td>91326</td>\n",
       "      <td>A</td>\n",
       "      <td>0</td>\n",
       "      <td>XXXX</td>\n",
       "      <td>S1</td>\n",
       "      <td>14</td>\n",
       "      <td>H</td>\n",
       "      <td>M</td>\n",
       "      <td>...</td>\n",
       "      <td>A1E</td>\n",
       "      <td>NaN</td>\n",
       "      <td>L1E</td>\n",
       "      <td>NaN</td>\n",
       "      <td>L</td>\n",
       "      <td>G</td>\n",
       "      <td>X</td>\n",
       "      <td>X</td>\n",
       "      <td>X</td>\n",
       "      <td>A</td>\n",
       "    </tr>\n",
       "    <tr>\n",
       "      <th>2</th>\n",
       "      <td>AMH</td>\n",
       "      <td>NC</td>\n",
       "      <td>27017</td>\n",
       "      <td>A</td>\n",
       "      <td>0</td>\n",
       "      <td>XXXX</td>\n",
       "      <td>R2</td>\n",
       "      <td>43</td>\n",
       "      <td>U</td>\n",
       "      <td>M</td>\n",
       "      <td>...</td>\n",
       "      <td>S4F</td>\n",
       "      <td>S4F</td>\n",
       "      <td>S4F</td>\n",
       "      <td>S4D</td>\n",
       "      <td>L</td>\n",
       "      <td>E</td>\n",
       "      <td>X</td>\n",
       "      <td>X</td>\n",
       "      <td>X</td>\n",
       "      <td>C</td>\n",
       "    </tr>\n",
       "    <tr>\n",
       "      <th>3</th>\n",
       "      <td>BRY</td>\n",
       "      <td>CA</td>\n",
       "      <td>95953</td>\n",
       "      <td>A</td>\n",
       "      <td>0</td>\n",
       "      <td>XXXX</td>\n",
       "      <td>R2</td>\n",
       "      <td>44</td>\n",
       "      <td>U</td>\n",
       "      <td>F</td>\n",
       "      <td>...</td>\n",
       "      <td>S4E</td>\n",
       "      <td>S4E</td>\n",
       "      <td>S4E</td>\n",
       "      <td>S2D</td>\n",
       "      <td>L</td>\n",
       "      <td>E</td>\n",
       "      <td>X</td>\n",
       "      <td>X</td>\n",
       "      <td>X</td>\n",
       "      <td>C</td>\n",
       "    </tr>\n",
       "    <tr>\n",
       "      <th>4</th>\n",
       "      <td>NaN</td>\n",
       "      <td>FL</td>\n",
       "      <td>33176</td>\n",
       "      <td>A</td>\n",
       "      <td>0</td>\n",
       "      <td>XXXX</td>\n",
       "      <td>S2</td>\n",
       "      <td>16</td>\n",
       "      <td>H</td>\n",
       "      <td>F</td>\n",
       "      <td>...</td>\n",
       "      <td>A1E</td>\n",
       "      <td>L3D</td>\n",
       "      <td>L3D</td>\n",
       "      <td>A2D</td>\n",
       "      <td>L</td>\n",
       "      <td>F</td>\n",
       "      <td>X</td>\n",
       "      <td>X</td>\n",
       "      <td>X</td>\n",
       "      <td>A</td>\n",
       "    </tr>\n",
       "  </tbody>\n",
       "</table>\n",
       "<p>5 rows × 31 columns</p>\n",
       "</div>"
      ],
      "text/plain": [
       "  OSOURCE STATE    ZIP MAILCODE NOEXCH MDMAUD DOMAIN CLUSTER HOMEOWNR GENDER  \\\n",
       "0     GRI    IL  61081        A      0   XXXX     T2      36      NaN      F   \n",
       "1     BOA    CA  91326        A      0   XXXX     S1      14        H      M   \n",
       "2     AMH    NC  27017        A      0   XXXX     R2      43        U      M   \n",
       "3     BRY    CA  95953        A      0   XXXX     R2      44        U      F   \n",
       "4     NaN    FL  33176        A      0   XXXX     S2      16        H      F   \n",
       "\n",
       "   ... RFA_12 RFA_14 RFA_16 RFA_18 RFA_2R RFA_2A MDMAUD_R MDMAUD_F MDMAUD_A  \\\n",
       "0  ...    S4E    S4E    S4E    S4E      L      E        X        X        X   \n",
       "1  ...    A1E    NaN    L1E    NaN      L      G        X        X        X   \n",
       "2  ...    S4F    S4F    S4F    S4D      L      E        X        X        X   \n",
       "3  ...    S4E    S4E    S4E    S2D      L      E        X        X        X   \n",
       "4  ...    A1E    L3D    L3D    A2D      L      F        X        X        X   \n",
       "\n",
       "  GEOCODE2  \n",
       "0        C  \n",
       "1        A  \n",
       "2        C  \n",
       "3        C  \n",
       "4        A  \n",
       "\n",
       "[5 rows x 31 columns]"
      ]
     },
     "execution_count": 28,
     "metadata": {},
     "output_type": "execute_result"
    }
   ],
   "source": [
    "categorical = data.select_dtypes(np.object)\n",
    "categorical.head()"
   ]
  },
  {
   "cell_type": "markdown",
   "metadata": {
    "id": "EqJRlqGJgulb"
   },
   "source": [
    "## Working with categorical columns"
   ]
  },
  {
   "cell_type": "markdown",
   "metadata": {
    "id": "DCKecBEr9FA0"
   },
   "source": [
    "We will work with the categorical features first. Look at the columns one by one. Some of the operations which we will perform are:\n",
    "\n",
    "- Replace null values with the most occurring categories\n",
    "- Reduce the number of categories in a column by grouping\n",
    "\n",
    "It is important to note that some columns are defined by python as categorical/object types. There might be other columns defined as numerical that we want as categorical. We will look them later when we were working on numerical types."
   ]
  },
  {
   "cell_type": "code",
   "execution_count": 29,
   "metadata": {
    "colab": {
     "base_uri": "https://localhost:8080/"
    },
    "id": "sKt7l7_igulb",
    "outputId": "dc271eb4-7c46-4e57-c01d-4084fbad3e21"
   },
   "outputs": [
    {
     "data": {
      "text/plain": [
       "OSOURCE       928\n",
       "STATE           0\n",
       "ZIP             0\n",
       "MAILCODE        0\n",
       "NOEXCH          7\n",
       "MDMAUD          0\n",
       "DOMAIN       2316\n",
       "CLUSTER      2316\n",
       "HOMEOWNR    22228\n",
       "GENDER       2957\n",
       "DATASRCE    21280\n",
       "SOLIH       89212\n",
       "VETERANS    84986\n",
       "RFA_2           0\n",
       "RFA_3        1950\n",
       "RFA_4        2312\n",
       "RFA_6        3557\n",
       "RFA_7        8874\n",
       "RFA_8        3511\n",
       "RFA_9       11245\n",
       "RFA_11      10422\n",
       "RFA_12       8923\n",
       "RFA_14      18867\n",
       "RFA_16      20417\n",
       "RFA_18      21263\n",
       "RFA_2R          0\n",
       "RFA_2A          0\n",
       "MDMAUD_R        0\n",
       "MDMAUD_F        0\n",
       "MDMAUD_A        0\n",
       "GEOCODE2      319\n",
       "dtype: int64"
      ]
     },
     "execution_count": 29,
     "metadata": {},
     "output_type": "execute_result"
    }
   ],
   "source": [
    "categorical.isna().sum()"
   ]
  },
  {
   "cell_type": "markdown",
   "metadata": {
    "id": "aXU1mWm_gulb"
   },
   "source": [
    "## Categorical Variables"
   ]
  },
  {
   "cell_type": "markdown",
   "metadata": {
    "id": "JoX043m3gulc"
   },
   "source": [
    "Here we will try to reduce the number of categories. An ideal way would have been to group the states into \n",
    "regions. But in this case we will group all the states with counts less than 2500 into one category \"other\""
   ]
  },
  {
   "cell_type": "code",
   "execution_count": 30,
   "metadata": {
    "colab": {
     "base_uri": "https://localhost:8080/"
    },
    "id": "1JFCqWUZgulc",
    "outputId": "d34b76a5-7bb7-4c4b-c8b1-bfd2c3e85a5c"
   },
   "outputs": [],
   "source": [
    "df = pd.DataFrame(categorical['STATE'].value_counts()).reset_index()\n",
    "df.columns = ['state', 'count']\n",
    "other_states = list(df[df['count']<2500]['state'])\n",
    "\n",
    "def clean_state(x):\n",
    "    if x in other_states:\n",
    "        return 'other'\n",
    "    else:\n",
    "        return x\n",
    "categorical['STATE'] = list(map(clean_state, categorical['STATE']))"
   ]
  },
  {
   "cell_type": "code",
   "execution_count": 31,
   "metadata": {
    "colab": {
     "base_uri": "https://localhost:8080/"
    },
    "id": "1pnj5v2_9a35",
    "outputId": "560d170d-d286-461e-d589-9a157ba80ec5"
   },
   "outputs": [
    {
     "data": {
      "text/plain": [
       "other    30457\n",
       "CA       17343\n",
       "FL        8376\n",
       "TX        7535\n",
       "IL        6420\n",
       "MI        5654\n",
       "NC        4160\n",
       "WA        3577\n",
       "GA        3403\n",
       "IN        2980\n",
       "WI        2795\n",
       "MO        2712\n",
       "Name: STATE, dtype: int64"
      ]
     },
     "execution_count": 31,
     "metadata": {},
     "output_type": "execute_result"
    }
   ],
   "source": [
    "categorical['STATE'].value_counts()"
   ]
  },
  {
   "cell_type": "markdown",
   "metadata": {
    "id": "7XOWfN37gulc"
   },
   "source": [
    "# 7.01 Lab | Revisiting Machine Learning Case Study"
   ]
  },
  {
   "cell_type": "markdown",
   "metadata": {
    "id": "ZBhQqw70JWc5"
   },
   "source": [
    "ADD HERE CODE FOR LAB"
   ]
  },
  {
   "cell_type": "markdown",
   "metadata": {},
   "source": [
    "# -----------------------------------------------------------------------------------------"
   ]
  },
  {
   "cell_type": "markdown",
   "metadata": {
    "id": "ipaAeWcjgule"
   },
   "source": [
    "# 7.02"
   ]
  },
  {
   "cell_type": "markdown",
   "metadata": {
    "id": "joA_cUkK-aCI"
   },
   "source": [
    "We will work on the column DOMAIN. Let's replace the null values with the category that is represented the most and then we will split the data into two columns DOMAIN_A and DOMAIN_B.\n",
    "\n",
    "- DOMAIN_A will consist of the first character from the DOMAIN\n",
    "- DOMAIN_B will consist of the second character from the DOMAIN\n",
    "\n",
    "Then we will drop the original column DOMAIN"
   ]
  },
  {
   "cell_type": "code",
   "execution_count": null,
   "metadata": {},
   "outputs": [],
   "source": []
  },
  {
   "cell_type": "code",
   "execution_count": 32,
   "metadata": {
    "colab": {
     "base_uri": "https://localhost:8080/"
    },
    "id": "OOLr8fnd-T4I",
    "outputId": "9cc761ba-cad6-471d-93fe-8423ad25fc8e"
   },
   "outputs": [
    {
     "data": {
      "text/plain": [
       "R2     13623\n",
       "T2     12369\n",
       "S1     11503\n",
       "S2      8530\n",
       "C2      8264\n",
       "C1      6145\n",
       "C3      5280\n",
       "T1      4982\n",
       "R3      4809\n",
       "U1      4510\n",
       "U2      3254\n",
       "U3      2598\n",
       "NaN     2316\n",
       "T3      2176\n",
       "S3      1891\n",
       "U4      1804\n",
       "R1      1358\n",
       "Name: DOMAIN, dtype: int64"
      ]
     },
     "execution_count": 32,
     "metadata": {},
     "output_type": "execute_result"
    }
   ],
   "source": [
    "categorical['DOMAIN'].value_counts(dropna=False)"
   ]
  },
  {
   "cell_type": "code",
   "execution_count": 33,
   "metadata": {
    "id": "auI-d8ZI-jtV"
   },
   "outputs": [],
   "source": [
    "categorical['DOMAIN'] = categorical['DOMAIN'].fillna('C4')"
   ]
  },
  {
   "cell_type": "markdown",
   "metadata": {},
   "source": [
    "# grouping Urban and City average values to match other categories"
   ]
  },
  {
   "cell_type": "code",
   "execution_count": 34,
   "metadata": {},
   "outputs": [],
   "source": [
    "def domain_average (x):\n",
    "    if x == 'U3':\n",
    "        return 'U2'\n",
    "    elif x== 'U4':\n",
    "        return'U3'\n",
    "    elif x == 'C3':\n",
    "        return 'C2'\n",
    "    elif x == 'C4':\n",
    "        return 'C3'\n",
    "    else:\n",
    "        return x\n",
    "    "
   ]
  },
  {
   "cell_type": "code",
   "execution_count": 35,
   "metadata": {},
   "outputs": [],
   "source": [
    "categorical['DOMAIN'] = categorical['DOMAIN'].apply(lambda x: domain_average(x))\n"
   ]
  },
  {
   "cell_type": "code",
   "execution_count": 36,
   "metadata": {},
   "outputs": [
    {
     "data": {
      "text/plain": [
       "R2    13623\n",
       "C2    13544\n",
       "T2    12369\n",
       "S1    11503\n",
       "S2     8530\n",
       "C1     6145\n",
       "U2     5852\n",
       "T1     4982\n",
       "R3     4809\n",
       "U1     4510\n",
       "C3     2316\n",
       "T3     2176\n",
       "S3     1891\n",
       "U3     1804\n",
       "R1     1358\n",
       "Name: DOMAIN, dtype: int64"
      ]
     },
     "execution_count": 36,
     "metadata": {},
     "output_type": "execute_result"
    }
   ],
   "source": [
    "categorical['DOMAIN'].value_counts()"
   ]
  },
  {
   "cell_type": "code",
   "execution_count": null,
   "metadata": {},
   "outputs": [],
   "source": []
  },
  {
   "cell_type": "code",
   "execution_count": 37,
   "metadata": {
    "id": "r-AX-0Fy-5F2"
   },
   "outputs": [],
   "source": [
    "categorical['DOMAIN_A'] = list(map(lambda x: x[0], categorical['DOMAIN']))\n",
    "categorical['DOMAIN_B'] = list(map(lambda x: x[1], categorical['DOMAIN']))"
   ]
  },
  {
   "cell_type": "code",
   "execution_count": 38,
   "metadata": {
    "id": "ejjxExwR_AWp"
   },
   "outputs": [],
   "source": [
    "categorical = categorical.drop(columns=['DOMAIN'])"
   ]
  },
  {
   "cell_type": "code",
   "execution_count": 39,
   "metadata": {
    "colab": {
     "base_uri": "https://localhost:8080/",
     "height": 224
    },
    "id": "GLyUipyZ_CwU",
    "outputId": "46a6bba3-f617-485c-a565-5456d246c5b1"
   },
   "outputs": [
    {
     "data": {
      "text/html": [
       "<div>\n",
       "<style scoped>\n",
       "    .dataframe tbody tr th:only-of-type {\n",
       "        vertical-align: middle;\n",
       "    }\n",
       "\n",
       "    .dataframe tbody tr th {\n",
       "        vertical-align: top;\n",
       "    }\n",
       "\n",
       "    .dataframe thead th {\n",
       "        text-align: right;\n",
       "    }\n",
       "</style>\n",
       "<table border=\"1\" class=\"dataframe\">\n",
       "  <thead>\n",
       "    <tr style=\"text-align: right;\">\n",
       "      <th></th>\n",
       "      <th>OSOURCE</th>\n",
       "      <th>STATE</th>\n",
       "      <th>ZIP</th>\n",
       "      <th>MAILCODE</th>\n",
       "      <th>NOEXCH</th>\n",
       "      <th>MDMAUD</th>\n",
       "      <th>CLUSTER</th>\n",
       "      <th>HOMEOWNR</th>\n",
       "      <th>GENDER</th>\n",
       "      <th>DATASRCE</th>\n",
       "      <th>...</th>\n",
       "      <th>RFA_16</th>\n",
       "      <th>RFA_18</th>\n",
       "      <th>RFA_2R</th>\n",
       "      <th>RFA_2A</th>\n",
       "      <th>MDMAUD_R</th>\n",
       "      <th>MDMAUD_F</th>\n",
       "      <th>MDMAUD_A</th>\n",
       "      <th>GEOCODE2</th>\n",
       "      <th>DOMAIN_A</th>\n",
       "      <th>DOMAIN_B</th>\n",
       "    </tr>\n",
       "  </thead>\n",
       "  <tbody>\n",
       "    <tr>\n",
       "      <th>0</th>\n",
       "      <td>GRI</td>\n",
       "      <td>IL</td>\n",
       "      <td>61081</td>\n",
       "      <td>A</td>\n",
       "      <td>0</td>\n",
       "      <td>XXXX</td>\n",
       "      <td>36</td>\n",
       "      <td>NaN</td>\n",
       "      <td>F</td>\n",
       "      <td>NaN</td>\n",
       "      <td>...</td>\n",
       "      <td>S4E</td>\n",
       "      <td>S4E</td>\n",
       "      <td>L</td>\n",
       "      <td>E</td>\n",
       "      <td>X</td>\n",
       "      <td>X</td>\n",
       "      <td>X</td>\n",
       "      <td>C</td>\n",
       "      <td>T</td>\n",
       "      <td>2</td>\n",
       "    </tr>\n",
       "    <tr>\n",
       "      <th>1</th>\n",
       "      <td>BOA</td>\n",
       "      <td>CA</td>\n",
       "      <td>91326</td>\n",
       "      <td>A</td>\n",
       "      <td>0</td>\n",
       "      <td>XXXX</td>\n",
       "      <td>14</td>\n",
       "      <td>H</td>\n",
       "      <td>M</td>\n",
       "      <td>3</td>\n",
       "      <td>...</td>\n",
       "      <td>L1E</td>\n",
       "      <td>NaN</td>\n",
       "      <td>L</td>\n",
       "      <td>G</td>\n",
       "      <td>X</td>\n",
       "      <td>X</td>\n",
       "      <td>X</td>\n",
       "      <td>A</td>\n",
       "      <td>S</td>\n",
       "      <td>1</td>\n",
       "    </tr>\n",
       "    <tr>\n",
       "      <th>2</th>\n",
       "      <td>AMH</td>\n",
       "      <td>NC</td>\n",
       "      <td>27017</td>\n",
       "      <td>A</td>\n",
       "      <td>0</td>\n",
       "      <td>XXXX</td>\n",
       "      <td>43</td>\n",
       "      <td>U</td>\n",
       "      <td>M</td>\n",
       "      <td>3</td>\n",
       "      <td>...</td>\n",
       "      <td>S4F</td>\n",
       "      <td>S4D</td>\n",
       "      <td>L</td>\n",
       "      <td>E</td>\n",
       "      <td>X</td>\n",
       "      <td>X</td>\n",
       "      <td>X</td>\n",
       "      <td>C</td>\n",
       "      <td>R</td>\n",
       "      <td>2</td>\n",
       "    </tr>\n",
       "    <tr>\n",
       "      <th>3</th>\n",
       "      <td>BRY</td>\n",
       "      <td>CA</td>\n",
       "      <td>95953</td>\n",
       "      <td>A</td>\n",
       "      <td>0</td>\n",
       "      <td>XXXX</td>\n",
       "      <td>44</td>\n",
       "      <td>U</td>\n",
       "      <td>F</td>\n",
       "      <td>3</td>\n",
       "      <td>...</td>\n",
       "      <td>S4E</td>\n",
       "      <td>S2D</td>\n",
       "      <td>L</td>\n",
       "      <td>E</td>\n",
       "      <td>X</td>\n",
       "      <td>X</td>\n",
       "      <td>X</td>\n",
       "      <td>C</td>\n",
       "      <td>R</td>\n",
       "      <td>2</td>\n",
       "    </tr>\n",
       "    <tr>\n",
       "      <th>4</th>\n",
       "      <td>NaN</td>\n",
       "      <td>FL</td>\n",
       "      <td>33176</td>\n",
       "      <td>A</td>\n",
       "      <td>0</td>\n",
       "      <td>XXXX</td>\n",
       "      <td>16</td>\n",
       "      <td>H</td>\n",
       "      <td>F</td>\n",
       "      <td>3</td>\n",
       "      <td>...</td>\n",
       "      <td>L3D</td>\n",
       "      <td>A2D</td>\n",
       "      <td>L</td>\n",
       "      <td>F</td>\n",
       "      <td>X</td>\n",
       "      <td>X</td>\n",
       "      <td>X</td>\n",
       "      <td>A</td>\n",
       "      <td>S</td>\n",
       "      <td>2</td>\n",
       "    </tr>\n",
       "  </tbody>\n",
       "</table>\n",
       "<p>5 rows × 32 columns</p>\n",
       "</div>"
      ],
      "text/plain": [
       "  OSOURCE STATE    ZIP MAILCODE NOEXCH MDMAUD CLUSTER HOMEOWNR GENDER  \\\n",
       "0     GRI    IL  61081        A      0   XXXX      36      NaN      F   \n",
       "1     BOA    CA  91326        A      0   XXXX      14        H      M   \n",
       "2     AMH    NC  27017        A      0   XXXX      43        U      M   \n",
       "3     BRY    CA  95953        A      0   XXXX      44        U      F   \n",
       "4     NaN    FL  33176        A      0   XXXX      16        H      F   \n",
       "\n",
       "  DATASRCE  ... RFA_16 RFA_18 RFA_2R RFA_2A MDMAUD_R MDMAUD_F MDMAUD_A  \\\n",
       "0      NaN  ...    S4E    S4E      L      E        X        X        X   \n",
       "1        3  ...    L1E    NaN      L      G        X        X        X   \n",
       "2        3  ...    S4F    S4D      L      E        X        X        X   \n",
       "3        3  ...    S4E    S2D      L      E        X        X        X   \n",
       "4        3  ...    L3D    A2D      L      F        X        X        X   \n",
       "\n",
       "  GEOCODE2 DOMAIN_A DOMAIN_B  \n",
       "0        C        T        2  \n",
       "1        A        S        1  \n",
       "2        C        R        2  \n",
       "3        C        R        2  \n",
       "4        A        S        2  \n",
       "\n",
       "[5 rows x 32 columns]"
      ]
     },
     "execution_count": 39,
     "metadata": {},
     "output_type": "execute_result"
    }
   ],
   "source": [
    "categorical.head()"
   ]
  },
  {
   "cell_type": "code",
   "execution_count": 40,
   "metadata": {},
   "outputs": [
    {
     "data": {
      "text/plain": [
       "C    22005\n",
       "S    21924\n",
       "R    19790\n",
       "T    19527\n",
       "U    12166\n",
       "Name: DOMAIN_A, dtype: int64"
      ]
     },
     "execution_count": 40,
     "metadata": {},
     "output_type": "execute_result"
    }
   ],
   "source": [
    "categorical['DOMAIN_A'].value_counts()\n"
   ]
  },
  {
   "cell_type": "code",
   "execution_count": 41,
   "metadata": {},
   "outputs": [
    {
     "data": {
      "text/plain": [
       "2    53918\n",
       "1    28498\n",
       "3    12996\n",
       "Name: DOMAIN_B, dtype: int64"
      ]
     },
     "execution_count": 41,
     "metadata": {},
     "output_type": "execute_result"
    }
   ],
   "source": [
    "categorical['DOMAIN_B'].value_counts()"
   ]
  },
  {
   "cell_type": "markdown",
   "metadata": {
    "id": "LlsQT1bO_G8e"
   },
   "source": [
    "### Activity 2.1"
   ]
  },
  {
   "cell_type": "code",
   "execution_count": 42,
   "metadata": {
    "id": "szRb71rwC8LR"
   },
   "outputs": [],
   "source": [
    "drop_list=[]"
   ]
  },
  {
   "cell_type": "code",
   "execution_count": 43,
   "metadata": {
    "colab": {
     "base_uri": "https://localhost:8080/"
    },
    "id": "3vPGnGeqgule",
    "outputId": "8bc72913-cbc5-4881-ac86-5ae56e2ca8e6"
   },
   "outputs": [
    {
     "data": {
      "text/plain": [
       "A    94013\n",
       "B     1399\n",
       "Name: MAILCODE, dtype: int64"
      ]
     },
     "execution_count": 43,
     "metadata": {},
     "output_type": "execute_result"
    }
   ],
   "source": [
    "categorical['MAILCODE'].value_counts()"
   ]
  },
  {
   "cell_type": "code",
   "execution_count": 44,
   "metadata": {
    "id": "x4HKJfMWgule"
   },
   "outputs": [],
   "source": [
    "drop_list.append('MAILCODE')"
   ]
  },
  {
   "cell_type": "code",
   "execution_count": 45,
   "metadata": {
    "colab": {
     "base_uri": "https://localhost:8080/"
    },
    "id": "JW7rt-8mgulf",
    "outputId": "c5875900-78df-4b48-9586-35a7b5884831"
   },
   "outputs": [
    {
     "data": {
      "text/plain": [
       "0    61203\n",
       "0    33882\n",
       "1      195\n",
       "1       90\n",
       "X       35\n",
       "Name: NOEXCH, dtype: int64"
      ]
     },
     "execution_count": 45,
     "metadata": {},
     "output_type": "execute_result"
    }
   ],
   "source": [
    "categorical['NOEXCH'].value_counts()"
   ]
  },
  {
   "cell_type": "code",
   "execution_count": 46,
   "metadata": {
    "id": "nwN6dlcbgulf"
   },
   "outputs": [],
   "source": [
    "drop_list.append('NOEXCH')"
   ]
  },
  {
   "cell_type": "code",
   "execution_count": 47,
   "metadata": {
    "colab": {
     "base_uri": "https://localhost:8080/"
    },
    "id": "ROtDNE62gulg",
    "outputId": "0fd0be63-a07e-4b04-8d3c-47335da2f1a9"
   },
   "outputs": [
    {
     "name": "stdout",
     "output_type": "stream",
     "text": [
      "XXXX    95118\n",
      "C1CM       65\n",
      "L1CM       44\n",
      "I1CM       37\n",
      "D2CM       28\n",
      "C2CM       24\n",
      "D1CM       20\n",
      "L2CM       15\n",
      "L1LM        8\n",
      "C1LM        8\n",
      "I2CM        7\n",
      "D5MM        5\n",
      "D5CM        5\n",
      "D2MM        4\n",
      "D5TM        3\n",
      "C2LM        3\n",
      "C5CM        3\n",
      "I1LM        3\n",
      "C2MM        3\n",
      "L2LM        1\n",
      "C1MM        1\n",
      "I5CM        1\n",
      "I5MM        1\n",
      "C5MM        1\n",
      "L2TM        1\n",
      "C5TM        1\n",
      "I2MM        1\n",
      "L1MM        1\n",
      "Name: MDMAUD, dtype: int64\n"
     ]
    }
   ],
   "source": [
    "print(categorical['MDMAUD'].value_counts())\n",
    "# Since most of the data is unknown here we will drop this column"
   ]
  },
  {
   "cell_type": "code",
   "execution_count": 48,
   "metadata": {
    "id": "yyZ9zO8Cgulg"
   },
   "outputs": [],
   "source": [
    "drop_list.append('MDMAUD')"
   ]
  },
  {
   "cell_type": "markdown",
   "metadata": {
    "id": "1XEBuX6z_fGU"
   },
   "source": [
    "MDMAUD_XXX are also like MDMAUD\n",
    "\n"
   ]
  },
  {
   "cell_type": "code",
   "execution_count": 49,
   "metadata": {
    "colab": {
     "base_uri": "https://localhost:8080/"
    },
    "id": "oYR1WQGrgulg",
    "outputId": "0e75eaac-0987-410f-a360-7b0432f9d8e9"
   },
   "outputs": [
    {
     "data": {
      "text/plain": [
       "X    95118\n",
       "C      109\n",
       "L       70\n",
       "D       65\n",
       "I       50\n",
       "Name: MDMAUD_R, dtype: int64"
      ]
     },
     "execution_count": 49,
     "metadata": {},
     "output_type": "execute_result"
    }
   ],
   "source": [
    "categorical['MDMAUD_R'].value_counts()"
   ]
  },
  {
   "cell_type": "code",
   "execution_count": 50,
   "metadata": {
    "id": "QfV5vXPe__OQ"
   },
   "outputs": [],
   "source": [
    "drop_list = drop_list + ['MDMAUD_R', 'MDMAUD_F','MDMAUD_A']"
   ]
  },
  {
   "cell_type": "markdown",
   "metadata": {
    "id": "5E2oG4yiAAZg"
   },
   "source": [
    "Replacing NULL values"
   ]
  },
  {
   "cell_type": "code",
   "execution_count": 51,
   "metadata": {
    "colab": {
     "base_uri": "https://localhost:8080/"
    },
    "id": "XAvVonMEAKkq",
    "outputId": "2d7b21ef-7392-4903-cf83-59c106524649"
   },
   "outputs": [
    {
     "data": {
      "text/plain": [
       "40     3979\n",
       "35     3624\n",
       "36     3617\n",
       "27     3553\n",
       "24     3539\n",
       "49     3315\n",
       "12     3000\n",
       "18     2897\n",
       "13     2706\n",
       "30     2607\n",
       "39     2601\n",
       "45     2515\n",
       "43     2385\n",
       "11     2378\n",
       "51     2322\n",
       "NaN    2316\n",
       "14     2246\n",
       "41     2176\n",
       "44     1953\n",
       "16     1947\n",
       "2      1942\n",
       "21     1891\n",
       "8      1828\n",
       "10     1804\n",
       "46     1800\n",
       "28     1630\n",
       "17     1621\n",
       "20     1568\n",
       "53     1441\n",
       "3      1428\n",
       "42     1358\n",
       "34     1358\n",
       "23     1324\n",
       "31     1285\n",
       "22     1282\n",
       "25     1275\n",
       "38     1200\n",
       "15     1173\n",
       "1      1140\n",
       "7      1076\n",
       "5      1014\n",
       "37      972\n",
       "26      947\n",
       "47      868\n",
       "29      859\n",
       "32      795\n",
       "48      787\n",
       "50      776\n",
       "9       770\n",
       "6       603\n",
       "33      593\n",
       "4       561\n",
       "19      497\n",
       "52      270\n",
       "Name: CLUSTER, dtype: int64"
      ]
     },
     "execution_count": 51,
     "metadata": {},
     "output_type": "execute_result"
    }
   ],
   "source": [
    "categorical['CLUSTER'].value_counts(dropna=False)"
   ]
  },
  {
   "cell_type": "code",
   "execution_count": 52,
   "metadata": {
    "id": "nz2co7njgulg"
   },
   "outputs": [],
   "source": [
    "categorical['CLUSTER'] = categorical['CLUSTER'].fillna('40')"
   ]
  },
  {
   "cell_type": "code",
   "execution_count": 53,
   "metadata": {
    "colab": {
     "base_uri": "https://localhost:8080/"
    },
    "id": "v07Wmcebgulg",
    "outputId": "0203f47d-8976-4a21-a0d1-29b9800d7aca"
   },
   "outputs": [
    {
     "data": {
      "text/plain": [
       "H      52354\n",
       "NaN    22228\n",
       "U      20830\n",
       "Name: HOMEOWNR, dtype: int64"
      ]
     },
     "execution_count": 53,
     "metadata": {},
     "output_type": "execute_result"
    }
   ],
   "source": [
    "categorical['HOMEOWNR'].value_counts(dropna=False)"
   ]
  },
  {
   "cell_type": "code",
   "execution_count": 54,
   "metadata": {
    "id": "kPIro4y5AXC4"
   },
   "outputs": [],
   "source": [
    "categorical['HOMEOWNR'] = categorical['HOMEOWNR'].fillna('U')"
   ]
  },
  {
   "cell_type": "code",
   "execution_count": 55,
   "metadata": {
    "colab": {
     "base_uri": "https://localhost:8080/"
    },
    "id": "1aT6EDPWgulh",
    "outputId": "5f7f5625-ada1-4703-e5df-4f099aa9149d"
   },
   "outputs": [
    {
     "data": {
      "text/plain": [
       "F      51277\n",
       "M      39094\n",
       "NaN     2957\n",
       "U       1715\n",
       "J        365\n",
       "C          2\n",
       "A          2\n",
       "Name: GENDER, dtype: int64"
      ]
     },
     "execution_count": 55,
     "metadata": {},
     "output_type": "execute_result"
    }
   ],
   "source": [
    "categorical['GENDER'].value_counts(dropna=False)"
   ]
  },
  {
   "cell_type": "code",
   "execution_count": 56,
   "metadata": {
    "id": "Xc8HfrTrgulh"
   },
   "outputs": [],
   "source": [
    "#discuss why this makes more sense than the alternatives\n",
    "categorical['GENDER'] = categorical['GENDER'].fillna('F')"
   ]
  },
  {
   "cell_type": "code",
   "execution_count": 57,
   "metadata": {},
   "outputs": [],
   "source": [
    "categorical['GENDER'] = categorical['GENDER'].replace({'U':'Other','J':'Other','A':'Other','C':'Other'})"
   ]
  },
  {
   "cell_type": "code",
   "execution_count": 58,
   "metadata": {},
   "outputs": [
    {
     "data": {
      "text/plain": [
       "F        54234\n",
       "M        39094\n",
       "Other     2084\n",
       "Name: GENDER, dtype: int64"
      ]
     },
     "execution_count": 58,
     "metadata": {},
     "output_type": "execute_result"
    }
   ],
   "source": [
    "categorical['GENDER'].value_counts()"
   ]
  },
  {
   "cell_type": "code",
   "execution_count": null,
   "metadata": {},
   "outputs": [],
   "source": []
  },
  {
   "cell_type": "markdown",
   "metadata": {
    "id": "V_XWPAtoBT7k"
   },
   "source": [
    "### Activity 2.2.1"
   ]
  },
  {
   "cell_type": "code",
   "execution_count": 59,
   "metadata": {
    "colab": {
     "base_uri": "https://localhost:8080/"
    },
    "id": "jQxHN5AGgulh",
    "outputId": "e4d022fe-1ee5-45b7-8100-46d98ccb7151"
   },
   "outputs": [
    {
     "data": {
      "text/plain": [
       "3      43549\n",
       "2      23455\n",
       "NaN    21280\n",
       "1       7128\n",
       "Name: DATASRCE, dtype: int64"
      ]
     },
     "execution_count": 59,
     "metadata": {},
     "output_type": "execute_result"
    }
   ],
   "source": [
    "categorical['DATASRCE'].value_counts(dropna=False)"
   ]
  },
  {
   "cell_type": "code",
   "execution_count": 60,
   "metadata": {
    "id": "Q_GD3dgVA0pe"
   },
   "outputs": [],
   "source": [
    "categorical['DATASRCE'] = categorical['DATASRCE'].fillna('3')"
   ]
  },
  {
   "cell_type": "code",
   "execution_count": 61,
   "metadata": {
    "colab": {
     "base_uri": "https://localhost:8080/"
    },
    "id": "Bihmdzrdgulh",
    "outputId": "cd7b35a3-3faa-4ba5-b9bf-9860d3c0b732"
   },
   "outputs": [
    {
     "data": {
      "text/plain": [
       "A      34484\n",
       "B      28505\n",
       "D      16580\n",
       "C      15524\n",
       "NaN      319\n",
       "Name: GEOCODE2, dtype: int64"
      ]
     },
     "execution_count": 61,
     "metadata": {},
     "output_type": "execute_result"
    }
   ],
   "source": [
    "categorical['GEOCODE2'].value_counts(dropna=False)"
   ]
  },
  {
   "cell_type": "code",
   "execution_count": 62,
   "metadata": {
    "id": "5UUE3XVDA5JV"
   },
   "outputs": [],
   "source": [
    "categorical['GEOCODE2'] = categorical['GEOCODE2'].fillna('A')"
   ]
  },
  {
   "cell_type": "code",
   "execution_count": 63,
   "metadata": {
    "colab": {
     "base_uri": "https://localhost:8080/",
     "height": 224
    },
    "id": "6DhlErgSBpJC",
    "outputId": "bc8503ef-eef9-40cf-aff3-2d5b201dfa8f"
   },
   "outputs": [
    {
     "data": {
      "text/html": [
       "<div>\n",
       "<style scoped>\n",
       "    .dataframe tbody tr th:only-of-type {\n",
       "        vertical-align: middle;\n",
       "    }\n",
       "\n",
       "    .dataframe tbody tr th {\n",
       "        vertical-align: top;\n",
       "    }\n",
       "\n",
       "    .dataframe thead th {\n",
       "        text-align: right;\n",
       "    }\n",
       "</style>\n",
       "<table border=\"1\" class=\"dataframe\">\n",
       "  <thead>\n",
       "    <tr style=\"text-align: right;\">\n",
       "      <th></th>\n",
       "      <th>OSOURCE</th>\n",
       "      <th>STATE</th>\n",
       "      <th>ZIP</th>\n",
       "      <th>MAILCODE</th>\n",
       "      <th>NOEXCH</th>\n",
       "      <th>MDMAUD</th>\n",
       "      <th>CLUSTER</th>\n",
       "      <th>HOMEOWNR</th>\n",
       "      <th>GENDER</th>\n",
       "      <th>DATASRCE</th>\n",
       "      <th>...</th>\n",
       "      <th>RFA_16</th>\n",
       "      <th>RFA_18</th>\n",
       "      <th>RFA_2R</th>\n",
       "      <th>RFA_2A</th>\n",
       "      <th>MDMAUD_R</th>\n",
       "      <th>MDMAUD_F</th>\n",
       "      <th>MDMAUD_A</th>\n",
       "      <th>GEOCODE2</th>\n",
       "      <th>DOMAIN_A</th>\n",
       "      <th>DOMAIN_B</th>\n",
       "    </tr>\n",
       "  </thead>\n",
       "  <tbody>\n",
       "    <tr>\n",
       "      <th>0</th>\n",
       "      <td>GRI</td>\n",
       "      <td>IL</td>\n",
       "      <td>61081</td>\n",
       "      <td>A</td>\n",
       "      <td>0</td>\n",
       "      <td>XXXX</td>\n",
       "      <td>36</td>\n",
       "      <td>U</td>\n",
       "      <td>F</td>\n",
       "      <td>3</td>\n",
       "      <td>...</td>\n",
       "      <td>S4E</td>\n",
       "      <td>S4E</td>\n",
       "      <td>L</td>\n",
       "      <td>E</td>\n",
       "      <td>X</td>\n",
       "      <td>X</td>\n",
       "      <td>X</td>\n",
       "      <td>C</td>\n",
       "      <td>T</td>\n",
       "      <td>2</td>\n",
       "    </tr>\n",
       "    <tr>\n",
       "      <th>1</th>\n",
       "      <td>BOA</td>\n",
       "      <td>CA</td>\n",
       "      <td>91326</td>\n",
       "      <td>A</td>\n",
       "      <td>0</td>\n",
       "      <td>XXXX</td>\n",
       "      <td>14</td>\n",
       "      <td>H</td>\n",
       "      <td>M</td>\n",
       "      <td>3</td>\n",
       "      <td>...</td>\n",
       "      <td>L1E</td>\n",
       "      <td>NaN</td>\n",
       "      <td>L</td>\n",
       "      <td>G</td>\n",
       "      <td>X</td>\n",
       "      <td>X</td>\n",
       "      <td>X</td>\n",
       "      <td>A</td>\n",
       "      <td>S</td>\n",
       "      <td>1</td>\n",
       "    </tr>\n",
       "    <tr>\n",
       "      <th>2</th>\n",
       "      <td>AMH</td>\n",
       "      <td>NC</td>\n",
       "      <td>27017</td>\n",
       "      <td>A</td>\n",
       "      <td>0</td>\n",
       "      <td>XXXX</td>\n",
       "      <td>43</td>\n",
       "      <td>U</td>\n",
       "      <td>M</td>\n",
       "      <td>3</td>\n",
       "      <td>...</td>\n",
       "      <td>S4F</td>\n",
       "      <td>S4D</td>\n",
       "      <td>L</td>\n",
       "      <td>E</td>\n",
       "      <td>X</td>\n",
       "      <td>X</td>\n",
       "      <td>X</td>\n",
       "      <td>C</td>\n",
       "      <td>R</td>\n",
       "      <td>2</td>\n",
       "    </tr>\n",
       "    <tr>\n",
       "      <th>3</th>\n",
       "      <td>BRY</td>\n",
       "      <td>CA</td>\n",
       "      <td>95953</td>\n",
       "      <td>A</td>\n",
       "      <td>0</td>\n",
       "      <td>XXXX</td>\n",
       "      <td>44</td>\n",
       "      <td>U</td>\n",
       "      <td>F</td>\n",
       "      <td>3</td>\n",
       "      <td>...</td>\n",
       "      <td>S4E</td>\n",
       "      <td>S2D</td>\n",
       "      <td>L</td>\n",
       "      <td>E</td>\n",
       "      <td>X</td>\n",
       "      <td>X</td>\n",
       "      <td>X</td>\n",
       "      <td>C</td>\n",
       "      <td>R</td>\n",
       "      <td>2</td>\n",
       "    </tr>\n",
       "    <tr>\n",
       "      <th>4</th>\n",
       "      <td>NaN</td>\n",
       "      <td>FL</td>\n",
       "      <td>33176</td>\n",
       "      <td>A</td>\n",
       "      <td>0</td>\n",
       "      <td>XXXX</td>\n",
       "      <td>16</td>\n",
       "      <td>H</td>\n",
       "      <td>F</td>\n",
       "      <td>3</td>\n",
       "      <td>...</td>\n",
       "      <td>L3D</td>\n",
       "      <td>A2D</td>\n",
       "      <td>L</td>\n",
       "      <td>F</td>\n",
       "      <td>X</td>\n",
       "      <td>X</td>\n",
       "      <td>X</td>\n",
       "      <td>A</td>\n",
       "      <td>S</td>\n",
       "      <td>2</td>\n",
       "    </tr>\n",
       "  </tbody>\n",
       "</table>\n",
       "<p>5 rows × 32 columns</p>\n",
       "</div>"
      ],
      "text/plain": [
       "  OSOURCE STATE    ZIP MAILCODE NOEXCH MDMAUD CLUSTER HOMEOWNR GENDER  \\\n",
       "0     GRI    IL  61081        A      0   XXXX      36        U      F   \n",
       "1     BOA    CA  91326        A      0   XXXX      14        H      M   \n",
       "2     AMH    NC  27017        A      0   XXXX      43        U      M   \n",
       "3     BRY    CA  95953        A      0   XXXX      44        U      F   \n",
       "4     NaN    FL  33176        A      0   XXXX      16        H      F   \n",
       "\n",
       "  DATASRCE  ... RFA_16 RFA_18 RFA_2R RFA_2A MDMAUD_R MDMAUD_F MDMAUD_A  \\\n",
       "0        3  ...    S4E    S4E      L      E        X        X        X   \n",
       "1        3  ...    L1E    NaN      L      G        X        X        X   \n",
       "2        3  ...    S4F    S4D      L      E        X        X        X   \n",
       "3        3  ...    S4E    S2D      L      E        X        X        X   \n",
       "4        3  ...    L3D    A2D      L      F        X        X        X   \n",
       "\n",
       "  GEOCODE2 DOMAIN_A DOMAIN_B  \n",
       "0        C        T        2  \n",
       "1        A        S        1  \n",
       "2        C        R        2  \n",
       "3        C        R        2  \n",
       "4        A        S        2  \n",
       "\n",
       "[5 rows x 32 columns]"
      ]
     },
     "execution_count": 63,
     "metadata": {},
     "output_type": "execute_result"
    }
   ],
   "source": [
    "categorical.head()"
   ]
  },
  {
   "cell_type": "markdown",
   "metadata": {
    "id": "Zsievy73A84d"
   },
   "source": [
    "Removing columns with similar information"
   ]
  },
  {
   "cell_type": "code",
   "execution_count": 64,
   "metadata": {
    "colab": {
     "base_uri": "https://localhost:8080/"
    },
    "id": "ICkCQVFZgulh",
    "outputId": "8f8eaa6e-b020-4cd2-cc35-f3f9e5deeede"
   },
   "outputs": [
    {
     "data": {
      "text/plain": [
       "L1F    30380\n",
       "L1G    12384\n",
       "L2F    10961\n",
       "L3E     7767\n",
       "L2E     4989\n",
       "L4D     4914\n",
       "L1E     4911\n",
       "L2G     4595\n",
       "L4E     3972\n",
       "L3F     3523\n",
       "L3D     2498\n",
       "L4F     2100\n",
       "L3G     1503\n",
       "L4G      915\n",
       "Name: RFA_2, dtype: int64"
      ]
     },
     "execution_count": 64,
     "metadata": {},
     "output_type": "execute_result"
    }
   ],
   "source": [
    "categorical['RFA_2'].value_counts()"
   ]
  },
  {
   "cell_type": "code",
   "execution_count": 65,
   "metadata": {
    "id": "igaSHXgwguli"
   },
   "outputs": [],
   "source": [
    "# We will keep the column RFA_2X. We will delete rest of the columns \n",
    "\n",
    "for col_name in categorical.columns:\n",
    "    if \"RFA\" in col_name:\n",
    "        drop_list.append(col_name)       "
   ]
  },
  {
   "cell_type": "code",
   "execution_count": 66,
   "metadata": {
    "colab": {
     "base_uri": "https://localhost:8080/"
    },
    "id": "p9GpZ4A7guli",
    "outputId": "e64b793a-d4bf-43a9-bcfc-c8caa441477e"
   },
   "outputs": [
    {
     "data": {
      "text/plain": [
       "['MAILCODE',\n",
       " 'NOEXCH',\n",
       " 'MDMAUD',\n",
       " 'MDMAUD_R',\n",
       " 'MDMAUD_F',\n",
       " 'MDMAUD_A',\n",
       " 'RFA_2',\n",
       " 'RFA_3',\n",
       " 'RFA_4',\n",
       " 'RFA_6',\n",
       " 'RFA_7',\n",
       " 'RFA_8',\n",
       " 'RFA_9',\n",
       " 'RFA_11',\n",
       " 'RFA_12',\n",
       " 'RFA_14',\n",
       " 'RFA_16',\n",
       " 'RFA_18']"
      ]
     },
     "execution_count": 66,
     "metadata": {},
     "output_type": "execute_result"
    }
   ],
   "source": [
    "drop_list.remove('RFA_2R')\n",
    "drop_list.remove('RFA_2A')\n",
    "drop_list"
   ]
  },
  {
   "cell_type": "code",
   "execution_count": 67,
   "metadata": {
    "colab": {
     "base_uri": "https://localhost:8080/",
     "height": 204
    },
    "id": "yud6-l57guli",
    "outputId": "d47e1e80-b02b-4495-c4d1-e2c6f941ccdb"
   },
   "outputs": [
    {
     "data": {
      "text/html": [
       "<div>\n",
       "<style scoped>\n",
       "    .dataframe tbody tr th:only-of-type {\n",
       "        vertical-align: middle;\n",
       "    }\n",
       "\n",
       "    .dataframe tbody tr th {\n",
       "        vertical-align: top;\n",
       "    }\n",
       "\n",
       "    .dataframe thead th {\n",
       "        text-align: right;\n",
       "    }\n",
       "</style>\n",
       "<table border=\"1\" class=\"dataframe\">\n",
       "  <thead>\n",
       "    <tr style=\"text-align: right;\">\n",
       "      <th></th>\n",
       "      <th>OSOURCE</th>\n",
       "      <th>STATE</th>\n",
       "      <th>ZIP</th>\n",
       "      <th>CLUSTER</th>\n",
       "      <th>HOMEOWNR</th>\n",
       "      <th>GENDER</th>\n",
       "      <th>DATASRCE</th>\n",
       "      <th>SOLIH</th>\n",
       "      <th>VETERANS</th>\n",
       "      <th>RFA_2R</th>\n",
       "      <th>RFA_2A</th>\n",
       "      <th>GEOCODE2</th>\n",
       "      <th>DOMAIN_A</th>\n",
       "      <th>DOMAIN_B</th>\n",
       "    </tr>\n",
       "  </thead>\n",
       "  <tbody>\n",
       "    <tr>\n",
       "      <th>0</th>\n",
       "      <td>GRI</td>\n",
       "      <td>IL</td>\n",
       "      <td>61081</td>\n",
       "      <td>36</td>\n",
       "      <td>U</td>\n",
       "      <td>F</td>\n",
       "      <td>3</td>\n",
       "      <td>NaN</td>\n",
       "      <td>NaN</td>\n",
       "      <td>L</td>\n",
       "      <td>E</td>\n",
       "      <td>C</td>\n",
       "      <td>T</td>\n",
       "      <td>2</td>\n",
       "    </tr>\n",
       "    <tr>\n",
       "      <th>1</th>\n",
       "      <td>BOA</td>\n",
       "      <td>CA</td>\n",
       "      <td>91326</td>\n",
       "      <td>14</td>\n",
       "      <td>H</td>\n",
       "      <td>M</td>\n",
       "      <td>3</td>\n",
       "      <td>NaN</td>\n",
       "      <td>NaN</td>\n",
       "      <td>L</td>\n",
       "      <td>G</td>\n",
       "      <td>A</td>\n",
       "      <td>S</td>\n",
       "      <td>1</td>\n",
       "    </tr>\n",
       "    <tr>\n",
       "      <th>2</th>\n",
       "      <td>AMH</td>\n",
       "      <td>NC</td>\n",
       "      <td>27017</td>\n",
       "      <td>43</td>\n",
       "      <td>U</td>\n",
       "      <td>M</td>\n",
       "      <td>3</td>\n",
       "      <td>NaN</td>\n",
       "      <td>NaN</td>\n",
       "      <td>L</td>\n",
       "      <td>E</td>\n",
       "      <td>C</td>\n",
       "      <td>R</td>\n",
       "      <td>2</td>\n",
       "    </tr>\n",
       "    <tr>\n",
       "      <th>3</th>\n",
       "      <td>BRY</td>\n",
       "      <td>CA</td>\n",
       "      <td>95953</td>\n",
       "      <td>44</td>\n",
       "      <td>U</td>\n",
       "      <td>F</td>\n",
       "      <td>3</td>\n",
       "      <td>NaN</td>\n",
       "      <td>NaN</td>\n",
       "      <td>L</td>\n",
       "      <td>E</td>\n",
       "      <td>C</td>\n",
       "      <td>R</td>\n",
       "      <td>2</td>\n",
       "    </tr>\n",
       "    <tr>\n",
       "      <th>4</th>\n",
       "      <td>NaN</td>\n",
       "      <td>FL</td>\n",
       "      <td>33176</td>\n",
       "      <td>16</td>\n",
       "      <td>H</td>\n",
       "      <td>F</td>\n",
       "      <td>3</td>\n",
       "      <td>12</td>\n",
       "      <td>NaN</td>\n",
       "      <td>L</td>\n",
       "      <td>F</td>\n",
       "      <td>A</td>\n",
       "      <td>S</td>\n",
       "      <td>2</td>\n",
       "    </tr>\n",
       "  </tbody>\n",
       "</table>\n",
       "</div>"
      ],
      "text/plain": [
       "  OSOURCE STATE    ZIP CLUSTER HOMEOWNR GENDER DATASRCE SOLIH VETERANS RFA_2R  \\\n",
       "0     GRI    IL  61081      36        U      F        3   NaN      NaN      L   \n",
       "1     BOA    CA  91326      14        H      M        3   NaN      NaN      L   \n",
       "2     AMH    NC  27017      43        U      M        3   NaN      NaN      L   \n",
       "3     BRY    CA  95953      44        U      F        3   NaN      NaN      L   \n",
       "4     NaN    FL  33176      16        H      F        3    12      NaN      L   \n",
       "\n",
       "  RFA_2A GEOCODE2 DOMAIN_A DOMAIN_B  \n",
       "0      E        C        T        2  \n",
       "1      G        A        S        1  \n",
       "2      E        C        R        2  \n",
       "3      E        C        R        2  \n",
       "4      F        A        S        2  "
      ]
     },
     "execution_count": 67,
     "metadata": {},
     "output_type": "execute_result"
    }
   ],
   "source": [
    "categorical = categorical.drop(columns=drop_list)\n",
    "categorical.head()"
   ]
  },
  {
   "cell_type": "code",
   "execution_count": 68,
   "metadata": {
    "colab": {
     "base_uri": "https://localhost:8080/"
    },
    "id": "hpvZ99o7guli",
    "outputId": "dacbee7d-fe75-4ac1-9551-005abe74e288"
   },
   "outputs": [
    {
     "data": {
      "text/plain": [
       "OSOURCE       928\n",
       "STATE           0\n",
       "ZIP             0\n",
       "CLUSTER         0\n",
       "HOMEOWNR        0\n",
       "GENDER          0\n",
       "DATASRCE        0\n",
       "SOLIH       89212\n",
       "VETERANS    84986\n",
       "RFA_2R          0\n",
       "RFA_2A          0\n",
       "GEOCODE2        0\n",
       "DOMAIN_A        0\n",
       "DOMAIN_B        0\n",
       "dtype: int64"
      ]
     },
     "execution_count": 68,
     "metadata": {},
     "output_type": "execute_result"
    }
   ],
   "source": [
    "categorical.isna().sum()"
   ]
  },
  {
   "cell_type": "code",
   "execution_count": null,
   "metadata": {
    "id": "18wy17Atguli"
   },
   "outputs": [],
   "source": []
  },
  {
   "cell_type": "code",
   "execution_count": null,
   "metadata": {
    "id": "vw_4VG9Kgulj"
   },
   "outputs": [],
   "source": []
  },
  {
   "cell_type": "markdown",
   "metadata": {
    "id": "s3_M5nPHgulj"
   },
   "source": [
    "# Working with numerical columns "
   ]
  },
  {
   "cell_type": "code",
   "execution_count": 69,
   "metadata": {
    "colab": {
     "base_uri": "https://localhost:8080/",
     "height": 253
    },
    "id": "UX2paZWRgulj",
    "outputId": "3c4e134f-c748-48c7-bbde-bf94f8bf0151"
   },
   "outputs": [
    {
     "data": {
      "text/html": [
       "<div>\n",
       "<style scoped>\n",
       "    .dataframe tbody tr th:only-of-type {\n",
       "        vertical-align: middle;\n",
       "    }\n",
       "\n",
       "    .dataframe tbody tr th {\n",
       "        vertical-align: top;\n",
       "    }\n",
       "\n",
       "    .dataframe thead th {\n",
       "        text-align: right;\n",
       "    }\n",
       "</style>\n",
       "<table border=\"1\" class=\"dataframe\">\n",
       "  <thead>\n",
       "    <tr style=\"text-align: right;\">\n",
       "      <th></th>\n",
       "      <th>ODATEDW</th>\n",
       "      <th>TCODE</th>\n",
       "      <th>DOB</th>\n",
       "      <th>AGE</th>\n",
       "      <th>INCOME</th>\n",
       "      <th>WEALTH1</th>\n",
       "      <th>HIT</th>\n",
       "      <th>MALEMILI</th>\n",
       "      <th>MALEVET</th>\n",
       "      <th>VIETVETS</th>\n",
       "      <th>...</th>\n",
       "      <th>LASTGIFT</th>\n",
       "      <th>LASTDATE</th>\n",
       "      <th>FISTDATE</th>\n",
       "      <th>NEXTDATE</th>\n",
       "      <th>TIMELAG</th>\n",
       "      <th>AVGGIFT</th>\n",
       "      <th>CONTROLN</th>\n",
       "      <th>HPHONE_D</th>\n",
       "      <th>RFA_2F</th>\n",
       "      <th>CLUSTER2</th>\n",
       "    </tr>\n",
       "  </thead>\n",
       "  <tbody>\n",
       "    <tr>\n",
       "      <th>0</th>\n",
       "      <td>8901</td>\n",
       "      <td>0</td>\n",
       "      <td>3712</td>\n",
       "      <td>60.0</td>\n",
       "      <td>NaN</td>\n",
       "      <td>NaN</td>\n",
       "      <td>0</td>\n",
       "      <td>0</td>\n",
       "      <td>39</td>\n",
       "      <td>34</td>\n",
       "      <td>...</td>\n",
       "      <td>10.0</td>\n",
       "      <td>9512</td>\n",
       "      <td>8911</td>\n",
       "      <td>9003.0</td>\n",
       "      <td>4.0</td>\n",
       "      <td>7.741935</td>\n",
       "      <td>95515</td>\n",
       "      <td>0</td>\n",
       "      <td>4</td>\n",
       "      <td>39.0</td>\n",
       "    </tr>\n",
       "    <tr>\n",
       "      <th>1</th>\n",
       "      <td>9401</td>\n",
       "      <td>1</td>\n",
       "      <td>5202</td>\n",
       "      <td>46.0</td>\n",
       "      <td>6.0</td>\n",
       "      <td>9.0</td>\n",
       "      <td>16</td>\n",
       "      <td>0</td>\n",
       "      <td>15</td>\n",
       "      <td>55</td>\n",
       "      <td>...</td>\n",
       "      <td>25.0</td>\n",
       "      <td>9512</td>\n",
       "      <td>9310</td>\n",
       "      <td>9504.0</td>\n",
       "      <td>18.0</td>\n",
       "      <td>15.666667</td>\n",
       "      <td>148535</td>\n",
       "      <td>0</td>\n",
       "      <td>2</td>\n",
       "      <td>1.0</td>\n",
       "    </tr>\n",
       "    <tr>\n",
       "      <th>2</th>\n",
       "      <td>9001</td>\n",
       "      <td>1</td>\n",
       "      <td>0</td>\n",
       "      <td>NaN</td>\n",
       "      <td>3.0</td>\n",
       "      <td>1.0</td>\n",
       "      <td>2</td>\n",
       "      <td>0</td>\n",
       "      <td>20</td>\n",
       "      <td>29</td>\n",
       "      <td>...</td>\n",
       "      <td>5.0</td>\n",
       "      <td>9512</td>\n",
       "      <td>9001</td>\n",
       "      <td>9101.0</td>\n",
       "      <td>12.0</td>\n",
       "      <td>7.481481</td>\n",
       "      <td>15078</td>\n",
       "      <td>1</td>\n",
       "      <td>4</td>\n",
       "      <td>60.0</td>\n",
       "    </tr>\n",
       "    <tr>\n",
       "      <th>3</th>\n",
       "      <td>8701</td>\n",
       "      <td>0</td>\n",
       "      <td>2801</td>\n",
       "      <td>70.0</td>\n",
       "      <td>1.0</td>\n",
       "      <td>4.0</td>\n",
       "      <td>2</td>\n",
       "      <td>0</td>\n",
       "      <td>23</td>\n",
       "      <td>14</td>\n",
       "      <td>...</td>\n",
       "      <td>10.0</td>\n",
       "      <td>9512</td>\n",
       "      <td>8702</td>\n",
       "      <td>8711.0</td>\n",
       "      <td>9.0</td>\n",
       "      <td>6.812500</td>\n",
       "      <td>172556</td>\n",
       "      <td>1</td>\n",
       "      <td>4</td>\n",
       "      <td>41.0</td>\n",
       "    </tr>\n",
       "    <tr>\n",
       "      <th>4</th>\n",
       "      <td>8601</td>\n",
       "      <td>0</td>\n",
       "      <td>2001</td>\n",
       "      <td>78.0</td>\n",
       "      <td>3.0</td>\n",
       "      <td>2.0</td>\n",
       "      <td>60</td>\n",
       "      <td>1</td>\n",
       "      <td>28</td>\n",
       "      <td>9</td>\n",
       "      <td>...</td>\n",
       "      <td>15.0</td>\n",
       "      <td>9601</td>\n",
       "      <td>7903</td>\n",
       "      <td>8005.0</td>\n",
       "      <td>14.0</td>\n",
       "      <td>6.864865</td>\n",
       "      <td>7112</td>\n",
       "      <td>1</td>\n",
       "      <td>2</td>\n",
       "      <td>26.0</td>\n",
       "    </tr>\n",
       "  </tbody>\n",
       "</table>\n",
       "<p>5 rows × 335 columns</p>\n",
       "</div>"
      ],
      "text/plain": [
       "   ODATEDW  TCODE   DOB   AGE  INCOME  WEALTH1  HIT  MALEMILI  MALEVET  \\\n",
       "0     8901      0  3712  60.0     NaN      NaN    0         0       39   \n",
       "1     9401      1  5202  46.0     6.0      9.0   16         0       15   \n",
       "2     9001      1     0   NaN     3.0      1.0    2         0       20   \n",
       "3     8701      0  2801  70.0     1.0      4.0    2         0       23   \n",
       "4     8601      0  2001  78.0     3.0      2.0   60         1       28   \n",
       "\n",
       "   VIETVETS  ...  LASTGIFT  LASTDATE  FISTDATE  NEXTDATE  TIMELAG    AVGGIFT  \\\n",
       "0        34  ...      10.0      9512      8911    9003.0      4.0   7.741935   \n",
       "1        55  ...      25.0      9512      9310    9504.0     18.0  15.666667   \n",
       "2        29  ...       5.0      9512      9001    9101.0     12.0   7.481481   \n",
       "3        14  ...      10.0      9512      8702    8711.0      9.0   6.812500   \n",
       "4         9  ...      15.0      9601      7903    8005.0     14.0   6.864865   \n",
       "\n",
       "   CONTROLN  HPHONE_D  RFA_2F  CLUSTER2  \n",
       "0     95515         0       4      39.0  \n",
       "1    148535         0       2       1.0  \n",
       "2     15078         1       4      60.0  \n",
       "3    172556         1       4      41.0  \n",
       "4      7112         1       2      26.0  \n",
       "\n",
       "[5 rows x 335 columns]"
      ]
     },
     "execution_count": 69,
     "metadata": {},
     "output_type": "execute_result"
    }
   ],
   "source": [
    "numerical.head()"
   ]
  },
  {
   "cell_type": "code",
   "execution_count": 70,
   "metadata": {
    "colab": {
     "base_uri": "https://localhost:8080/"
    },
    "id": "l0EgXvhHgulj",
    "outputId": "75bb2ff3-4408-4498-bec8-d528956ba140"
   },
   "outputs": [
    {
     "data": {
      "text/plain": [
       "(95412, 335)"
      ]
     },
     "execution_count": 70,
     "metadata": {},
     "output_type": "execute_result"
    }
   ],
   "source": [
    "numerical.shape"
   ]
  },
  {
   "cell_type": "code",
   "execution_count": 71,
   "metadata": {
    "colab": {
     "base_uri": "https://localhost:8080/",
     "height": 700
    },
    "id": "GqnXMGfJgulj",
    "outputId": "b3cadb63-2d36-48e4-fb79-5b6dcb3f88ff"
   },
   "outputs": [
    {
     "data": {
      "text/html": [
       "<div>\n",
       "<style scoped>\n",
       "    .dataframe tbody tr th:only-of-type {\n",
       "        vertical-align: middle;\n",
       "    }\n",
       "\n",
       "    .dataframe tbody tr th {\n",
       "        vertical-align: top;\n",
       "    }\n",
       "\n",
       "    .dataframe thead th {\n",
       "        text-align: right;\n",
       "    }\n",
       "</style>\n",
       "<table border=\"1\" class=\"dataframe\">\n",
       "  <thead>\n",
       "    <tr style=\"text-align: right;\">\n",
       "      <th></th>\n",
       "      <th>column_name</th>\n",
       "      <th>nulls</th>\n",
       "    </tr>\n",
       "  </thead>\n",
       "  <tbody>\n",
       "    <tr>\n",
       "      <th>3</th>\n",
       "      <td>AGE</td>\n",
       "      <td>23665</td>\n",
       "    </tr>\n",
       "    <tr>\n",
       "      <th>4</th>\n",
       "      <td>INCOME</td>\n",
       "      <td>21286</td>\n",
       "    </tr>\n",
       "    <tr>\n",
       "      <th>5</th>\n",
       "      <td>WEALTH1</td>\n",
       "      <td>44732</td>\n",
       "    </tr>\n",
       "    <tr>\n",
       "      <th>14</th>\n",
       "      <td>WEALTH2</td>\n",
       "      <td>43823</td>\n",
       "    </tr>\n",
       "    <tr>\n",
       "      <th>135</th>\n",
       "      <td>MSA</td>\n",
       "      <td>132</td>\n",
       "    </tr>\n",
       "    <tr>\n",
       "      <th>136</th>\n",
       "      <td>ADI</td>\n",
       "      <td>132</td>\n",
       "    </tr>\n",
       "    <tr>\n",
       "      <th>137</th>\n",
       "      <td>DMA</td>\n",
       "      <td>132</td>\n",
       "    </tr>\n",
       "    <tr>\n",
       "      <th>302</th>\n",
       "      <td>ADATE_3</td>\n",
       "      <td>1950</td>\n",
       "    </tr>\n",
       "    <tr>\n",
       "      <th>303</th>\n",
       "      <td>ADATE_4</td>\n",
       "      <td>2191</td>\n",
       "    </tr>\n",
       "    <tr>\n",
       "      <th>304</th>\n",
       "      <td>ADATE_6</td>\n",
       "      <td>3557</td>\n",
       "    </tr>\n",
       "    <tr>\n",
       "      <th>305</th>\n",
       "      <td>ADATE_7</td>\n",
       "      <td>8874</td>\n",
       "    </tr>\n",
       "    <tr>\n",
       "      <th>306</th>\n",
       "      <td>ADATE_8</td>\n",
       "      <td>3511</td>\n",
       "    </tr>\n",
       "    <tr>\n",
       "      <th>307</th>\n",
       "      <td>ADATE_9</td>\n",
       "      <td>11245</td>\n",
       "    </tr>\n",
       "    <tr>\n",
       "      <th>308</th>\n",
       "      <td>ADATE_11</td>\n",
       "      <td>10422</td>\n",
       "    </tr>\n",
       "    <tr>\n",
       "      <th>309</th>\n",
       "      <td>ADATE_12</td>\n",
       "      <td>8923</td>\n",
       "    </tr>\n",
       "    <tr>\n",
       "      <th>310</th>\n",
       "      <td>ADATE_14</td>\n",
       "      <td>18867</td>\n",
       "    </tr>\n",
       "    <tr>\n",
       "      <th>311</th>\n",
       "      <td>ADATE_16</td>\n",
       "      <td>20364</td>\n",
       "    </tr>\n",
       "    <tr>\n",
       "      <th>312</th>\n",
       "      <td>ADATE_18</td>\n",
       "      <td>21263</td>\n",
       "    </tr>\n",
       "    <tr>\n",
       "      <th>328</th>\n",
       "      <td>NEXTDATE</td>\n",
       "      <td>9973</td>\n",
       "    </tr>\n",
       "    <tr>\n",
       "      <th>329</th>\n",
       "      <td>TIMELAG</td>\n",
       "      <td>9973</td>\n",
       "    </tr>\n",
       "    <tr>\n",
       "      <th>334</th>\n",
       "      <td>CLUSTER2</td>\n",
       "      <td>132</td>\n",
       "    </tr>\n",
       "  </tbody>\n",
       "</table>\n",
       "</div>"
      ],
      "text/plain": [
       "    column_name  nulls\n",
       "3           AGE  23665\n",
       "4        INCOME  21286\n",
       "5       WEALTH1  44732\n",
       "14      WEALTH2  43823\n",
       "135         MSA    132\n",
       "136         ADI    132\n",
       "137         DMA    132\n",
       "302     ADATE_3   1950\n",
       "303     ADATE_4   2191\n",
       "304     ADATE_6   3557\n",
       "305     ADATE_7   8874\n",
       "306     ADATE_8   3511\n",
       "307     ADATE_9  11245\n",
       "308    ADATE_11  10422\n",
       "309    ADATE_12   8923\n",
       "310    ADATE_14  18867\n",
       "311    ADATE_16  20364\n",
       "312    ADATE_18  21263\n",
       "328    NEXTDATE   9973\n",
       "329     TIMELAG   9973\n",
       "334    CLUSTER2    132"
      ]
     },
     "execution_count": 71,
     "metadata": {},
     "output_type": "execute_result"
    }
   ],
   "source": [
    "df = pd.DataFrame(numerical.isna().sum()).reset_index()\n",
    "df.columns = ['column_name', 'nulls']\n",
    "df[df['nulls']>0]"
   ]
  },
  {
   "cell_type": "markdown",
   "metadata": {
    "id": "97n9ff6QDV9D"
   },
   "source": [
    "### Activity 2.2.2"
   ]
  },
  {
   "cell_type": "code",
   "execution_count": 72,
   "metadata": {
    "id": "047dDKdLgulk"
   },
   "outputs": [],
   "source": [
    "drop_list = []\n",
    "for col_name in numerical.columns:\n",
    "    if \"ADATE\" in col_name:\n",
    "        drop_list.append(col_name)   "
   ]
  },
  {
   "cell_type": "code",
   "execution_count": 73,
   "metadata": {
    "colab": {
     "base_uri": "https://localhost:8080/"
    },
    "id": "dOxRfEregulk",
    "outputId": "dbccae35-c972-481a-85be-e44465bc429b"
   },
   "outputs": [
    {
     "data": {
      "text/plain": [
       "9706    95399\n",
       "9704       13\n",
       "Name: ADATE_2, dtype: int64"
      ]
     },
     "execution_count": 73,
     "metadata": {},
     "output_type": "execute_result"
    }
   ],
   "source": [
    "numerical['ADATE_2'].value_counts()\n",
    "\n",
    "# The values in the column are pretty much the same throughtout, hence we will drop this column as well"
   ]
  },
  {
   "cell_type": "markdown",
   "metadata": {
    "id": "GW40M2PMDcAf"
   },
   "source": [
    "### Filling NULL values with plots"
   ]
  },
  {
   "cell_type": "code",
   "execution_count": 74,
   "metadata": {
    "colab": {
     "base_uri": "https://localhost:8080/",
     "height": 333
    },
    "id": "AOLfK9AJgulk",
    "outputId": "5736835e-3896-4933-cfc5-7c319abd7a51"
   },
   "outputs": [
    {
     "data": {
      "image/png": "[encoded data removed]",
      "text/plain": [
       "<Figure size 432x288 with 1 Axes>"
      ]
     },
     "metadata": {
      "needs_background": "light"
     },
     "output_type": "display_data"
    }
   ],
   "source": [
    "numerical['AGE'] = numerical[\"AGE\"].fillna(np.mean(numerical['AGE']))\n",
    "sns.distplot(numerical['AGE'])\n",
    "plt.show()\n",
    "#probably would be a bit better to use a predictive method here but this works"
   ]
  },
  {
   "cell_type": "code",
   "execution_count": 75,
   "metadata": {
    "colab": {
     "base_uri": "https://localhost:8080/",
     "height": 333
    },
    "id": "i6g5PwINgull",
    "outputId": "1e8c65b5-ad95-45a4-d8c2-5e4dac3eafd0"
   },
   "outputs": [
    {
     "data": {
      "image/png": "[encoded data removed]",
      "text/plain": [
       "<Figure size 432x288 with 1 Axes>"
      ]
     },
     "metadata": {
      "needs_background": "light"
     },
     "output_type": "display_data"
    }
   ],
   "source": [
    "sns.distplot(numerical['INCOME'])  # this will not work as there are NaNs in the column\n",
    "sns.distplot(numerical[numerical['INCOME'].isna()==False]['INCOME']) \n",
    "plt.show()"
   ]
  },
  {
   "cell_type": "code",
   "execution_count": 76,
   "metadata": {},
   "outputs": [
    {
     "data": {
      "text/plain": [
       "5.0    15451\n",
       "2.0    13114\n",
       "4.0    12732\n",
       "1.0     9022\n",
       "3.0     8558\n",
       "6.0     7778\n",
       "7.0     7471\n",
       "Name: INCOME, dtype: int64"
      ]
     },
     "execution_count": 76,
     "metadata": {},
     "output_type": "execute_result"
    }
   ],
   "source": [
    "numerical['INCOME'].value_counts()\n"
   ]
  },
  {
   "cell_type": "code",
   "execution_count": 77,
   "metadata": {
    "colab": {
     "base_uri": "https://localhost:8080/"
    },
    "id": "RTizEfmEgull",
    "outputId": "dd6ae865-3118-432e-d77d-81772a5b4fab"
   },
   "outputs": [
    {
     "name": "stdout",
     "output_type": "stream",
     "text": [
      "5.0    15451\n",
      "2.0    13114\n",
      "4.0    12732\n",
      "1.0     9022\n",
      "3.0     8558\n",
      "6.0     7778\n",
      "7.0     7471\n",
      "Name: INCOME, dtype: int64\n"
     ]
    }
   ],
   "source": [
    "# looks like the variable is actually categorical. We can verify it by using value_counts()\n",
    "print(numerical['INCOME'].value_counts())\n",
    "numerical['INCOME'] = numerical['INCOME'].astype('object')"
   ]
  },
  {
   "cell_type": "code",
   "execution_count": 78,
   "metadata": {
    "id": "qABaSC2cgull"
   },
   "outputs": [],
   "source": [
    "numerical['INCOME'] = numerical['INCOME'].fillna('5.0') # Replacing the null values with the most represented category\n"
   ]
  },
  {
   "cell_type": "code",
   "execution_count": 79,
   "metadata": {
    "colab": {
     "base_uri": "https://localhost:8080/",
     "height": 333
    },
    "id": "1W3vqJD8gulo",
    "outputId": "419f5e91-6843-463c-93a9-ef3af4fb9850"
   },
   "outputs": [
    {
     "data": {
      "image/png": "[encoded data removed]",
      "text/plain": [
       "<Figure size 432x288 with 1 Axes>"
      ]
     },
     "metadata": {
      "needs_background": "light"
     },
     "output_type": "display_data"
    }
   ],
   "source": [
    "sns.distplot(numerical[numerical['CLUSTER2'].isna()==False]['CLUSTER2']) \n",
    "plt.show()"
   ]
  },
  {
   "cell_type": "code",
   "execution_count": 80,
   "metadata": {
    "id": "U2ZyvFH8gulo"
   },
   "outputs": [],
   "source": [
    "numerical['CLUSTER2'] = numerical['CLUSTER2'].fillna(np.ceil(np.mean(numerical['CLUSTER2'])))"
   ]
  },
  {
   "cell_type": "code",
   "execution_count": 81,
   "metadata": {},
   "outputs": [
    {
     "data": {
      "text/plain": [
       "13.0    3466\n",
       "5.0     3154\n",
       "57.0    2666\n",
       "59.0    2653\n",
       "15.0    2559\n",
       "        ... \n",
       "30.0     647\n",
       "46.0     644\n",
       "29.0     569\n",
       "40.0     369\n",
       "6.0      211\n",
       "Name: CLUSTER2, Length: 62, dtype: int64"
      ]
     },
     "execution_count": 81,
     "metadata": {},
     "output_type": "execute_result"
    }
   ],
   "source": [
    "numerical['CLUSTER2'].value_counts()"
   ]
  },
  {
   "cell_type": "markdown",
   "metadata": {
    "id": "r9IW4z4LFI2E"
   },
   "source": [
    "### Activity 2.3"
   ]
  },
  {
   "cell_type": "code",
   "execution_count": 82,
   "metadata": {
    "colab": {
     "base_uri": "https://localhost:8080/",
     "height": 333
    },
    "id": "qtJ5qRhYFK9X",
    "outputId": "cc33b815-3ead-4fcd-f2de-f274d358abc6"
   },
   "outputs": [
    {
     "data": {
      "image/png": "[encoded data removed]",
      "text/plain": [
       "<Figure size 432x288 with 1 Axes>"
      ]
     },
     "metadata": {
      "needs_background": "light"
     },
     "output_type": "display_data"
    }
   ],
   "source": [
    "sns.distplot(numerical[numerical['WEALTH2'].isna()==False]['WEALTH2']) \n",
    "plt.show()"
   ]
  },
  {
   "cell_type": "code",
   "execution_count": 83,
   "metadata": {
    "id": "dVuXF_V0FOxv"
   },
   "outputs": [],
   "source": [
    "numerical['WEALTH2'] = numerical['WEALTH2'].astype('object')\n",
    "numerical['WEALTH2'] = numerical['WEALTH2'].fillna('9.0')"
   ]
  },
  {
   "cell_type": "code",
   "execution_count": 84,
   "metadata": {
    "colab": {
     "base_uri": "https://localhost:8080/",
     "height": 337
    },
    "id": "cDIMOE_-FWSM",
    "outputId": "76e8d75c-7925-4227-ef20-c65959fd31be"
   },
   "outputs": [
    {
     "data": {
      "image/png": "[encoded data removed]",
      "text/plain": [
       "<Figure size 432x288 with 1 Axes>"
      ]
     },
     "metadata": {
      "needs_background": "light"
     },
     "output_type": "display_data"
    }
   ],
   "source": [
    "sns.distplot(numerical[numerical['TIMELAG'].isna()==False]['TIMELAG']) \n",
    "plt.show()"
   ]
  },
  {
   "cell_type": "code",
   "execution_count": 85,
   "metadata": {},
   "outputs": [
    {
     "data": {
      "text/plain": [
       "5.0      8584\n",
       "4.0      8490\n",
       "3.0      8485\n",
       "6.0      6648\n",
       "2.0      6275\n",
       "         ... \n",
       "89.0        1\n",
       "90.0        1\n",
       "442.0       1\n",
       "58.0        1\n",
       "77.0        1\n",
       "Name: TIMELAG, Length: 68, dtype: int64"
      ]
     },
     "execution_count": 85,
     "metadata": {},
     "output_type": "execute_result"
    }
   ],
   "source": [
    "numerical['TIMELAG'].value_counts()"
   ]
  },
  {
   "cell_type": "code",
   "execution_count": 86,
   "metadata": {
    "id": "PiUs_3Ndgulo"
   },
   "outputs": [],
   "source": [
    "numerical['TIMELAG'] = numerical['TIMELAG'].fillna(np.ceil(np.mean(numerical['TIMELAG'])))"
   ]
  },
  {
   "cell_type": "markdown",
   "metadata": {
    "id": "scCH-gQdF10d"
   },
   "source": [
    "# Lab 2"
   ]
  },
  {
   "cell_type": "markdown",
   "metadata": {
    "id": "wkk9FtHpKjJI"
   },
   "source": [
    "ADD HERE CODE FOR LAB 2"
   ]
  },
  {
   "cell_type": "markdown",
   "metadata": {
    "id": "rqO5sK2WFbsO"
   },
   "source": [
    "# Wrapping up"
   ]
  },
  {
   "cell_type": "code",
   "execution_count": 87,
   "metadata": {
    "id": "byuE9jXcHG75"
   },
   "outputs": [],
   "source": [
    "numerical = numerical.drop(columns=drop_list)"
   ]
  },
  {
   "cell_type": "code",
   "execution_count": 88,
   "metadata": {
    "colab": {
     "base_uri": "https://localhost:8080/",
     "height": 204
    },
    "id": "RYrkXVWTgulp",
    "outputId": "452254a6-9c5f-4046-8700-ce0fd5b13a5a"
   },
   "outputs": [
    {
     "data": {
      "text/html": [
       "<div>\n",
       "<style scoped>\n",
       "    .dataframe tbody tr th:only-of-type {\n",
       "        vertical-align: middle;\n",
       "    }\n",
       "\n",
       "    .dataframe tbody tr th {\n",
       "        vertical-align: top;\n",
       "    }\n",
       "\n",
       "    .dataframe thead th {\n",
       "        text-align: right;\n",
       "    }\n",
       "</style>\n",
       "<table border=\"1\" class=\"dataframe\">\n",
       "  <thead>\n",
       "    <tr style=\"text-align: right;\">\n",
       "      <th></th>\n",
       "      <th>column_name</th>\n",
       "      <th>nulls</th>\n",
       "    </tr>\n",
       "  </thead>\n",
       "  <tbody>\n",
       "    <tr>\n",
       "      <th>5</th>\n",
       "      <td>WEALTH1</td>\n",
       "      <td>44732</td>\n",
       "    </tr>\n",
       "    <tr>\n",
       "      <th>135</th>\n",
       "      <td>MSA</td>\n",
       "      <td>132</td>\n",
       "    </tr>\n",
       "    <tr>\n",
       "      <th>136</th>\n",
       "      <td>ADI</td>\n",
       "      <td>132</td>\n",
       "    </tr>\n",
       "    <tr>\n",
       "      <th>137</th>\n",
       "      <td>DMA</td>\n",
       "      <td>132</td>\n",
       "    </tr>\n",
       "    <tr>\n",
       "      <th>315</th>\n",
       "      <td>NEXTDATE</td>\n",
       "      <td>9973</td>\n",
       "    </tr>\n",
       "  </tbody>\n",
       "</table>\n",
       "</div>"
      ],
      "text/plain": [
       "    column_name  nulls\n",
       "5       WEALTH1  44732\n",
       "135         MSA    132\n",
       "136         ADI    132\n",
       "137         DMA    132\n",
       "315    NEXTDATE   9973"
      ]
     },
     "execution_count": 88,
     "metadata": {},
     "output_type": "execute_result"
    }
   ],
   "source": [
    "df = pd.DataFrame(numerical.isna().sum()).reset_index()\n",
    "df.columns = ['column_name', 'nulls']\n",
    "df[df['nulls']>0]"
   ]
  },
  {
   "cell_type": "code",
   "execution_count": 89,
   "metadata": {
    "id": "gsyS_PAygulp"
   },
   "outputs": [],
   "source": [
    "numerical.to_csv('numerical.csv')\n",
    "categorical.to_csv('categorical.csv')"
   ]
  },
  {
   "cell_type": "code",
   "execution_count": 90,
   "metadata": {
    "id": "t5_MmpGngulp"
   },
   "outputs": [],
   "source": [
    "Y.to_csv('target.csv')"
   ]
  },
  {
   "cell_type": "code",
   "execution_count": 91,
   "metadata": {
    "id": "YvFKZFj5gulp"
   },
   "outputs": [],
   "source": [
    "numerical.to_pickle('numerical.p')\n",
    "categorical.to_pickle('categorical.p')\n",
    "Y.to_pickle('target.p')"
   ]
  },
  {
   "cell_type": "code",
   "execution_count": null,
   "metadata": {
    "id": "Gdihz2ClH2zc"
   },
   "outputs": [],
   "source": []
  }
 ],
 "metadata": {
  "colab": {
   "collapsed_sections": [],
   "name": "L. 7.01 7.02.ipynb",
   "provenance": [],
   "toc_visible": true
  },
  "kernelspec": {
   "display_name": "Python 3",
   "language": "python",
   "name": "python3"
  },
  "language_info": {
   "codemirror_mode": {
    "name": "ipython",
    "version": 3
   },
   "file_extension": ".py",
   "mimetype": "text/x-python",
   "name": "python",
   "nbconvert_exporter": "python",
   "pygments_lexer": "ipython3",
   "version": "3.8.3"
  }
 },
 "nbformat": 4,
 "nbformat_minor": 1
}

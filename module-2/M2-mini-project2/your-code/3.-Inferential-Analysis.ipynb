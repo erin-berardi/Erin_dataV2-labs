{
 "cells": [
  {
   "cell_type": "markdown",
   "metadata": {},
   "source": [
    "# Inferential statistics\n",
    "## Part III - Inferential Analysis\n",
    "\n",
    "We're now going to look for answers to the ongoing basketball discussions between you and your family. The main ones we want to reasearch are the following:\n",
    "\n",
    "- Your grandmother says that your sister couldn't play in a professional basketball league (not only the WNBA, but ANY professional basketball league) because she's too skinny and lacks muscle.\n",
    "- Your sister says that most female professional players fail their free throws.\n",
    "- Your brother-in-law heard on the TV that the average assists among NBA (male) and WNBA (female) players is 52 for the 2016-2017 season. He is convinced this average would be higher if we only considered the players from the WNBA.\n",
    "\n",
    "Let's investigate these claims and see if we can find proof to refute or support them.\n",
    "\n",
    "### Libraries\n",
    "Import the necessary libraries first."
   ]
  },
  {
   "cell_type": "code",
   "execution_count": 1,
   "metadata": {},
   "outputs": [],
   "source": [
    "# Libraries\n",
    "import math\n",
    "import pandas as pd\n",
    "import numpy as np\n",
    "from scipy import stats\n",
    "import matplotlib.pyplot as plt\n",
    "from scipy.stats import ttest_1samp\n",
    "pd.set_option('max_columns', 50)\n",
    "import statsmodels.stats.api as sms\n",
    "from scipy.stats import f_oneway\n",
    "from scipy.stats import norm\n",
    "import seaborn as sns"
   ]
  },
  {
   "cell_type": "markdown",
   "metadata": {},
   "source": [
    "### Load the dataset\n",
    "\n",
    "Load the cleaned dataset."
   ]
  },
  {
   "cell_type": "code",
   "execution_count": 2,
   "metadata": {},
   "outputs": [],
   "source": [
    "#your code here\n",
    "wnba = pd.read_csv('/Users/erinberardi/Erin_dataV2-labs/module-2/M2-mini-project2/data/wnba_clean.csv')"
   ]
  },
  {
   "cell_type": "markdown",
   "metadata": {},
   "source": [
    "# Question 1: Can my sister play in a professional female basketball league?\n",
    "\n",
    "As we said, you grandmother is convinced that your sister couldn't play in a professional league because of her physique and weight (her weight is 67kg). \n",
    "\n",
    "To find an actual answer to the question we first need to know what's the average weight of a professional female basketball player. The data we have only refers to the WNBA league and not to every female professional basketball league in the world, therefore we have no way of actually calculating it.\n",
    "\n",
    "Still, given that we do have *some* data we can **infer** it using a sample of players like the one we have. \n",
    "\n",
    "**How would you do it? Try and think about the requirements that your sample must satisfy in order to be used to infer the average weight. Do you feel it actually fulfills those requirements? Do you need to make any assumptions? We could calculate a confidence interval to do the inference, but do you know any other ways?**"
   ]
  },
  {
   "cell_type": "code",
   "execution_count": 3,
   "metadata": {},
   "outputs": [
    {
     "name": "stdout",
     "output_type": "stream",
     "text": [
      "78.97887323943662\n",
      "7.635325397241363e-26\n"
     ]
    },
    {
     "data": {
      "text/plain": [
       "'\\nThe p-value is well under .05, so I could infer that a weight of 67 would be acceptable'"
      ]
     },
     "execution_count": 3,
     "metadata": {},
     "output_type": "execute_result"
    }
   ],
   "source": [
    "# your answer here\n",
    "print (wnba['Weight'].mean())\n",
    "#Ho = Granny's theory.  My sister is too small for prof. basketball\n",
    "#H1 = My sister is not too small.\n",
    "\n",
    "stat_value,pvalue=ttest_1samp(wnba['Weight'],67)\n",
    "\n",
    "print (pvalue)\n",
    "\n",
    "'''\n",
    "The p-value is well under .05, so I could infer that a weight of 67 would be acceptable'''\n"
   ]
  },
  {
   "cell_type": "markdown",
   "metadata": {},
   "source": [
    "**Now that all the requirements have been taken into account, compute the confidence interval of the average weight with a confidence level of 95%.**"
   ]
  },
  {
   "cell_type": "code",
   "execution_count": 4,
   "metadata": {},
   "outputs": [
    {
     "name": "stdout",
     "output_type": "stream",
     "text": [
      "57.42689286914671\n",
      "100.53085360972653\n",
      "(57.42689286914671, 100.53085360972653)\n"
     ]
    },
    {
     "data": {
      "text/plain": [
       "(78.97887323943662, 77.15461406720749, 80.80313241166576)"
      ]
     },
     "execution_count": 4,
     "metadata": {},
     "output_type": "execute_result"
    }
   ],
   "source": [
    "# your code here\n",
    "\n",
    "# n= len(wnba['Weight'])\n",
    "# sms.proportion_confint(n*p,n)\n",
    "\n",
    "p = .95\n",
    "mean = wnba['Weight'].mean()\n",
    "std = wnba['Weight'].std()\n",
    "\n",
    "lowb,highb = norm.interval(p,loc=mean,scale = std)\n",
    "\n",
    "print (lowb)\n",
    "print (highb)\n",
    "print(norm.interval(p,loc=mean,scale=std))\n",
    "\n",
    "\n",
    "def mean_confidence_interval(data, confidence=0.95):\n",
    "    a = 1.0 * np.array(data)\n",
    "    n = len(a)\n",
    "    m, se = np.mean(a), stats.sem(a)\n",
    "    h = se * stats.t.ppf((1 + confidence) / 2., n-1)\n",
    "    return m, m-h, m+h\n",
    "\n",
    "\n",
    "mean_confidence_interval(wnba['Weight'])"
   ]
  },
  {
   "cell_type": "markdown",
   "metadata": {},
   "source": [
    "**What can you say about these results?**"
   ]
  },
  {
   "cell_type": "code",
   "execution_count": 30,
   "metadata": {},
   "outputs": [
    {
     "data": {
      "text/plain": [
       "\"I can say with 95% confidence that the weights of WNBA players will\\nfall between 57kg and 100kg.  So my sister's weight of 67 kg is very possible.\\n\""
      ]
     },
     "execution_count": 30,
     "metadata": {},
     "output_type": "execute_result"
    }
   ],
   "source": [
    "#your-answer-here\n",
    "'''I can say with 95% confidence that the weights of WNBA players will\n",
    "fall between 57kg and 100kg.  So my sister's weight of 67 kg is very possible.\n",
    "'''"
   ]
  },
  {
   "cell_type": "markdown",
   "metadata": {},
   "source": [
    "**If your sister weighs 67kg what would you tell your grandmother in regards to her assumption?**"
   ]
  },
  {
   "cell_type": "code",
   "execution_count": 31,
   "metadata": {},
   "outputs": [
    {
     "data": {
      "text/plain": [
       "'\\nI would tell Grammy that there may be many other reasons why my\\nsister cannot play in the WNBA, but that she is most likely wrong about\\nit being her size.'"
      ]
     },
     "execution_count": 31,
     "metadata": {},
     "output_type": "execute_result"
    }
   ],
   "source": [
    "#your-answer-here\n",
    "'''\n",
    "I would tell Grammy that there may be many other reasons why my\n",
    "sister cannot play in the WNBA, but that she is most likely wrong about\n",
    "it being her size.'''\n"
   ]
  },
  {
   "cell_type": "markdown",
   "metadata": {},
   "source": [
    "## Bonus: Can you plot the probability distribution of the average weight, indicating where the critical region is?"
   ]
  },
  {
   "cell_type": "code",
   "execution_count": 59,
   "metadata": {},
   "outputs": [
    {
     "data": {
      "text/plain": [
       "<matplotlib.collections.LineCollection at 0x7f820d6207f0>"
      ]
     },
     "execution_count": 59,
     "metadata": {},
     "output_type": "execute_result"
    },
    {
     "data": {
      "image/png": "[encoded data removed]",
      "text/plain": [
       "<Figure size 432x288 with 1 Axes>"
      ]
     },
     "metadata": {
      "needs_background": "light"
     },
     "output_type": "display_data"
    }
   ],
   "source": [
    "# your code here\n",
    "p=.95\n",
    "mean = wnba['Weight'].mean()\n",
    "std = wnba['Weight'].std()\n",
    "\n",
    "normal_dist = np.random.normal(size=10000, loc=mean, scale=std) \n",
    "values = pd.Series(normal_dist)\n",
    "\n",
    "sns.distplot(values)\n",
    "plt.xlabel('Weight', fontsize=12)\n",
    "plt.ylabel('Frequency out of 100000', fontsize=12)\n",
    "plt.title('Probability Distribution')\n",
    "\n",
    "\n",
    "lowb,highb = norm.interval(p,loc=mean,scale=std)\n",
    "\n",
    "plt.vlines(lowb,ymin=0, ymax=.005,color = 'r')\n",
    "plt.vlines(highb,ymin=0, ymax=.005, color = 'r')\n",
    "plt.vlines(mean,ymin=0, ymax= .04, color = 'b')\n"
   ]
  },
  {
   "cell_type": "code",
   "execution_count": 11,
   "metadata": {},
   "outputs": [
    {
     "data": {
      "text/plain": [
       "[]"
      ]
     },
     "execution_count": 11,
     "metadata": {},
     "output_type": "execute_result"
    },
    {
     "data": {
      "image/png": "[encoded data removed]",
      "text/plain": [
       "<Figure size 432x288 with 1 Axes>"
      ]
     },
     "metadata": {
      "needs_background": "light"
     },
     "output_type": "display_data"
    }
   ],
   "source": [
    "normal_dist = np.random.normal(size=10000, loc=wnba['Weight'].mean(), scale=wnba['Weight'].std()) \n",
    "values = pd.Series(normal_dist)\n",
    "\n",
    "kde = stats.gaussian_kde(values)\n",
    "pos = np.linspace(np.min(values), np.max(values), 10000)\n",
    "plt.plot(pos, kde(pos))\n",
    "plt.xlabel('Weight', fontsize=12)\n",
    "plt.ylabel('Frequency out of 100000', fontsize=12)\n",
    "plt.title('Probability Distribution')\n",
    "\n",
    "a05pos = np.mean(values) + np.std(values)*1.645\n",
    "a05neg = np.mean(values) - np.std(values)*1.645\n",
    "\n",
    "shade = np.linspace(a05pos, normal_dist.max(), 300)\n",
    "plt.fill_between(shade, kde(shade), alpha=0.45, color='blue')\n",
    "\n",
    "shade2 = np.linspace(a05neg, normal_dist.min(), 300)\n",
    "plt.fill_between(shade2, kde(shade2), alpha=0.45, color='blue')\n",
    "\n",
    "\n",
    "plt.plot()"
   ]
  },
  {
   "cell_type": "markdown",
   "metadata": {},
   "source": [
    "# Question 2: Do female professional basketball players fail the majority of their free throws?\n",
    "\n",
    "You do not agree with your sister when she says that most female players fail their free throws. You decide to try and estimate the percentage of players that fail more than 40% of their free throws using, you guessed it, the WNBA sample.\n",
    "\n",
    "**How would you do it? Try and think about the requirements that your sample must satisfy in order to be used to infer the proportion of players that miss more than 40% of their free throws. Do you feel it actually fulfills those requirements? Do you need to make any assumptions?**"
   ]
  },
  {
   "cell_type": "code",
   "execution_count": 6,
   "metadata": {},
   "outputs": [
    {
     "data": {
      "text/html": [
       "<div>\n",
       "<style scoped>\n",
       "    .dataframe tbody tr th:only-of-type {\n",
       "        vertical-align: middle;\n",
       "    }\n",
       "\n",
       "    .dataframe tbody tr th {\n",
       "        vertical-align: top;\n",
       "    }\n",
       "\n",
       "    .dataframe thead th {\n",
       "        text-align: right;\n",
       "    }\n",
       "</style>\n",
       "<table border=\"1\" class=\"dataframe\">\n",
       "  <thead>\n",
       "    <tr style=\"text-align: right;\">\n",
       "      <th></th>\n",
       "      <th></th>\n",
       "      <th>FT%</th>\n",
       "    </tr>\n",
       "    <tr>\n",
       "      <th>MIN</th>\n",
       "      <th>FTA</th>\n",
       "      <th></th>\n",
       "    </tr>\n",
       "  </thead>\n",
       "  <tbody>\n",
       "    <tr>\n",
       "      <th>16</th>\n",
       "      <th>2</th>\n",
       "      <td>50.0</td>\n",
       "    </tr>\n",
       "    <tr>\n",
       "      <th>32</th>\n",
       "      <th>11</th>\n",
       "      <td>72.7</td>\n",
       "    </tr>\n",
       "    <tr>\n",
       "      <th rowspan=\"2\" valign=\"top\">50</th>\n",
       "      <th>4</th>\n",
       "      <td>75.0</td>\n",
       "    </tr>\n",
       "    <tr>\n",
       "      <th>10</th>\n",
       "      <td>80.0</td>\n",
       "    </tr>\n",
       "    <tr>\n",
       "      <th>59</th>\n",
       "      <th>4</th>\n",
       "      <td>75.0</td>\n",
       "    </tr>\n",
       "    <tr>\n",
       "      <th>...</th>\n",
       "      <th>...</th>\n",
       "      <td>...</td>\n",
       "    </tr>\n",
       "    <tr>\n",
       "      <th>948</th>\n",
       "      <th>148</th>\n",
       "      <td>87.2</td>\n",
       "    </tr>\n",
       "    <tr>\n",
       "      <th rowspan=\"2\" valign=\"top\">952</th>\n",
       "      <th>135</th>\n",
       "      <td>81.5</td>\n",
       "    </tr>\n",
       "    <tr>\n",
       "      <th>171</th>\n",
       "      <td>79.5</td>\n",
       "    </tr>\n",
       "    <tr>\n",
       "      <th>996</th>\n",
       "      <th>94</th>\n",
       "      <td>83.0</td>\n",
       "    </tr>\n",
       "    <tr>\n",
       "      <th>1018</th>\n",
       "      <th>186</th>\n",
       "      <td>90.3</td>\n",
       "    </tr>\n",
       "  </tbody>\n",
       "</table>\n",
       "<p>137 rows × 1 columns</p>\n",
       "</div>"
      ],
      "text/plain": [
       "           FT%\n",
       "MIN  FTA      \n",
       "16   2    50.0\n",
       "32   11   72.7\n",
       "50   4    75.0\n",
       "     10   80.0\n",
       "59   4    75.0\n",
       "...        ...\n",
       "948  148  87.2\n",
       "952  135  81.5\n",
       "     171  79.5\n",
       "996  94   83.0\n",
       "1018 186  90.3\n",
       "\n",
       "[137 rows x 1 columns]"
      ]
     },
     "execution_count": 6,
     "metadata": {},
     "output_type": "execute_result"
    }
   ],
   "source": [
    "# your answer here\n",
    "'''\n",
    "I am making an assumption to only use players who have played in a game and attempted a free throw\n",
    "'''\n",
    "ft_table = wnba.pivot_table(index = ('MIN','FTA'),values = 'FT%')\n",
    "ft_table\n",
    "ft_taken = ft_table[(ft_table != 0).all(1)] \n",
    "ft_taken"
   ]
  },
  {
   "cell_type": "markdown",
   "metadata": {},
   "source": [
    "**Now that all the requirements have been taken into account, compute the confidence interval of the proportion with a confidence level of 95%:**"
   ]
  },
  {
   "cell_type": "code",
   "execution_count": 25,
   "metadata": {},
   "outputs": [
    {
     "name": "stdout",
     "output_type": "stream",
     "text": [
      "0.95\n",
      "1.0003935511327782\n",
      "The mean will fall between  76.63561503437714 80.55708569554989\n",
      "95% of players have a made free throw percentage between  55.64653171610435 101.54616901382268\n"
     ]
    }
   ],
   "source": [
    "# your code here\n",
    "#sms.DescrStatsW(ft_taken['FT%']).zconfint_mean()\n",
    "\n",
    "p = .95\n",
    "mean=ft_taken['FT%'].mean()\n",
    "n = len(ft_taken)\n",
    "print (p)\n",
    "sem = stats.sem(ft_taken['FT%'])\n",
    "print(sem)\n",
    "#tstar = 1.96\n",
    "\n",
    "\n",
    "\n",
    "lmb,hmb = norm.interval(.95,loc=mean,scale=sem)\n",
    "#lowb,highb =sms.proportion_confint(p, n, alpha=0.95, method='normal')\n",
    "\n",
    "print('The mean will fall between ',lmb, hmb)\n",
    "\n",
    "# Ho = wnba players miss more than 40% of their Free Throws or MAKE less than 60%\n",
    "# H1 = do not miss more than 40% of their Free Throws\n",
    "\n",
    "\n",
    "\n",
    "mean1 = ft_taken['FT%'].mean()\n",
    "std = ft_taken['FT%'].std()\n",
    "sem = stats.sem(ft_taken['FT%'])\n",
    "\n",
    "lowb,highb = norm.interval(p,loc=mean1,scale = std)\n",
    "\n",
    "print ('95% of players have a made free throw percentage between ',lowb, highb)\n"
   ]
  },
  {
   "cell_type": "markdown",
   "metadata": {},
   "source": [
    "**What can you comment about our result? What would you tell your sister?**"
   ]
  },
  {
   "cell_type": "code",
   "execution_count": 24,
   "metadata": {},
   "outputs": [
    {
     "data": {
      "text/plain": [
       "'\\nI would tell my sister, with 95% confidence, that most of the WNBA players\\nhave a Free Throw percent made between 55% and 100%. '"
      ]
     },
     "execution_count": 24,
     "metadata": {},
     "output_type": "execute_result"
    }
   ],
   "source": [
    "#your-answer-here\n",
    "'''\n",
    "I would tell my sister, with 95% confidence, that most of the WNBA players\n",
    "have a Free Throw percent made between 55% and 100%. '''"
   ]
  },
  {
   "cell_type": "markdown",
   "metadata": {},
   "source": [
    "# Bonus: Can you plot the probability distribution of the proportion of missed free throws, indicating where the critical region is?"
   ]
  },
  {
   "cell_type": "code",
   "execution_count": 26,
   "metadata": {},
   "outputs": [
    {
     "data": {
      "text/plain": [
       "<matplotlib.collections.LineCollection at 0x7f99544085e0>"
      ]
     },
     "execution_count": 26,
     "metadata": {},
     "output_type": "execute_result"
    },
    {
     "data": {
      "image/png": "[encoded data removed]",
      "text/plain": [
       "<Figure size 432x288 with 1 Axes>"
      ]
     },
     "metadata": {
      "needs_background": "light"
     },
     "output_type": "display_data"
    }
   ],
   "source": [
    "#your code here\n",
    "wnba.shape\n",
    "sns.distplot(ft_taken['FT%'])\n",
    "\n",
    "plt.vlines(lowb,ymin=0, ymax=.005,color = 'r')\n",
    "plt.vlines(highb,ymin=0, ymax=.005, color = 'r')\n",
    "plt.vlines(mean, ymin=0, ymax = .035, color = 'b')\n",
    "\n",
    "\n",
    "# p=0.95\n",
    "# mean = ft_taken['FT%'].mean()\n",
    "# std = ft_taken['FT%'].std()\n",
    "\n",
    "# normal_dist = np.random.normal(size=10000, loc=mean, scale=std) \n",
    "# values = pd.Series(normal_dist)\n",
    "\n",
    "# sns.distplot(values)\n",
    "# plt.xlabel('FT%', fontsize=12)\n",
    "# plt.ylabel('Frequency out of 100000', fontsize=12)\n",
    "# plt.title('Probability Distribution')\n",
    "\n",
    "\n",
    "# lowb,highb = norm.interval(p,loc=mean,scale=std)\n",
    "\n",
    "# plt.vlines(lowb,ymin=0, ymax=.005,color = 'r')\n",
    "# plt.vlines(highb,ymin=0, ymax=.005, color = 'r')\n",
    "# plt.vlines(mean, ymin=0, ymax = .035, color = 'b')\n",
    "\n",
    "# print(mean,std)\n",
    "\n",
    "\n",
    "\n"
   ]
  },
  {
   "cell_type": "markdown",
   "metadata": {},
   "source": [
    "# Question 3: Is the average number of assists for WNBA players only higher than the average for WNBA and NBA players together?"
   ]
  },
  {
   "cell_type": "markdown",
   "metadata": {},
   "source": [
    "Your brother-in-law is convinced that the average assists for female professional players is higher than the average of both female and male players combined (which is 52 for the 2016-2017 season). You would like to actually prove if this is true or not but you remember your stats teacher saying \"you can't *prove* anything, you just can say that *you are not* saying foolishness\".\n",
    "\n",
    "**How would you do it? Try and think about the requirements that your sample must satisfy in order to do that. Do you feel it actually fulfills those requirements? Do you need to make any assumptions?**"
   ]
  },
  {
   "cell_type": "code",
   "execution_count": 37,
   "metadata": {},
   "outputs": [
    {
     "data": {
      "text/html": [
       "<div>\n",
       "<style scoped>\n",
       "    .dataframe tbody tr th:only-of-type {\n",
       "        vertical-align: middle;\n",
       "    }\n",
       "\n",
       "    .dataframe tbody tr th {\n",
       "        vertical-align: top;\n",
       "    }\n",
       "\n",
       "    .dataframe thead th {\n",
       "        text-align: right;\n",
       "    }\n",
       "</style>\n",
       "<table border=\"1\" class=\"dataframe\">\n",
       "  <thead>\n",
       "    <tr style=\"text-align: right;\">\n",
       "      <th></th>\n",
       "      <th>AST</th>\n",
       "    </tr>\n",
       "    <tr>\n",
       "      <th>MIN</th>\n",
       "      <th></th>\n",
       "    </tr>\n",
       "  </thead>\n",
       "  <tbody>\n",
       "    <tr>\n",
       "      <th>12</th>\n",
       "      <td>0.0</td>\n",
       "    </tr>\n",
       "    <tr>\n",
       "      <th>16</th>\n",
       "      <td>1.0</td>\n",
       "    </tr>\n",
       "    <tr>\n",
       "      <th>22</th>\n",
       "      <td>1.0</td>\n",
       "    </tr>\n",
       "    <tr>\n",
       "      <th>28</th>\n",
       "      <td>0.0</td>\n",
       "    </tr>\n",
       "    <tr>\n",
       "      <th>32</th>\n",
       "      <td>5.0</td>\n",
       "    </tr>\n",
       "    <tr>\n",
       "      <th>...</th>\n",
       "      <td>...</td>\n",
       "    </tr>\n",
       "    <tr>\n",
       "      <th>947</th>\n",
       "      <td>72.0</td>\n",
       "    </tr>\n",
       "    <tr>\n",
       "      <th>948</th>\n",
       "      <td>63.0</td>\n",
       "    </tr>\n",
       "    <tr>\n",
       "      <th>952</th>\n",
       "      <td>76.5</td>\n",
       "    </tr>\n",
       "    <tr>\n",
       "      <th>996</th>\n",
       "      <td>132.0</td>\n",
       "    </tr>\n",
       "    <tr>\n",
       "      <th>1018</th>\n",
       "      <td>173.0</td>\n",
       "    </tr>\n",
       "  </tbody>\n",
       "</table>\n",
       "<p>132 rows × 1 columns</p>\n",
       "</div>"
      ],
      "text/plain": [
       "        AST\n",
       "MIN        \n",
       "12      0.0\n",
       "16      1.0\n",
       "22      1.0\n",
       "28      0.0\n",
       "32      5.0\n",
       "...     ...\n",
       "947    72.0\n",
       "948    63.0\n",
       "952    76.5\n",
       "996   132.0\n",
       "1018  173.0\n",
       "\n",
       "[132 rows x 1 columns]"
      ]
     },
     "execution_count": 37,
     "metadata": {},
     "output_type": "execute_result"
    }
   ],
   "source": [
    "#your-answer-here\n",
    "\n",
    "assist = wnba.pivot_table(index = 'MIN',values = 'AST')\n",
    "assist"
   ]
  },
  {
   "cell_type": "markdown",
   "metadata": {},
   "source": [
    "**Use a two-tailed one-sample t-test to see if we can reject (or not) the null hypothesis with a 95% confidence level.**"
   ]
  },
  {
   "cell_type": "code",
   "execution_count": 38,
   "metadata": {},
   "outputs": [
    {
     "name": "stdout",
     "output_type": "stream",
     "text": [
      "-2.1150110765196235\n",
      "0.036322846742383494\n"
     ]
    }
   ],
   "source": [
    "#your code here\n",
    "#Ho = Assists for women will be > 52  H1 = Assists for women will be <= 52\n",
    "stat_value,pvalue = ttest_1samp(assist['AST'],52)\n",
    "print(stat_value)\n",
    "print(pvalue)"
   ]
  },
  {
   "cell_type": "code",
   "execution_count": 39,
   "metadata": {},
   "outputs": [
    {
     "data": {
      "text/plain": [
       "'\\nI am rejecting the Ho because the p value is less than .05 and the stats value is negative.'"
      ]
     },
     "execution_count": 39,
     "metadata": {},
     "output_type": "execute_result"
    }
   ],
   "source": [
    "#your-answer-here\n",
    "'''\n",
    "I am rejecting the Ho because the p value is less than .05 and the stats value is negative.'''"
   ]
  },
  {
   "cell_type": "markdown",
   "metadata": {},
   "source": [
    "**Now use a one-tailed one-sample t-test to see if we can reject (or not) the null hypothesis with a 95% confidence level.**"
   ]
  },
  {
   "cell_type": "code",
   "execution_count": 40,
   "metadata": {},
   "outputs": [
    {
     "name": "stdout",
     "output_type": "stream",
     "text": [
      "0.018161423371191747\n",
      "37.33816529924323\n",
      "51.4421377310598\n"
     ]
    }
   ],
   "source": [
    "#your-answer-here\n",
    "print (pvalue/2)\n",
    "'''\n",
    "I still reject with a one-tailed sample.'''\n",
    "\n",
    "\n",
    "p = .95\n",
    "sem = stats.sem(assist['AST'])\n",
    "mean1 = assist['AST'].mean()\n",
    "#std = assist['AST'].std() wrong standard deviation\n",
    "\n",
    "lowb,highb = norm.interval(p,loc=mean1,scale = sem)\n",
    "\n",
    "print (lowb)\n",
    "print(highb)\n",
    "\n",
    "\n",
    "\n",
    "\n"
   ]
  },
  {
   "cell_type": "markdown",
   "metadata": {},
   "source": [
    "# Bonus: Can you plot the resulting t-distribution of both tests? Indicate where the is the critical region and where does your statistic fall.**"
   ]
  },
  {
   "cell_type": "code",
   "execution_count": 41,
   "metadata": {},
   "outputs": [],
   "source": [
    "#your code here\n",
    "# sns.distplot(assist['AST'])\n",
    "# plt.scatter(x=37.33,y=0.009,color = 'r')\n",
    "# plt.scatter(x=51.44,y=0.0075,color = 'r')\n",
    "# plt.scatter(x=-2,y=0,color = 'g')"
   ]
  },
  {
   "cell_type": "code",
   "execution_count": 42,
   "metadata": {},
   "outputs": [
    {
     "name": "stdout",
     "output_type": "stream",
     "text": [
      "The mean of the NBA combined with the WNBA is within the critical zones.\n"
     ]
    },
    {
     "data": {
      "image/png": "[encoded data removed]",
      "text/plain": [
       "<Figure size 432x288 with 1 Axes>"
      ]
     },
     "metadata": {
      "needs_background": "light"
     },
     "output_type": "display_data"
    }
   ],
   "source": [
    "normal_dist = np.random.normal(size=10000, loc=assist['AST'].mean(), scale=sem) \n",
    "values = pd.Series(normal_dist)\n",
    "kde = stats.gaussian_kde(values)\n",
    "pos = np.linspace(np.min(values), np.max(values), 10000)\n",
    "plt.plot(pos, kde(pos))\n",
    "plt.xlabel('Average Assists', fontsize=12)\n",
    "plt.ylabel('Frequency out of 100000', fontsize=12)\n",
    "plt.title('Probability Distribution')\n",
    "a05pos = np.mean(values) + np.std(values)*1.645\n",
    "a05neg = np.mean(values) - np.std(values)*1.645\n",
    "shade = np.linspace(a05pos, normal_dist.max(), 300)\n",
    "plt.fill_between(shade, kde(shade), alpha=0.45, color='blue')\n",
    "shade2 = np.linspace(a05neg, normal_dist.min(), 300)\n",
    "plt.fill_between(shade2, kde(shade2), alpha=0.45, color='blue')\n",
    "plt.scatter(x=52,y=0,color = 'r')\n",
    "plt.plot()\n",
    "print('The mean of the NBA combined with the WNBA is within the critical zones.')"
   ]
  },
  {
   "cell_type": "code",
   "execution_count": null,
   "metadata": {},
   "outputs": [],
   "source": []
  },
  {
   "cell_type": "markdown",
   "metadata": {},
   "source": [
    "# Bonus: Satisfying your curiosity\n",
    "\n",
    "You finally managed to solve your family's debates over basketball! While you were doing that you started to take an interest in the normal distribution.\n",
    "\n",
    "You read that the normal distribution is present in a lot of natural phenomenons, like blood pressure, IQ, weight and height. If, for example, we could plot the distribution of the weights of every human on the planet right now it would have the shape of a normal distribution.\n",
    "\n",
    "In light of this you would like to see if it's possible to check if the distribution of the weights of the WNBA players is a sample distribution that comes from a population that has a normal distribution, because theoretically this should be the case.\n",
    "\n",
    "**How would you try to demonstrate that our sample fits a normal distribution? What kind of test would you use? Would you have to make any assumptions?**"
   ]
  },
  {
   "cell_type": "code",
   "execution_count": null,
   "metadata": {},
   "outputs": [],
   "source": [
    "#your-answer-here"
   ]
  },
  {
   "cell_type": "code",
   "execution_count": null,
   "metadata": {},
   "outputs": [],
   "source": [
    "# your code here"
   ]
  },
  {
   "cell_type": "markdown",
   "metadata": {},
   "source": [
    "**What are your comments in regards to the results of the test?**"
   ]
  },
  {
   "cell_type": "code",
   "execution_count": null,
   "metadata": {},
   "outputs": [],
   "source": [
    "#your-answer-here"
   ]
  }
 ],
 "metadata": {
  "kernelspec": {
   "display_name": "Python 3",
   "language": "python",
   "name": "python3"
  },
  "language_info": {
   "codemirror_mode": {
    "name": "ipython",
    "version": 3
   },
   "file_extension": ".py",
   "mimetype": "text/x-python",
   "name": "python",
   "nbconvert_exporter": "python",
   "pygments_lexer": "ipython3",
   "version": "3.8.3"
  }
 },
 "nbformat": 4,
 "nbformat_minor": 2
}

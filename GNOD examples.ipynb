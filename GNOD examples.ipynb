{
 "cells": [
  {
   "cell_type": "markdown",
   "metadata": {},
   "source": [
    "# Top 100 Functions"
   ]
  },
  {
   "cell_type": "code",
   "execution_count": null,
   "metadata": {},
   "outputs": [],
   "source": [
    "def recommend(user_song, data):\n",
    "    import random\n",
    "    random_index = random.choice(range(data.shape[0]))\n",
    "    if user_song.lower() in list(data['song'].str.lower()):\n",
    "        print('your song \"' + song +'\" is in the top 100!')\n",
    "        print('recommendation to listen: \"{}\" by {}'.format(data.loc[random_index]['song'], data.loc[random_index]['artist']))\n",
    "    else:\n",
    "        print('your song \"' + song +'\"\" not in the list top 100, sorry.')\n",
    "In [20]:\n"
   ]
  },
  {
   "cell_type": "markdown",
   "metadata": {},
   "source": []
  },
  {
   "cell_type": "code",
   "execution_count": null,
   "metadata": {},
   "outputs": [],
   "source": [
    "topsong = input(\"Enter a song, artist, or genre you like : \")\n",
    "\n",
    "\n",
    "# Look for input in list and give random output\n",
    "if topsong == \"\":\n",
    "    print('Please give your input')\n",
    "elif topsong in list(top100.title):\n",
    "    print(top100.sample(3))\n",
    "elif topsong in list(top100.artist):\n",
    "    print(top100.sample(3))\n",
    "elif topsong in list(top100.genre):\n",
    "    print(top100.sample(3))\n",
    "else:\n",
    "    print('No item found in list')"
   ]
  },
  {
   "cell_type": "markdown",
   "metadata": {},
   "source": [
    "# Finding longer playlists on multiple pages"
   ]
  },
  {
   "cell_type": "markdown",
   "metadata": {},
   "source": [
    "## loops for multiple pages"
   ]
  },
  {
   "cell_type": "code",
   "execution_count": null,
   "metadata": {},
   "outputs": [],
   "source": [
    "from time import sleep\n",
    "from random import randint\n",
    "pages = []\n",
    "\n",
    "for i in iterations:\n",
    "    # assemble the url:\n",
    "    start_at= str(i)\n",
    "    url = \"https://playback.fm/one-hit-wonders-\" + start_at + \"s\"\n",
    "\n",
    "    # download html with a get request:\n",
    "    response = requests.get(url)\n",
    "\n",
    "    # monitor the process by printing the status code\n",
    "    print(\"Status code: \" + str(response.status_code))\n",
    "\n",
    "    # store response into \"pages\" list\n",
    "    pages.append(response)\n",
    "\n",
    "    # respectful nap:\n",
    "    wait_time = randint(1,4)\n",
    "    print(\"I will sleep for \" + str(wait_time) + \" second/s.\")\n",
    "    sleep(wait_time)"
   ]
  },
  {
   "cell_type": "code",
   "execution_count": null,
   "metadata": {},
   "outputs": [],
   "source": [
    "pages_parsed = []\n",
    "titles = []\n",
    "artists = []\n",
    "\n",
    "for i in range(len(pages)):\n",
    "    \n",
    "    # parse all pages\n",
    "    pages_parsed.append(BeautifulSoup(pages[i].content, \"html.parser\"))\n",
    "    \n",
    "    # select only the info about the songs\n",
    "    songs_html = pages_parsed[i].select(\"div.content.post\")\n",
    "    \n",
    "    # for song, store title and artist into lists\n",
    "    for j in range(len(songs_html)):\n",
    "        num_iter = len(songs_html[j].select(\"p.song-title a\"))\n",
    "        for k in range(num_iter):\n",
    "            titles.append(songs_html[j].select(\"p.song-title a\")[k].get_text())\n",
    "            artists.append(songs_html[j].select(\"p.song-title strong\")[k].get_text().strip())\n",
    "\n",
    "# Checking the output:\n",
    "\n",
    "print(len(titles)) \n",
    "print(len(artists))  "
   ]
  },
  {
   "cell_type": "markdown",
   "metadata": {},
   "source": []
  },
  {
   "cell_type": "code",
   "execution_count": null,
   "metadata": {},
   "outputs": [],
   "source": [
    "from random import randint\n",
    "from time import sleep\n",
    "\n",
    "def get_playlist_tracks(playlist_id):\n",
    "    results = sp.user_playlist_tracks(\"spotify\",playlist_id)\n",
    "    tracks = results['items']\n",
    "    while results['next']!=None:\n",
    "        results = sp.next(results)\n",
    "        tracks = tracks + results['items']\n",
    "        sleep(randint(1,3))\n",
    "    return tracks"
   ]
  },
  {
   "cell_type": "markdown",
   "metadata": {},
   "source": [
    "## loop to get all years in 80s decade"
   ]
  },
  {
   "cell_type": "code",
   "execution_count": null,
   "metadata": {},
   "outputs": [],
   "source": [
    "# Pop Songs of 80's\n",
    "pages_pop = []\n",
    "for i in years:\n",
    "    year= str(i)\n",
    "    url = \"https://playback.fm/charts/top-100-songs/\" + year\n",
    "\n",
    "    response = requests.get(url)\n",
    "    print(\"Status code: \" + str(response.status_code))\n",
    "    pages_pop.append(response)\n",
    "\n",
    "    wait_time = randint(1,4)\n",
    "    print(\"I will sleep for \" + str(wait_time) + \" second/s.\")\n",
    "    sleep(wait_time)"
   ]
  },
  {
   "cell_type": "code",
   "execution_count": null,
   "metadata": {},
   "outputs": [],
   "source": []
  },
  {
   "cell_type": "markdown",
   "metadata": {},
   "source": [
    "# How could we loop this differently?  List of feature names? Function?"
   ]
  },
  {
   "cell_type": "code",
   "execution_count": null,
   "metadata": {},
   "outputs": [],
   "source": [
    "energy = []\n",
    "key = []\n",
    "loudness = []\n",
    "mode = []\n",
    "speechiness = []\n",
    "instrumentalness = []\n",
    "liveness = []\n",
    "valence = []\n",
    "tempo = []\n",
    "duration_ms = []\n",
    "time_signature = []\n",
    "\n",
    "for i in range(len(song_list['features'])):\n",
    "    energy.append(song_list['features'][i][0]['energy'])\n",
    "    key.append(song_list['features'][i][0]['key'])\n",
    "    loudness.append(song_list['features'][i][0]['loudness'])\n",
    "    mode.append(song_list['features'][i][0]['mode'])\n",
    "    speechiness.append(song_list['features'][i][0]['speechiness'])\n",
    "    instrumentalness.append(song_list['features'][i][0]['instrumentalness'])\n",
    "    liveness.append(song_list['features'][i][0]['liveness'])\n",
    "    valence.append(song_list['features'][i][0]['valence'])\n",
    "    tempo.append(song_list['features'][i][0]['tempo'])\n",
    "    duration_ms.append(song_list['features'][i][0]['duration_ms'])\n",
    "    time_signature.append(song_list['features'][i][0]['time_signature'])\n",
    "    \n",
    "    \n",
    "   "
   ]
  },
  {
   "cell_type": "code",
   "execution_count": null,
   "metadata": {},
   "outputs": [],
   "source": [
    "features = ['energy','key','loudness','mode','speechiness','instrumentalness','liveness','valence','tempo','duration_ms','time_signature']"
   ]
  },
  {
   "cell_type": "code",
   "execution_count": null,
   "metadata": {},
   "outputs": [],
   "source": [
    "slist = [feature[0] for feature in song_list['features']]"
   ]
  },
  {
   "cell_type": "code",
   "execution_count": null,
   "metadata": {},
   "outputs": [],
   "source": [
    "pd.DataFrame.from_dict(slist, orient = 'index', columns = features)"
   ]
  },
  {
   "cell_type": "code",
   "execution_count": null,
   "metadata": {},
   "outputs": [],
   "source": []
  },
  {
   "cell_type": "code",
   "execution_count": null,
   "metadata": {},
   "outputs": [],
   "source": []
  },
  {
   "cell_type": "code",
   "execution_count": null,
   "metadata": {},
   "outputs": [],
   "source": [
    "# nested for loops\n",
    "features = ['energy','key','loudness','mode','speechiness','instrumentalness','liveness','valence','tempo','duration_ms','time_signature']"
   ]
  },
  {
   "cell_type": "code",
   "execution_count": null,
   "metadata": {},
   "outputs": [],
   "source": [
    "for feat in features:\n",
    "    lst = []\n",
    "    for i in range(len(song_list['features'])):\n",
    "        lst.append(song_list['features'][i][0][feat])\n",
    "    song_list[feat]= lst"
   ]
  },
  {
   "cell_type": "code",
   "execution_count": null,
   "metadata": {},
   "outputs": [],
   "source": []
  },
  {
   "cell_type": "code",
   "execution_count": null,
   "metadata": {},
   "outputs": [],
   "source": []
  }
 ],
 "metadata": {
  "kernelspec": {
   "display_name": "Python 3",
   "language": "python",
   "name": "python3"
  },
  "language_info": {
   "codemirror_mode": {
    "name": "ipython",
    "version": 3
   },
   "file_extension": ".py",
   "mimetype": "text/x-python",
   "name": "python",
   "nbconvert_exporter": "python",
   "pygments_lexer": "ipython3",
   "version": "3.8.3"
  }
 },
 "nbformat": 4,
 "nbformat_minor": 4
}

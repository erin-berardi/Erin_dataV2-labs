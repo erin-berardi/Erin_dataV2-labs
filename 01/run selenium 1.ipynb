{
 "cells": [
  {
   "cell_type": "code",
   "execution_count": 1,
   "metadata": {},
   "outputs": [
    {
     "name": "stdout",
     "output_type": "stream",
     "text": [
      "Collecting selenium\n",
      "  Downloading selenium-4.8.0-py3-none-any.whl (6.3 MB)\n",
      "\u001b[K     |████████████████████████████████| 6.3 MB 12.5 MB/s eta 0:00:01\n",
      "\u001b[?25hCollecting trio-websocket~=0.9\n",
      "  Downloading trio_websocket-0.9.2-py3-none-any.whl (16 kB)\n",
      "Collecting trio~=0.17\n",
      "  Downloading trio-0.22.0-py3-none-any.whl (384 kB)\n",
      "\u001b[K     |████████████████████████████████| 384 kB 34.4 MB/s eta 0:00:01\n",
      "\u001b[?25hRequirement already satisfied: urllib3[socks]~=1.26 in /Users/erinberardi/opt/anaconda3/lib/python3.8/site-packages (from selenium) (1.26.7)\n",
      "Collecting certifi>=2021.10.8\n",
      "  Downloading certifi-2022.12.7-py3-none-any.whl (155 kB)\n",
      "\u001b[K     |████████████████████████████████| 155 kB 85.1 MB/s eta 0:00:01\n",
      "\u001b[?25hCollecting wsproto>=0.14\n",
      "  Downloading wsproto-1.2.0-py3-none-any.whl (24 kB)\n",
      "Collecting async-generator>=1.10\n",
      "  Downloading async_generator-1.10-py3-none-any.whl (18 kB)\n",
      "Requirement already satisfied: attrs>=19.2.0 in /Users/erinberardi/opt/anaconda3/lib/python3.8/site-packages (from trio~=0.17->selenium) (19.3.0)\n",
      "Collecting exceptiongroup>=1.0.0rc9; python_version < \"3.11\"\n",
      "  Downloading exceptiongroup-1.1.0-py3-none-any.whl (14 kB)\n",
      "Collecting sniffio\n",
      "  Downloading sniffio-1.3.0-py3-none-any.whl (10 kB)\n",
      "Requirement already satisfied: sortedcontainers in /Users/erinberardi/opt/anaconda3/lib/python3.8/site-packages (from trio~=0.17->selenium) (2.2.2)\n",
      "Collecting outcome\n",
      "  Downloading outcome-1.2.0-py2.py3-none-any.whl (9.7 kB)\n",
      "Requirement already satisfied: idna in /Users/erinberardi/opt/anaconda3/lib/python3.8/site-packages (from trio~=0.17->selenium) (2.10)\n",
      "Requirement already satisfied: PySocks!=1.5.7,<2.0,>=1.5.6; extra == \"socks\" in /Users/erinberardi/opt/anaconda3/lib/python3.8/site-packages (from urllib3[socks]~=1.26->selenium) (1.7.1)\n",
      "Collecting h11<1,>=0.9.0\n",
      "  Downloading h11-0.14.0-py3-none-any.whl (58 kB)\n",
      "\u001b[K     |████████████████████████████████| 58 kB 9.4 MB/s  eta 0:00:01\n",
      "\u001b[?25hInstalling collected packages: exceptiongroup, sniffio, outcome, async-generator, trio, h11, wsproto, trio-websocket, certifi, selenium\n",
      "  Attempting uninstall: certifi\n",
      "    Found existing installation: certifi 2020.6.20\n",
      "    Uninstalling certifi-2020.6.20:\n",
      "      Successfully uninstalled certifi-2020.6.20\n",
      "Successfully installed async-generator-1.10 certifi-2022.12.7 exceptiongroup-1.1.0 h11-0.14.0 outcome-1.2.0 selenium-4.8.0 sniffio-1.3.0 trio-0.22.0 trio-websocket-0.9.2 wsproto-1.2.0\n",
      "Note: you may need to restart the kernel to use updated packages.\n"
     ]
    }
   ],
   "source": [
    "pip install selenium"
   ]
  },
  {
   "cell_type": "code",
   "execution_count": 2,
   "metadata": {},
   "outputs": [
    {
     "name": "stdout",
     "output_type": "stream",
     "text": [
      "Requirement already satisfied: tqdm in /Users/erinberardi/opt/anaconda3/lib/python3.8/site-packages (4.47.0)\n",
      "Note: you may need to restart the kernel to use updated packages.\n"
     ]
    }
   ],
   "source": [
    "pip install tqdm"
   ]
  },
  {
   "cell_type": "code",
   "execution_count": 3,
   "metadata": {},
   "outputs": [
    {
     "name": "stdout",
     "output_type": "stream",
     "text": [
      "Collecting webdriver-manager\n",
      "  Downloading webdriver_manager-3.8.5-py2.py3-none-any.whl (27 kB)\n",
      "Collecting python-dotenv\n",
      "  Downloading python_dotenv-0.21.1-py3-none-any.whl (19 kB)\n",
      "Requirement already satisfied: packaging in /Users/erinberardi/opt/anaconda3/lib/python3.8/site-packages (from webdriver-manager) (20.4)\n",
      "Requirement already satisfied: tqdm in /Users/erinberardi/opt/anaconda3/lib/python3.8/site-packages (from webdriver-manager) (4.47.0)\n",
      "Requirement already satisfied: requests in /Users/erinberardi/opt/anaconda3/lib/python3.8/site-packages (from webdriver-manager) (2.26.0)\n",
      "Requirement already satisfied: pyparsing>=2.0.2 in /Users/erinberardi/opt/anaconda3/lib/python3.8/site-packages (from packaging->webdriver-manager) (2.4.7)\n",
      "Requirement already satisfied: six in /Users/erinberardi/opt/anaconda3/lib/python3.8/site-packages (from packaging->webdriver-manager) (1.15.0)\n",
      "Requirement already satisfied: charset-normalizer~=2.0.0; python_version >= \"3\" in /Users/erinberardi/opt/anaconda3/lib/python3.8/site-packages (from requests->webdriver-manager) (2.0.7)\n",
      "Requirement already satisfied: urllib3<1.27,>=1.21.1 in /Users/erinberardi/opt/anaconda3/lib/python3.8/site-packages (from requests->webdriver-manager) (1.26.7)\n",
      "Requirement already satisfied: idna<4,>=2.5; python_version >= \"3\" in /Users/erinberardi/opt/anaconda3/lib/python3.8/site-packages (from requests->webdriver-manager) (2.10)\n",
      "Requirement already satisfied: certifi>=2017.4.17 in /Users/erinberardi/opt/anaconda3/lib/python3.8/site-packages (from requests->webdriver-manager) (2022.12.7)\n",
      "Installing collected packages: python-dotenv, webdriver-manager\n",
      "Successfully installed python-dotenv-0.21.1 webdriver-manager-3.8.5\n",
      "Note: you may need to restart the kernel to use updated packages.\n"
     ]
    }
   ],
   "source": [
    "pip install webdriver-manager"
   ]
  },
  {
   "cell_type": "code",
   "execution_count": 4,
   "metadata": {},
   "outputs": [],
   "source": [
    "import requests\n",
    "from bs4 import BeautifulSoup as bs4\n",
    "import pandas as pd\n",
    "from selenium import webdriver\n",
    "from selenium.webdriver.chrome.options import Options\n",
    "from selenium.webdriver.common.by import By\n",
    "from webdriver_manager.chrome import ChromeDriverManager\n",
    "import time\n",
    "from tqdm import tqdm"
   ]
  },
  {
   "cell_type": "code",
   "execution_count": 5,
   "metadata": {},
   "outputs": [],
   "source": [
    "# href = pd.read_csv(\"./../href to scrape.csv\")\n",
    "# fileindex = 1\n",
    "# for i in range(0,8001,500):\n",
    "#     a = href.iloc[i:i+500]\n",
    "#     filename = str(fileindex)+\".csv\"\n",
    "#     a.to_csv(filename, index = False)\n",
    "#     fileindex += 1"
   ]
  },
  {
   "cell_type": "code",
   "execution_count": 6,
   "metadata": {},
   "outputs": [
    {
     "name": "stderr",
     "output_type": "stream",
     "text": [
      "[WDM] - Downloading: 100%|██████████| 7.89M/7.89M [00:00<00:00, 44.3MB/s]\n",
      "<ipython-input-6-95de784b7305>:4: DeprecationWarning: executable_path has been deprecated, please pass in a Service object\n",
      "  driver = webdriver.Chrome(ChromeDriverManager().install())\n",
      "100%|██████████| 500/500 [32:15<00:00,  3.87s/it] \n"
     ]
    }
   ],
   "source": [
    "href = pd.read_csv(\"1.csv\")\n",
    "href = href[\"href_to_scrape\"].tolist()\n",
    "options = Options()\n",
    "driver = webdriver.Chrome(ChromeDriverManager().install())\n",
    "source = []\n",
    "for i in tqdm(href):\n",
    "    options.add_argument('--disable-gpu')\n",
    "    options.add_argument('user-agent=fake-useragent')\n",
    "    driver.maximize_window()\n",
    "    driver.get(i)\n",
    "    time.sleep(3)\n",
    "    page = driver.page_source\n",
    "    source.append(page)\n",
    "page_source = pd.DataFrame(columns = [\"source\"])\n",
    "page_source[\"source\"] = source\n",
    "page_source.to_csv(\"1.csv\", index = False)"
   ]
  },
  {
   "cell_type": "code",
   "execution_count": 9,
   "metadata": {},
   "outputs": [
    {
     "data": {
      "text/html": [
       "<div>\n",
       "<style scoped>\n",
       "    .dataframe tbody tr th:only-of-type {\n",
       "        vertical-align: middle;\n",
       "    }\n",
       "\n",
       "    .dataframe tbody tr th {\n",
       "        vertical-align: top;\n",
       "    }\n",
       "\n",
       "    .dataframe thead th {\n",
       "        text-align: right;\n",
       "    }\n",
       "</style>\n",
       "<table border=\"1\" class=\"dataframe\">\n",
       "  <thead>\n",
       "    <tr style=\"text-align: right;\">\n",
       "      <th></th>\n",
       "      <th>source</th>\n",
       "    </tr>\n",
       "  </thead>\n",
       "  <tbody>\n",
       "    <tr>\n",
       "      <th>0</th>\n",
       "      <td>&lt;html lang=\"de\" class=\"js svg localstorage ses...</td>\n",
       "    </tr>\n",
       "    <tr>\n",
       "      <th>1</th>\n",
       "      <td>&lt;html lang=\"de\" class=\"js svg localstorage ses...</td>\n",
       "    </tr>\n",
       "    <tr>\n",
       "      <th>2</th>\n",
       "      <td>&lt;html&gt;&lt;head&gt;\\n        &lt;meta charset=\"utf-8\"&gt;\\n...</td>\n",
       "    </tr>\n",
       "    <tr>\n",
       "      <th>3</th>\n",
       "      <td>&lt;html&gt;&lt;head&gt;\\n        &lt;meta charset=\"utf-8\"&gt;\\n...</td>\n",
       "    </tr>\n",
       "    <tr>\n",
       "      <th>4</th>\n",
       "      <td>&lt;html&gt;&lt;head&gt;\\n        &lt;meta charset=\"utf-8\"&gt;\\n...</td>\n",
       "    </tr>\n",
       "    <tr>\n",
       "      <th>...</th>\n",
       "      <td>...</td>\n",
       "    </tr>\n",
       "    <tr>\n",
       "      <th>495</th>\n",
       "      <td>&lt;html&gt;&lt;head&gt;\\n        &lt;meta charset=\"utf-8\"&gt;\\n...</td>\n",
       "    </tr>\n",
       "    <tr>\n",
       "      <th>496</th>\n",
       "      <td>&lt;html&gt;&lt;head&gt;\\n        &lt;meta charset=\"utf-8\"&gt;\\n...</td>\n",
       "    </tr>\n",
       "    <tr>\n",
       "      <th>497</th>\n",
       "      <td>&lt;html&gt;&lt;head&gt;\\n        &lt;meta charset=\"utf-8\"&gt;\\n...</td>\n",
       "    </tr>\n",
       "    <tr>\n",
       "      <th>498</th>\n",
       "      <td>&lt;html&gt;&lt;head&gt;\\n        &lt;meta charset=\"utf-8\"&gt;\\n...</td>\n",
       "    </tr>\n",
       "    <tr>\n",
       "      <th>499</th>\n",
       "      <td>&lt;html&gt;&lt;head&gt;\\n        &lt;meta charset=\"utf-8\"&gt;\\n...</td>\n",
       "    </tr>\n",
       "  </tbody>\n",
       "</table>\n",
       "<p>500 rows × 1 columns</p>\n",
       "</div>"
      ],
      "text/plain": [
       "                                                source\n",
       "0    <html lang=\"de\" class=\"js svg localstorage ses...\n",
       "1    <html lang=\"de\" class=\"js svg localstorage ses...\n",
       "2    <html><head>\\n        <meta charset=\"utf-8\">\\n...\n",
       "3    <html><head>\\n        <meta charset=\"utf-8\">\\n...\n",
       "4    <html><head>\\n        <meta charset=\"utf-8\">\\n...\n",
       "..                                                 ...\n",
       "495  <html><head>\\n        <meta charset=\"utf-8\">\\n...\n",
       "496  <html><head>\\n        <meta charset=\"utf-8\">\\n...\n",
       "497  <html><head>\\n        <meta charset=\"utf-8\">\\n...\n",
       "498  <html><head>\\n        <meta charset=\"utf-8\">\\n...\n",
       "499  <html><head>\\n        <meta charset=\"utf-8\">\\n...\n",
       "\n",
       "[500 rows x 1 columns]"
      ]
     },
     "execution_count": 9,
     "metadata": {},
     "output_type": "execute_result"
    }
   ],
   "source": []
  },
  {
   "cell_type": "code",
   "execution_count": null,
   "metadata": {},
   "outputs": [],
   "source": []
  }
 ],
 "metadata": {
  "kernelspec": {
   "display_name": "Python 3",
   "language": "python",
   "name": "python3"
  },
  "language_info": {
   "codemirror_mode": {
    "name": "ipython",
    "version": 3
   },
   "file_extension": ".py",
   "mimetype": "text/x-python",
   "name": "python",
   "nbconvert_exporter": "python",
   "pygments_lexer": "ipython3",
   "version": "3.8.3"
  },
  "vscode": {
   "interpreter": {
    "hash": "1acc24bd1901f9ae8c29efb6830fcc1ca9fe0219dd00f8f1dc1b91856def15a9"
   }
  }
 },
 "nbformat": 4,
 "nbformat_minor": 2
}
